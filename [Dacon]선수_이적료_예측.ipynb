{
  "cells": [
    {
      "cell_type": "markdown",
      "metadata": {
        "id": "view-in-github",
        "colab_type": "text"
      },
      "source": [
        "<a href=\"https://colab.research.google.com/github/ovozzx/Machine-Learning/blob/master/%5BDacon%5D%EC%84%A0%EC%88%98_%EC%9D%B4%EC%A0%81%EB%A3%8C_%EC%98%88%EC%B8%A1.ipynb\" target=\"_parent\"><img src=\"https://colab.research.google.com/assets/colab-badge.svg\" alt=\"Open In Colab\"/></a>"
      ]
    },
    {
      "cell_type": "code",
      "execution_count": 13,
      "metadata": {
        "id": "kmb9w2OqLWtj"
      },
      "outputs": [],
      "source": [
        "import pandas as pd\n",
        "\n",
        "train = pd.read_csv('FIFA_train.csv')\n",
        "test = pd.read_csv('FIFA_test.csv')\n",
        "submission  = pd.read_csv('submission.csv')"
      ]
    },
    {
      "cell_type": "code",
      "execution_count": 14,
      "metadata": {
        "colab": {
          "base_uri": "https://localhost:8080/",
          "height": 357
        },
        "id": "i-6j4ZehNDJl",
        "outputId": "039a0065-c23e-4c3c-89a6-4e82a0c8179d"
      },
      "outputs": [
        {
          "output_type": "execute_result",
          "data": {
            "text/plain": [
              "   id          name  age      continent contract_until position prefer_foot  \\\n",
              "0   0      L. Messi   31  south america           2021       ST        left   \n",
              "1   3        De Gea   27         europe           2020       GK       right   \n",
              "2   7     L. Suárez   31  south america           2021       ST       right   \n",
              "3   8  Sergio Ramos   32         europe           2020       DF       right   \n",
              "4   9      J. Oblak   25         europe           2021       GK       right   \n",
              "\n",
              "   reputation  stat_overall  stat_potential  stat_skill_moves        value  \n",
              "0         5.0            94              94               4.0  110500000.0  \n",
              "1         4.0            91              93               1.0   72000000.0  \n",
              "2         5.0            91              91               3.0   80000000.0  \n",
              "3         4.0            91              91               3.0   51000000.0  \n",
              "4         3.0            90              93               1.0   68000000.0  "
            ],
            "text/html": [
              "\n",
              "  <div id=\"df-0b90cc96-ac3e-4ff5-9e69-db4c68fbdd5a\">\n",
              "    <div class=\"colab-df-container\">\n",
              "      <div>\n",
              "<style scoped>\n",
              "    .dataframe tbody tr th:only-of-type {\n",
              "        vertical-align: middle;\n",
              "    }\n",
              "\n",
              "    .dataframe tbody tr th {\n",
              "        vertical-align: top;\n",
              "    }\n",
              "\n",
              "    .dataframe thead th {\n",
              "        text-align: right;\n",
              "    }\n",
              "</style>\n",
              "<table border=\"1\" class=\"dataframe\">\n",
              "  <thead>\n",
              "    <tr style=\"text-align: right;\">\n",
              "      <th></th>\n",
              "      <th>id</th>\n",
              "      <th>name</th>\n",
              "      <th>age</th>\n",
              "      <th>continent</th>\n",
              "      <th>contract_until</th>\n",
              "      <th>position</th>\n",
              "      <th>prefer_foot</th>\n",
              "      <th>reputation</th>\n",
              "      <th>stat_overall</th>\n",
              "      <th>stat_potential</th>\n",
              "      <th>stat_skill_moves</th>\n",
              "      <th>value</th>\n",
              "    </tr>\n",
              "  </thead>\n",
              "  <tbody>\n",
              "    <tr>\n",
              "      <th>0</th>\n",
              "      <td>0</td>\n",
              "      <td>L. Messi</td>\n",
              "      <td>31</td>\n",
              "      <td>south america</td>\n",
              "      <td>2021</td>\n",
              "      <td>ST</td>\n",
              "      <td>left</td>\n",
              "      <td>5.0</td>\n",
              "      <td>94</td>\n",
              "      <td>94</td>\n",
              "      <td>4.0</td>\n",
              "      <td>110500000.0</td>\n",
              "    </tr>\n",
              "    <tr>\n",
              "      <th>1</th>\n",
              "      <td>3</td>\n",
              "      <td>De Gea</td>\n",
              "      <td>27</td>\n",
              "      <td>europe</td>\n",
              "      <td>2020</td>\n",
              "      <td>GK</td>\n",
              "      <td>right</td>\n",
              "      <td>4.0</td>\n",
              "      <td>91</td>\n",
              "      <td>93</td>\n",
              "      <td>1.0</td>\n",
              "      <td>72000000.0</td>\n",
              "    </tr>\n",
              "    <tr>\n",
              "      <th>2</th>\n",
              "      <td>7</td>\n",
              "      <td>L. Suárez</td>\n",
              "      <td>31</td>\n",
              "      <td>south america</td>\n",
              "      <td>2021</td>\n",
              "      <td>ST</td>\n",
              "      <td>right</td>\n",
              "      <td>5.0</td>\n",
              "      <td>91</td>\n",
              "      <td>91</td>\n",
              "      <td>3.0</td>\n",
              "      <td>80000000.0</td>\n",
              "    </tr>\n",
              "    <tr>\n",
              "      <th>3</th>\n",
              "      <td>8</td>\n",
              "      <td>Sergio Ramos</td>\n",
              "      <td>32</td>\n",
              "      <td>europe</td>\n",
              "      <td>2020</td>\n",
              "      <td>DF</td>\n",
              "      <td>right</td>\n",
              "      <td>4.0</td>\n",
              "      <td>91</td>\n",
              "      <td>91</td>\n",
              "      <td>3.0</td>\n",
              "      <td>51000000.0</td>\n",
              "    </tr>\n",
              "    <tr>\n",
              "      <th>4</th>\n",
              "      <td>9</td>\n",
              "      <td>J. Oblak</td>\n",
              "      <td>25</td>\n",
              "      <td>europe</td>\n",
              "      <td>2021</td>\n",
              "      <td>GK</td>\n",
              "      <td>right</td>\n",
              "      <td>3.0</td>\n",
              "      <td>90</td>\n",
              "      <td>93</td>\n",
              "      <td>1.0</td>\n",
              "      <td>68000000.0</td>\n",
              "    </tr>\n",
              "  </tbody>\n",
              "</table>\n",
              "</div>\n",
              "      <button class=\"colab-df-convert\" onclick=\"convertToInteractive('df-0b90cc96-ac3e-4ff5-9e69-db4c68fbdd5a')\"\n",
              "              title=\"Convert this dataframe to an interactive table.\"\n",
              "              style=\"display:none;\">\n",
              "        \n",
              "  <svg xmlns=\"http://www.w3.org/2000/svg\" height=\"24px\"viewBox=\"0 0 24 24\"\n",
              "       width=\"24px\">\n",
              "    <path d=\"M0 0h24v24H0V0z\" fill=\"none\"/>\n",
              "    <path d=\"M18.56 5.44l.94 2.06.94-2.06 2.06-.94-2.06-.94-.94-2.06-.94 2.06-2.06.94zm-11 1L8.5 8.5l.94-2.06 2.06-.94-2.06-.94L8.5 2.5l-.94 2.06-2.06.94zm10 10l.94 2.06.94-2.06 2.06-.94-2.06-.94-.94-2.06-.94 2.06-2.06.94z\"/><path d=\"M17.41 7.96l-1.37-1.37c-.4-.4-.92-.59-1.43-.59-.52 0-1.04.2-1.43.59L10.3 9.45l-7.72 7.72c-.78.78-.78 2.05 0 2.83L4 21.41c.39.39.9.59 1.41.59.51 0 1.02-.2 1.41-.59l7.78-7.78 2.81-2.81c.8-.78.8-2.07 0-2.86zM5.41 20L4 18.59l7.72-7.72 1.47 1.35L5.41 20z\"/>\n",
              "  </svg>\n",
              "      </button>\n",
              "      \n",
              "  <style>\n",
              "    .colab-df-container {\n",
              "      display:flex;\n",
              "      flex-wrap:wrap;\n",
              "      gap: 12px;\n",
              "    }\n",
              "\n",
              "    .colab-df-convert {\n",
              "      background-color: #E8F0FE;\n",
              "      border: none;\n",
              "      border-radius: 50%;\n",
              "      cursor: pointer;\n",
              "      display: none;\n",
              "      fill: #1967D2;\n",
              "      height: 32px;\n",
              "      padding: 0 0 0 0;\n",
              "      width: 32px;\n",
              "    }\n",
              "\n",
              "    .colab-df-convert:hover {\n",
              "      background-color: #E2EBFA;\n",
              "      box-shadow: 0px 1px 2px rgba(60, 64, 67, 0.3), 0px 1px 3px 1px rgba(60, 64, 67, 0.15);\n",
              "      fill: #174EA6;\n",
              "    }\n",
              "\n",
              "    [theme=dark] .colab-df-convert {\n",
              "      background-color: #3B4455;\n",
              "      fill: #D2E3FC;\n",
              "    }\n",
              "\n",
              "    [theme=dark] .colab-df-convert:hover {\n",
              "      background-color: #434B5C;\n",
              "      box-shadow: 0px 1px 3px 1px rgba(0, 0, 0, 0.15);\n",
              "      filter: drop-shadow(0px 1px 2px rgba(0, 0, 0, 0.3));\n",
              "      fill: #FFFFFF;\n",
              "    }\n",
              "  </style>\n",
              "\n",
              "      <script>\n",
              "        const buttonEl =\n",
              "          document.querySelector('#df-0b90cc96-ac3e-4ff5-9e69-db4c68fbdd5a button.colab-df-convert');\n",
              "        buttonEl.style.display =\n",
              "          google.colab.kernel.accessAllowed ? 'block' : 'none';\n",
              "\n",
              "        async function convertToInteractive(key) {\n",
              "          const element = document.querySelector('#df-0b90cc96-ac3e-4ff5-9e69-db4c68fbdd5a');\n",
              "          const dataTable =\n",
              "            await google.colab.kernel.invokeFunction('convertToInteractive',\n",
              "                                                     [key], {});\n",
              "          if (!dataTable) return;\n",
              "\n",
              "          const docLinkHtml = 'Like what you see? Visit the ' +\n",
              "            '<a target=\"_blank\" href=https://colab.research.google.com/notebooks/data_table.ipynb>data table notebook</a>'\n",
              "            + ' to learn more about interactive tables.';\n",
              "          element.innerHTML = '';\n",
              "          dataTable['output_type'] = 'display_data';\n",
              "          await google.colab.output.renderOutput(dataTable, element);\n",
              "          const docLink = document.createElement('div');\n",
              "          docLink.innerHTML = docLinkHtml;\n",
              "          element.appendChild(docLink);\n",
              "        }\n",
              "      </script>\n",
              "    </div>\n",
              "  </div>\n",
              "  "
            ]
          },
          "metadata": {},
          "execution_count": 14
        }
      ],
      "source": [
        "train.head()"
      ]
    },
    {
      "cell_type": "code",
      "execution_count": 15,
      "metadata": {
        "colab": {
          "base_uri": "https://localhost:8080/",
          "height": 357
        },
        "id": "adrA9gJgNDNE",
        "outputId": "886e9a9e-2ff2-4d27-fda8-8fdd243c62a9"
      },
      "outputs": [
        {
          "output_type": "execute_result",
          "data": {
            "text/plain": [
              "   id               name  age      continent contract_until position  \\\n",
              "0   1  Cristiano Ronaldo   33         europe           2022       ST   \n",
              "1   2          Neymar Jr   26  south america           2022       ST   \n",
              "2   4       K. De Bruyne   27         europe           2023       MF   \n",
              "3   5          E. Hazard   27         europe           2020       ST   \n",
              "4   6          L. Modrić   32         europe           2020       MF   \n",
              "\n",
              "  prefer_foot  reputation  stat_overall  stat_potential  stat_skill_moves  \n",
              "0       right         5.0            94              94               5.0  \n",
              "1       right         5.0            92              93               5.0  \n",
              "2       right         4.0            91              92               4.0  \n",
              "3       right         4.0            91              91               4.0  \n",
              "4       right         4.0            91              91               4.0  "
            ],
            "text/html": [
              "\n",
              "  <div id=\"df-ff70d7f1-dd56-42db-969c-fdf5f0e63799\">\n",
              "    <div class=\"colab-df-container\">\n",
              "      <div>\n",
              "<style scoped>\n",
              "    .dataframe tbody tr th:only-of-type {\n",
              "        vertical-align: middle;\n",
              "    }\n",
              "\n",
              "    .dataframe tbody tr th {\n",
              "        vertical-align: top;\n",
              "    }\n",
              "\n",
              "    .dataframe thead th {\n",
              "        text-align: right;\n",
              "    }\n",
              "</style>\n",
              "<table border=\"1\" class=\"dataframe\">\n",
              "  <thead>\n",
              "    <tr style=\"text-align: right;\">\n",
              "      <th></th>\n",
              "      <th>id</th>\n",
              "      <th>name</th>\n",
              "      <th>age</th>\n",
              "      <th>continent</th>\n",
              "      <th>contract_until</th>\n",
              "      <th>position</th>\n",
              "      <th>prefer_foot</th>\n",
              "      <th>reputation</th>\n",
              "      <th>stat_overall</th>\n",
              "      <th>stat_potential</th>\n",
              "      <th>stat_skill_moves</th>\n",
              "    </tr>\n",
              "  </thead>\n",
              "  <tbody>\n",
              "    <tr>\n",
              "      <th>0</th>\n",
              "      <td>1</td>\n",
              "      <td>Cristiano Ronaldo</td>\n",
              "      <td>33</td>\n",
              "      <td>europe</td>\n",
              "      <td>2022</td>\n",
              "      <td>ST</td>\n",
              "      <td>right</td>\n",
              "      <td>5.0</td>\n",
              "      <td>94</td>\n",
              "      <td>94</td>\n",
              "      <td>5.0</td>\n",
              "    </tr>\n",
              "    <tr>\n",
              "      <th>1</th>\n",
              "      <td>2</td>\n",
              "      <td>Neymar Jr</td>\n",
              "      <td>26</td>\n",
              "      <td>south america</td>\n",
              "      <td>2022</td>\n",
              "      <td>ST</td>\n",
              "      <td>right</td>\n",
              "      <td>5.0</td>\n",
              "      <td>92</td>\n",
              "      <td>93</td>\n",
              "      <td>5.0</td>\n",
              "    </tr>\n",
              "    <tr>\n",
              "      <th>2</th>\n",
              "      <td>4</td>\n",
              "      <td>K. De Bruyne</td>\n",
              "      <td>27</td>\n",
              "      <td>europe</td>\n",
              "      <td>2023</td>\n",
              "      <td>MF</td>\n",
              "      <td>right</td>\n",
              "      <td>4.0</td>\n",
              "      <td>91</td>\n",
              "      <td>92</td>\n",
              "      <td>4.0</td>\n",
              "    </tr>\n",
              "    <tr>\n",
              "      <th>3</th>\n",
              "      <td>5</td>\n",
              "      <td>E. Hazard</td>\n",
              "      <td>27</td>\n",
              "      <td>europe</td>\n",
              "      <td>2020</td>\n",
              "      <td>ST</td>\n",
              "      <td>right</td>\n",
              "      <td>4.0</td>\n",
              "      <td>91</td>\n",
              "      <td>91</td>\n",
              "      <td>4.0</td>\n",
              "    </tr>\n",
              "    <tr>\n",
              "      <th>4</th>\n",
              "      <td>6</td>\n",
              "      <td>L. Modrić</td>\n",
              "      <td>32</td>\n",
              "      <td>europe</td>\n",
              "      <td>2020</td>\n",
              "      <td>MF</td>\n",
              "      <td>right</td>\n",
              "      <td>4.0</td>\n",
              "      <td>91</td>\n",
              "      <td>91</td>\n",
              "      <td>4.0</td>\n",
              "    </tr>\n",
              "  </tbody>\n",
              "</table>\n",
              "</div>\n",
              "      <button class=\"colab-df-convert\" onclick=\"convertToInteractive('df-ff70d7f1-dd56-42db-969c-fdf5f0e63799')\"\n",
              "              title=\"Convert this dataframe to an interactive table.\"\n",
              "              style=\"display:none;\">\n",
              "        \n",
              "  <svg xmlns=\"http://www.w3.org/2000/svg\" height=\"24px\"viewBox=\"0 0 24 24\"\n",
              "       width=\"24px\">\n",
              "    <path d=\"M0 0h24v24H0V0z\" fill=\"none\"/>\n",
              "    <path d=\"M18.56 5.44l.94 2.06.94-2.06 2.06-.94-2.06-.94-.94-2.06-.94 2.06-2.06.94zm-11 1L8.5 8.5l.94-2.06 2.06-.94-2.06-.94L8.5 2.5l-.94 2.06-2.06.94zm10 10l.94 2.06.94-2.06 2.06-.94-2.06-.94-.94-2.06-.94 2.06-2.06.94z\"/><path d=\"M17.41 7.96l-1.37-1.37c-.4-.4-.92-.59-1.43-.59-.52 0-1.04.2-1.43.59L10.3 9.45l-7.72 7.72c-.78.78-.78 2.05 0 2.83L4 21.41c.39.39.9.59 1.41.59.51 0 1.02-.2 1.41-.59l7.78-7.78 2.81-2.81c.8-.78.8-2.07 0-2.86zM5.41 20L4 18.59l7.72-7.72 1.47 1.35L5.41 20z\"/>\n",
              "  </svg>\n",
              "      </button>\n",
              "      \n",
              "  <style>\n",
              "    .colab-df-container {\n",
              "      display:flex;\n",
              "      flex-wrap:wrap;\n",
              "      gap: 12px;\n",
              "    }\n",
              "\n",
              "    .colab-df-convert {\n",
              "      background-color: #E8F0FE;\n",
              "      border: none;\n",
              "      border-radius: 50%;\n",
              "      cursor: pointer;\n",
              "      display: none;\n",
              "      fill: #1967D2;\n",
              "      height: 32px;\n",
              "      padding: 0 0 0 0;\n",
              "      width: 32px;\n",
              "    }\n",
              "\n",
              "    .colab-df-convert:hover {\n",
              "      background-color: #E2EBFA;\n",
              "      box-shadow: 0px 1px 2px rgba(60, 64, 67, 0.3), 0px 1px 3px 1px rgba(60, 64, 67, 0.15);\n",
              "      fill: #174EA6;\n",
              "    }\n",
              "\n",
              "    [theme=dark] .colab-df-convert {\n",
              "      background-color: #3B4455;\n",
              "      fill: #D2E3FC;\n",
              "    }\n",
              "\n",
              "    [theme=dark] .colab-df-convert:hover {\n",
              "      background-color: #434B5C;\n",
              "      box-shadow: 0px 1px 3px 1px rgba(0, 0, 0, 0.15);\n",
              "      filter: drop-shadow(0px 1px 2px rgba(0, 0, 0, 0.3));\n",
              "      fill: #FFFFFF;\n",
              "    }\n",
              "  </style>\n",
              "\n",
              "      <script>\n",
              "        const buttonEl =\n",
              "          document.querySelector('#df-ff70d7f1-dd56-42db-969c-fdf5f0e63799 button.colab-df-convert');\n",
              "        buttonEl.style.display =\n",
              "          google.colab.kernel.accessAllowed ? 'block' : 'none';\n",
              "\n",
              "        async function convertToInteractive(key) {\n",
              "          const element = document.querySelector('#df-ff70d7f1-dd56-42db-969c-fdf5f0e63799');\n",
              "          const dataTable =\n",
              "            await google.colab.kernel.invokeFunction('convertToInteractive',\n",
              "                                                     [key], {});\n",
              "          if (!dataTable) return;\n",
              "\n",
              "          const docLinkHtml = 'Like what you see? Visit the ' +\n",
              "            '<a target=\"_blank\" href=https://colab.research.google.com/notebooks/data_table.ipynb>data table notebook</a>'\n",
              "            + ' to learn more about interactive tables.';\n",
              "          element.innerHTML = '';\n",
              "          dataTable['output_type'] = 'display_data';\n",
              "          await google.colab.output.renderOutput(dataTable, element);\n",
              "          const docLink = document.createElement('div');\n",
              "          docLink.innerHTML = docLinkHtml;\n",
              "          element.appendChild(docLink);\n",
              "        }\n",
              "      </script>\n",
              "    </div>\n",
              "  </div>\n",
              "  "
            ]
          },
          "metadata": {},
          "execution_count": 15
        }
      ],
      "source": [
        "test.head()"
      ]
    },
    {
      "cell_type": "code",
      "execution_count": 16,
      "metadata": {
        "colab": {
          "base_uri": "https://localhost:8080/"
        },
        "id": "FdbZMkQZNDP1",
        "outputId": "3256c1ab-9925-4b26-fc70-3195d6f5d87e"
      },
      "outputs": [
        {
          "output_type": "stream",
          "name": "stdout",
          "text": [
            "<class 'pandas.core.frame.DataFrame'>\n",
            "RangeIndex: 8932 entries, 0 to 8931\n",
            "Data columns (total 12 columns):\n",
            " #   Column            Non-Null Count  Dtype  \n",
            "---  ------            --------------  -----  \n",
            " 0   id                8932 non-null   int64  \n",
            " 1   name              8932 non-null   object \n",
            " 2   age               8932 non-null   int64  \n",
            " 3   continent         8932 non-null   object \n",
            " 4   contract_until    8932 non-null   object \n",
            " 5   position          8932 non-null   object \n",
            " 6   prefer_foot       8932 non-null   object \n",
            " 7   reputation        8932 non-null   float64\n",
            " 8   stat_overall      8932 non-null   int64  \n",
            " 9   stat_potential    8932 non-null   int64  \n",
            " 10  stat_skill_moves  8932 non-null   float64\n",
            " 11  value             8932 non-null   float64\n",
            "dtypes: float64(3), int64(4), object(5)\n",
            "memory usage: 837.5+ KB\n"
          ]
        }
      ],
      "source": [
        "train.info()"
      ]
    },
    {
      "cell_type": "markdown",
      "metadata": {
        "id": "3tDfASS9UdVt"
      },
      "source": [
        "# 전처리"
      ]
    },
    {
      "cell_type": "code",
      "execution_count": 17,
      "metadata": {
        "id": "7fVd0ZWuUdb8"
      },
      "outputs": [],
      "source": [
        "# 불필요한 컬럼 제거\n",
        "train.drop(['id', 'name'], axis = 1, inplace = True)\n",
        "test.drop(['id', 'name'], axis = 1, inplace = True)"
      ]
    },
    {
      "cell_type": "code",
      "source": [
        "train.contract_until.value_counts()"
      ],
      "metadata": {
        "colab": {
          "base_uri": "https://localhost:8080/"
        },
        "id": "cMG_5ECMWoNe",
        "outputId": "45ac6aba-f5ae-4498-91e0-b8951ed93a43"
      },
      "execution_count": 18,
      "outputs": [
        {
          "output_type": "execute_result",
          "data": {
            "text/plain": [
              "2019            2366\n",
              "2021            2308\n",
              "2020            2041\n",
              "2022             761\n",
              "2023             506\n",
              "Jun 30, 2019     501\n",
              "2018             327\n",
              "Dec 31, 2018      64\n",
              "May 31, 2019      19\n",
              "2024              12\n",
              "Jan 31, 2019      10\n",
              "Jun 30, 2020       9\n",
              "2025               3\n",
              "Jan 1, 2019        2\n",
              "2026               1\n",
              "May 31, 2020       1\n",
              "Jan 12, 2019       1\n",
              "Name: contract_until, dtype: int64"
            ]
          },
          "metadata": {},
          "execution_count": 18
        }
      ]
    },
    {
      "cell_type": "code",
      "source": [
        "#contract_until 변수 int 형으로 변환\n",
        "# 계약 연도만 추출\n",
        "def func(string:object) -> int:\n",
        "    \"\"\"계약 연도만 추출하여 int로 반환\"\"\"\n",
        "    string = string[-4:]\n",
        "    return int(string)\n",
        "\n",
        "\n",
        "train['contract_until'] = train['contract_until'].apply(func)\n",
        "test['contract_until'] = test['contract_until'].apply(func)"
      ],
      "metadata": {
        "id": "8BDgObK3WoQN"
      },
      "execution_count": 19,
      "outputs": []
    },
    {
      "cell_type": "code",
      "source": [
        "# 문자형 변수 label 인코딩 진행\n",
        "train['continent'] = train['continent'].astype('category').cat.codes\n",
        "test['continent'] = test['continent'].astype('category').cat.codes\n",
        "\n",
        "train['position'] = train['position'].astype('category').cat.codes\n",
        "test['position'] = test['position'].astype('category').cat.codes\n",
        "\n",
        "train['prefer_foot'] = train['prefer_foot'].astype('category').cat.codes\n",
        "test['prefer_foot'] = test['prefer_foot'].astype('category').cat.codes"
      ],
      "metadata": {
        "id": "Nk2CHbBGWoSm"
      },
      "execution_count": 22,
      "outputs": []
    },
    {
      "cell_type": "code",
      "source": [
        "train.info()"
      ],
      "metadata": {
        "colab": {
          "base_uri": "https://localhost:8080/"
        },
        "id": "h7xY5VQJWoUu",
        "outputId": "15a6a88c-7fae-4fe4-b14f-5fd8c1312f78"
      },
      "execution_count": 23,
      "outputs": [
        {
          "output_type": "stream",
          "name": "stdout",
          "text": [
            "<class 'pandas.core.frame.DataFrame'>\n",
            "RangeIndex: 8932 entries, 0 to 8931\n",
            "Data columns (total 10 columns):\n",
            " #   Column            Non-Null Count  Dtype  \n",
            "---  ------            --------------  -----  \n",
            " 0   age               8932 non-null   int64  \n",
            " 1   continent         8932 non-null   int8   \n",
            " 2   contract_until    8932 non-null   int64  \n",
            " 3   position          8932 non-null   int8   \n",
            " 4   prefer_foot       8932 non-null   int8   \n",
            " 5   reputation        8932 non-null   float64\n",
            " 6   stat_overall      8932 non-null   int64  \n",
            " 7   stat_potential    8932 non-null   int64  \n",
            " 8   stat_skill_moves  8932 non-null   float64\n",
            " 9   value             8932 non-null   float64\n",
            "dtypes: float64(3), int64(4), int8(3)\n",
            "memory usage: 514.8 KB\n"
          ]
        }
      ]
    },
    {
      "cell_type": "markdown",
      "source": [
        "# 모델링"
      ],
      "metadata": {
        "id": "SY7DEm-AYn8t"
      }
    },
    {
      "cell_type": "code",
      "source": [
        "from sklearn.ensemble import RandomForestRegressor\n",
        "\n",
        "train_x = train.drop('value',axis = 1)\n",
        "train_y = train['value']\n",
        "\n",
        "\n",
        "model = RandomForestRegressor()\n",
        "model.fit(train_x,train_y)"
      ],
      "metadata": {
        "colab": {
          "base_uri": "https://localhost:8080/"
        },
        "id": "zCiK7UGNWoW8",
        "outputId": "763d908b-1756-4eab-9827-ccd1c46350b0"
      },
      "execution_count": 24,
      "outputs": [
        {
          "output_type": "execute_result",
          "data": {
            "text/plain": [
              "RandomForestRegressor()"
            ]
          },
          "metadata": {},
          "execution_count": 24
        }
      ]
    },
    {
      "cell_type": "code",
      "source": [
        "pred = model.predict(test)"
      ],
      "metadata": {
        "id": "LwRmXtQMWovl"
      },
      "execution_count": 25,
      "outputs": []
    },
    {
      "cell_type": "code",
      "source": [
        "submission['value'] = pred"
      ],
      "metadata": {
        "id": "UKhtTj8YWox1"
      },
      "execution_count": 26,
      "outputs": []
    },
    {
      "cell_type": "code",
      "source": [
        "submission.head()"
      ],
      "metadata": {
        "colab": {
          "base_uri": "https://localhost:8080/",
          "height": 206
        },
        "id": "qodWuaavWpLU",
        "outputId": "86a12902-b1f8-4816-81b3-8dd4b4c44736"
      },
      "execution_count": 27,
      "outputs": [
        {
          "output_type": "execute_result",
          "data": {
            "text/plain": [
              "   id       value\n",
              "0   1  82945000.0\n",
              "1   2  79735000.0\n",
              "2   4  68435000.0\n",
              "3   5  71780000.0\n",
              "4   6  63715000.0"
            ],
            "text/html": [
              "\n",
              "  <div id=\"df-7b579649-1d59-451b-b6b5-bc0260926022\">\n",
              "    <div class=\"colab-df-container\">\n",
              "      <div>\n",
              "<style scoped>\n",
              "    .dataframe tbody tr th:only-of-type {\n",
              "        vertical-align: middle;\n",
              "    }\n",
              "\n",
              "    .dataframe tbody tr th {\n",
              "        vertical-align: top;\n",
              "    }\n",
              "\n",
              "    .dataframe thead th {\n",
              "        text-align: right;\n",
              "    }\n",
              "</style>\n",
              "<table border=\"1\" class=\"dataframe\">\n",
              "  <thead>\n",
              "    <tr style=\"text-align: right;\">\n",
              "      <th></th>\n",
              "      <th>id</th>\n",
              "      <th>value</th>\n",
              "    </tr>\n",
              "  </thead>\n",
              "  <tbody>\n",
              "    <tr>\n",
              "      <th>0</th>\n",
              "      <td>1</td>\n",
              "      <td>82945000.0</td>\n",
              "    </tr>\n",
              "    <tr>\n",
              "      <th>1</th>\n",
              "      <td>2</td>\n",
              "      <td>79735000.0</td>\n",
              "    </tr>\n",
              "    <tr>\n",
              "      <th>2</th>\n",
              "      <td>4</td>\n",
              "      <td>68435000.0</td>\n",
              "    </tr>\n",
              "    <tr>\n",
              "      <th>3</th>\n",
              "      <td>5</td>\n",
              "      <td>71780000.0</td>\n",
              "    </tr>\n",
              "    <tr>\n",
              "      <th>4</th>\n",
              "      <td>6</td>\n",
              "      <td>63715000.0</td>\n",
              "    </tr>\n",
              "  </tbody>\n",
              "</table>\n",
              "</div>\n",
              "      <button class=\"colab-df-convert\" onclick=\"convertToInteractive('df-7b579649-1d59-451b-b6b5-bc0260926022')\"\n",
              "              title=\"Convert this dataframe to an interactive table.\"\n",
              "              style=\"display:none;\">\n",
              "        \n",
              "  <svg xmlns=\"http://www.w3.org/2000/svg\" height=\"24px\"viewBox=\"0 0 24 24\"\n",
              "       width=\"24px\">\n",
              "    <path d=\"M0 0h24v24H0V0z\" fill=\"none\"/>\n",
              "    <path d=\"M18.56 5.44l.94 2.06.94-2.06 2.06-.94-2.06-.94-.94-2.06-.94 2.06-2.06.94zm-11 1L8.5 8.5l.94-2.06 2.06-.94-2.06-.94L8.5 2.5l-.94 2.06-2.06.94zm10 10l.94 2.06.94-2.06 2.06-.94-2.06-.94-.94-2.06-.94 2.06-2.06.94z\"/><path d=\"M17.41 7.96l-1.37-1.37c-.4-.4-.92-.59-1.43-.59-.52 0-1.04.2-1.43.59L10.3 9.45l-7.72 7.72c-.78.78-.78 2.05 0 2.83L4 21.41c.39.39.9.59 1.41.59.51 0 1.02-.2 1.41-.59l7.78-7.78 2.81-2.81c.8-.78.8-2.07 0-2.86zM5.41 20L4 18.59l7.72-7.72 1.47 1.35L5.41 20z\"/>\n",
              "  </svg>\n",
              "      </button>\n",
              "      \n",
              "  <style>\n",
              "    .colab-df-container {\n",
              "      display:flex;\n",
              "      flex-wrap:wrap;\n",
              "      gap: 12px;\n",
              "    }\n",
              "\n",
              "    .colab-df-convert {\n",
              "      background-color: #E8F0FE;\n",
              "      border: none;\n",
              "      border-radius: 50%;\n",
              "      cursor: pointer;\n",
              "      display: none;\n",
              "      fill: #1967D2;\n",
              "      height: 32px;\n",
              "      padding: 0 0 0 0;\n",
              "      width: 32px;\n",
              "    }\n",
              "\n",
              "    .colab-df-convert:hover {\n",
              "      background-color: #E2EBFA;\n",
              "      box-shadow: 0px 1px 2px rgba(60, 64, 67, 0.3), 0px 1px 3px 1px rgba(60, 64, 67, 0.15);\n",
              "      fill: #174EA6;\n",
              "    }\n",
              "\n",
              "    [theme=dark] .colab-df-convert {\n",
              "      background-color: #3B4455;\n",
              "      fill: #D2E3FC;\n",
              "    }\n",
              "\n",
              "    [theme=dark] .colab-df-convert:hover {\n",
              "      background-color: #434B5C;\n",
              "      box-shadow: 0px 1px 3px 1px rgba(0, 0, 0, 0.15);\n",
              "      filter: drop-shadow(0px 1px 2px rgba(0, 0, 0, 0.3));\n",
              "      fill: #FFFFFF;\n",
              "    }\n",
              "  </style>\n",
              "\n",
              "      <script>\n",
              "        const buttonEl =\n",
              "          document.querySelector('#df-7b579649-1d59-451b-b6b5-bc0260926022 button.colab-df-convert');\n",
              "        buttonEl.style.display =\n",
              "          google.colab.kernel.accessAllowed ? 'block' : 'none';\n",
              "\n",
              "        async function convertToInteractive(key) {\n",
              "          const element = document.querySelector('#df-7b579649-1d59-451b-b6b5-bc0260926022');\n",
              "          const dataTable =\n",
              "            await google.colab.kernel.invokeFunction('convertToInteractive',\n",
              "                                                     [key], {});\n",
              "          if (!dataTable) return;\n",
              "\n",
              "          const docLinkHtml = 'Like what you see? Visit the ' +\n",
              "            '<a target=\"_blank\" href=https://colab.research.google.com/notebooks/data_table.ipynb>data table notebook</a>'\n",
              "            + ' to learn more about interactive tables.';\n",
              "          element.innerHTML = '';\n",
              "          dataTable['output_type'] = 'display_data';\n",
              "          await google.colab.output.renderOutput(dataTable, element);\n",
              "          const docLink = document.createElement('div');\n",
              "          docLink.innerHTML = docLinkHtml;\n",
              "          element.appendChild(docLink);\n",
              "        }\n",
              "      </script>\n",
              "    </div>\n",
              "  </div>\n",
              "  "
            ]
          },
          "metadata": {},
          "execution_count": 27
        }
      ]
    },
    {
      "cell_type": "code",
      "source": [
        "#submission.to_csv('베이스라인.csv',index = False)"
      ],
      "metadata": {
        "id": "OocvxoLMYRdW"
      },
      "execution_count": null,
      "outputs": []
    }
  ],
  "metadata": {
    "colab": {
      "collapsed_sections": [],
      "name": "[Dacon]선수_이적료_예측.ipynb",
      "provenance": [],
      "authorship_tag": "ABX9TyOi8yCFJskTlwEmMngqQb7M",
      "include_colab_link": true
    },
    "kernelspec": {
      "display_name": "Python 3",
      "name": "python3"
    },
    "language_info": {
      "name": "python"
    }
  },
  "nbformat": 4,
  "nbformat_minor": 0
}