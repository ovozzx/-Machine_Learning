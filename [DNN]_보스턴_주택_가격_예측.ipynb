{
  "nbformat": 4,
  "nbformat_minor": 0,
  "metadata": {
    "colab": {
      "name": "[DNN] 보스턴 주택 가격 예측.ipynb",
      "provenance": [],
      "collapsed_sections": [
        "QC9joeODLqOD"
      ],
      "include_colab_link": true
    },
    "kernelspec": {
      "name": "python3",
      "display_name": "Python 3"
    }
  },
  "cells": [
    {
      "cell_type": "markdown",
      "metadata": {
        "id": "view-in-github",
        "colab_type": "text"
      },
      "source": [
        "<a href=\"https://colab.research.google.com/github/ovozzx/Deep_Learning/blob/master/%5BDNN%5D_%EB%B3%B4%EC%8A%A4%ED%84%B4_%EC%A3%BC%ED%83%9D_%EA%B0%80%EA%B2%A9_%EC%98%88%EC%B8%A1.ipynb\" target=\"_parent\"><img src=\"https://colab.research.google.com/assets/colab-badge.svg\" alt=\"Open In Colab\"/></a>"
      ]
    },
    {
      "cell_type": "markdown",
      "metadata": {
        "id": "LjNX3EXPFc7u"
      },
      "source": [
        "# Boston_Housing - Regression Analysis\n",
        "\n",
        "## Import TensorFlow"
      ]
    },
    {
      "cell_type": "markdown",
      "source": [
        "DNN : \n",
        "\n",
        "- 입력층(input layer)과 출력층(output layer) 사이에 여러 개의 은닉층(hidden layer)들로 이뤄진 인공신경망(Artificial Neural Network, ANN)\n",
        "\n",
        "- input에 대해서 ouput까지 Layer를 거치돼, input Layer 다음에 W랑 b가 있어서 Wx+b를 거치게 되고 hidden layer1 에서는 활성화 함수가 있다고 보면 됨\n",
        "\n",
        "- 그 후 다시 Wx + b를 거치고 활성화 함수를 거친 후, output layer가 만약 분류였다면 마지막에는 softmax를 activation function(활성화 함수)을 활용"
      ],
      "metadata": {
        "id": "L9iWcuKYW3iv"
      }
    },
    {
      "cell_type": "code",
      "metadata": {
        "id": "RbPgODpVzdHI"
      },
      "source": [
        "import warnings\n",
        "warnings.filterwarnings('ignore')"
      ],
      "execution_count": 29,
      "outputs": []
    },
    {
      "cell_type": "markdown",
      "metadata": {
        "id": "fD0O7UxBn_Rt"
      },
      "source": [
        "* import TensorFlow"
      ]
    },
    {
      "cell_type": "code",
      "metadata": {
        "id": "VV43aTWAnK_k",
        "colab": {
          "base_uri": "https://localhost:8080/",
          "height": 35
        },
        "outputId": "87ae4c07-bb63-4973-8273-f0e50d38c858"
      },
      "source": [
        "import tensorflow as tf\n",
        "\n",
        "tf.__version__"
      ],
      "execution_count": 30,
      "outputs": [
        {
          "output_type": "execute_result",
          "data": {
            "application/vnd.google.colaboratory.intrinsic+json": {
              "type": "string"
            },
            "text/plain": [
              "'2.7.0'"
            ]
          },
          "metadata": {},
          "execution_count": 30
        }
      ]
    },
    {
      "cell_type": "markdown",
      "metadata": {
        "id": "Mu8aBYFDoG3w"
      },
      "source": [
        "* GPU 설정 Off"
      ]
    },
    {
      "cell_type": "code",
      "metadata": {
        "id": "68YMkQDDC8Bc",
        "colab": {
          "base_uri": "https://localhost:8080/",
          "height": 35
        },
        "outputId": "fa1320b8-e48f-40d0-e598-c6c536dc77b1"
      },
      "source": [
        "tf.test.gpu_device_name()"
      ],
      "execution_count": 31,
      "outputs": [
        {
          "output_type": "execute_result",
          "data": {
            "application/vnd.google.colaboratory.intrinsic+json": {
              "type": "string"
            },
            "text/plain": [
              "''"
            ]
          },
          "metadata": {},
          "execution_count": 31
        }
      ]
    },
    {
      "cell_type": "markdown",
      "metadata": {
        "id": "Y7LxqxkVoPiM"
      },
      "source": [
        "# I. Boston_Housing Data_Set Load & Review"
      ]
    },
    {
      "cell_type": "markdown",
      "metadata": {
        "id": "1bgjwkhWb1fv"
      },
      "source": [
        "> ## 1) Load Boston_Housing Data_Set\n",
        "\n",
        "\n",
        "- 1970년 중반 보스턴 외곽 지역의 범죄율, 지방세율 등의 데이터가 주어졌을 때 주택 가격의 중간 값을 예측\n",
        "총 데이터 : 506개 (404개는 훈련 샘플로, 102개는 테스트 샘플)\n",
        "\n",
        "- 입력 데이터에 있는 각 특성feature(예를 들어 범죄율)은 스케일이 서로 다름\n",
        "(어떤 값은 0과 1 사이의 비율을 나타내고, 어떤 것은 1과 12 사이의 값을 가지거나 1과 100 사이의 값을 나타냄)\n",
        " -> 정규화"
      ]
    },
    {
      "cell_type": "code",
      "metadata": {
        "id": "3cOeJPbMF6TU"
      },
      "source": [
        "from tensorflow.keras.datasets import boston_housing\n",
        "\n",
        "df = boston_housing.load_data()\n",
        "(train_data, train_targets), (X_test, y_test) =  boston_housing.load_data()"
      ],
      "execution_count": 32,
      "outputs": []
    },
    {
      "cell_type": "code",
      "source": [
        "# 13개의 특성(1인당 범죄율, 주택당 평균 방의 개수, 고속도로 접근성 등)\n",
        "df"
      ],
      "metadata": {
        "colab": {
          "base_uri": "https://localhost:8080/"
        },
        "id": "JI1aE-vSSU1w",
        "outputId": "b5ec65d6-7deb-4902-fa6d-808bede46497"
      },
      "execution_count": 33,
      "outputs": [
        {
          "output_type": "execute_result",
          "data": {
            "text/plain": [
              "((array([[1.23247e+00, 0.00000e+00, 8.14000e+00, ..., 2.10000e+01,\n",
              "          3.96900e+02, 1.87200e+01],\n",
              "         [2.17700e-02, 8.25000e+01, 2.03000e+00, ..., 1.47000e+01,\n",
              "          3.95380e+02, 3.11000e+00],\n",
              "         [4.89822e+00, 0.00000e+00, 1.81000e+01, ..., 2.02000e+01,\n",
              "          3.75520e+02, 3.26000e+00],\n",
              "         ...,\n",
              "         [3.46600e-02, 3.50000e+01, 6.06000e+00, ..., 1.69000e+01,\n",
              "          3.62250e+02, 7.83000e+00],\n",
              "         [2.14918e+00, 0.00000e+00, 1.95800e+01, ..., 1.47000e+01,\n",
              "          2.61950e+02, 1.57900e+01],\n",
              "         [1.43900e-02, 6.00000e+01, 2.93000e+00, ..., 1.56000e+01,\n",
              "          3.76700e+02, 4.38000e+00]]),\n",
              "  array([15.2, 42.3, 50. , 21.1, 17.7, 18.5, 11.3, 15.6, 15.6, 14.4, 12.1,\n",
              "         17.9, 23.1, 19.9, 15.7,  8.8, 50. , 22.5, 24.1, 27.5, 10.9, 30.8,\n",
              "         32.9, 24. , 18.5, 13.3, 22.9, 34.7, 16.6, 17.5, 22.3, 16.1, 14.9,\n",
              "         23.1, 34.9, 25. , 13.9, 13.1, 20.4, 20. , 15.2, 24.7, 22.2, 16.7,\n",
              "         12.7, 15.6, 18.4, 21. , 30.1, 15.1, 18.7,  9.6, 31.5, 24.8, 19.1,\n",
              "         22. , 14.5, 11. , 32. , 29.4, 20.3, 24.4, 14.6, 19.5, 14.1, 14.3,\n",
              "         15.6, 10.5,  6.3, 19.3, 19.3, 13.4, 36.4, 17.8, 13.5, 16.5,  8.3,\n",
              "         14.3, 16. , 13.4, 28.6, 43.5, 20.2, 22. , 23. , 20.7, 12.5, 48.5,\n",
              "         14.6, 13.4, 23.7, 50. , 21.7, 39.8, 38.7, 22.2, 34.9, 22.5, 31.1,\n",
              "         28.7, 46. , 41.7, 21. , 26.6, 15. , 24.4, 13.3, 21.2, 11.7, 21.7,\n",
              "         19.4, 50. , 22.8, 19.7, 24.7, 36.2, 14.2, 18.9, 18.3, 20.6, 24.6,\n",
              "         18.2,  8.7, 44. , 10.4, 13.2, 21.2, 37. , 30.7, 22.9, 20. , 19.3,\n",
              "         31.7, 32. , 23.1, 18.8, 10.9, 50. , 19.6,  5. , 14.4, 19.8, 13.8,\n",
              "         19.6, 23.9, 24.5, 25. , 19.9, 17.2, 24.6, 13.5, 26.6, 21.4, 11.9,\n",
              "         22.6, 19.6,  8.5, 23.7, 23.1, 22.4, 20.5, 23.6, 18.4, 35.2, 23.1,\n",
              "         27.9, 20.6, 23.7, 28. , 13.6, 27.1, 23.6, 20.6, 18.2, 21.7, 17.1,\n",
              "          8.4, 25.3, 13.8, 22.2, 18.4, 20.7, 31.6, 30.5, 20.3,  8.8, 19.2,\n",
              "         19.4, 23.1, 23. , 14.8, 48.8, 22.6, 33.4, 21.1, 13.6, 32.2, 13.1,\n",
              "         23.4, 18.9, 23.9, 11.8, 23.3, 22.8, 19.6, 16.7, 13.4, 22.2, 20.4,\n",
              "         21.8, 26.4, 14.9, 24.1, 23.8, 12.3, 29.1, 21. , 19.5, 23.3, 23.8,\n",
              "         17.8, 11.5, 21.7, 19.9, 25. , 33.4, 28.5, 21.4, 24.3, 27.5, 33.1,\n",
              "         16.2, 23.3, 48.3, 22.9, 22.8, 13.1, 12.7, 22.6, 15. , 15.3, 10.5,\n",
              "         24. , 18.5, 21.7, 19.5, 33.2, 23.2,  5. , 19.1, 12.7, 22.3, 10.2,\n",
              "         13.9, 16.3, 17. , 20.1, 29.9, 17.2, 37.3, 45.4, 17.8, 23.2, 29. ,\n",
              "         22. , 18. , 17.4, 34.6, 20.1, 25. , 15.6, 24.8, 28.2, 21.2, 21.4,\n",
              "         23.8, 31. , 26.2, 17.4, 37.9, 17.5, 20. ,  8.3, 23.9,  8.4, 13.8,\n",
              "          7.2, 11.7, 17.1, 21.6, 50. , 16.1, 20.4, 20.6, 21.4, 20.6, 36.5,\n",
              "          8.5, 24.8, 10.8, 21.9, 17.3, 18.9, 36.2, 14.9, 18.2, 33.3, 21.8,\n",
              "         19.7, 31.6, 24.8, 19.4, 22.8,  7.5, 44.8, 16.8, 18.7, 50. , 50. ,\n",
              "         19.5, 20.1, 50. , 17.2, 20.8, 19.3, 41.3, 20.4, 20.5, 13.8, 16.5,\n",
              "         23.9, 20.6, 31.5, 23.3, 16.8, 14. , 33.8, 36.1, 12.8, 18.3, 18.7,\n",
              "         19.1, 29. , 30.1, 50. , 50. , 22. , 11.9, 37.6, 50. , 22.7, 20.8,\n",
              "         23.5, 27.9, 50. , 19.3, 23.9, 22.6, 15.2, 21.7, 19.2, 43.8, 20.3,\n",
              "         33.2, 19.9, 22.5, 32.7, 22. , 17.1, 19. , 15. , 16.1, 25.1, 23.7,\n",
              "         28.7, 37.2, 22.6, 16.4, 25. , 29.8, 22.1, 17.4, 18.1, 30.3, 17.5,\n",
              "         24.7, 12.6, 26.5, 28.7, 13.3, 10.4, 24.4, 23. , 20. , 17.8,  7. ,\n",
              "         11.8, 24.4, 13.8, 19.4, 25.2, 19.4, 19.4, 29.1])),\n",
              " (array([[1.80846e+01, 0.00000e+00, 1.81000e+01, ..., 2.02000e+01,\n",
              "          2.72500e+01, 2.90500e+01],\n",
              "         [1.23290e-01, 0.00000e+00, 1.00100e+01, ..., 1.78000e+01,\n",
              "          3.94950e+02, 1.62100e+01],\n",
              "         [5.49700e-02, 0.00000e+00, 5.19000e+00, ..., 2.02000e+01,\n",
              "          3.96900e+02, 9.74000e+00],\n",
              "         ...,\n",
              "         [1.83377e+00, 0.00000e+00, 1.95800e+01, ..., 1.47000e+01,\n",
              "          3.89610e+02, 1.92000e+00],\n",
              "         [3.58090e-01, 0.00000e+00, 6.20000e+00, ..., 1.74000e+01,\n",
              "          3.91700e+02, 9.71000e+00],\n",
              "         [2.92400e+00, 0.00000e+00, 1.95800e+01, ..., 1.47000e+01,\n",
              "          2.40160e+02, 9.81000e+00]]),\n",
              "  array([ 7.2, 18.8, 19. , 27. , 22.2, 24.5, 31.2, 22.9, 20.5, 23.2, 18.6,\n",
              "         14.5, 17.8, 50. , 20.8, 24.3, 24.2, 19.8, 19.1, 22.7, 12. , 10.2,\n",
              "         20. , 18.5, 20.9, 23. , 27.5, 30.1,  9.5, 22. , 21.2, 14.1, 33.1,\n",
              "         23.4, 20.1,  7.4, 15.4, 23.8, 20.1, 24.5, 33. , 28.4, 14.1, 46.7,\n",
              "         32.5, 29.6, 28.4, 19.8, 20.2, 25. , 35.4, 20.3,  9.7, 14.5, 34.9,\n",
              "         26.6,  7.2, 50. , 32.4, 21.6, 29.8, 13.1, 27.5, 21.2, 23.1, 21.9,\n",
              "         13. , 23.2,  8.1,  5.6, 21.7, 29.6, 19.6,  7. , 26.4, 18.9, 20.9,\n",
              "         28.1, 35.4, 10.2, 24.3, 43.1, 17.6, 15.4, 16.2, 27.1, 21.4, 21.5,\n",
              "         22.4, 25. , 16.6, 18.6, 22. , 42.8, 35.1, 21.5, 36. , 21.9, 24.1,\n",
              "         50. , 26.7, 25. ])))"
            ]
          },
          "metadata": {},
          "execution_count": 33
        }
      ]
    },
    {
      "cell_type": "markdown",
      "metadata": {
        "id": "vb2uj53VDbak"
      },
      "source": [
        "> ## 2) Data_Set Information"
      ]
    },
    {
      "cell_type": "code",
      "metadata": {
        "id": "ZOevNA5fGGgh",
        "colab": {
          "base_uri": "https://localhost:8080/"
        },
        "outputId": "19634c22-c775-4b28-9779-74c3ef15ffcb"
      },
      "source": [
        "print(train_data.shape) # train 13개의 특성, 404개\n",
        "print(X_test.shape) # test 102 개\n",
        "\n",
        "print(train_targets[:10]) # train 404개\n",
        "print(y_test[:10]) # test 102 개\n"
      ],
      "execution_count": 34,
      "outputs": [
        {
          "output_type": "stream",
          "name": "stdout",
          "text": [
            "(404, 13)\n",
            "(102, 13)\n",
            "[15.2 42.3 50.  21.1 17.7 18.5 11.3 15.6 15.6 14.4]\n",
            "[ 7.2 18.8 19.  27.  22.2 24.5 31.2 22.9 20.5 23.2]\n"
          ]
        }
      ]
    },
    {
      "cell_type": "markdown",
      "metadata": {
        "id": "zGnHSb2LDurN"
      },
      "source": [
        "# II. Data Preprocessing"
      ]
    },
    {
      "cell_type": "markdown",
      "metadata": {
        "id": "oc3ICJk2odtO"
      },
      "source": [
        "> ## 1) Standardization\n",
        "\n",
        " * train_data & test_data"
      ]
    },
    {
      "cell_type": "code",
      "metadata": {
        "id": "JErY3qRBGde_"
      },
      "source": [
        "# (값-평균)/표준편차\n",
        "mean = train_data.mean(axis = 0)\n",
        "std = train_data.std(axis = 0)\n",
        "\n",
        "train_data = train_data - mean\n",
        "train_data = train_data / std\n",
        "\n",
        "X_test = X_test - mean\n",
        "X_test = X_test / std"
      ],
      "execution_count": 35,
      "outputs": []
    },
    {
      "cell_type": "markdown",
      "metadata": {
        "id": "nhjflelxQzKL"
      },
      "source": [
        "> ## 2) Train & Validation Split"
      ]
    },
    {
      "cell_type": "code",
      "metadata": {
        "id": "d3XGRBzkQ11v",
        "colab": {
          "base_uri": "https://localhost:8080/"
        },
        "outputId": "91477fef-425a-4fed-9128-094e4ea3ddea"
      },
      "source": [
        "from sklearn.model_selection import train_test_split\n",
        "\n",
        "# train 전체 404개 중에 나눔\n",
        "X_train, X_valid, y_train, y_valid = train_test_split(train_data, train_targets,  #data -> X , target -> y\n",
        "                                                      test_size = 0.2, \n",
        "                                                      random_state = 2045) \n",
        "\n",
        "X_train.shape, X_valid.shape, y_train.shape, y_valid.shape"
      ],
      "execution_count": 36,
      "outputs": [
        {
          "output_type": "execute_result",
          "data": {
            "text/plain": [
              "((323, 13), (81, 13), (323,), (81,))"
            ]
          },
          "metadata": {},
          "execution_count": 36
        }
      ]
    },
    {
      "cell_type": "markdown",
      "metadata": {
        "id": "-jEAyLdtD9aa"
      },
      "source": [
        "# III. Boston_Housing Keras Modeling"
      ]
    },
    {
      "cell_type": "markdown",
      "metadata": {
        "id": "4Ws01hC2opeC"
      },
      "source": [
        "> ## 1) Model Define"
      ]
    },
    {
      "cell_type": "code",
      "metadata": {
        "id": "VPyXS9kzGhEX"
      },
      "source": [
        "from tensorflow.keras import models\n",
        "from tensorflow.keras import layers\n",
        "\n",
        "boston = models.Sequential(name = 'Regression')\n",
        "boston.add(layers.Dense(64, activation = 'relu', input_shape = (13,))) #특성 13개 input\n",
        "boston.add(layers.Dense(64, activation = 'relu'))\n",
        "boston.add(layers.Dense(1))"
      ],
      "execution_count": 37,
      "outputs": []
    },
    {
      "cell_type": "code",
      "metadata": {
        "id": "fF4M7J5WKtw9",
        "colab": {
          "base_uri": "https://localhost:8080/"
        },
        "outputId": "6ab9123f-9144-4862-f86a-ed889acd9247"
      },
      "source": [
        "boston.summary()"
      ],
      "execution_count": 38,
      "outputs": [
        {
          "output_type": "stream",
          "name": "stdout",
          "text": [
            "Model: \"Regression\"\n",
            "_________________________________________________________________\n",
            " Layer (type)                Output Shape              Param #   \n",
            "=================================================================\n",
            " dense_3 (Dense)             (None, 64)                896       \n",
            "                                                                 \n",
            " dense_4 (Dense)             (None, 64)                4160      \n",
            "                                                                 \n",
            " dense_5 (Dense)             (None, 1)                 65        \n",
            "                                                                 \n",
            "=================================================================\n",
            "Total params: 5,121\n",
            "Trainable params: 5,121\n",
            "Non-trainable params: 0\n",
            "_________________________________________________________________\n"
          ]
        }
      ]
    },
    {
      "cell_type": "markdown",
      "metadata": {
        "id": "NKzJ_OtWcIph"
      },
      "source": [
        "> ## 2) Model Compile"
      ]
    },
    {
      "cell_type": "code",
      "metadata": {
        "id": "pzkR29BwEK6c"
      },
      "source": [
        "boston.compile(loss = 'mse',\n",
        "               optimizer = 'rmsprop',\n",
        "               metrics = ['mae'])"
      ],
      "execution_count": 39,
      "outputs": []
    },
    {
      "cell_type": "markdown",
      "metadata": {
        "id": "2c2K8UOFcMJw"
      },
      "source": [
        "> ## 3) Model Fit\n",
        "\n",
        " * 약 4분"
      ]
    },
    {
      "cell_type": "code",
      "metadata": {
        "id": "5ZTtl9IZEwyu",
        "colab": {
          "base_uri": "https://localhost:8080/"
        },
        "outputId": "95a303a9-5cae-4037-bfab-10d9077299ec"
      },
      "source": [
        "%%time\n",
        "\n",
        "Hist_boston = boston.fit(X_train, y_train,\n",
        "                         epochs = 500,\n",
        "                         batch_size = 1,\n",
        "                         validation_data = (X_valid, y_valid))"
      ],
      "execution_count": 40,
      "outputs": [
        {
          "output_type": "stream",
          "name": "stdout",
          "text": [
            "Epoch 1/500\n",
            "323/323 [==============================] - 1s 2ms/step - loss: 194.5447 - mae: 10.3105 - val_loss: 37.0641 - val_mae: 3.8962\n",
            "Epoch 2/500\n",
            "323/323 [==============================] - 1s 2ms/step - loss: 23.1140 - mae: 3.2934 - val_loss: 28.0002 - val_mae: 2.8643\n",
            "Epoch 3/500\n",
            "323/323 [==============================] - 1s 2ms/step - loss: 18.4093 - mae: 2.8912 - val_loss: 26.5185 - val_mae: 2.7782\n",
            "Epoch 4/500\n",
            "323/323 [==============================] - 1s 2ms/step - loss: 16.2917 - mae: 2.7552 - val_loss: 22.5716 - val_mae: 2.6413\n",
            "Epoch 5/500\n",
            "323/323 [==============================] - 1s 2ms/step - loss: 15.1989 - mae: 2.6011 - val_loss: 19.3979 - val_mae: 2.4337\n",
            "Epoch 6/500\n",
            "323/323 [==============================] - 1s 2ms/step - loss: 14.1916 - mae: 2.5332 - val_loss: 19.9855 - val_mae: 2.4098\n",
            "Epoch 7/500\n",
            "323/323 [==============================] - 1s 2ms/step - loss: 13.1548 - mae: 2.4934 - val_loss: 19.4951 - val_mae: 2.4559\n",
            "Epoch 8/500\n",
            "323/323 [==============================] - 1s 2ms/step - loss: 11.8316 - mae: 2.3498 - val_loss: 18.3747 - val_mae: 2.3231\n",
            "Epoch 9/500\n",
            "323/323 [==============================] - 1s 2ms/step - loss: 11.6493 - mae: 2.3208 - val_loss: 18.0038 - val_mae: 2.3576\n",
            "Epoch 10/500\n",
            "323/323 [==============================] - 1s 2ms/step - loss: 11.1187 - mae: 2.2435 - val_loss: 17.6319 - val_mae: 2.3728\n",
            "Epoch 11/500\n",
            "323/323 [==============================] - 1s 2ms/step - loss: 10.8639 - mae: 2.2075 - val_loss: 16.3709 - val_mae: 2.6568\n",
            "Epoch 12/500\n",
            "323/323 [==============================] - 1s 2ms/step - loss: 10.7390 - mae: 2.1684 - val_loss: 17.0333 - val_mae: 2.3395\n",
            "Epoch 13/500\n",
            "323/323 [==============================] - 1s 2ms/step - loss: 10.6035 - mae: 2.2124 - val_loss: 14.9184 - val_mae: 2.3216\n",
            "Epoch 14/500\n",
            "323/323 [==============================] - 0s 2ms/step - loss: 10.0498 - mae: 2.2036 - val_loss: 17.5963 - val_mae: 2.4480\n",
            "Epoch 15/500\n",
            "323/323 [==============================] - 1s 2ms/step - loss: 9.6893 - mae: 2.0589 - val_loss: 15.2252 - val_mae: 2.5403\n",
            "Epoch 16/500\n",
            "323/323 [==============================] - 1s 2ms/step - loss: 9.7562 - mae: 2.1171 - val_loss: 13.0455 - val_mae: 2.2094\n",
            "Epoch 17/500\n",
            "323/323 [==============================] - 1s 2ms/step - loss: 9.3729 - mae: 2.0838 - val_loss: 13.6917 - val_mae: 2.4772\n",
            "Epoch 18/500\n",
            "323/323 [==============================] - 1s 2ms/step - loss: 9.4371 - mae: 2.0802 - val_loss: 12.6450 - val_mae: 2.1262\n",
            "Epoch 19/500\n",
            "323/323 [==============================] - 1s 2ms/step - loss: 9.5275 - mae: 2.0451 - val_loss: 12.0444 - val_mae: 2.1617\n",
            "Epoch 20/500\n",
            "323/323 [==============================] - 1s 2ms/step - loss: 8.9289 - mae: 2.0254 - val_loss: 12.5006 - val_mae: 2.0430\n",
            "Epoch 21/500\n",
            "323/323 [==============================] - 1s 2ms/step - loss: 8.9075 - mae: 1.9894 - val_loss: 16.6721 - val_mae: 2.4324\n",
            "Epoch 22/500\n",
            "323/323 [==============================] - 1s 2ms/step - loss: 8.7031 - mae: 1.9627 - val_loss: 11.7395 - val_mae: 2.1371\n",
            "Epoch 23/500\n",
            "323/323 [==============================] - 1s 2ms/step - loss: 8.6531 - mae: 1.9994 - val_loss: 14.9296 - val_mae: 2.6095\n",
            "Epoch 24/500\n",
            "323/323 [==============================] - 1s 2ms/step - loss: 8.5672 - mae: 1.9815 - val_loss: 12.3813 - val_mae: 2.1376\n",
            "Epoch 25/500\n",
            "323/323 [==============================] - 1s 2ms/step - loss: 8.3903 - mae: 1.9535 - val_loss: 13.2884 - val_mae: 2.2413\n",
            "Epoch 26/500\n",
            "323/323 [==============================] - 1s 2ms/step - loss: 8.0941 - mae: 1.9534 - val_loss: 12.7675 - val_mae: 2.1453\n",
            "Epoch 27/500\n",
            "323/323 [==============================] - 1s 2ms/step - loss: 8.2751 - mae: 1.9049 - val_loss: 10.6876 - val_mae: 2.0052\n",
            "Epoch 28/500\n",
            "323/323 [==============================] - 1s 2ms/step - loss: 8.1604 - mae: 1.9504 - val_loss: 11.0836 - val_mae: 2.1276\n",
            "Epoch 29/500\n",
            "323/323 [==============================] - 1s 2ms/step - loss: 8.1038 - mae: 1.8970 - val_loss: 12.7333 - val_mae: 2.2132\n",
            "Epoch 30/500\n",
            "323/323 [==============================] - 1s 2ms/step - loss: 8.4362 - mae: 1.9037 - val_loss: 10.3366 - val_mae: 1.9624\n",
            "Epoch 31/500\n",
            "323/323 [==============================] - 1s 2ms/step - loss: 7.8465 - mae: 1.8946 - val_loss: 11.5473 - val_mae: 2.1111\n",
            "Epoch 32/500\n",
            "323/323 [==============================] - 1s 2ms/step - loss: 7.4021 - mae: 1.8885 - val_loss: 11.0929 - val_mae: 2.0650\n",
            "Epoch 33/500\n",
            "323/323 [==============================] - 1s 2ms/step - loss: 7.7028 - mae: 1.9021 - val_loss: 9.7759 - val_mae: 2.0328\n",
            "Epoch 34/500\n",
            "323/323 [==============================] - 1s 2ms/step - loss: 7.3805 - mae: 1.8349 - val_loss: 9.6446 - val_mae: 1.9241\n",
            "Epoch 35/500\n",
            "323/323 [==============================] - 1s 2ms/step - loss: 7.0716 - mae: 1.8070 - val_loss: 11.1358 - val_mae: 2.2189\n",
            "Epoch 36/500\n",
            "323/323 [==============================] - 1s 2ms/step - loss: 7.3818 - mae: 1.8598 - val_loss: 10.2159 - val_mae: 2.0733\n",
            "Epoch 37/500\n",
            "323/323 [==============================] - 1s 2ms/step - loss: 7.6182 - mae: 1.8490 - val_loss: 10.5951 - val_mae: 2.1580\n",
            "Epoch 38/500\n",
            "323/323 [==============================] - 1s 2ms/step - loss: 7.3181 - mae: 1.7912 - val_loss: 9.8975 - val_mae: 2.0314\n",
            "Epoch 39/500\n",
            "323/323 [==============================] - 1s 2ms/step - loss: 6.9269 - mae: 1.7449 - val_loss: 10.7164 - val_mae: 2.0178\n",
            "Epoch 40/500\n",
            "323/323 [==============================] - 1s 2ms/step - loss: 6.9225 - mae: 1.7703 - val_loss: 10.4115 - val_mae: 2.1106\n",
            "Epoch 41/500\n",
            "323/323 [==============================] - 1s 2ms/step - loss: 7.0289 - mae: 1.7808 - val_loss: 11.7451 - val_mae: 2.4765\n",
            "Epoch 42/500\n",
            "323/323 [==============================] - 1s 2ms/step - loss: 6.9003 - mae: 1.7819 - val_loss: 12.1024 - val_mae: 2.2319\n",
            "Epoch 43/500\n",
            "323/323 [==============================] - 1s 2ms/step - loss: 6.7149 - mae: 1.7980 - val_loss: 10.0779 - val_mae: 2.1336\n",
            "Epoch 44/500\n",
            "323/323 [==============================] - 1s 2ms/step - loss: 6.7599 - mae: 1.7738 - val_loss: 11.0782 - val_mae: 2.1892\n",
            "Epoch 45/500\n",
            "323/323 [==============================] - 1s 2ms/step - loss: 6.6755 - mae: 1.7622 - val_loss: 10.4968 - val_mae: 2.2060\n",
            "Epoch 46/500\n",
            "323/323 [==============================] - 1s 2ms/step - loss: 6.6297 - mae: 1.7559 - val_loss: 9.3378 - val_mae: 1.9629\n",
            "Epoch 47/500\n",
            "323/323 [==============================] - 1s 2ms/step - loss: 6.2570 - mae: 1.7015 - val_loss: 11.0255 - val_mae: 2.1928\n",
            "Epoch 48/500\n",
            "323/323 [==============================] - 1s 2ms/step - loss: 6.5287 - mae: 1.7439 - val_loss: 9.9631 - val_mae: 2.0688\n",
            "Epoch 49/500\n",
            "323/323 [==============================] - 1s 2ms/step - loss: 6.2370 - mae: 1.6836 - val_loss: 9.5821 - val_mae: 2.1036\n",
            "Epoch 50/500\n",
            "323/323 [==============================] - 1s 2ms/step - loss: 6.5008 - mae: 1.7214 - val_loss: 10.4198 - val_mae: 2.1379\n",
            "Epoch 51/500\n",
            "323/323 [==============================] - 1s 2ms/step - loss: 6.2442 - mae: 1.7110 - val_loss: 10.6759 - val_mae: 2.0971\n",
            "Epoch 52/500\n",
            "323/323 [==============================] - 1s 2ms/step - loss: 6.4804 - mae: 1.7257 - val_loss: 10.6774 - val_mae: 2.1282\n",
            "Epoch 53/500\n",
            "323/323 [==============================] - 1s 2ms/step - loss: 5.7696 - mae: 1.6513 - val_loss: 12.2621 - val_mae: 2.3117\n",
            "Epoch 54/500\n",
            "323/323 [==============================] - 1s 2ms/step - loss: 6.0354 - mae: 1.6667 - val_loss: 9.1002 - val_mae: 1.9287\n",
            "Epoch 55/500\n",
            "323/323 [==============================] - 1s 2ms/step - loss: 5.8587 - mae: 1.6378 - val_loss: 9.4045 - val_mae: 1.8955\n",
            "Epoch 56/500\n",
            "323/323 [==============================] - 1s 2ms/step - loss: 5.7408 - mae: 1.6885 - val_loss: 10.4858 - val_mae: 2.0909\n",
            "Epoch 57/500\n",
            "323/323 [==============================] - 1s 2ms/step - loss: 5.9919 - mae: 1.6973 - val_loss: 9.4914 - val_mae: 1.9719\n",
            "Epoch 58/500\n",
            "323/323 [==============================] - 1s 2ms/step - loss: 5.7873 - mae: 1.6531 - val_loss: 9.3522 - val_mae: 2.0231\n",
            "Epoch 59/500\n",
            "323/323 [==============================] - 1s 2ms/step - loss: 6.0819 - mae: 1.5778 - val_loss: 10.1131 - val_mae: 2.1852\n",
            "Epoch 60/500\n",
            "323/323 [==============================] - 1s 2ms/step - loss: 5.7135 - mae: 1.6586 - val_loss: 11.4018 - val_mae: 2.3512\n",
            "Epoch 61/500\n",
            "323/323 [==============================] - 1s 2ms/step - loss: 5.4287 - mae: 1.5759 - val_loss: 9.5863 - val_mae: 1.9783\n",
            "Epoch 62/500\n",
            "323/323 [==============================] - 1s 2ms/step - loss: 5.6454 - mae: 1.6463 - val_loss: 10.9960 - val_mae: 2.2473\n",
            "Epoch 63/500\n",
            "323/323 [==============================] - 1s 2ms/step - loss: 5.8376 - mae: 1.5648 - val_loss: 9.7534 - val_mae: 2.1192\n",
            "Epoch 64/500\n",
            "323/323 [==============================] - 1s 2ms/step - loss: 5.5643 - mae: 1.5638 - val_loss: 9.6214 - val_mae: 2.1099\n",
            "Epoch 65/500\n",
            "323/323 [==============================] - 1s 2ms/step - loss: 5.2254 - mae: 1.5623 - val_loss: 11.3708 - val_mae: 2.1812\n",
            "Epoch 66/500\n",
            "323/323 [==============================] - 1s 2ms/step - loss: 5.4063 - mae: 1.5256 - val_loss: 10.6412 - val_mae: 2.3673\n",
            "Epoch 67/500\n",
            "323/323 [==============================] - 1s 2ms/step - loss: 5.4025 - mae: 1.5655 - val_loss: 9.8287 - val_mae: 2.0545\n",
            "Epoch 68/500\n",
            "323/323 [==============================] - 1s 2ms/step - loss: 5.2837 - mae: 1.5735 - val_loss: 10.7954 - val_mae: 2.1677\n",
            "Epoch 69/500\n",
            "323/323 [==============================] - 1s 2ms/step - loss: 5.2102 - mae: 1.4794 - val_loss: 9.3541 - val_mae: 2.0164\n",
            "Epoch 70/500\n",
            "323/323 [==============================] - 1s 2ms/step - loss: 5.1176 - mae: 1.5269 - val_loss: 10.0861 - val_mae: 2.2118\n",
            "Epoch 71/500\n",
            "323/323 [==============================] - 1s 2ms/step - loss: 5.0507 - mae: 1.5166 - val_loss: 9.0745 - val_mae: 2.0687\n",
            "Epoch 72/500\n",
            "323/323 [==============================] - 1s 2ms/step - loss: 5.2444 - mae: 1.4862 - val_loss: 11.0891 - val_mae: 2.1232\n",
            "Epoch 73/500\n",
            "323/323 [==============================] - 1s 2ms/step - loss: 5.0303 - mae: 1.5178 - val_loss: 9.5387 - val_mae: 2.0834\n",
            "Epoch 74/500\n",
            "323/323 [==============================] - 1s 2ms/step - loss: 5.1039 - mae: 1.4605 - val_loss: 9.9038 - val_mae: 2.0638\n",
            "Epoch 75/500\n",
            "323/323 [==============================] - 1s 2ms/step - loss: 5.0186 - mae: 1.5053 - val_loss: 10.5597 - val_mae: 2.0877\n",
            "Epoch 76/500\n",
            "323/323 [==============================] - 1s 2ms/step - loss: 5.0833 - mae: 1.5330 - val_loss: 9.7591 - val_mae: 2.0577\n",
            "Epoch 77/500\n",
            "323/323 [==============================] - 1s 2ms/step - loss: 4.6773 - mae: 1.4762 - val_loss: 10.0316 - val_mae: 2.1637\n",
            "Epoch 78/500\n",
            "323/323 [==============================] - 1s 2ms/step - loss: 4.6198 - mae: 1.4746 - val_loss: 11.2018 - val_mae: 2.2244\n",
            "Epoch 79/500\n",
            "323/323 [==============================] - 1s 2ms/step - loss: 4.6883 - mae: 1.5184 - val_loss: 9.6243 - val_mae: 2.1659\n",
            "Epoch 80/500\n",
            "323/323 [==============================] - 1s 2ms/step - loss: 4.4146 - mae: 1.4407 - val_loss: 10.4571 - val_mae: 2.1132\n",
            "Epoch 81/500\n",
            "323/323 [==============================] - 1s 2ms/step - loss: 4.5450 - mae: 1.4555 - val_loss: 11.3056 - val_mae: 2.1671\n",
            "Epoch 82/500\n",
            "323/323 [==============================] - 1s 2ms/step - loss: 4.7016 - mae: 1.4651 - val_loss: 10.8493 - val_mae: 2.2709\n",
            "Epoch 83/500\n",
            "323/323 [==============================] - 1s 2ms/step - loss: 4.7105 - mae: 1.4209 - val_loss: 8.8700 - val_mae: 1.9454\n",
            "Epoch 84/500\n",
            "323/323 [==============================] - 1s 2ms/step - loss: 4.8637 - mae: 1.4380 - val_loss: 10.1369 - val_mae: 2.1042\n",
            "Epoch 85/500\n",
            "323/323 [==============================] - 1s 2ms/step - loss: 4.7249 - mae: 1.4413 - val_loss: 9.1484 - val_mae: 1.9814\n",
            "Epoch 86/500\n",
            "323/323 [==============================] - 1s 2ms/step - loss: 4.5343 - mae: 1.4432 - val_loss: 9.3472 - val_mae: 2.0715\n",
            "Epoch 87/500\n",
            "323/323 [==============================] - 1s 2ms/step - loss: 4.2117 - mae: 1.3872 - val_loss: 11.3448 - val_mae: 2.2960\n",
            "Epoch 88/500\n",
            "323/323 [==============================] - 1s 2ms/step - loss: 4.2776 - mae: 1.3924 - val_loss: 11.1704 - val_mae: 2.2980\n",
            "Epoch 89/500\n",
            "323/323 [==============================] - 1s 2ms/step - loss: 4.5890 - mae: 1.4052 - val_loss: 11.1740 - val_mae: 2.2676\n",
            "Epoch 90/500\n",
            "323/323 [==============================] - 1s 2ms/step - loss: 4.3956 - mae: 1.4077 - val_loss: 10.1114 - val_mae: 2.1455\n",
            "Epoch 91/500\n",
            "323/323 [==============================] - 1s 2ms/step - loss: 4.3467 - mae: 1.3984 - val_loss: 9.7180 - val_mae: 2.0683\n",
            "Epoch 92/500\n",
            "323/323 [==============================] - 1s 2ms/step - loss: 4.2282 - mae: 1.3485 - val_loss: 10.3402 - val_mae: 2.1183\n",
            "Epoch 93/500\n",
            "323/323 [==============================] - 1s 2ms/step - loss: 4.0551 - mae: 1.3747 - val_loss: 9.7831 - val_mae: 2.0628\n",
            "Epoch 94/500\n",
            "323/323 [==============================] - 1s 2ms/step - loss: 4.4598 - mae: 1.3500 - val_loss: 10.5915 - val_mae: 2.1356\n",
            "Epoch 95/500\n",
            "323/323 [==============================] - 1s 2ms/step - loss: 4.3454 - mae: 1.3743 - val_loss: 9.5139 - val_mae: 2.0691\n",
            "Epoch 96/500\n",
            "323/323 [==============================] - 1s 2ms/step - loss: 3.8498 - mae: 1.4003 - val_loss: 10.7035 - val_mae: 2.1869\n",
            "Epoch 97/500\n",
            "323/323 [==============================] - 1s 2ms/step - loss: 4.3910 - mae: 1.4005 - val_loss: 11.3898 - val_mae: 2.1760\n",
            "Epoch 98/500\n",
            "323/323 [==============================] - 1s 2ms/step - loss: 3.8780 - mae: 1.3589 - val_loss: 12.3352 - val_mae: 2.4958\n",
            "Epoch 99/500\n",
            "323/323 [==============================] - 1s 2ms/step - loss: 4.1272 - mae: 1.3501 - val_loss: 11.0438 - val_mae: 2.1668\n",
            "Epoch 100/500\n",
            "323/323 [==============================] - 1s 2ms/step - loss: 3.8394 - mae: 1.3618 - val_loss: 10.8810 - val_mae: 2.0520\n",
            "Epoch 101/500\n",
            "323/323 [==============================] - 1s 2ms/step - loss: 4.0135 - mae: 1.3399 - val_loss: 10.9421 - val_mae: 2.1770\n",
            "Epoch 102/500\n",
            "323/323 [==============================] - 1s 2ms/step - loss: 3.5705 - mae: 1.2565 - val_loss: 11.1107 - val_mae: 2.2724\n",
            "Epoch 103/500\n",
            "323/323 [==============================] - 1s 2ms/step - loss: 3.6743 - mae: 1.3002 - val_loss: 10.0012 - val_mae: 2.1258\n",
            "Epoch 104/500\n",
            "323/323 [==============================] - 1s 2ms/step - loss: 3.8683 - mae: 1.3585 - val_loss: 12.5884 - val_mae: 2.4690\n",
            "Epoch 105/500\n",
            "323/323 [==============================] - 1s 2ms/step - loss: 3.7869 - mae: 1.3142 - val_loss: 11.5142 - val_mae: 2.3299\n",
            "Epoch 106/500\n",
            "323/323 [==============================] - 1s 2ms/step - loss: 4.0466 - mae: 1.3080 - val_loss: 13.0561 - val_mae: 2.4087\n",
            "Epoch 107/500\n",
            "323/323 [==============================] - 1s 2ms/step - loss: 3.9189 - mae: 1.2986 - val_loss: 12.1943 - val_mae: 2.3982\n",
            "Epoch 108/500\n",
            "323/323 [==============================] - 1s 2ms/step - loss: 3.8811 - mae: 1.2936 - val_loss: 10.5673 - val_mae: 2.0977\n",
            "Epoch 109/500\n",
            "323/323 [==============================] - 1s 2ms/step - loss: 3.6619 - mae: 1.2619 - val_loss: 11.5324 - val_mae: 2.2302\n",
            "Epoch 110/500\n",
            "323/323 [==============================] - 1s 2ms/step - loss: 3.7292 - mae: 1.2719 - val_loss: 10.2920 - val_mae: 2.1399\n",
            "Epoch 111/500\n",
            "323/323 [==============================] - 1s 2ms/step - loss: 3.7254 - mae: 1.3028 - val_loss: 10.0662 - val_mae: 2.1165\n",
            "Epoch 112/500\n",
            "323/323 [==============================] - 1s 2ms/step - loss: 3.8913 - mae: 1.2940 - val_loss: 10.0378 - val_mae: 2.1816\n",
            "Epoch 113/500\n",
            "323/323 [==============================] - 1s 2ms/step - loss: 3.5424 - mae: 1.2752 - val_loss: 9.1907 - val_mae: 2.0324\n",
            "Epoch 114/500\n",
            "323/323 [==============================] - 1s 2ms/step - loss: 3.4432 - mae: 1.2243 - val_loss: 12.5177 - val_mae: 2.4750\n",
            "Epoch 115/500\n",
            "323/323 [==============================] - 1s 2ms/step - loss: 3.5930 - mae: 1.2736 - val_loss: 12.5249 - val_mae: 2.2749\n",
            "Epoch 116/500\n",
            "323/323 [==============================] - 1s 2ms/step - loss: 3.4374 - mae: 1.1661 - val_loss: 11.6732 - val_mae: 2.3028\n",
            "Epoch 117/500\n",
            "323/323 [==============================] - 1s 2ms/step - loss: 3.6634 - mae: 1.2698 - val_loss: 11.5221 - val_mae: 2.2241\n",
            "Epoch 118/500\n",
            "323/323 [==============================] - 1s 2ms/step - loss: 3.6772 - mae: 1.3374 - val_loss: 10.9670 - val_mae: 2.1243\n",
            "Epoch 119/500\n",
            "323/323 [==============================] - 1s 2ms/step - loss: 3.5482 - mae: 1.2750 - val_loss: 11.2694 - val_mae: 2.1635\n",
            "Epoch 120/500\n",
            "323/323 [==============================] - 1s 2ms/step - loss: 3.6011 - mae: 1.2191 - val_loss: 12.2820 - val_mae: 2.3078\n",
            "Epoch 121/500\n",
            "323/323 [==============================] - 1s 2ms/step - loss: 3.5262 - mae: 1.2886 - val_loss: 10.9312 - val_mae: 2.2259\n",
            "Epoch 122/500\n",
            "323/323 [==============================] - 1s 2ms/step - loss: 3.4709 - mae: 1.2170 - val_loss: 10.0360 - val_mae: 2.1935\n",
            "Epoch 123/500\n",
            "323/323 [==============================] - 1s 2ms/step - loss: 3.4696 - mae: 1.2282 - val_loss: 11.7033 - val_mae: 2.3714\n",
            "Epoch 124/500\n",
            "323/323 [==============================] - 1s 2ms/step - loss: 3.6217 - mae: 1.2378 - val_loss: 10.9103 - val_mae: 2.2741\n",
            "Epoch 125/500\n",
            "323/323 [==============================] - 1s 2ms/step - loss: 3.2188 - mae: 1.1744 - val_loss: 11.1120 - val_mae: 2.3499\n",
            "Epoch 126/500\n",
            "323/323 [==============================] - 1s 2ms/step - loss: 3.4084 - mae: 1.2175 - val_loss: 10.4854 - val_mae: 2.1702\n",
            "Epoch 127/500\n",
            "323/323 [==============================] - 1s 2ms/step - loss: 3.2077 - mae: 1.1857 - val_loss: 11.0731 - val_mae: 2.2669\n",
            "Epoch 128/500\n",
            "323/323 [==============================] - 1s 2ms/step - loss: 3.6147 - mae: 1.2445 - val_loss: 11.3750 - val_mae: 2.2244\n",
            "Epoch 129/500\n",
            "323/323 [==============================] - 1s 2ms/step - loss: 3.3713 - mae: 1.2328 - val_loss: 11.0676 - val_mae: 2.2374\n",
            "Epoch 130/500\n",
            "323/323 [==============================] - 1s 2ms/step - loss: 3.3579 - mae: 1.2553 - val_loss: 11.5767 - val_mae: 2.1498\n",
            "Epoch 131/500\n",
            "323/323 [==============================] - 1s 2ms/step - loss: 3.2718 - mae: 1.2020 - val_loss: 11.6795 - val_mae: 2.3387\n",
            "Epoch 132/500\n",
            "323/323 [==============================] - 1s 2ms/step - loss: 3.0532 - mae: 1.1284 - val_loss: 11.7554 - val_mae: 2.2673\n",
            "Epoch 133/500\n",
            "323/323 [==============================] - 1s 2ms/step - loss: 3.2333 - mae: 1.1781 - val_loss: 10.7684 - val_mae: 2.1930\n",
            "Epoch 134/500\n",
            "323/323 [==============================] - 1s 2ms/step - loss: 3.0058 - mae: 1.2186 - val_loss: 11.5310 - val_mae: 2.2979\n",
            "Epoch 135/500\n",
            "323/323 [==============================] - 1s 2ms/step - loss: 3.1188 - mae: 1.1847 - val_loss: 11.7993 - val_mae: 2.2707\n",
            "Epoch 136/500\n",
            "323/323 [==============================] - 1s 2ms/step - loss: 3.0353 - mae: 1.1548 - val_loss: 11.6266 - val_mae: 2.0742\n",
            "Epoch 137/500\n",
            "323/323 [==============================] - 1s 2ms/step - loss: 2.9602 - mae: 1.1857 - val_loss: 10.7970 - val_mae: 2.2022\n",
            "Epoch 138/500\n",
            "323/323 [==============================] - 1s 2ms/step - loss: 2.8471 - mae: 1.1732 - val_loss: 10.2471 - val_mae: 2.1808\n",
            "Epoch 139/500\n",
            "323/323 [==============================] - 1s 2ms/step - loss: 2.9490 - mae: 1.1356 - val_loss: 11.2438 - val_mae: 2.2047\n",
            "Epoch 140/500\n",
            "323/323 [==============================] - 1s 2ms/step - loss: 3.0261 - mae: 1.1673 - val_loss: 11.1276 - val_mae: 2.3071\n",
            "Epoch 141/500\n",
            "323/323 [==============================] - 1s 2ms/step - loss: 3.2826 - mae: 1.2000 - val_loss: 12.0454 - val_mae: 2.3453\n",
            "Epoch 142/500\n",
            "323/323 [==============================] - 1s 2ms/step - loss: 2.8244 - mae: 1.1617 - val_loss: 11.4632 - val_mae: 2.2614\n",
            "Epoch 143/500\n",
            "323/323 [==============================] - 1s 2ms/step - loss: 3.1298 - mae: 1.1840 - val_loss: 10.5997 - val_mae: 2.2163\n",
            "Epoch 144/500\n",
            "323/323 [==============================] - 1s 2ms/step - loss: 2.7919 - mae: 1.1161 - val_loss: 12.9449 - val_mae: 2.4938\n",
            "Epoch 145/500\n",
            "323/323 [==============================] - 1s 2ms/step - loss: 2.9723 - mae: 1.1984 - val_loss: 12.3624 - val_mae: 2.4154\n",
            "Epoch 146/500\n",
            "323/323 [==============================] - 1s 2ms/step - loss: 2.9619 - mae: 1.1614 - val_loss: 11.2634 - val_mae: 2.3711\n",
            "Epoch 147/500\n",
            "323/323 [==============================] - 1s 2ms/step - loss: 3.0641 - mae: 1.1844 - val_loss: 13.6293 - val_mae: 2.5390\n",
            "Epoch 148/500\n",
            "323/323 [==============================] - 1s 2ms/step - loss: 2.9794 - mae: 1.1430 - val_loss: 11.9474 - val_mae: 2.4469\n",
            "Epoch 149/500\n",
            "323/323 [==============================] - 1s 2ms/step - loss: 2.7677 - mae: 1.1393 - val_loss: 11.0623 - val_mae: 2.2252\n",
            "Epoch 150/500\n",
            "323/323 [==============================] - 1s 2ms/step - loss: 2.7829 - mae: 1.1208 - val_loss: 11.5810 - val_mae: 2.3408\n",
            "Epoch 151/500\n",
            "323/323 [==============================] - 1s 2ms/step - loss: 3.0276 - mae: 1.1843 - val_loss: 11.9415 - val_mae: 2.4869\n",
            "Epoch 152/500\n",
            "323/323 [==============================] - 1s 2ms/step - loss: 2.6184 - mae: 1.1010 - val_loss: 11.1003 - val_mae: 2.3916\n",
            "Epoch 153/500\n",
            "323/323 [==============================] - 1s 2ms/step - loss: 2.6877 - mae: 1.1466 - val_loss: 11.5628 - val_mae: 2.3752\n",
            "Epoch 154/500\n",
            "323/323 [==============================] - 1s 2ms/step - loss: 2.7641 - mae: 1.1326 - val_loss: 13.2357 - val_mae: 2.6025\n",
            "Epoch 155/500\n",
            "323/323 [==============================] - 1s 2ms/step - loss: 2.8452 - mae: 1.1526 - val_loss: 11.2179 - val_mae: 2.2687\n",
            "Epoch 156/500\n",
            "323/323 [==============================] - 1s 2ms/step - loss: 2.9703 - mae: 1.1719 - val_loss: 10.7295 - val_mae: 2.2593\n",
            "Epoch 157/500\n",
            "323/323 [==============================] - 1s 2ms/step - loss: 2.9308 - mae: 1.1231 - val_loss: 10.5217 - val_mae: 2.2457\n",
            "Epoch 158/500\n",
            "323/323 [==============================] - 1s 2ms/step - loss: 2.6373 - mae: 1.1102 - val_loss: 11.4904 - val_mae: 2.3594\n",
            "Epoch 159/500\n",
            "323/323 [==============================] - 1s 2ms/step - loss: 2.4548 - mae: 1.1289 - val_loss: 11.3757 - val_mae: 2.3121\n",
            "Epoch 160/500\n",
            "323/323 [==============================] - 1s 2ms/step - loss: 2.6102 - mae: 1.1203 - val_loss: 11.8734 - val_mae: 2.3413\n",
            "Epoch 161/500\n",
            "323/323 [==============================] - 1s 2ms/step - loss: 2.7420 - mae: 1.1236 - val_loss: 11.3404 - val_mae: 2.2033\n",
            "Epoch 162/500\n",
            "323/323 [==============================] - 1s 2ms/step - loss: 2.6224 - mae: 1.0915 - val_loss: 10.1580 - val_mae: 2.2477\n",
            "Epoch 163/500\n",
            "323/323 [==============================] - 1s 2ms/step - loss: 2.4074 - mae: 1.0555 - val_loss: 12.1692 - val_mae: 2.4931\n",
            "Epoch 164/500\n",
            "323/323 [==============================] - 1s 2ms/step - loss: 2.6545 - mae: 1.0449 - val_loss: 11.7658 - val_mae: 2.3770\n",
            "Epoch 165/500\n",
            "323/323 [==============================] - 1s 2ms/step - loss: 2.7224 - mae: 1.1381 - val_loss: 12.1129 - val_mae: 2.4628\n",
            "Epoch 166/500\n",
            "323/323 [==============================] - 1s 2ms/step - loss: 2.7496 - mae: 1.0925 - val_loss: 11.8466 - val_mae: 2.2889\n",
            "Epoch 167/500\n",
            "323/323 [==============================] - 1s 2ms/step - loss: 2.6826 - mae: 1.1314 - val_loss: 11.6712 - val_mae: 2.3291\n",
            "Epoch 168/500\n",
            "323/323 [==============================] - 1s 2ms/step - loss: 2.5080 - mae: 1.0649 - val_loss: 11.0459 - val_mae: 2.2566\n",
            "Epoch 169/500\n",
            "323/323 [==============================] - 1s 2ms/step - loss: 2.4089 - mae: 1.0269 - val_loss: 11.2291 - val_mae: 2.3143\n",
            "Epoch 170/500\n",
            "323/323 [==============================] - 1s 2ms/step - loss: 2.3947 - mae: 1.0515 - val_loss: 11.0477 - val_mae: 2.2890\n",
            "Epoch 171/500\n",
            "323/323 [==============================] - 1s 2ms/step - loss: 2.5250 - mae: 1.1233 - val_loss: 12.2452 - val_mae: 2.4494\n",
            "Epoch 172/500\n",
            "323/323 [==============================] - 1s 2ms/step - loss: 2.4673 - mae: 1.1178 - val_loss: 11.6191 - val_mae: 2.4175\n",
            "Epoch 173/500\n",
            "323/323 [==============================] - 1s 2ms/step - loss: 2.4309 - mae: 1.0704 - val_loss: 10.9384 - val_mae: 2.2354\n",
            "Epoch 174/500\n",
            "323/323 [==============================] - 1s 2ms/step - loss: 2.4448 - mae: 1.0647 - val_loss: 12.2142 - val_mae: 2.5121\n",
            "Epoch 175/500\n",
            "323/323 [==============================] - 1s 2ms/step - loss: 2.6347 - mae: 1.1011 - val_loss: 11.4481 - val_mae: 2.4303\n",
            "Epoch 176/500\n",
            "323/323 [==============================] - 1s 2ms/step - loss: 2.4896 - mae: 1.0487 - val_loss: 12.5072 - val_mae: 2.4667\n",
            "Epoch 177/500\n",
            "323/323 [==============================] - 1s 2ms/step - loss: 2.3099 - mae: 1.0358 - val_loss: 11.6488 - val_mae: 2.2534\n",
            "Epoch 178/500\n",
            "323/323 [==============================] - 1s 2ms/step - loss: 2.5217 - mae: 1.0742 - val_loss: 11.0082 - val_mae: 2.2305\n",
            "Epoch 179/500\n",
            "323/323 [==============================] - 1s 2ms/step - loss: 2.3067 - mae: 1.0461 - val_loss: 10.9240 - val_mae: 2.2687\n",
            "Epoch 180/500\n",
            "323/323 [==============================] - 1s 2ms/step - loss: 2.3747 - mae: 1.0518 - val_loss: 11.5694 - val_mae: 2.3222\n",
            "Epoch 181/500\n",
            "323/323 [==============================] - 1s 2ms/step - loss: 2.3283 - mae: 1.0519 - val_loss: 10.8750 - val_mae: 2.2059\n",
            "Epoch 182/500\n",
            "323/323 [==============================] - 1s 2ms/step - loss: 2.3440 - mae: 1.0959 - val_loss: 10.7701 - val_mae: 2.2346\n",
            "Epoch 183/500\n",
            "323/323 [==============================] - 1s 2ms/step - loss: 2.2916 - mae: 1.0823 - val_loss: 13.3250 - val_mae: 2.5941\n",
            "Epoch 184/500\n",
            "323/323 [==============================] - 1s 2ms/step - loss: 2.5106 - mae: 1.1161 - val_loss: 11.2907 - val_mae: 2.3282\n",
            "Epoch 185/500\n",
            "323/323 [==============================] - 1s 2ms/step - loss: 2.5466 - mae: 1.0835 - val_loss: 11.5518 - val_mae: 2.2410\n",
            "Epoch 186/500\n",
            "323/323 [==============================] - 1s 2ms/step - loss: 2.3569 - mae: 1.1017 - val_loss: 10.8973 - val_mae: 2.2873\n",
            "Epoch 187/500\n",
            "323/323 [==============================] - 1s 2ms/step - loss: 2.3576 - mae: 1.0374 - val_loss: 10.5670 - val_mae: 2.2681\n",
            "Epoch 188/500\n",
            "323/323 [==============================] - 1s 2ms/step - loss: 2.4558 - mae: 1.1162 - val_loss: 11.1210 - val_mae: 2.3616\n",
            "Epoch 189/500\n",
            "323/323 [==============================] - 1s 2ms/step - loss: 2.1937 - mae: 1.0062 - val_loss: 11.1343 - val_mae: 2.3257\n",
            "Epoch 190/500\n",
            "323/323 [==============================] - 1s 2ms/step - loss: 2.3841 - mae: 1.0732 - val_loss: 11.3991 - val_mae: 2.4212\n",
            "Epoch 191/500\n",
            "323/323 [==============================] - 1s 2ms/step - loss: 2.1686 - mae: 1.0604 - val_loss: 11.9314 - val_mae: 2.4299\n",
            "Epoch 192/500\n",
            "323/323 [==============================] - 1s 2ms/step - loss: 2.2461 - mae: 1.0583 - val_loss: 11.2340 - val_mae: 2.3247\n",
            "Epoch 193/500\n",
            "323/323 [==============================] - 1s 2ms/step - loss: 2.0193 - mae: 1.0315 - val_loss: 10.8784 - val_mae: 2.3657\n",
            "Epoch 194/500\n",
            "323/323 [==============================] - 1s 2ms/step - loss: 2.3897 - mae: 1.0887 - val_loss: 11.0541 - val_mae: 2.2426\n",
            "Epoch 195/500\n",
            "323/323 [==============================] - 1s 3ms/step - loss: 2.2627 - mae: 1.0390 - val_loss: 11.7283 - val_mae: 2.3583\n",
            "Epoch 196/500\n",
            "323/323 [==============================] - 1s 4ms/step - loss: 2.0787 - mae: 0.9955 - val_loss: 11.3915 - val_mae: 2.4067\n",
            "Epoch 197/500\n",
            "323/323 [==============================] - 1s 4ms/step - loss: 2.1964 - mae: 1.0171 - val_loss: 12.1372 - val_mae: 2.3263\n",
            "Epoch 198/500\n",
            "323/323 [==============================] - 1s 4ms/step - loss: 2.3582 - mae: 1.0434 - val_loss: 11.0011 - val_mae: 2.3615\n",
            "Epoch 199/500\n",
            "323/323 [==============================] - 2s 5ms/step - loss: 2.2652 - mae: 1.0351 - val_loss: 11.7070 - val_mae: 2.4046\n",
            "Epoch 200/500\n",
            "323/323 [==============================] - 1s 4ms/step - loss: 2.2871 - mae: 1.0449 - val_loss: 11.6714 - val_mae: 2.4704\n",
            "Epoch 201/500\n",
            "323/323 [==============================] - 1s 3ms/step - loss: 2.2095 - mae: 1.0406 - val_loss: 12.6389 - val_mae: 2.5322\n",
            "Epoch 202/500\n",
            "323/323 [==============================] - 1s 3ms/step - loss: 2.1891 - mae: 1.0302 - val_loss: 11.4680 - val_mae: 2.3712\n",
            "Epoch 203/500\n",
            "323/323 [==============================] - 1s 4ms/step - loss: 2.1619 - mae: 1.0143 - val_loss: 12.9546 - val_mae: 2.4191\n",
            "Epoch 204/500\n",
            "323/323 [==============================] - 2s 5ms/step - loss: 2.1374 - mae: 1.0319 - val_loss: 11.2755 - val_mae: 2.3537\n",
            "Epoch 205/500\n",
            "323/323 [==============================] - 1s 2ms/step - loss: 2.1037 - mae: 0.9982 - val_loss: 11.1307 - val_mae: 2.4150\n",
            "Epoch 206/500\n",
            "323/323 [==============================] - 1s 2ms/step - loss: 2.0366 - mae: 1.0082 - val_loss: 12.5906 - val_mae: 2.4497\n",
            "Epoch 207/500\n",
            "323/323 [==============================] - 1s 2ms/step - loss: 2.1472 - mae: 0.9992 - val_loss: 10.9841 - val_mae: 2.2712\n",
            "Epoch 208/500\n",
            "323/323 [==============================] - 1s 2ms/step - loss: 1.9771 - mae: 1.0120 - val_loss: 13.5329 - val_mae: 2.5954\n",
            "Epoch 209/500\n",
            "323/323 [==============================] - 1s 2ms/step - loss: 2.2925 - mae: 1.0276 - val_loss: 11.7793 - val_mae: 2.3904\n",
            "Epoch 210/500\n",
            "323/323 [==============================] - 1s 2ms/step - loss: 2.2260 - mae: 1.0699 - val_loss: 11.9443 - val_mae: 2.3695\n",
            "Epoch 211/500\n",
            "323/323 [==============================] - 1s 2ms/step - loss: 2.1499 - mae: 1.0356 - val_loss: 11.9439 - val_mae: 2.4510\n",
            "Epoch 212/500\n",
            "323/323 [==============================] - 1s 2ms/step - loss: 2.1143 - mae: 1.0063 - val_loss: 12.6834 - val_mae: 2.4824\n",
            "Epoch 213/500\n",
            "323/323 [==============================] - 1s 2ms/step - loss: 2.2316 - mae: 1.0288 - val_loss: 11.7295 - val_mae: 2.3626\n",
            "Epoch 214/500\n",
            "323/323 [==============================] - 1s 2ms/step - loss: 2.0478 - mae: 1.0074 - val_loss: 12.0557 - val_mae: 2.4256\n",
            "Epoch 215/500\n",
            "323/323 [==============================] - 1s 2ms/step - loss: 2.0745 - mae: 0.9811 - val_loss: 12.4616 - val_mae: 2.3522\n",
            "Epoch 216/500\n",
            "323/323 [==============================] - 1s 2ms/step - loss: 2.0651 - mae: 1.0063 - val_loss: 11.4019 - val_mae: 2.4133\n",
            "Epoch 217/500\n",
            "323/323 [==============================] - 1s 2ms/step - loss: 2.0546 - mae: 1.0046 - val_loss: 10.5038 - val_mae: 2.3528\n",
            "Epoch 218/500\n",
            "323/323 [==============================] - 1s 2ms/step - loss: 2.0598 - mae: 0.9695 - val_loss: 10.0119 - val_mae: 2.2848\n",
            "Epoch 219/500\n",
            "323/323 [==============================] - 1s 2ms/step - loss: 1.9127 - mae: 0.9928 - val_loss: 11.3688 - val_mae: 2.3254\n",
            "Epoch 220/500\n",
            "323/323 [==============================] - 1s 2ms/step - loss: 2.0324 - mae: 0.9679 - val_loss: 11.6752 - val_mae: 2.4379\n",
            "Epoch 221/500\n",
            "323/323 [==============================] - 1s 2ms/step - loss: 1.9421 - mae: 0.9913 - val_loss: 13.1184 - val_mae: 2.5988\n",
            "Epoch 222/500\n",
            "323/323 [==============================] - 1s 2ms/step - loss: 2.0431 - mae: 1.0252 - val_loss: 11.2848 - val_mae: 2.3671\n",
            "Epoch 223/500\n",
            "323/323 [==============================] - 1s 2ms/step - loss: 2.0266 - mae: 1.0193 - val_loss: 11.4833 - val_mae: 2.4633\n",
            "Epoch 224/500\n",
            "323/323 [==============================] - 1s 2ms/step - loss: 1.8267 - mae: 0.9776 - val_loss: 11.6576 - val_mae: 2.4417\n",
            "Epoch 225/500\n",
            "323/323 [==============================] - 1s 2ms/step - loss: 1.8861 - mae: 0.9626 - val_loss: 11.3912 - val_mae: 2.3997\n",
            "Epoch 226/500\n",
            "323/323 [==============================] - 1s 2ms/step - loss: 1.8391 - mae: 0.9567 - val_loss: 11.5843 - val_mae: 2.3794\n",
            "Epoch 227/500\n",
            "323/323 [==============================] - 1s 2ms/step - loss: 1.9104 - mae: 1.0090 - val_loss: 12.6277 - val_mae: 2.5750\n",
            "Epoch 228/500\n",
            "323/323 [==============================] - 1s 2ms/step - loss: 1.9554 - mae: 1.0047 - val_loss: 11.3721 - val_mae: 2.3675\n",
            "Epoch 229/500\n",
            "323/323 [==============================] - 1s 2ms/step - loss: 1.8291 - mae: 0.9619 - val_loss: 12.0441 - val_mae: 2.4359\n",
            "Epoch 230/500\n",
            "323/323 [==============================] - 1s 2ms/step - loss: 1.8170 - mae: 0.9524 - val_loss: 11.6434 - val_mae: 2.3488\n",
            "Epoch 231/500\n",
            "323/323 [==============================] - 1s 2ms/step - loss: 1.7839 - mae: 0.9414 - val_loss: 11.7718 - val_mae: 2.4963\n",
            "Epoch 232/500\n",
            "323/323 [==============================] - 1s 2ms/step - loss: 1.8393 - mae: 0.9838 - val_loss: 12.1381 - val_mae: 2.4227\n",
            "Epoch 233/500\n",
            "323/323 [==============================] - 1s 2ms/step - loss: 1.8453 - mae: 0.9654 - val_loss: 11.5363 - val_mae: 2.4570\n",
            "Epoch 234/500\n",
            "323/323 [==============================] - 1s 2ms/step - loss: 1.7262 - mae: 0.9572 - val_loss: 12.5629 - val_mae: 2.5047\n",
            "Epoch 235/500\n",
            "323/323 [==============================] - 1s 2ms/step - loss: 1.9816 - mae: 0.9837 - val_loss: 12.1910 - val_mae: 2.3249\n",
            "Epoch 236/500\n",
            "323/323 [==============================] - 1s 3ms/step - loss: 1.8726 - mae: 0.9900 - val_loss: 10.7514 - val_mae: 2.2831\n",
            "Epoch 237/500\n",
            "323/323 [==============================] - 1s 3ms/step - loss: 1.7152 - mae: 0.9328 - val_loss: 10.7284 - val_mae: 2.3508\n",
            "Epoch 238/500\n",
            "323/323 [==============================] - 1s 2ms/step - loss: 1.9265 - mae: 1.0012 - val_loss: 12.0879 - val_mae: 2.4755\n",
            "Epoch 239/500\n",
            "323/323 [==============================] - 1s 3ms/step - loss: 2.0076 - mae: 1.0073 - val_loss: 10.7648 - val_mae: 2.3363\n",
            "Epoch 240/500\n",
            "323/323 [==============================] - 1s 3ms/step - loss: 1.7252 - mae: 0.9089 - val_loss: 11.4998 - val_mae: 2.4646\n",
            "Epoch 241/500\n",
            "323/323 [==============================] - 1s 3ms/step - loss: 1.6482 - mae: 0.9253 - val_loss: 12.8143 - val_mae: 2.4528\n",
            "Epoch 242/500\n",
            "323/323 [==============================] - 1s 2ms/step - loss: 1.6637 - mae: 0.9411 - val_loss: 11.6523 - val_mae: 2.4514\n",
            "Epoch 243/500\n",
            "323/323 [==============================] - 1s 2ms/step - loss: 1.7122 - mae: 0.9608 - val_loss: 12.1632 - val_mae: 2.4066\n",
            "Epoch 244/500\n",
            "323/323 [==============================] - 1s 3ms/step - loss: 1.8110 - mae: 0.9736 - val_loss: 12.2856 - val_mae: 2.4406\n",
            "Epoch 245/500\n",
            "323/323 [==============================] - 1s 4ms/step - loss: 1.6283 - mae: 0.9379 - val_loss: 14.2463 - val_mae: 2.7214\n",
            "Epoch 246/500\n",
            "323/323 [==============================] - 1s 4ms/step - loss: 1.7753 - mae: 0.9365 - val_loss: 11.1640 - val_mae: 2.2964\n",
            "Epoch 247/500\n",
            "323/323 [==============================] - 1s 3ms/step - loss: 1.6273 - mae: 0.9220 - val_loss: 11.2110 - val_mae: 2.3359\n",
            "Epoch 248/500\n",
            "323/323 [==============================] - 1s 3ms/step - loss: 1.6510 - mae: 0.8883 - val_loss: 11.6756 - val_mae: 2.4318\n",
            "Epoch 249/500\n",
            "323/323 [==============================] - 1s 3ms/step - loss: 1.6181 - mae: 0.9641 - val_loss: 11.9246 - val_mae: 2.4657\n",
            "Epoch 250/500\n",
            "323/323 [==============================] - 1s 3ms/step - loss: 1.6704 - mae: 0.9487 - val_loss: 12.6095 - val_mae: 2.5347\n",
            "Epoch 251/500\n",
            "323/323 [==============================] - 1s 3ms/step - loss: 1.7750 - mae: 0.9254 - val_loss: 10.9611 - val_mae: 2.3186\n",
            "Epoch 252/500\n",
            "323/323 [==============================] - 1s 2ms/step - loss: 1.6354 - mae: 0.9367 - val_loss: 12.4559 - val_mae: 2.3857\n",
            "Epoch 253/500\n",
            "323/323 [==============================] - 1s 2ms/step - loss: 1.7028 - mae: 0.9581 - val_loss: 11.8873 - val_mae: 2.3707\n",
            "Epoch 254/500\n",
            "323/323 [==============================] - 1s 2ms/step - loss: 1.6480 - mae: 0.9130 - val_loss: 12.2297 - val_mae: 2.3909\n",
            "Epoch 255/500\n",
            "323/323 [==============================] - 1s 2ms/step - loss: 1.6981 - mae: 0.9455 - val_loss: 12.3618 - val_mae: 2.6314\n",
            "Epoch 256/500\n",
            "323/323 [==============================] - 1s 2ms/step - loss: 1.6836 - mae: 0.9274 - val_loss: 14.4805 - val_mae: 2.5308\n",
            "Epoch 257/500\n",
            "323/323 [==============================] - 1s 2ms/step - loss: 1.8031 - mae: 0.9760 - val_loss: 12.3808 - val_mae: 2.5128\n",
            "Epoch 258/500\n",
            "323/323 [==============================] - 1s 2ms/step - loss: 1.8047 - mae: 0.9420 - val_loss: 11.8213 - val_mae: 2.4178\n",
            "Epoch 259/500\n",
            "323/323 [==============================] - 1s 2ms/step - loss: 1.6037 - mae: 0.9225 - val_loss: 13.1005 - val_mae: 2.4248\n",
            "Epoch 260/500\n",
            "323/323 [==============================] - 1s 2ms/step - loss: 1.4061 - mae: 0.8736 - val_loss: 12.1746 - val_mae: 2.3730\n",
            "Epoch 261/500\n",
            "323/323 [==============================] - 1s 2ms/step - loss: 1.6544 - mae: 0.9626 - val_loss: 11.6365 - val_mae: 2.3824\n",
            "Epoch 262/500\n",
            "323/323 [==============================] - 1s 2ms/step - loss: 1.6124 - mae: 0.9243 - val_loss: 12.9796 - val_mae: 2.5088\n",
            "Epoch 263/500\n",
            "323/323 [==============================] - 1s 2ms/step - loss: 1.4669 - mae: 0.8969 - val_loss: 11.6642 - val_mae: 2.3957\n",
            "Epoch 264/500\n",
            "323/323 [==============================] - 1s 2ms/step - loss: 1.6578 - mae: 0.8992 - val_loss: 13.7321 - val_mae: 2.7265\n",
            "Epoch 265/500\n",
            "323/323 [==============================] - 1s 2ms/step - loss: 1.6231 - mae: 0.9228 - val_loss: 13.5104 - val_mae: 2.5342\n",
            "Epoch 266/500\n",
            "323/323 [==============================] - 1s 2ms/step - loss: 1.7144 - mae: 0.9304 - val_loss: 12.2487 - val_mae: 2.3640\n",
            "Epoch 267/500\n",
            "323/323 [==============================] - 1s 2ms/step - loss: 1.6029 - mae: 0.8971 - val_loss: 13.3798 - val_mae: 2.5001\n",
            "Epoch 268/500\n",
            "323/323 [==============================] - 1s 2ms/step - loss: 1.5746 - mae: 0.9193 - val_loss: 12.3146 - val_mae: 2.4898\n",
            "Epoch 269/500\n",
            "323/323 [==============================] - 1s 2ms/step - loss: 1.5644 - mae: 0.9106 - val_loss: 12.2254 - val_mae: 2.3955\n",
            "Epoch 270/500\n",
            "323/323 [==============================] - 1s 2ms/step - loss: 1.4961 - mae: 0.9080 - val_loss: 13.8487 - val_mae: 2.5191\n",
            "Epoch 271/500\n",
            "323/323 [==============================] - 1s 2ms/step - loss: 1.4661 - mae: 0.8934 - val_loss: 13.2869 - val_mae: 2.4584\n",
            "Epoch 272/500\n",
            "323/323 [==============================] - 1s 2ms/step - loss: 1.5575 - mae: 0.9304 - val_loss: 12.6035 - val_mae: 2.5274\n",
            "Epoch 273/500\n",
            "323/323 [==============================] - 1s 2ms/step - loss: 1.4551 - mae: 0.8860 - val_loss: 12.4379 - val_mae: 2.5213\n",
            "Epoch 274/500\n",
            "323/323 [==============================] - 1s 2ms/step - loss: 1.4626 - mae: 0.8759 - val_loss: 13.3814 - val_mae: 2.5055\n",
            "Epoch 275/500\n",
            "323/323 [==============================] - 1s 2ms/step - loss: 1.3302 - mae: 0.8460 - val_loss: 15.2227 - val_mae: 2.6222\n",
            "Epoch 276/500\n",
            "323/323 [==============================] - 1s 2ms/step - loss: 1.4927 - mae: 0.9106 - val_loss: 12.0450 - val_mae: 2.4115\n",
            "Epoch 277/500\n",
            "323/323 [==============================] - 1s 2ms/step - loss: 1.7287 - mae: 0.9084 - val_loss: 13.1936 - val_mae: 2.5119\n",
            "Epoch 278/500\n",
            "323/323 [==============================] - 1s 2ms/step - loss: 1.4920 - mae: 0.8680 - val_loss: 12.3997 - val_mae: 2.4255\n",
            "Epoch 279/500\n",
            "323/323 [==============================] - 1s 2ms/step - loss: 1.4922 - mae: 0.9031 - val_loss: 13.9796 - val_mae: 2.5131\n",
            "Epoch 280/500\n",
            "323/323 [==============================] - 1s 2ms/step - loss: 1.4931 - mae: 0.8698 - val_loss: 13.4095 - val_mae: 2.5206\n",
            "Epoch 281/500\n",
            "323/323 [==============================] - 1s 2ms/step - loss: 1.6539 - mae: 0.9240 - val_loss: 13.6844 - val_mae: 2.5800\n",
            "Epoch 282/500\n",
            "323/323 [==============================] - 1s 2ms/step - loss: 1.5953 - mae: 0.9315 - val_loss: 13.3588 - val_mae: 2.5295\n",
            "Epoch 283/500\n",
            "323/323 [==============================] - 1s 2ms/step - loss: 1.5211 - mae: 0.8980 - val_loss: 14.3290 - val_mae: 2.5332\n",
            "Epoch 284/500\n",
            "323/323 [==============================] - 1s 2ms/step - loss: 1.5556 - mae: 0.9136 - val_loss: 13.4121 - val_mae: 2.5511\n",
            "Epoch 285/500\n",
            "323/323 [==============================] - 1s 2ms/step - loss: 1.4002 - mae: 0.8627 - val_loss: 13.0392 - val_mae: 2.5323\n",
            "Epoch 286/500\n",
            "323/323 [==============================] - 1s 2ms/step - loss: 1.5922 - mae: 0.9001 - val_loss: 15.2276 - val_mae: 2.5661\n",
            "Epoch 287/500\n",
            "323/323 [==============================] - 1s 2ms/step - loss: 1.4913 - mae: 0.8631 - val_loss: 13.6152 - val_mae: 2.5245\n",
            "Epoch 288/500\n",
            "323/323 [==============================] - 1s 2ms/step - loss: 1.5163 - mae: 0.9147 - val_loss: 13.5811 - val_mae: 2.5316\n",
            "Epoch 289/500\n",
            "323/323 [==============================] - 1s 2ms/step - loss: 1.4976 - mae: 0.8942 - val_loss: 14.0851 - val_mae: 2.5710\n",
            "Epoch 290/500\n",
            "323/323 [==============================] - 1s 2ms/step - loss: 1.3453 - mae: 0.8391 - val_loss: 13.4212 - val_mae: 2.5261\n",
            "Epoch 291/500\n",
            "323/323 [==============================] - 1s 2ms/step - loss: 1.4689 - mae: 0.8876 - val_loss: 13.8734 - val_mae: 2.6032\n",
            "Epoch 292/500\n",
            "323/323 [==============================] - 1s 2ms/step - loss: 1.4986 - mae: 0.8829 - val_loss: 13.8085 - val_mae: 2.4453\n",
            "Epoch 293/500\n",
            "323/323 [==============================] - 1s 2ms/step - loss: 1.4328 - mae: 0.8809 - val_loss: 13.7323 - val_mae: 2.5198\n",
            "Epoch 294/500\n",
            "323/323 [==============================] - 1s 2ms/step - loss: 1.4714 - mae: 0.8926 - val_loss: 13.6404 - val_mae: 2.5320\n",
            "Epoch 295/500\n",
            "323/323 [==============================] - 1s 2ms/step - loss: 1.3601 - mae: 0.8445 - val_loss: 14.0623 - val_mae: 2.5189\n",
            "Epoch 296/500\n",
            "323/323 [==============================] - 1s 2ms/step - loss: 1.2741 - mae: 0.8310 - val_loss: 14.7290 - val_mae: 2.4619\n",
            "Epoch 297/500\n",
            "323/323 [==============================] - 1s 2ms/step - loss: 1.6187 - mae: 0.9076 - val_loss: 14.4830 - val_mae: 2.5174\n",
            "Epoch 298/500\n",
            "323/323 [==============================] - 1s 2ms/step - loss: 1.3483 - mae: 0.8486 - val_loss: 13.5346 - val_mae: 2.3251\n",
            "Epoch 299/500\n",
            "323/323 [==============================] - 1s 2ms/step - loss: 1.3890 - mae: 0.8719 - val_loss: 15.9007 - val_mae: 2.6889\n",
            "Epoch 300/500\n",
            "323/323 [==============================] - 1s 2ms/step - loss: 1.3808 - mae: 0.8350 - val_loss: 13.9014 - val_mae: 2.5731\n",
            "Epoch 301/500\n",
            "323/323 [==============================] - 1s 2ms/step - loss: 1.3683 - mae: 0.8744 - val_loss: 14.0960 - val_mae: 2.5318\n",
            "Epoch 302/500\n",
            "323/323 [==============================] - 1s 2ms/step - loss: 1.3596 - mae: 0.8361 - val_loss: 14.3628 - val_mae: 2.6524\n",
            "Epoch 303/500\n",
            "323/323 [==============================] - 1s 2ms/step - loss: 1.4058 - mae: 0.8863 - val_loss: 15.4813 - val_mae: 2.5701\n",
            "Epoch 304/500\n",
            "323/323 [==============================] - 1s 2ms/step - loss: 1.4753 - mae: 0.8831 - val_loss: 15.3747 - val_mae: 2.6301\n",
            "Epoch 305/500\n",
            "323/323 [==============================] - 1s 2ms/step - loss: 1.3291 - mae: 0.8603 - val_loss: 13.4772 - val_mae: 2.5381\n",
            "Epoch 306/500\n",
            "323/323 [==============================] - 1s 2ms/step - loss: 1.3273 - mae: 0.8545 - val_loss: 13.3868 - val_mae: 2.5137\n",
            "Epoch 307/500\n",
            "323/323 [==============================] - 1s 2ms/step - loss: 1.4747 - mae: 0.8603 - val_loss: 13.0753 - val_mae: 2.4807\n",
            "Epoch 308/500\n",
            "323/323 [==============================] - 1s 2ms/step - loss: 1.3694 - mae: 0.8365 - val_loss: 12.5142 - val_mae: 2.3520\n",
            "Epoch 309/500\n",
            "323/323 [==============================] - 1s 2ms/step - loss: 1.3384 - mae: 0.8645 - val_loss: 12.6337 - val_mae: 2.4324\n",
            "Epoch 310/500\n",
            "323/323 [==============================] - 1s 2ms/step - loss: 1.3819 - mae: 0.8369 - val_loss: 14.4879 - val_mae: 2.6550\n",
            "Epoch 311/500\n",
            "323/323 [==============================] - 1s 2ms/step - loss: 1.1854 - mae: 0.8042 - val_loss: 12.6366 - val_mae: 2.4791\n",
            "Epoch 312/500\n",
            "323/323 [==============================] - 1s 2ms/step - loss: 1.3985 - mae: 0.8676 - val_loss: 14.0978 - val_mae: 2.6125\n",
            "Epoch 313/500\n",
            "323/323 [==============================] - 1s 2ms/step - loss: 1.3696 - mae: 0.8182 - val_loss: 13.1367 - val_mae: 2.4302\n",
            "Epoch 314/500\n",
            "323/323 [==============================] - 1s 2ms/step - loss: 1.2414 - mae: 0.7868 - val_loss: 11.9793 - val_mae: 2.4103\n",
            "Epoch 315/500\n",
            "323/323 [==============================] - 1s 2ms/step - loss: 1.2822 - mae: 0.8562 - val_loss: 12.5966 - val_mae: 2.4525\n",
            "Epoch 316/500\n",
            "323/323 [==============================] - 1s 2ms/step - loss: 1.2537 - mae: 0.8203 - val_loss: 12.2374 - val_mae: 2.4951\n",
            "Epoch 317/500\n",
            "323/323 [==============================] - 1s 2ms/step - loss: 1.3198 - mae: 0.8384 - val_loss: 13.5864 - val_mae: 2.4849\n",
            "Epoch 318/500\n",
            "323/323 [==============================] - 1s 2ms/step - loss: 1.1619 - mae: 0.7998 - val_loss: 13.6000 - val_mae: 2.5971\n",
            "Epoch 319/500\n",
            "323/323 [==============================] - 1s 2ms/step - loss: 1.3740 - mae: 0.8369 - val_loss: 13.9483 - val_mae: 2.5840\n",
            "Epoch 320/500\n",
            "323/323 [==============================] - 1s 2ms/step - loss: 1.3101 - mae: 0.8231 - val_loss: 12.0947 - val_mae: 2.4043\n",
            "Epoch 321/500\n",
            "323/323 [==============================] - 1s 2ms/step - loss: 1.2245 - mae: 0.8015 - val_loss: 14.5347 - val_mae: 2.6070\n",
            "Epoch 322/500\n",
            "323/323 [==============================] - 1s 2ms/step - loss: 1.1703 - mae: 0.7963 - val_loss: 13.7367 - val_mae: 2.4267\n",
            "Epoch 323/500\n",
            "323/323 [==============================] - 1s 2ms/step - loss: 1.2094 - mae: 0.7813 - val_loss: 13.0901 - val_mae: 2.4289\n",
            "Epoch 324/500\n",
            "323/323 [==============================] - 1s 2ms/step - loss: 1.2091 - mae: 0.8456 - val_loss: 13.4824 - val_mae: 2.5320\n",
            "Epoch 325/500\n",
            "323/323 [==============================] - 1s 2ms/step - loss: 1.2883 - mae: 0.8367 - val_loss: 12.8923 - val_mae: 2.3946\n",
            "Epoch 326/500\n",
            "323/323 [==============================] - 1s 2ms/step - loss: 1.2262 - mae: 0.8140 - val_loss: 12.0558 - val_mae: 2.3718\n",
            "Epoch 327/500\n",
            "323/323 [==============================] - 1s 2ms/step - loss: 1.4144 - mae: 0.8635 - val_loss: 12.5393 - val_mae: 2.4825\n",
            "Epoch 328/500\n",
            "323/323 [==============================] - 1s 2ms/step - loss: 1.1270 - mae: 0.7977 - val_loss: 13.3879 - val_mae: 2.4589\n",
            "Epoch 329/500\n",
            "323/323 [==============================] - 1s 2ms/step - loss: 1.2283 - mae: 0.7913 - val_loss: 14.1528 - val_mae: 2.4752\n",
            "Epoch 330/500\n",
            "323/323 [==============================] - 1s 2ms/step - loss: 1.3211 - mae: 0.8376 - val_loss: 12.8337 - val_mae: 2.4174\n",
            "Epoch 331/500\n",
            "323/323 [==============================] - 1s 2ms/step - loss: 1.2458 - mae: 0.8152 - val_loss: 12.2725 - val_mae: 2.3599\n",
            "Epoch 332/500\n",
            "323/323 [==============================] - 1s 2ms/step - loss: 1.1412 - mae: 0.8016 - val_loss: 14.2565 - val_mae: 2.5675\n",
            "Epoch 333/500\n",
            "323/323 [==============================] - 1s 2ms/step - loss: 1.1953 - mae: 0.7684 - val_loss: 13.9167 - val_mae: 2.4861\n",
            "Epoch 334/500\n",
            "323/323 [==============================] - 1s 2ms/step - loss: 1.2203 - mae: 0.8014 - val_loss: 13.1271 - val_mae: 2.5256\n",
            "Epoch 335/500\n",
            "323/323 [==============================] - 1s 2ms/step - loss: 1.2847 - mae: 0.8281 - val_loss: 13.5054 - val_mae: 2.5291\n",
            "Epoch 336/500\n",
            "323/323 [==============================] - 1s 2ms/step - loss: 1.1607 - mae: 0.7751 - val_loss: 13.8206 - val_mae: 2.4919\n",
            "Epoch 337/500\n",
            "323/323 [==============================] - 1s 2ms/step - loss: 1.1631 - mae: 0.7964 - val_loss: 15.3603 - val_mae: 2.5638\n",
            "Epoch 338/500\n",
            "323/323 [==============================] - 1s 2ms/step - loss: 1.2260 - mae: 0.8428 - val_loss: 14.0591 - val_mae: 2.6656\n",
            "Epoch 339/500\n",
            "323/323 [==============================] - 1s 2ms/step - loss: 1.0284 - mae: 0.7295 - val_loss: 14.0877 - val_mae: 2.4837\n",
            "Epoch 340/500\n",
            "323/323 [==============================] - 1s 2ms/step - loss: 1.2291 - mae: 0.8213 - val_loss: 13.1805 - val_mae: 2.5044\n",
            "Epoch 341/500\n",
            "323/323 [==============================] - 1s 2ms/step - loss: 1.1653 - mae: 0.8127 - val_loss: 13.2417 - val_mae: 2.4206\n",
            "Epoch 342/500\n",
            "323/323 [==============================] - 1s 2ms/step - loss: 1.1922 - mae: 0.8045 - val_loss: 15.0657 - val_mae: 2.6677\n",
            "Epoch 343/500\n",
            "323/323 [==============================] - 1s 2ms/step - loss: 1.3123 - mae: 0.8375 - val_loss: 12.9752 - val_mae: 2.5507\n",
            "Epoch 344/500\n",
            "323/323 [==============================] - 1s 2ms/step - loss: 1.2280 - mae: 0.7961 - val_loss: 13.3947 - val_mae: 2.4049\n",
            "Epoch 345/500\n",
            "323/323 [==============================] - 1s 2ms/step - loss: 0.9845 - mae: 0.7220 - val_loss: 13.0179 - val_mae: 2.4968\n",
            "Epoch 346/500\n",
            "323/323 [==============================] - 1s 2ms/step - loss: 1.1334 - mae: 0.7857 - val_loss: 14.0911 - val_mae: 2.5539\n",
            "Epoch 347/500\n",
            "323/323 [==============================] - 1s 2ms/step - loss: 1.0940 - mae: 0.7732 - val_loss: 14.2293 - val_mae: 2.4863\n",
            "Epoch 348/500\n",
            "323/323 [==============================] - 1s 2ms/step - loss: 1.1334 - mae: 0.7824 - val_loss: 14.5245 - val_mae: 2.5637\n",
            "Epoch 349/500\n",
            "323/323 [==============================] - 1s 2ms/step - loss: 1.1140 - mae: 0.7603 - val_loss: 14.4646 - val_mae: 2.6143\n",
            "Epoch 350/500\n",
            "323/323 [==============================] - 1s 2ms/step - loss: 1.1228 - mae: 0.7786 - val_loss: 13.7157 - val_mae: 2.4439\n",
            "Epoch 351/500\n",
            "323/323 [==============================] - 1s 2ms/step - loss: 1.1328 - mae: 0.7966 - val_loss: 13.3041 - val_mae: 2.5168\n",
            "Epoch 352/500\n",
            "323/323 [==============================] - 1s 2ms/step - loss: 1.1838 - mae: 0.8158 - val_loss: 14.7751 - val_mae: 2.5488\n",
            "Epoch 353/500\n",
            "323/323 [==============================] - 1s 2ms/step - loss: 1.1173 - mae: 0.7799 - val_loss: 13.8850 - val_mae: 2.5708\n",
            "Epoch 354/500\n",
            "323/323 [==============================] - 1s 2ms/step - loss: 1.0589 - mae: 0.7490 - val_loss: 14.3607 - val_mae: 2.5694\n",
            "Epoch 355/500\n",
            "323/323 [==============================] - 1s 2ms/step - loss: 1.1388 - mae: 0.7737 - val_loss: 13.6537 - val_mae: 2.5532\n",
            "Epoch 356/500\n",
            "323/323 [==============================] - 1s 2ms/step - loss: 1.1600 - mae: 0.7990 - val_loss: 14.6320 - val_mae: 2.4880\n",
            "Epoch 357/500\n",
            "323/323 [==============================] - 1s 2ms/step - loss: 1.1939 - mae: 0.7944 - val_loss: 13.8863 - val_mae: 2.5512\n",
            "Epoch 358/500\n",
            "323/323 [==============================] - 1s 2ms/step - loss: 1.2476 - mae: 0.8219 - val_loss: 13.9984 - val_mae: 2.4352\n",
            "Epoch 359/500\n",
            "323/323 [==============================] - 1s 2ms/step - loss: 1.1309 - mae: 0.7879 - val_loss: 13.3525 - val_mae: 2.5466\n",
            "Epoch 360/500\n",
            "323/323 [==============================] - 1s 2ms/step - loss: 1.1139 - mae: 0.8097 - val_loss: 13.5268 - val_mae: 2.5076\n",
            "Epoch 361/500\n",
            "323/323 [==============================] - 1s 2ms/step - loss: 1.0741 - mae: 0.7429 - val_loss: 12.7221 - val_mae: 2.4785\n",
            "Epoch 362/500\n",
            "323/323 [==============================] - 1s 2ms/step - loss: 0.9943 - mae: 0.7478 - val_loss: 13.1594 - val_mae: 2.4945\n",
            "Epoch 363/500\n",
            "323/323 [==============================] - 1s 2ms/step - loss: 0.9943 - mae: 0.7250 - val_loss: 15.9728 - val_mae: 2.7251\n",
            "Epoch 364/500\n",
            "323/323 [==============================] - 1s 2ms/step - loss: 1.1298 - mae: 0.7936 - val_loss: 13.8130 - val_mae: 2.5857\n",
            "Epoch 365/500\n",
            "323/323 [==============================] - 1s 2ms/step - loss: 1.1467 - mae: 0.7885 - val_loss: 12.6737 - val_mae: 2.4813\n",
            "Epoch 366/500\n",
            "323/323 [==============================] - 1s 2ms/step - loss: 1.0558 - mae: 0.7921 - val_loss: 12.1385 - val_mae: 2.4541\n",
            "Epoch 367/500\n",
            "323/323 [==============================] - 1s 2ms/step - loss: 1.0980 - mae: 0.7670 - val_loss: 13.3104 - val_mae: 2.4127\n",
            "Epoch 368/500\n",
            "323/323 [==============================] - 1s 2ms/step - loss: 1.1329 - mae: 0.8066 - val_loss: 13.3744 - val_mae: 2.4450\n",
            "Epoch 369/500\n",
            "323/323 [==============================] - 1s 2ms/step - loss: 0.9388 - mae: 0.7372 - val_loss: 14.4233 - val_mae: 2.6112\n",
            "Epoch 370/500\n",
            "323/323 [==============================] - 1s 2ms/step - loss: 1.1313 - mae: 0.7819 - val_loss: 13.1884 - val_mae: 2.5276\n",
            "Epoch 371/500\n",
            "323/323 [==============================] - 1s 2ms/step - loss: 1.1159 - mae: 0.7781 - val_loss: 13.1065 - val_mae: 2.5600\n",
            "Epoch 372/500\n",
            "323/323 [==============================] - 1s 2ms/step - loss: 1.1691 - mae: 0.7713 - val_loss: 14.2755 - val_mae: 2.5351\n",
            "Epoch 373/500\n",
            "323/323 [==============================] - 1s 2ms/step - loss: 0.9899 - mae: 0.7050 - val_loss: 13.2852 - val_mae: 2.4642\n",
            "Epoch 374/500\n",
            "323/323 [==============================] - 1s 2ms/step - loss: 1.0518 - mae: 0.7497 - val_loss: 12.6330 - val_mae: 2.3738\n",
            "Epoch 375/500\n",
            "323/323 [==============================] - 1s 2ms/step - loss: 1.1014 - mae: 0.7624 - val_loss: 13.8084 - val_mae: 2.5740\n",
            "Epoch 376/500\n",
            "323/323 [==============================] - 1s 2ms/step - loss: 1.0209 - mae: 0.7276 - val_loss: 13.6862 - val_mae: 2.5287\n",
            "Epoch 377/500\n",
            "323/323 [==============================] - 1s 2ms/step - loss: 1.1531 - mae: 0.7826 - val_loss: 14.1606 - val_mae: 2.3878\n",
            "Epoch 378/500\n",
            "323/323 [==============================] - 1s 2ms/step - loss: 1.1061 - mae: 0.7798 - val_loss: 13.5350 - val_mae: 2.4847\n",
            "Epoch 379/500\n",
            "323/323 [==============================] - 1s 2ms/step - loss: 1.0563 - mae: 0.7495 - val_loss: 13.0891 - val_mae: 2.5070\n",
            "Epoch 380/500\n",
            "323/323 [==============================] - 1s 2ms/step - loss: 1.1252 - mae: 0.7853 - val_loss: 13.9485 - val_mae: 2.5373\n",
            "Epoch 381/500\n",
            "323/323 [==============================] - 1s 2ms/step - loss: 1.0284 - mae: 0.7284 - val_loss: 12.5901 - val_mae: 2.4007\n",
            "Epoch 382/500\n",
            "323/323 [==============================] - 1s 2ms/step - loss: 1.0349 - mae: 0.7573 - val_loss: 13.1827 - val_mae: 2.3776\n",
            "Epoch 383/500\n",
            "323/323 [==============================] - 1s 2ms/step - loss: 1.2171 - mae: 0.7857 - val_loss: 12.4999 - val_mae: 2.4447\n",
            "Epoch 384/500\n",
            "323/323 [==============================] - 1s 2ms/step - loss: 1.0560 - mae: 0.7399 - val_loss: 13.8010 - val_mae: 2.5265\n",
            "Epoch 385/500\n",
            "323/323 [==============================] - 1s 2ms/step - loss: 1.0361 - mae: 0.7317 - val_loss: 12.9866 - val_mae: 2.4819\n",
            "Epoch 386/500\n",
            "323/323 [==============================] - 1s 2ms/step - loss: 0.9919 - mae: 0.7384 - val_loss: 13.8423 - val_mae: 2.5369\n",
            "Epoch 387/500\n",
            "323/323 [==============================] - 1s 2ms/step - loss: 1.0174 - mae: 0.7453 - val_loss: 12.6673 - val_mae: 2.4738\n",
            "Epoch 388/500\n",
            "323/323 [==============================] - 1s 2ms/step - loss: 0.9785 - mae: 0.7559 - val_loss: 14.3220 - val_mae: 2.5637\n",
            "Epoch 389/500\n",
            "323/323 [==============================] - 1s 2ms/step - loss: 1.1084 - mae: 0.7476 - val_loss: 13.1579 - val_mae: 2.4824\n",
            "Epoch 390/500\n",
            "323/323 [==============================] - 1s 2ms/step - loss: 0.8648 - mae: 0.7094 - val_loss: 13.1388 - val_mae: 2.4719\n",
            "Epoch 391/500\n",
            "323/323 [==============================] - 1s 2ms/step - loss: 0.9655 - mae: 0.7346 - val_loss: 15.3473 - val_mae: 2.6461\n",
            "Epoch 392/500\n",
            "323/323 [==============================] - 1s 2ms/step - loss: 0.9748 - mae: 0.7142 - val_loss: 15.0078 - val_mae: 2.5893\n",
            "Epoch 393/500\n",
            "323/323 [==============================] - 1s 3ms/step - loss: 1.0390 - mae: 0.7376 - val_loss: 14.3393 - val_mae: 2.4556\n",
            "Epoch 394/500\n",
            "323/323 [==============================] - 1s 2ms/step - loss: 1.1037 - mae: 0.7597 - val_loss: 13.7527 - val_mae: 2.4352\n",
            "Epoch 395/500\n",
            "323/323 [==============================] - 1s 2ms/step - loss: 0.9579 - mae: 0.7341 - val_loss: 12.7436 - val_mae: 2.4291\n",
            "Epoch 396/500\n",
            "323/323 [==============================] - 1s 2ms/step - loss: 1.1940 - mae: 0.8125 - val_loss: 13.6004 - val_mae: 2.6052\n",
            "Epoch 397/500\n",
            "323/323 [==============================] - 1s 2ms/step - loss: 1.0480 - mae: 0.7547 - val_loss: 14.0144 - val_mae: 2.5374\n",
            "Epoch 398/500\n",
            "323/323 [==============================] - 1s 2ms/step - loss: 0.9523 - mae: 0.7195 - val_loss: 14.0709 - val_mae: 2.5770\n",
            "Epoch 399/500\n",
            "323/323 [==============================] - 1s 2ms/step - loss: 1.0257 - mae: 0.7298 - val_loss: 14.4127 - val_mae: 2.5960\n",
            "Epoch 400/500\n",
            "323/323 [==============================] - 1s 2ms/step - loss: 0.9209 - mae: 0.7307 - val_loss: 13.3223 - val_mae: 2.4490\n",
            "Epoch 401/500\n",
            "323/323 [==============================] - 1s 2ms/step - loss: 0.9638 - mae: 0.7257 - val_loss: 13.5348 - val_mae: 2.4673\n",
            "Epoch 402/500\n",
            "323/323 [==============================] - 1s 2ms/step - loss: 0.9682 - mae: 0.7297 - val_loss: 13.3578 - val_mae: 2.5186\n",
            "Epoch 403/500\n",
            "323/323 [==============================] - 1s 2ms/step - loss: 1.0077 - mae: 0.7297 - val_loss: 13.9155 - val_mae: 2.5069\n",
            "Epoch 404/500\n",
            "323/323 [==============================] - 1s 2ms/step - loss: 1.0953 - mae: 0.7622 - val_loss: 12.8830 - val_mae: 2.4636\n",
            "Epoch 405/500\n",
            "323/323 [==============================] - 1s 2ms/step - loss: 0.9974 - mae: 0.7375 - val_loss: 14.0121 - val_mae: 2.4747\n",
            "Epoch 406/500\n",
            "323/323 [==============================] - 1s 2ms/step - loss: 0.9447 - mae: 0.7227 - val_loss: 14.5103 - val_mae: 2.6621\n",
            "Epoch 407/500\n",
            "323/323 [==============================] - 1s 2ms/step - loss: 1.1245 - mae: 0.7679 - val_loss: 13.8957 - val_mae: 2.5188\n",
            "Epoch 408/500\n",
            "323/323 [==============================] - 1s 2ms/step - loss: 0.9258 - mae: 0.7199 - val_loss: 14.9129 - val_mae: 2.6669\n",
            "Epoch 409/500\n",
            "323/323 [==============================] - 1s 2ms/step - loss: 0.9103 - mae: 0.7401 - val_loss: 15.6986 - val_mae: 2.6264\n",
            "Epoch 410/500\n",
            "323/323 [==============================] - 1s 2ms/step - loss: 1.0762 - mae: 0.7609 - val_loss: 13.6749 - val_mae: 2.4734\n",
            "Epoch 411/500\n",
            "323/323 [==============================] - 1s 2ms/step - loss: 1.0361 - mae: 0.7651 - val_loss: 13.5925 - val_mae: 2.4883\n",
            "Epoch 412/500\n",
            "323/323 [==============================] - 1s 2ms/step - loss: 0.9396 - mae: 0.7279 - val_loss: 13.2075 - val_mae: 2.3875\n",
            "Epoch 413/500\n",
            "323/323 [==============================] - 1s 2ms/step - loss: 0.9623 - mae: 0.7264 - val_loss: 14.0673 - val_mae: 2.4873\n",
            "Epoch 414/500\n",
            "323/323 [==============================] - 1s 2ms/step - loss: 0.8927 - mae: 0.7198 - val_loss: 12.8447 - val_mae: 2.3945\n",
            "Epoch 415/500\n",
            "323/323 [==============================] - 1s 2ms/step - loss: 0.9891 - mae: 0.7304 - val_loss: 13.7210 - val_mae: 2.4524\n",
            "Epoch 416/500\n",
            "323/323 [==============================] - 1s 2ms/step - loss: 0.9901 - mae: 0.7171 - val_loss: 14.8400 - val_mae: 2.6180\n",
            "Epoch 417/500\n",
            "323/323 [==============================] - 1s 2ms/step - loss: 0.9296 - mae: 0.7209 - val_loss: 13.7675 - val_mae: 2.4806\n",
            "Epoch 418/500\n",
            "323/323 [==============================] - 1s 2ms/step - loss: 1.0319 - mae: 0.7132 - val_loss: 14.5854 - val_mae: 2.6221\n",
            "Epoch 419/500\n",
            "323/323 [==============================] - 1s 2ms/step - loss: 0.9461 - mae: 0.7134 - val_loss: 14.2261 - val_mae: 2.4768\n",
            "Epoch 420/500\n",
            "323/323 [==============================] - 1s 2ms/step - loss: 1.0278 - mae: 0.7660 - val_loss: 13.6822 - val_mae: 2.4465\n",
            "Epoch 421/500\n",
            "323/323 [==============================] - 1s 2ms/step - loss: 0.9284 - mae: 0.7073 - val_loss: 13.4047 - val_mae: 2.5089\n",
            "Epoch 422/500\n",
            "323/323 [==============================] - 1s 2ms/step - loss: 1.0247 - mae: 0.7316 - val_loss: 14.3572 - val_mae: 2.6147\n",
            "Epoch 423/500\n",
            "323/323 [==============================] - 1s 2ms/step - loss: 0.9896 - mae: 0.7344 - val_loss: 14.3332 - val_mae: 2.6255\n",
            "Epoch 424/500\n",
            "323/323 [==============================] - 1s 2ms/step - loss: 0.8991 - mae: 0.7336 - val_loss: 13.4277 - val_mae: 2.4899\n",
            "Epoch 425/500\n",
            "323/323 [==============================] - 1s 2ms/step - loss: 0.8641 - mae: 0.7047 - val_loss: 14.9514 - val_mae: 2.5265\n",
            "Epoch 426/500\n",
            "323/323 [==============================] - 1s 2ms/step - loss: 0.9637 - mae: 0.7040 - val_loss: 13.6925 - val_mae: 2.5322\n",
            "Epoch 427/500\n",
            "323/323 [==============================] - 1s 2ms/step - loss: 1.0145 - mae: 0.7422 - val_loss: 14.3947 - val_mae: 2.5944\n",
            "Epoch 428/500\n",
            "323/323 [==============================] - 1s 2ms/step - loss: 1.0536 - mae: 0.7088 - val_loss: 13.1752 - val_mae: 2.4748\n",
            "Epoch 429/500\n",
            "323/323 [==============================] - 1s 2ms/step - loss: 0.8646 - mae: 0.6647 - val_loss: 13.7639 - val_mae: 2.5141\n",
            "Epoch 430/500\n",
            "323/323 [==============================] - 1s 2ms/step - loss: 1.0525 - mae: 0.7309 - val_loss: 14.6132 - val_mae: 2.5094\n",
            "Epoch 431/500\n",
            "323/323 [==============================] - 1s 2ms/step - loss: 0.9595 - mae: 0.6858 - val_loss: 14.1593 - val_mae: 2.5553\n",
            "Epoch 432/500\n",
            "323/323 [==============================] - 1s 2ms/step - loss: 1.0047 - mae: 0.7212 - val_loss: 14.2175 - val_mae: 2.5194\n",
            "Epoch 433/500\n",
            "323/323 [==============================] - 1s 2ms/step - loss: 0.9184 - mae: 0.6972 - val_loss: 15.2430 - val_mae: 2.6234\n",
            "Epoch 434/500\n",
            "323/323 [==============================] - 1s 2ms/step - loss: 0.9177 - mae: 0.6940 - val_loss: 13.1452 - val_mae: 2.4973\n",
            "Epoch 435/500\n",
            "323/323 [==============================] - 1s 2ms/step - loss: 0.8954 - mae: 0.7009 - val_loss: 13.8093 - val_mae: 2.4628\n",
            "Epoch 436/500\n",
            "323/323 [==============================] - 1s 2ms/step - loss: 0.9247 - mae: 0.7055 - val_loss: 13.5360 - val_mae: 2.5229\n",
            "Epoch 437/500\n",
            "323/323 [==============================] - 1s 2ms/step - loss: 0.9780 - mae: 0.7151 - val_loss: 13.6833 - val_mae: 2.5998\n",
            "Epoch 438/500\n",
            "323/323 [==============================] - 1s 2ms/step - loss: 0.9300 - mae: 0.7110 - val_loss: 14.6760 - val_mae: 2.6362\n",
            "Epoch 439/500\n",
            "323/323 [==============================] - 1s 2ms/step - loss: 1.0101 - mae: 0.7135 - val_loss: 13.7564 - val_mae: 2.5215\n",
            "Epoch 440/500\n",
            "323/323 [==============================] - 1s 2ms/step - loss: 0.8163 - mae: 0.6513 - val_loss: 15.7022 - val_mae: 2.7393\n",
            "Epoch 441/500\n",
            "323/323 [==============================] - 1s 2ms/step - loss: 0.8615 - mae: 0.7077 - val_loss: 14.0263 - val_mae: 2.6419\n",
            "Epoch 442/500\n",
            "323/323 [==============================] - 1s 2ms/step - loss: 0.8663 - mae: 0.6961 - val_loss: 15.2609 - val_mae: 2.5459\n",
            "Epoch 443/500\n",
            "323/323 [==============================] - 1s 2ms/step - loss: 0.9353 - mae: 0.7112 - val_loss: 14.6941 - val_mae: 2.5679\n",
            "Epoch 444/500\n",
            "323/323 [==============================] - 1s 2ms/step - loss: 0.8694 - mae: 0.6898 - val_loss: 14.2591 - val_mae: 2.4761\n",
            "Epoch 445/500\n",
            "323/323 [==============================] - 1s 2ms/step - loss: 0.9089 - mae: 0.7076 - val_loss: 13.2092 - val_mae: 2.4572\n",
            "Epoch 446/500\n",
            "323/323 [==============================] - 1s 2ms/step - loss: 0.9275 - mae: 0.7019 - val_loss: 13.3064 - val_mae: 2.4803\n",
            "Epoch 447/500\n",
            "323/323 [==============================] - 1s 2ms/step - loss: 0.8492 - mae: 0.7043 - val_loss: 13.7277 - val_mae: 2.4959\n",
            "Epoch 448/500\n",
            "323/323 [==============================] - 1s 2ms/step - loss: 0.8471 - mae: 0.7189 - val_loss: 13.4842 - val_mae: 2.4579\n",
            "Epoch 449/500\n",
            "323/323 [==============================] - 1s 2ms/step - loss: 0.8532 - mae: 0.6975 - val_loss: 15.4587 - val_mae: 2.6091\n",
            "Epoch 450/500\n",
            "323/323 [==============================] - 1s 2ms/step - loss: 0.9187 - mae: 0.6995 - val_loss: 13.8872 - val_mae: 2.5244\n",
            "Epoch 451/500\n",
            "323/323 [==============================] - 1s 2ms/step - loss: 0.9859 - mae: 0.7194 - val_loss: 14.6941 - val_mae: 2.5808\n",
            "Epoch 452/500\n",
            "323/323 [==============================] - 1s 2ms/step - loss: 0.9237 - mae: 0.7339 - val_loss: 14.3283 - val_mae: 2.5434\n",
            "Epoch 453/500\n",
            "323/323 [==============================] - 1s 2ms/step - loss: 0.8994 - mae: 0.7093 - val_loss: 14.9652 - val_mae: 2.5873\n",
            "Epoch 454/500\n",
            "323/323 [==============================] - 1s 2ms/step - loss: 0.8809 - mae: 0.6556 - val_loss: 13.3333 - val_mae: 2.4568\n",
            "Epoch 455/500\n",
            "323/323 [==============================] - 1s 2ms/step - loss: 0.9804 - mae: 0.7281 - val_loss: 14.0836 - val_mae: 2.4757\n",
            "Epoch 456/500\n",
            "323/323 [==============================] - 1s 2ms/step - loss: 0.9553 - mae: 0.7048 - val_loss: 13.4263 - val_mae: 2.5492\n",
            "Epoch 457/500\n",
            "323/323 [==============================] - 1s 2ms/step - loss: 0.9702 - mae: 0.7119 - val_loss: 13.1023 - val_mae: 2.4314\n",
            "Epoch 458/500\n",
            "323/323 [==============================] - 1s 2ms/step - loss: 0.9445 - mae: 0.6934 - val_loss: 14.1649 - val_mae: 2.5684\n",
            "Epoch 459/500\n",
            "323/323 [==============================] - 1s 2ms/step - loss: 0.9500 - mae: 0.7421 - val_loss: 13.5485 - val_mae: 2.4445\n",
            "Epoch 460/500\n",
            "323/323 [==============================] - 1s 2ms/step - loss: 0.8792 - mae: 0.6772 - val_loss: 16.1157 - val_mae: 2.6220\n",
            "Epoch 461/500\n",
            "323/323 [==============================] - 1s 2ms/step - loss: 0.8378 - mae: 0.6656 - val_loss: 14.5897 - val_mae: 2.5927\n",
            "Epoch 462/500\n",
            "323/323 [==============================] - 1s 2ms/step - loss: 0.9546 - mae: 0.6981 - val_loss: 14.7522 - val_mae: 2.5440\n",
            "Epoch 463/500\n",
            "323/323 [==============================] - 1s 2ms/step - loss: 0.9482 - mae: 0.7094 - val_loss: 14.4629 - val_mae: 2.5517\n",
            "Epoch 464/500\n",
            "323/323 [==============================] - 1s 2ms/step - loss: 0.8879 - mae: 0.6900 - val_loss: 13.4204 - val_mae: 2.4277\n",
            "Epoch 465/500\n",
            "323/323 [==============================] - 1s 2ms/step - loss: 0.8392 - mae: 0.7126 - val_loss: 15.6467 - val_mae: 2.5939\n",
            "Epoch 466/500\n",
            "323/323 [==============================] - 1s 2ms/step - loss: 0.8438 - mae: 0.6854 - val_loss: 13.6284 - val_mae: 2.3952\n",
            "Epoch 467/500\n",
            "323/323 [==============================] - 1s 2ms/step - loss: 0.9376 - mae: 0.7002 - val_loss: 15.5001 - val_mae: 2.6135\n",
            "Epoch 468/500\n",
            "323/323 [==============================] - 1s 2ms/step - loss: 0.8494 - mae: 0.6832 - val_loss: 15.0431 - val_mae: 2.5829\n",
            "Epoch 469/500\n",
            "323/323 [==============================] - 1s 2ms/step - loss: 0.8829 - mae: 0.6588 - val_loss: 14.8276 - val_mae: 2.6067\n",
            "Epoch 470/500\n",
            "323/323 [==============================] - 1s 2ms/step - loss: 0.9064 - mae: 0.7018 - val_loss: 14.1196 - val_mae: 2.5695\n",
            "Epoch 471/500\n",
            "323/323 [==============================] - 1s 2ms/step - loss: 0.7775 - mae: 0.6681 - val_loss: 15.5255 - val_mae: 2.7539\n",
            "Epoch 472/500\n",
            "323/323 [==============================] - 1s 2ms/step - loss: 0.9293 - mae: 0.7122 - val_loss: 13.9886 - val_mae: 2.6085\n",
            "Epoch 473/500\n",
            "323/323 [==============================] - 1s 2ms/step - loss: 0.8470 - mae: 0.6660 - val_loss: 13.4025 - val_mae: 2.5142\n",
            "Epoch 474/500\n",
            "323/323 [==============================] - 1s 2ms/step - loss: 0.8759 - mae: 0.6947 - val_loss: 13.4639 - val_mae: 2.4860\n",
            "Epoch 475/500\n",
            "323/323 [==============================] - 1s 2ms/step - loss: 0.8605 - mae: 0.7116 - val_loss: 13.8459 - val_mae: 2.4791\n",
            "Epoch 476/500\n",
            "323/323 [==============================] - 1s 2ms/step - loss: 0.9276 - mae: 0.7195 - val_loss: 12.8682 - val_mae: 2.4923\n",
            "Epoch 477/500\n",
            "323/323 [==============================] - 1s 2ms/step - loss: 0.8443 - mae: 0.6509 - val_loss: 12.5694 - val_mae: 2.4168\n",
            "Epoch 478/500\n",
            "323/323 [==============================] - 1s 2ms/step - loss: 0.9774 - mae: 0.7255 - val_loss: 14.1971 - val_mae: 2.5608\n",
            "Epoch 479/500\n",
            "323/323 [==============================] - 1s 2ms/step - loss: 0.8227 - mae: 0.6487 - val_loss: 13.2511 - val_mae: 2.4946\n",
            "Epoch 480/500\n",
            "323/323 [==============================] - 1s 2ms/step - loss: 0.9973 - mae: 0.7117 - val_loss: 14.3660 - val_mae: 2.4952\n",
            "Epoch 481/500\n",
            "323/323 [==============================] - 1s 2ms/step - loss: 0.9182 - mae: 0.6956 - val_loss: 14.4821 - val_mae: 2.6346\n",
            "Epoch 482/500\n",
            "323/323 [==============================] - 1s 2ms/step - loss: 0.9558 - mae: 0.7084 - val_loss: 13.8860 - val_mae: 2.4865\n",
            "Epoch 483/500\n",
            "323/323 [==============================] - 1s 2ms/step - loss: 0.8510 - mae: 0.6458 - val_loss: 14.1983 - val_mae: 2.5272\n",
            "Epoch 484/500\n",
            "323/323 [==============================] - 1s 2ms/step - loss: 0.7624 - mae: 0.6326 - val_loss: 13.0437 - val_mae: 2.4436\n",
            "Epoch 485/500\n",
            "323/323 [==============================] - 1s 2ms/step - loss: 0.7916 - mae: 0.6687 - val_loss: 13.3049 - val_mae: 2.4613\n",
            "Epoch 486/500\n",
            "323/323 [==============================] - 1s 2ms/step - loss: 0.8613 - mae: 0.6801 - val_loss: 13.5392 - val_mae: 2.4110\n",
            "Epoch 487/500\n",
            "323/323 [==============================] - 1s 2ms/step - loss: 0.8941 - mae: 0.6655 - val_loss: 13.2074 - val_mae: 2.5342\n",
            "Epoch 488/500\n",
            "323/323 [==============================] - 1s 2ms/step - loss: 0.8490 - mae: 0.6522 - val_loss: 13.3097 - val_mae: 2.4857\n",
            "Epoch 489/500\n",
            "323/323 [==============================] - 1s 2ms/step - loss: 0.8720 - mae: 0.6835 - val_loss: 12.7194 - val_mae: 2.4379\n",
            "Epoch 490/500\n",
            "323/323 [==============================] - 1s 2ms/step - loss: 0.8667 - mae: 0.7118 - val_loss: 12.8920 - val_mae: 2.4762\n",
            "Epoch 491/500\n",
            "323/323 [==============================] - 1s 2ms/step - loss: 0.8999 - mae: 0.7067 - val_loss: 14.2136 - val_mae: 2.5423\n",
            "Epoch 492/500\n",
            "323/323 [==============================] - 1s 2ms/step - loss: 0.8119 - mae: 0.6920 - val_loss: 13.1757 - val_mae: 2.5475\n",
            "Epoch 493/500\n",
            "323/323 [==============================] - 1s 2ms/step - loss: 0.7974 - mae: 0.6398 - val_loss: 15.3830 - val_mae: 2.8357\n",
            "Epoch 494/500\n",
            "323/323 [==============================] - 1s 2ms/step - loss: 0.7662 - mae: 0.6506 - val_loss: 13.5515 - val_mae: 2.5619\n",
            "Epoch 495/500\n",
            "323/323 [==============================] - 1s 2ms/step - loss: 0.7706 - mae: 0.6600 - val_loss: 13.6414 - val_mae: 2.5363\n",
            "Epoch 496/500\n",
            "323/323 [==============================] - 1s 2ms/step - loss: 0.7476 - mae: 0.6418 - val_loss: 13.3782 - val_mae: 2.4607\n",
            "Epoch 497/500\n",
            "323/323 [==============================] - 1s 2ms/step - loss: 0.8559 - mae: 0.6748 - val_loss: 13.8442 - val_mae: 2.5002\n",
            "Epoch 498/500\n",
            "323/323 [==============================] - 1s 2ms/step - loss: 0.8600 - mae: 0.6949 - val_loss: 14.7971 - val_mae: 2.5508\n",
            "Epoch 499/500\n",
            "323/323 [==============================] - 1s 2ms/step - loss: 0.9273 - mae: 0.6957 - val_loss: 13.1941 - val_mae: 2.4149\n",
            "Epoch 500/500\n",
            "323/323 [==============================] - 1s 2ms/step - loss: 0.7863 - mae: 0.6667 - val_loss: 13.3852 - val_mae: 2.4523\n",
            "CPU times: user 5min 18s, sys: 19.7 s, total: 5min 37s\n",
            "Wall time: 6min 22s\n"
          ]
        }
      ]
    },
    {
      "cell_type": "markdown",
      "metadata": {
        "id": "kt-_vL_OLEzU"
      },
      "source": [
        "> ## 4) Model Evaluate"
      ]
    },
    {
      "cell_type": "code",
      "metadata": {
        "id": "l6w9a_lSLGmJ",
        "colab": {
          "base_uri": "https://localhost:8080/"
        },
        "outputId": "7754bf90-0472-4b75-c70d-4a1b6f2946dc"
      },
      "source": [
        "test_mse_score, test_mae_score = boston.evaluate(X_test, y_test)\n",
        "\n",
        "print('MAE is :',test_mae_score)"
      ],
      "execution_count": 41,
      "outputs": [
        {
          "output_type": "stream",
          "name": "stdout",
          "text": [
            "4/4 [==============================] - 0s 4ms/step - loss: 17.8513 - mae: 2.7283\n",
            "MAE is : 2.728273868560791\n"
          ]
        }
      ]
    },
    {
      "cell_type": "markdown",
      "metadata": {
        "id": "9Eiv18Q5FhHc"
      },
      "source": [
        "> ## 5) Visualization"
      ]
    },
    {
      "cell_type": "markdown",
      "metadata": {
        "id": "i1Jbkw4cdJcb"
      },
      "source": [
        "* 전체 시각화"
      ]
    },
    {
      "cell_type": "code",
      "metadata": {
        "id": "_wItRpKeFkpm",
        "colab": {
          "base_uri": "https://localhost:8080/",
          "height": 404
        },
        "outputId": "ee367973-b8f5-40f6-8386-b95cc16c17dc"
      },
      "source": [
        "import matplotlib.pyplot as plt\n",
        "\n",
        "epochs = range(1, len(Hist_boston.history['val_mae']) + 1)\n",
        "\n",
        "plt.figure(figsize = (9, 6))\n",
        "plt.plot(epochs, Hist_boston.history['val_mae'])\n",
        "plt.title('Validation MAE')\n",
        "plt.xlabel('Epochs')\n",
        "plt.ylabel('Mean Absolute Error')\n",
        "plt.grid()\n",
        "plt.show()"
      ],
      "execution_count": 42,
      "outputs": [
        {
          "output_type": "display_data",
          "data": {
            "image/png": "[encoded data removed]",
            "text/plain": [
              "<Figure size 648x432 with 1 Axes>"
            ]
          },
          "metadata": {
            "needs_background": "light"
          }
        }
      ]
    },
    {
      "cell_type": "code",
      "source": [
        "Hist_boston.history['val_mae'][:5]"
      ],
      "metadata": {
        "colab": {
          "base_uri": "https://localhost:8080/"
        },
        "id": "nwf2Lkk9D4m_",
        "outputId": "e659306c-a94c-4c8f-a247-3b3bc3dace10"
      },
      "execution_count": 43,
      "outputs": [
        {
          "output_type": "execute_result",
          "data": {
            "text/plain": [
              "[3.896170139312744,\n",
              " 2.864288568496704,\n",
              " 2.77820086479187,\n",
              " 2.6413445472717285,\n",
              " 2.433683156967163]"
            ]
          },
          "metadata": {},
          "execution_count": 43
        }
      ]
    },
    {
      "cell_type": "markdown",
      "metadata": {
        "id": "flGadAoGdLzN"
      },
      "source": [
        "* 5번째 이후 MAE 확인"
      ]
    },
    {
      "cell_type": "code",
      "metadata": {
        "id": "XoofiV2fHzgb",
        "colab": {
          "base_uri": "https://localhost:8080/",
          "height": 404
        },
        "outputId": "c064273c-266d-4a57-d77c-10fd412db4d0"
      },
      "source": [
        "####함수 이해#######\n",
        "def smooth_curve(points, factor=0.9):\n",
        "  smoothed_points = []\n",
        "  for point in points:\n",
        "    if smoothed_points:\n",
        "      previous = smoothed_points[-1]\n",
        "      smoothed_points.append(previous * factor + point * (1 - factor))\n",
        "    else:\n",
        "      smoothed_points.append(point)\n",
        "  return smoothed_points\n",
        "\n",
        "mae_history = Hist_boston.history['val_mae']\n",
        "\n",
        "mae_history = smooth_curve(mae_history[5:])\n",
        "\n",
        "plt.figure(figsize = (9, 6))\n",
        "plt.plot(range(1, len(mae_history) + 1), mae_history)\n",
        "plt.title('Validation MAE')\n",
        "plt.xlabel('Epochs')\n",
        "plt.ylabel('Mean Absolute Error')\n",
        "plt.grid()\n",
        "plt.show()\n",
        "\n",
        "#조기종료 필요"
      ],
      "execution_count": 44,
      "outputs": [
        {
          "output_type": "display_data",
          "data": {
            "image/png": "[encoded data removed]",
            "text/plain": [
              "<Figure size 648x432 with 1 Axes>"
            ]
          },
          "metadata": {
            "needs_background": "light"
          }
        }
      ]
    },
    {
      "cell_type": "markdown",
      "metadata": {
        "id": "KKQ8KnRdpPMS"
      },
      "source": [
        "> ## 6) Keras Session Clear"
      ]
    },
    {
      "cell_type": "code",
      "metadata": {
        "id": "sB8JVRhPJzWO"
      },
      "source": [
        "from tensorflow.keras import backend as K\n",
        "\n",
        "K.clear_session()"
      ],
      "execution_count": 45,
      "outputs": []
    },
    {
      "cell_type": "markdown",
      "metadata": {
        "id": "Nz2gBFoyKPeA"
      },
      "source": [
        "# IV. Early Stopping"
      ]
    },
    {
      "cell_type": "markdown",
      "metadata": {
        "id": "5o9-5pfvc3F7"
      },
      "source": [
        "> ## 1) Model Define & Compile"
      ]
    },
    {
      "cell_type": "code",
      "metadata": {
        "id": "000wbBePKgnj"
      },
      "source": [
        "from tensorflow.keras import models\n",
        "from tensorflow.keras import layers\n",
        "\n",
        "boston = models.Sequential(name = 'EarlyStopping')\n",
        "boston.add(layers.Dense(64, activation = 'relu', input_shape = (13,)))\n",
        "boston.add(layers.Dense(64, activation = 'relu'))\n",
        "boston.add(layers.Dense(1))\n",
        "\n",
        "boston.compile(loss = 'mse',\n",
        "               optimizer = 'rmsprop',\n",
        "               metrics = ['mae'])"
      ],
      "execution_count": 46,
      "outputs": []
    },
    {
      "cell_type": "markdown",
      "metadata": {
        "id": "9HDY22OwodvA"
      },
      "source": [
        "> ## 2) EarlyStopping( ) : 특정 시점 멈춤\n",
        "\n",
        "* monitor : 모니터링 대상 성능\n",
        "* mode : 모니터링 대상을 최소화(min) 또는 최대화(max)\n",
        "* patience : 성능이 개선되지 않는 epoch 횟수"
      ]
    },
    {
      "cell_type": "code",
      "metadata": {
        "id": "JUQ6jh5OlLBZ"
      },
      "source": [
        "from tensorflow.keras.callbacks import EarlyStopping\n",
        "\n",
        "es = EarlyStopping(monitor = 'val_mae', \n",
        "                   mode = 'min', \n",
        "                   patience = 50, \n",
        "                   verbose = 1)"
      ],
      "execution_count": 47,
      "outputs": []
    },
    {
      "cell_type": "markdown",
      "metadata": {
        "id": "dZ0l_lZToiaU"
      },
      "source": [
        "> ## 3) ModelCheckpoint( ) : 모델을 저장할 때 사용되는 콜백함수\n",
        "\n",
        "* 'best_boston.h5' : 최적모델이 저장될 경로\n",
        "* save_best_only : 최적모델만 저장할지 지정"
      ]
    },
    {
      "cell_type": "code",
      "metadata": {
        "id": "tTgC-bN6lQDa"
      },
      "source": [
        "from tensorflow.keras.callbacks import ModelCheckpoint\n",
        "\n",
        "mc = ModelCheckpoint('best_boston_house.h5',  # 코랩 왼쪽 파일에 저장\n",
        "                     monitor = 'val_mae', \n",
        "                     mode = 'min', \n",
        "                     save_best_only = True,\n",
        "                     verbose = 1)"
      ],
      "execution_count": 53,
      "outputs": []
    },
    {
      "cell_type": "markdown",
      "metadata": {
        "id": "nHWTF7_wc7jx"
      },
      "source": [
        "> ## 4) Model Fit with callbacks\n",
        "\n",
        "* callbacks : Earlystopping( ) 과 ModelCheckpoint( ) 객체 지정"
      ]
    },
    {
      "cell_type": "code",
      "metadata": {
        "id": "M5Ie96-4J6Yq",
        "colab": {
          "base_uri": "https://localhost:8080/"
        },
        "outputId": "ba787514-2d12-4673-a54b-3fe663326f2c"
      },
      "source": [
        "%%time\n",
        "\n",
        "Hist_boston = boston.fit(X_train, y_train,\n",
        "                         epochs = 500,\n",
        "                         batch_size = 1,\n",
        "                         validation_data = (X_valid, y_valid),\n",
        "                         callbacks = [es, mc],\n",
        "                         verbose = 1)"
      ],
      "execution_count": 54,
      "outputs": [
        {
          "output_type": "stream",
          "name": "stdout",
          "text": [
            "Epoch 1/500\n",
            "295/323 [==========================>...] - ETA: 0s - loss: 4.0836 - mae: 1.3094\n",
            "Epoch 00001: val_mae improved from inf to 2.25543, saving model to best_boston_house.h5\n",
            "323/323 [==============================] - 1s 2ms/step - loss: 4.1680 - mae: 1.3337 - val_loss: 9.8747 - val_mae: 2.2554\n",
            "Epoch 2/500\n",
            "316/323 [============================>.] - ETA: 0s - loss: 4.0216 - mae: 1.3197\n",
            "Epoch 00002: val_mae did not improve from 2.25543\n",
            "323/323 [==============================] - 1s 2ms/step - loss: 3.9952 - mae: 1.3225 - val_loss: 10.4230 - val_mae: 2.3179\n",
            "Epoch 3/500\n",
            "313/323 [============================>.] - ETA: 0s - loss: 4.1798 - mae: 1.3265\n",
            "Epoch 00003: val_mae improved from 2.25543 to 2.23408, saving model to best_boston_house.h5\n",
            "323/323 [==============================] - 1s 2ms/step - loss: 4.0909 - mae: 1.3158 - val_loss: 11.4968 - val_mae: 2.2341\n",
            "Epoch 4/500\n",
            "319/323 [============================>.] - ETA: 0s - loss: 3.9874 - mae: 1.3544\n",
            "Epoch 00004: val_mae improved from 2.23408 to 2.09553, saving model to best_boston_house.h5\n",
            "323/323 [==============================] - 1s 2ms/step - loss: 3.9914 - mae: 1.3605 - val_loss: 9.2929 - val_mae: 2.0955\n",
            "Epoch 5/500\n",
            "311/323 [===========================>..] - ETA: 0s - loss: 3.4335 - mae: 1.2703\n",
            "Epoch 00005: val_mae did not improve from 2.09553\n",
            "323/323 [==============================] - 1s 2ms/step - loss: 3.4748 - mae: 1.2866 - val_loss: 10.0950 - val_mae: 2.1530\n",
            "Epoch 6/500\n",
            "296/323 [==========================>...] - ETA: 0s - loss: 2.6319 - mae: 1.1878\n",
            "Epoch 00006: val_mae did not improve from 2.09553\n",
            "323/323 [==============================] - 1s 2ms/step - loss: 3.8760 - mae: 1.3249 - val_loss: 11.1974 - val_mae: 2.3369\n",
            "Epoch 7/500\n",
            "309/323 [===========================>..] - ETA: 0s - loss: 3.8643 - mae: 1.3056\n",
            "Epoch 00007: val_mae did not improve from 2.09553\n",
            "323/323 [==============================] - 1s 2ms/step - loss: 3.8293 - mae: 1.3006 - val_loss: 12.4236 - val_mae: 2.5196\n",
            "Epoch 8/500\n",
            "312/323 [===========================>..] - ETA: 0s - loss: 3.6109 - mae: 1.3375\n",
            "Epoch 00008: val_mae did not improve from 2.09553\n",
            "323/323 [==============================] - 1s 2ms/step - loss: 3.5494 - mae: 1.3327 - val_loss: 9.9572 - val_mae: 2.1309\n",
            "Epoch 9/500\n",
            "302/323 [===========================>..] - ETA: 0s - loss: 4.0191 - mae: 1.3155\n",
            "Epoch 00009: val_mae did not improve from 2.09553\n",
            "323/323 [==============================] - 1s 3ms/step - loss: 3.8524 - mae: 1.2879 - val_loss: 10.3890 - val_mae: 2.2026\n",
            "Epoch 10/500\n",
            "320/323 [============================>.] - ETA: 0s - loss: 3.7328 - mae: 1.2950\n",
            "Epoch 00010: val_mae did not improve from 2.09553\n",
            "323/323 [==============================] - 1s 3ms/step - loss: 3.7012 - mae: 1.2871 - val_loss: 10.6726 - val_mae: 2.2998\n",
            "Epoch 11/500\n",
            "320/323 [============================>.] - ETA: 0s - loss: 3.4403 - mae: 1.2432\n",
            "Epoch 00011: val_mae did not improve from 2.09553\n",
            "323/323 [==============================] - 1s 4ms/step - loss: 3.4228 - mae: 1.2419 - val_loss: 10.6029 - val_mae: 2.1734\n",
            "Epoch 12/500\n",
            "310/323 [===========================>..] - ETA: 0s - loss: 3.5914 - mae: 1.2571\n",
            "Epoch 00012: val_mae did not improve from 2.09553\n",
            "323/323 [==============================] - 1s 3ms/step - loss: 3.6280 - mae: 1.2693 - val_loss: 10.4964 - val_mae: 2.2040\n",
            "Epoch 13/500\n",
            "303/323 [===========================>..] - ETA: 0s - loss: 3.6396 - mae: 1.2528\n",
            "Epoch 00013: val_mae did not improve from 2.09553\n",
            "323/323 [==============================] - 1s 3ms/step - loss: 3.5989 - mae: 1.2611 - val_loss: 10.7612 - val_mae: 2.1227\n",
            "Epoch 14/500\n",
            "323/323 [==============================] - ETA: 0s - loss: 3.6017 - mae: 1.2589\n",
            "Epoch 00014: val_mae did not improve from 2.09553\n",
            "323/323 [==============================] - 1s 4ms/step - loss: 3.6017 - mae: 1.2589 - val_loss: 12.1175 - val_mae: 2.5517\n",
            "Epoch 15/500\n",
            "304/323 [===========================>..] - ETA: 0s - loss: 3.5321 - mae: 1.2744\n",
            "Epoch 00015: val_mae did not improve from 2.09553\n",
            "323/323 [==============================] - 1s 3ms/step - loss: 3.4360 - mae: 1.2656 - val_loss: 10.2067 - val_mae: 2.2170\n",
            "Epoch 16/500\n",
            "317/323 [============================>.] - ETA: 0s - loss: 3.4226 - mae: 1.2174\n",
            "Epoch 00016: val_mae did not improve from 2.09553\n",
            "323/323 [==============================] - 1s 4ms/step - loss: 3.4669 - mae: 1.2254 - val_loss: 12.0919 - val_mae: 2.4111\n",
            "Epoch 17/500\n",
            "315/323 [============================>.] - ETA: 0s - loss: 3.3447 - mae: 1.2346\n",
            "Epoch 00017: val_mae did not improve from 2.09553\n",
            "323/323 [==============================] - 1s 3ms/step - loss: 3.4272 - mae: 1.2474 - val_loss: 11.7587 - val_mae: 2.3796\n",
            "Epoch 18/500\n",
            "291/323 [==========================>...] - ETA: 0s - loss: 3.3589 - mae: 1.2106\n",
            "Epoch 00018: val_mae did not improve from 2.09553\n",
            "323/323 [==============================] - 1s 2ms/step - loss: 3.2724 - mae: 1.2009 - val_loss: 10.3199 - val_mae: 2.2343\n",
            "Epoch 19/500\n",
            "292/323 [==========================>...] - ETA: 0s - loss: 3.6303 - mae: 1.2638\n",
            "Epoch 00019: val_mae did not improve from 2.09553\n",
            "323/323 [==============================] - 1s 2ms/step - loss: 3.4770 - mae: 1.2528 - val_loss: 10.9986 - val_mae: 2.3483\n",
            "Epoch 20/500\n",
            "311/323 [===========================>..] - ETA: 0s - loss: 3.3822 - mae: 1.2244\n",
            "Epoch 00020: val_mae did not improve from 2.09553\n",
            "323/323 [==============================] - 1s 2ms/step - loss: 3.4647 - mae: 1.2423 - val_loss: 11.5495 - val_mae: 2.4765\n",
            "Epoch 21/500\n",
            "302/323 [===========================>..] - ETA: 0s - loss: 3.3243 - mae: 1.2141\n",
            "Epoch 00021: val_mae did not improve from 2.09553\n",
            "323/323 [==============================] - 1s 2ms/step - loss: 3.2825 - mae: 1.2122 - val_loss: 10.1017 - val_mae: 2.1696\n",
            "Epoch 22/500\n",
            "294/323 [==========================>...] - ETA: 0s - loss: 2.4759 - mae: 1.1719\n",
            "Epoch 00022: val_mae did not improve from 2.09553\n",
            "323/323 [==============================] - 1s 2ms/step - loss: 3.6214 - mae: 1.2642 - val_loss: 10.4288 - val_mae: 2.1868\n",
            "Epoch 23/500\n",
            "318/323 [============================>.] - ETA: 0s - loss: 3.2436 - mae: 1.2391\n",
            "Epoch 00023: val_mae did not improve from 2.09553\n",
            "323/323 [==============================] - 1s 2ms/step - loss: 3.2086 - mae: 1.2317 - val_loss: 11.0012 - val_mae: 2.3383\n",
            "Epoch 24/500\n",
            "288/323 [=========================>....] - ETA: 0s - loss: 3.2656 - mae: 1.2521\n",
            "Epoch 00024: val_mae did not improve from 2.09553\n",
            "323/323 [==============================] - 1s 2ms/step - loss: 3.2629 - mae: 1.2631 - val_loss: 13.2481 - val_mae: 2.5034\n",
            "Epoch 25/500\n",
            "294/323 [==========================>...] - ETA: 0s - loss: 3.1654 - mae: 1.2221\n",
            "Epoch 00025: val_mae did not improve from 2.09553\n",
            "323/323 [==============================] - 1s 2ms/step - loss: 3.1595 - mae: 1.2374 - val_loss: 11.0070 - val_mae: 2.2625\n",
            "Epoch 26/500\n",
            "299/323 [==========================>...] - ETA: 0s - loss: 3.1637 - mae: 1.1690\n",
            "Epoch 00026: val_mae did not improve from 2.09553\n",
            "323/323 [==============================] - 1s 2ms/step - loss: 3.1424 - mae: 1.1763 - val_loss: 12.4106 - val_mae: 2.4233\n",
            "Epoch 27/500\n",
            "288/323 [=========================>....] - ETA: 0s - loss: 2.4963 - mae: 1.1638\n",
            "Epoch 00027: val_mae did not improve from 2.09553\n",
            "323/323 [==============================] - 1s 2ms/step - loss: 3.1310 - mae: 1.2182 - val_loss: 12.0388 - val_mae: 2.4316\n",
            "Epoch 28/500\n",
            "294/323 [==========================>...] - ETA: 0s - loss: 3.0635 - mae: 1.2639\n",
            "Epoch 00028: val_mae did not improve from 2.09553\n",
            "323/323 [==============================] - 1s 2ms/step - loss: 3.0668 - mae: 1.2588 - val_loss: 10.8802 - val_mae: 2.2762\n",
            "Epoch 29/500\n",
            "317/323 [============================>.] - ETA: 0s - loss: 3.3111 - mae: 1.2240\n",
            "Epoch 00029: val_mae did not improve from 2.09553\n",
            "323/323 [==============================] - 1s 2ms/step - loss: 3.2580 - mae: 1.2110 - val_loss: 11.5218 - val_mae: 2.4128\n",
            "Epoch 30/500\n",
            "298/323 [==========================>...] - ETA: 0s - loss: 3.2329 - mae: 1.1870\n",
            "Epoch 00030: val_mae did not improve from 2.09553\n",
            "323/323 [==============================] - 1s 2ms/step - loss: 3.0645 - mae: 1.1579 - val_loss: 11.2005 - val_mae: 2.4105\n",
            "Epoch 31/500\n",
            "290/323 [=========================>....] - ETA: 0s - loss: 3.2372 - mae: 1.2344\n",
            "Epoch 00031: val_mae did not improve from 2.09553\n",
            "323/323 [==============================] - 1s 2ms/step - loss: 3.1556 - mae: 1.2328 - val_loss: 10.7066 - val_mae: 2.2369\n",
            "Epoch 32/500\n",
            "310/323 [===========================>..] - ETA: 0s - loss: 3.3560 - mae: 1.1950\n",
            "Epoch 00032: val_mae did not improve from 2.09553\n",
            "323/323 [==============================] - 1s 2ms/step - loss: 3.3059 - mae: 1.1971 - val_loss: 11.6488 - val_mae: 2.2770\n",
            "Epoch 33/500\n",
            "287/323 [=========================>....] - ETA: 0s - loss: 3.2485 - mae: 1.2155\n",
            "Epoch 00033: val_mae did not improve from 2.09553\n",
            "323/323 [==============================] - 1s 2ms/step - loss: 3.2017 - mae: 1.2327 - val_loss: 10.5637 - val_mae: 2.2641\n",
            "Epoch 34/500\n",
            "319/323 [============================>.] - ETA: 0s - loss: 2.9852 - mae: 1.2146\n",
            "Epoch 00034: val_mae did not improve from 2.09553\n",
            "323/323 [==============================] - 1s 2ms/step - loss: 2.9533 - mae: 1.2071 - val_loss: 10.5984 - val_mae: 2.2034\n",
            "Epoch 35/500\n",
            "320/323 [============================>.] - ETA: 0s - loss: 2.9711 - mae: 1.1593\n",
            "Epoch 00035: val_mae did not improve from 2.09553\n",
            "323/323 [==============================] - 1s 2ms/step - loss: 2.9491 - mae: 1.1535 - val_loss: 10.3849 - val_mae: 2.3133\n",
            "Epoch 36/500\n",
            "287/323 [=========================>....] - ETA: 0s - loss: 3.1278 - mae: 1.1785\n",
            "Epoch 00036: val_mae did not improve from 2.09553\n",
            "323/323 [==============================] - 1s 2ms/step - loss: 3.0219 - mae: 1.1710 - val_loss: 11.3587 - val_mae: 2.3322\n",
            "Epoch 37/500\n",
            "323/323 [==============================] - ETA: 0s - loss: 2.7475 - mae: 1.1440\n",
            "Epoch 00037: val_mae did not improve from 2.09553\n",
            "323/323 [==============================] - 1s 2ms/step - loss: 2.7475 - mae: 1.1440 - val_loss: 9.5859 - val_mae: 2.1743\n",
            "Epoch 38/500\n",
            "293/323 [==========================>...] - ETA: 0s - loss: 3.0468 - mae: 1.1832\n",
            "Epoch 00038: val_mae did not improve from 2.09553\n",
            "323/323 [==============================] - 1s 2ms/step - loss: 2.9331 - mae: 1.1638 - val_loss: 11.7177 - val_mae: 2.3549\n",
            "Epoch 39/500\n",
            "322/323 [============================>.] - ETA: 0s - loss: 2.9890 - mae: 1.1737\n",
            "Epoch 00039: val_mae did not improve from 2.09553\n",
            "323/323 [==============================] - 1s 2ms/step - loss: 2.9801 - mae: 1.1711 - val_loss: 11.7410 - val_mae: 2.3465\n",
            "Epoch 40/500\n",
            "322/323 [============================>.] - ETA: 0s - loss: 2.9073 - mae: 1.1686\n",
            "Epoch 00040: val_mae did not improve from 2.09553\n",
            "323/323 [==============================] - 1s 2ms/step - loss: 2.9021 - mae: 1.1684 - val_loss: 10.9870 - val_mae: 2.1861\n",
            "Epoch 41/500\n",
            "321/323 [============================>.] - ETA: 0s - loss: 2.7296 - mae: 1.2020\n",
            "Epoch 00041: val_mae did not improve from 2.09553\n",
            "323/323 [==============================] - 1s 2ms/step - loss: 2.7332 - mae: 1.2057 - val_loss: 11.8303 - val_mae: 2.2803\n",
            "Epoch 42/500\n",
            "301/323 [==========================>...] - ETA: 0s - loss: 2.9155 - mae: 1.1653\n",
            "Epoch 00042: val_mae did not improve from 2.09553\n",
            "323/323 [==============================] - 1s 2ms/step - loss: 2.8090 - mae: 1.1505 - val_loss: 11.3623 - val_mae: 2.3428\n",
            "Epoch 43/500\n",
            "303/323 [===========================>..] - ETA: 0s - loss: 2.7317 - mae: 1.1582\n",
            "Epoch 00043: val_mae did not improve from 2.09553\n",
            "323/323 [==============================] - 1s 2ms/step - loss: 2.8574 - mae: 1.1851 - val_loss: 11.4607 - val_mae: 2.3560\n",
            "Epoch 44/500\n",
            "304/323 [===========================>..] - ETA: 0s - loss: 2.7753 - mae: 1.1820\n",
            "Epoch 00044: val_mae did not improve from 2.09553\n",
            "323/323 [==============================] - 1s 2ms/step - loss: 2.7530 - mae: 1.1727 - val_loss: 11.1073 - val_mae: 2.1748\n",
            "Epoch 45/500\n",
            "285/323 [=========================>....] - ETA: 0s - loss: 2.7743 - mae: 1.1403\n",
            "Epoch 00045: val_mae did not improve from 2.09553\n",
            "323/323 [==============================] - 1s 2ms/step - loss: 2.7687 - mae: 1.1447 - val_loss: 9.9977 - val_mae: 2.2259\n",
            "Epoch 46/500\n",
            "301/323 [==========================>...] - ETA: 0s - loss: 2.8456 - mae: 1.1654\n",
            "Epoch 00046: val_mae did not improve from 2.09553\n",
            "323/323 [==============================] - 1s 2ms/step - loss: 2.8145 - mae: 1.1705 - val_loss: 10.6197 - val_mae: 2.2511\n",
            "Epoch 47/500\n",
            "286/323 [=========================>....] - ETA: 0s - loss: 2.8615 - mae: 1.1446\n",
            "Epoch 00047: val_mae did not improve from 2.09553\n",
            "323/323 [==============================] - 1s 2ms/step - loss: 2.7806 - mae: 1.1552 - val_loss: 10.8267 - val_mae: 2.2401\n",
            "Epoch 48/500\n",
            "311/323 [===========================>..] - ETA: 0s - loss: 2.7762 - mae: 1.1306\n",
            "Epoch 00048: val_mae did not improve from 2.09553\n",
            "323/323 [==============================] - 1s 2ms/step - loss: 2.7458 - mae: 1.1268 - val_loss: 10.2590 - val_mae: 2.2241\n",
            "Epoch 49/500\n",
            "293/323 [==========================>...] - ETA: 0s - loss: 2.1613 - mae: 1.0425\n",
            "Epoch 00049: val_mae did not improve from 2.09553\n",
            "323/323 [==============================] - 1s 2ms/step - loss: 2.7374 - mae: 1.1076 - val_loss: 12.2849 - val_mae: 2.4288\n",
            "Epoch 50/500\n",
            "314/323 [============================>.] - ETA: 0s - loss: 2.5615 - mae: 1.1013\n",
            "Epoch 00050: val_mae did not improve from 2.09553\n",
            "323/323 [==============================] - 1s 2ms/step - loss: 2.6076 - mae: 1.1148 - val_loss: 10.8847 - val_mae: 2.3372\n",
            "Epoch 51/500\n",
            "320/323 [============================>.] - ETA: 0s - loss: 2.7495 - mae: 1.1306\n",
            "Epoch 00051: val_mae did not improve from 2.09553\n",
            "323/323 [==============================] - 1s 2ms/step - loss: 2.7458 - mae: 1.1329 - val_loss: 11.3368 - val_mae: 2.4617\n",
            "Epoch 52/500\n",
            "289/323 [=========================>....] - ETA: 0s - loss: 2.9045 - mae: 1.1732\n",
            "Epoch 00052: val_mae did not improve from 2.09553\n",
            "323/323 [==============================] - 1s 2ms/step - loss: 2.7750 - mae: 1.1579 - val_loss: 11.0355 - val_mae: 2.3220\n",
            "Epoch 53/500\n",
            "301/323 [==========================>...] - ETA: 0s - loss: 2.8012 - mae: 1.1439\n",
            "Epoch 00053: val_mae did not improve from 2.09553\n",
            "323/323 [==============================] - 1s 2ms/step - loss: 2.7158 - mae: 1.1308 - val_loss: 10.7012 - val_mae: 2.3708\n",
            "Epoch 54/500\n",
            "297/323 [==========================>...] - ETA: 0s - loss: 2.7711 - mae: 1.1559\n",
            "Epoch 00054: val_mae did not improve from 2.09553\n",
            "323/323 [==============================] - 1s 2ms/step - loss: 2.7320 - mae: 1.1480 - val_loss: 12.4087 - val_mae: 2.3723\n",
            "Epoch 00054: early stopping\n",
            "CPU times: user 36.2 s, sys: 2.14 s, total: 38.3 s\n",
            "Wall time: 36.5 s\n"
          ]
        }
      ]
    },
    {
      "cell_type": "markdown",
      "metadata": {
        "id": "42K82_o3oyIa"
      },
      "source": [
        "> ## 5) Best Model"
      ]
    },
    {
      "cell_type": "code",
      "metadata": {
        "id": "jQ7uKeyYmFYg",
        "colab": {
          "base_uri": "https://localhost:8080/"
        },
        "outputId": "d30f29c3-ff35-41f3-afe0-f459a978a989"
      },
      "source": [
        "!ls -l"
      ],
      "execution_count": 55,
      "outputs": [
        {
          "output_type": "stream",
          "name": "stdout",
          "text": [
            "total 152\n",
            "-rw-r--r-- 1 root root 71112 Dec 23 11:24 best_boston.h5\n",
            "-rw-r--r-- 1 root root 71112 Dec 23 11:56 best_boston_house.h5\n",
            "drwxr-xr-x 3 root root  4096 Dec 23 11:49 drive\n",
            "drwxr-xr-x 1 root root  4096 Dec  3 14:33 sample_data\n"
          ]
        }
      ]
    },
    {
      "cell_type": "markdown",
      "metadata": {
        "id": "Ar1VIaMyGPcL"
      },
      "source": [
        "> ## 6) Model Evaluate"
      ]
    },
    {
      "cell_type": "code",
      "metadata": {
        "id": "hFxkiyF-mMSo"
      },
      "source": [
        "from tensorflow.keras.models import load_model\n",
        "\n",
        "best_boston = load_model('best_boston_house.h5')"
      ],
      "execution_count": 58,
      "outputs": []
    },
    {
      "cell_type": "code",
      "metadata": {
        "colab": {
          "base_uri": "https://localhost:8080/"
        },
        "id": "3pz6nkVvmXIK",
        "outputId": "3bd5a02e-e918-4e02-a5d2-d8ad80b7df3c"
      },
      "source": [
        "test_mse_score, test_mae_score = best_boston.evaluate(X_test, y_test)\n",
        "\n",
        "print('MAE is :',test_mae_score)"
      ],
      "execution_count": 59,
      "outputs": [
        {
          "output_type": "stream",
          "name": "stdout",
          "text": [
            "4/4 [==============================] - 0s 16ms/step - loss: 21.4512 - mae: 2.4489\n",
            "MAE is : 2.448857545852661\n"
          ]
        }
      ]
    },
    {
      "cell_type": "markdown",
      "metadata": {
        "id": "QC9joeODLqOD"
      },
      "source": [
        "# \n",
        "# \n",
        "# \n",
        "# The End\n",
        "# \n",
        "# \n",
        "# "
      ]
    }
  ]
}