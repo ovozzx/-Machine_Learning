{
  "nbformat": 4,
  "nbformat_minor": 0,
  "metadata": {
    "colab": {
      "name": "딥러닝_개념정리.ipynb",
      "provenance": [],
      "authorship_tag": "ABX9TyOZ7xfP+Aq3brSKugspT2Eg",
      "include_colab_link": true
    },
    "kernelspec": {
      "name": "python3",
      "display_name": "Python 3"
    },
    "language_info": {
      "name": "python"
    }
  },
  "cells": [
    {
      "cell_type": "markdown",
      "metadata": {
        "id": "view-in-github",
        "colab_type": "text"
      },
      "source": [
        "<a href=\"https://colab.research.google.com/github/ovozzx/Deep_Learning/blob/master/%EB%94%A5%EB%9F%AC%EB%8B%9D_%EA%B0%9C%EB%85%90%EC%A0%95%EB%A6%AC.ipynb\" target=\"_parent\"><img src=\"https://colab.research.google.com/assets/colab-badge.svg\" alt=\"Open In Colab\"/></a>"
      ]
    },
    {
      "cell_type": "code",
      "execution_count": null,
      "metadata": {
        "id": "Jke1opTdXdwa"
      },
      "outputs": [],
      "source": [
        ""
      ]
    },
    {
      "cell_type": "markdown",
      "source": [
        "■ ANN​ (Artificial Neural Network)\n",
        "\n",
        "​\n",
        "\n",
        "- 딥러닝은 인공신경망(ANN)을 기초로 하고 있음\n",
        "\n",
        "- 이는 \"사람의 신경망 원리와 구조를 모방\"하여 만든 기계학습 알고리즘인데,\n",
        "\n",
        "   인간의 뇌에서 뉴런들이 어떤 신호/자극 등을 받고 그 자극이 어떤 임계값을 넘어서면, \n",
        "\n",
        "   결과 신호를 전달하는 과정에서 착안한 것!\n",
        "\n",
        "   → 1) 인공신경망에서 들어온 신호/자극 = Input Data\n",
        "     2) 임계값 = 가중치(weight) \n",
        "     3) 자극에 의해 어떤 행동을 하는 것 =Output 데이터\n",
        "\n",
        "\n",
        "\n",
        "\n",
        "​"
      ],
      "metadata": {
        "id": "v7titLVpXkgZ"
      }
    },
    {
      "cell_type": "markdown",
      "source": [
        "- 인공신경망은 네트워크를 형성한 인공뉴런(노드)이 학습을 통해, 시냅스의 결합 세기를 변화시켜\n",
        "\n",
        "   문제 해결 능력을 가지는 모델 전반을 가리킴!\n",
        "\n",
        "- 신경망은 다수의 입력 데이터를 받는 **입력층**(Input), 데이터의 출력을 담당하는 **출력층**(Output),\n",
        "\n",
        "   입력층과 출력층 사이에 존재하는 **은닉층**(hidden layer)이 존재함\n",
        "\n",
        "​\n",
        "\n",
        "- 여기서 **히든 레이어들의 갯수**와 **노드의 개수**를 구성하는 것을 모델을 구성한다고 하는데,\n",
        "\n",
        "   이 모델을 잘 구성하여 원하는 Output 값을 잘 받아내는 것이 사람이 해야할 일\n",
        "\n",
        "    ※ 은닉층에서는 활성화 함수를 사용하여 '최적의 Weight와 Bias를 찾아내는 역할'\n",
        "\n",
        "​\n",
        "\n",
        "- ANN 의 문제점\n",
        "\n",
        " ① 학습 과정에서 파라미터 최적값을 찾기 어려움\n",
        "\n",
        " ② 과적합(Overfitting) 문제\n",
        "\n",
        " ③ 학습 시간이 너무 느림 (이는 그래픽카드의 발전으로 어느정도 해결 되었음)\n"
      ],
      "metadata": {
        "id": "EGhXDY0hX6yf"
      }
    },
    {
      "cell_type": "markdown",
      "source": [
        "---\n",
        "\n",
        "\n",
        "\n",
        "\n",
        "\n",
        "\n",
        "■ DNN (Deep Neural Network)\n",
        "\n",
        "​\n",
        "\n",
        "- ANN 기법의 여러문제가 해결되면서 모델 내 은닉층을 많이 늘려서 학습의 결과를 향상 시키는 방법 등장\n",
        "\n",
        "- 그것은 DNN! 은닉층을 2개 이상 지닌 학습 방법을 뜻하고, 컴퓨터가 스스로 분류 레이블을 만들어 내고,\n",
        "\n",
        "   공간을 왜곡하고, 데이터를 구분짓는 과정을 반복하여, 최적의 구분선을 도출해냄!\n",
        "\n",
        "- DNN을 응용한 알고리즘이 바로 CNN, RNN 이고, 이외에도 LSTM, GRU 등이 있음\n",
        "\n",
        "   → LSTM, GRU은 RNN 계열이라고 보면 됨\n"
      ],
      "metadata": {
        "id": "qZIJ-iObXqPI"
      }
    },
    {
      "cell_type": "markdown",
      "source": [
        "---\n",
        "\n",
        "■ CNN (합성곱신경망 : Convolution Neural Network)\n",
        "\n",
        "     ㄴ 이미지 인식, 정보 추출, 문장 분류, 얼굴인식 등의 분야에서 널리 사용되고 있음\n",
        "\n",
        "​\n",
        "\n",
        "- 기존 방식은 데이터에서 지식을 추출해 학습이 이루어 졌지만,\n",
        "\n",
        "   CNN은 데이터의 특징을 추출하여, 특징들의 패턴을 파악하는 구조\n",
        "\n",
        "- Convolution 과정과 Pooling 과정을 통해 진행 (여기서 특징을 잡아냄)\n",
        "\n",
        "  ※ Convolution Layer와 Pooling Layer를 복합적으로 구성하여 알고리즘을 만듦\n",
        "\n",
        "​- 데이터의 특징을 추출하는 과정으로 데이터에 각 성분의 인접 성분들을 조사해 특징을 파악하고,\n",
        "\n",
        "   파악한 특징을 한장으로 도출시키는 과정\n",
        "\n",
        "- 여기서 도출된 장을 'Convolution Layer' 라고 함\n",
        "\n",
        "- 이 과정은 하나의 압축 과정이며, 파라미터의 갯수를 효과적으로 줄여주는 역할을 함\n",
        "\n",
        "​\n",
        "\n",
        "▷ Pooling\n",
        "\n",
        "- Convolution 과정을 거친 레이어의 사이즈를 줄여주는 과정\n",
        "\n",
        "- 단순히 데이터의 사이즈를 줄여주고, 노이즈를 상쇄시키고 미세한 부분에서 일관적인 특징을 제공\n"
      ],
      "metadata": {
        "id": "O4rEm_8CXsY_"
      }
    },
    {
      "cell_type": "markdown",
      "source": [
        "---\n",
        "\n",
        "■ RNN (순환신경망 : Recurrent Neural Network)\n",
        "\n",
        "    ㄴ Recurrent : 되풀이되는, 반복되는, 재발되는\n",
        "\n",
        "​\n",
        "\n",
        "- RNN 알고리즘은 반복적이고 순차적인 데이터(Sequential data)학습에 특화된 인공신경망의 한 종류\n",
        "\n",
        "- 내부의 순환구조가 들어있다는 특징\n",
        "\n",
        "- **시계열 데이터**인 **자연어 처리 분야**에서 매우 좋은 성능을 발휘함\n",
        "\n",
        "- 순환구조를 이용하여 과거의 학습을 Weight를 통해 현재 학습에 반영\n",
        "\n",
        "​\n",
        "\n",
        "- 기존의 지속적이고 반복적이며 순차적인 데이터학습의 한계를 해결한 알고리즘\n",
        "\n",
        "- 현재의 학습과 과거의 학습 연결을 가능하게 하고 시간에 종속된다는 특징\n",
        "\n",
        "- 음성 웨이브폼을 파악하거나, 텍스트의 앞 뒤 성분을 파악할 때 주로 사용됨\n"
      ],
      "metadata": {
        "id": "-WBdVj5kXz-3"
      }
    }
  ]
}