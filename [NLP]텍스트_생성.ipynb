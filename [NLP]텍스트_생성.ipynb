{
  "nbformat": 4,
  "nbformat_minor": 0,
  "metadata": {
    "colab": {
      "name": "[NLP]텍스트_생성.ipynb",
      "provenance": [],
      "collapsed_sections": [],
      "authorship_tag": "ABX9TyOqe2AFCh3C6POwrEPWg27r",
      "include_colab_link": true
    },
    "kernelspec": {
      "name": "python3",
      "display_name": "Python 3"
    },
    "language_info": {
      "name": "python"
    }
  },
  "cells": [
    {
      "cell_type": "markdown",
      "metadata": {
        "id": "view-in-github",
        "colab_type": "text"
      },
      "source": [
        "<a href=\"https://colab.research.google.com/github/ovozzx/Machine-Learning/blob/master/%5BNLP%5D%ED%85%8D%EC%8A%A4%ED%8A%B8_%EC%83%9D%EC%84%B1.ipynb\" target=\"_parent\"><img src=\"https://colab.research.google.com/assets/colab-badge.svg\" alt=\"Open In Colab\"/></a>"
      ]
    },
    {
      "cell_type": "markdown",
      "source": [
        "출처 : https://wikidocs.net/45101"
      ],
      "metadata": {
        "id": "EvuFcuwbqovm"
      }
    },
    {
      "cell_type": "markdown",
      "source": [
        "# 1. RNN을 이용하여 텍스트 생성하기"
      ],
      "metadata": {
        "id": "1i-3iE1LYah6"
      }
    },
    {
      "cell_type": "code",
      "execution_count": 12,
      "metadata": {
        "id": "m038AMCNxUcH"
      },
      "outputs": [],
      "source": [
        "import numpy as np\n",
        "from tensorflow.keras.preprocessing.text import Tokenizer\n",
        "from tensorflow.keras.preprocessing.sequence import pad_sequences\n",
        "from tensorflow.keras.utils import to_categorical"
      ]
    },
    {
      "cell_type": "code",
      "source": [
        "#3가지 문장 \n",
        "text = \"\"\"경마장에 있는 말이 뛰고 있다\\n\n",
        "그의 말이 법이다\\n\n",
        "가는 말이 고와야 오는 말이 곱다\\n\"\"\""
      ],
      "metadata": {
        "id": "Dp5dPBlhzG01"
      },
      "execution_count": 13,
      "outputs": []
    },
    {
      "cell_type": "code",
      "source": [
        "tokenizer = Tokenizer()\n",
        "tokenizer.fit_on_texts([text])\n",
        "vocab_size = len(tokenizer.word_index) + 1\n",
        "print('단어 집합의 크기 : %d' % vocab_size)"
      ],
      "metadata": {
        "colab": {
          "base_uri": "https://localhost:8080/"
        },
        "id": "Vwbzfrt7zG29",
        "outputId": "2e115640-048e-4cbd-e90f-2a50e68c308f"
      },
      "execution_count": 14,
      "outputs": [
        {
          "output_type": "stream",
          "name": "stdout",
          "text": [
            "단어 집합의 크기 : 12\n"
          ]
        }
      ]
    },
    {
      "cell_type": "code",
      "source": [
        "print(tokenizer.word_index)"
      ],
      "metadata": {
        "colab": {
          "base_uri": "https://localhost:8080/"
        },
        "id": "fBlYnq4LzG5V",
        "outputId": "2bf8306c-87ca-4934-d1e7-baf7d1748c8a"
      },
      "execution_count": 15,
      "outputs": [
        {
          "output_type": "stream",
          "name": "stdout",
          "text": [
            "{'말이': 1, '경마장에': 2, '있는': 3, '뛰고': 4, '있다': 5, '그의': 6, '법이다': 7, '가는': 8, '고와야': 9, '오는': 10, '곱다': 11}\n"
          ]
        }
      ]
    },
    {
      "cell_type": "code",
      "source": [
        "sequences = list()\n",
        "for line in text.split('\\n'): # 줄바꿈 문자를 기준으로 문장 토큰화\n",
        "    encoded = tokenizer.texts_to_sequences([line])[0]\n",
        "    for i in range(1, len(encoded)):\n",
        "        sequence = encoded[:i+1]\n",
        "        sequences.append(sequence)\n",
        "\n",
        "print('학습에 사용할 샘플의 개수: %d' % len(sequences))"
      ],
      "metadata": {
        "colab": {
          "base_uri": "https://localhost:8080/"
        },
        "id": "F2S9a0At_ytM",
        "outputId": "9c3b3a26-11f3-49b5-b3a8-0bffe8223671"
      },
      "execution_count": 16,
      "outputs": [
        {
          "output_type": "stream",
          "name": "stdout",
          "text": [
            "학습에 사용할 샘플의 개수: 11\n"
          ]
        }
      ]
    },
    {
      "cell_type": "code",
      "source": [
        "print(sequences)"
      ],
      "metadata": {
        "colab": {
          "base_uri": "https://localhost:8080/"
        },
        "id": "KLSAOQtx_yzU",
        "outputId": "f9b5b59b-e6c7-4970-83cf-bb916ae84092"
      },
      "execution_count": 17,
      "outputs": [
        {
          "output_type": "stream",
          "name": "stdout",
          "text": [
            "[[2, 3], [2, 3, 1], [2, 3, 1, 4], [2, 3, 1, 4, 5], [6, 1], [6, 1, 7], [8, 1], [8, 1, 9], [8, 1, 9, 10], [8, 1, 9, 10, 1], [8, 1, 9, 10, 1, 11]]\n"
          ]
        }
      ]
    },
    {
      "cell_type": "code",
      "source": [
        "max_len = max(len(l) for l in sequences) # 모든 샘플에서 길이가 가장 긴 샘플의 길이 출력\n",
        "print('샘플의 최대 길이 : {}'.format(max_len))"
      ],
      "metadata": {
        "colab": {
          "base_uri": "https://localhost:8080/"
        },
        "id": "U3t7HzQK_y11",
        "outputId": "a0aea373-d422-4a7a-86df-841460292f6b"
      },
      "execution_count": 18,
      "outputs": [
        {
          "output_type": "stream",
          "name": "stdout",
          "text": [
            "샘플의 최대 길이 : 6\n"
          ]
        }
      ]
    },
    {
      "cell_type": "code",
      "source": [
        "sequences = pad_sequences(sequences, maxlen=max_len, padding='pre')"
      ],
      "metadata": {
        "id": "XGGdqKsLW10r"
      },
      "execution_count": 19,
      "outputs": []
    },
    {
      "cell_type": "code",
      "source": [
        "print(sequences)"
      ],
      "metadata": {
        "colab": {
          "base_uri": "https://localhost:8080/"
        },
        "id": "I_9UDr6zW13o",
        "outputId": "1c61a31d-a0c8-4c06-c227-9e76abb3e30b"
      },
      "execution_count": 20,
      "outputs": [
        {
          "output_type": "stream",
          "name": "stdout",
          "text": [
            "[[ 0  0  0  0  2  3]\n",
            " [ 0  0  0  2  3  1]\n",
            " [ 0  0  2  3  1  4]\n",
            " [ 0  2  3  1  4  5]\n",
            " [ 0  0  0  0  6  1]\n",
            " [ 0  0  0  6  1  7]\n",
            " [ 0  0  0  0  8  1]\n",
            " [ 0  0  0  8  1  9]\n",
            " [ 0  0  8  1  9 10]\n",
            " [ 0  8  1  9 10  1]\n",
            " [ 8  1  9 10  1 11]]\n"
          ]
        }
      ]
    },
    {
      "cell_type": "code",
      "source": [
        "sequences = np.array(sequences)\n",
        "X = sequences[:,:-1]\n",
        "y = sequences[:,-1]"
      ],
      "metadata": {
        "id": "HkelUeOhW16R"
      },
      "execution_count": 21,
      "outputs": []
    },
    {
      "cell_type": "code",
      "source": [
        "print(X)"
      ],
      "metadata": {
        "colab": {
          "base_uri": "https://localhost:8080/"
        },
        "id": "b-nUGOubW68x",
        "outputId": "31304753-e863-43e2-fbcb-2d61d0eb812e"
      },
      "execution_count": 22,
      "outputs": [
        {
          "output_type": "stream",
          "name": "stdout",
          "text": [
            "[[ 0  0  0  0  2]\n",
            " [ 0  0  0  2  3]\n",
            " [ 0  0  2  3  1]\n",
            " [ 0  2  3  1  4]\n",
            " [ 0  0  0  0  6]\n",
            " [ 0  0  0  6  1]\n",
            " [ 0  0  0  0  8]\n",
            " [ 0  0  0  8  1]\n",
            " [ 0  0  8  1  9]\n",
            " [ 0  8  1  9 10]\n",
            " [ 8  1  9 10  1]]\n"
          ]
        }
      ]
    },
    {
      "cell_type": "code",
      "source": [
        "print(y)"
      ],
      "metadata": {
        "colab": {
          "base_uri": "https://localhost:8080/"
        },
        "id": "cr57m-2mW6_J",
        "outputId": "68b35dbf-7c09-4fc5-cd86-a384def99105"
      },
      "execution_count": 23,
      "outputs": [
        {
          "output_type": "stream",
          "name": "stdout",
          "text": [
            "[ 3  1  4  5  1  7  1  9 10  1 11]\n"
          ]
        }
      ]
    },
    {
      "cell_type": "code",
      "source": [
        "y = to_categorical(y, num_classes=vocab_size)"
      ],
      "metadata": {
        "id": "cGXbjyhEW7BJ"
      },
      "execution_count": 24,
      "outputs": []
    },
    {
      "cell_type": "code",
      "source": [
        "print(y)"
      ],
      "metadata": {
        "colab": {
          "base_uri": "https://localhost:8080/"
        },
        "id": "u5f31ZDpW7Dg",
        "outputId": "2c4304c2-c7aa-4039-fe6b-c6c7d2c4edae"
      },
      "execution_count": 25,
      "outputs": [
        {
          "output_type": "stream",
          "name": "stdout",
          "text": [
            "[[0. 0. 0. 1. 0. 0. 0. 0. 0. 0. 0. 0.]\n",
            " [0. 1. 0. 0. 0. 0. 0. 0. 0. 0. 0. 0.]\n",
            " [0. 0. 0. 0. 1. 0. 0. 0. 0. 0. 0. 0.]\n",
            " [0. 0. 0. 0. 0. 1. 0. 0. 0. 0. 0. 0.]\n",
            " [0. 1. 0. 0. 0. 0. 0. 0. 0. 0. 0. 0.]\n",
            " [0. 0. 0. 0. 0. 0. 0. 1. 0. 0. 0. 0.]\n",
            " [0. 1. 0. 0. 0. 0. 0. 0. 0. 0. 0. 0.]\n",
            " [0. 0. 0. 0. 0. 0. 0. 0. 0. 1. 0. 0.]\n",
            " [0. 0. 0. 0. 0. 0. 0. 0. 0. 0. 1. 0.]\n",
            " [0. 1. 0. 0. 0. 0. 0. 0. 0. 0. 0. 0.]\n",
            " [0. 0. 0. 0. 0. 0. 0. 0. 0. 0. 0. 1.]]\n"
          ]
        }
      ]
    },
    {
      "cell_type": "markdown",
      "source": [
        "# - 모델 설계"
      ],
      "metadata": {
        "id": "1Hg51roRXGh4"
      }
    },
    {
      "cell_type": "code",
      "source": [
        "from tensorflow.keras.models import Sequential\n",
        "from tensorflow.keras.layers import Embedding, Dense, SimpleRNN"
      ],
      "metadata": {
        "id": "mthsRE4zXCsw"
      },
      "execution_count": 26,
      "outputs": []
    },
    {
      "cell_type": "code",
      "source": [
        "embedding_dim = 10\n",
        "hidden_units = 32\n",
        "\n",
        "model = Sequential()\n",
        "model.add(Embedding(vocab_size, embedding_dim))\n",
        "model.add(SimpleRNN(hidden_units))\n",
        "model.add(Dense(vocab_size, activation='softmax'))\n",
        "model.compile(loss='categorical_crossentropy', optimizer='adam', metrics=['accuracy'])\n",
        "model.fit(X, y, epochs=200, verbose=2)"
      ],
      "metadata": {
        "colab": {
          "base_uri": "https://localhost:8080/"
        },
        "id": "C8WKN_3kXCvh",
        "outputId": "2ee56dd4-10ae-49f0-f2cc-f40b6daf6229"
      },
      "execution_count": 27,
      "outputs": [
        {
          "output_type": "stream",
          "name": "stdout",
          "text": [
            "Epoch 1/200\n",
            "1/1 - 1s - loss: 2.4912 - accuracy: 0.1818 - 1s/epoch - 1s/step\n",
            "Epoch 2/200\n",
            "1/1 - 0s - loss: 2.4785 - accuracy: 0.1818 - 14ms/epoch - 14ms/step\n",
            "Epoch 3/200\n",
            "1/1 - 0s - loss: 2.4656 - accuracy: 0.2727 - 9ms/epoch - 9ms/step\n",
            "Epoch 4/200\n",
            "1/1 - 0s - loss: 2.4524 - accuracy: 0.3636 - 8ms/epoch - 8ms/step\n",
            "Epoch 5/200\n",
            "1/1 - 0s - loss: 2.4388 - accuracy: 0.3636 - 11ms/epoch - 11ms/step\n",
            "Epoch 6/200\n",
            "1/1 - 0s - loss: 2.4246 - accuracy: 0.3636 - 11ms/epoch - 11ms/step\n",
            "Epoch 7/200\n",
            "1/1 - 0s - loss: 2.4099 - accuracy: 0.3636 - 9ms/epoch - 9ms/step\n",
            "Epoch 8/200\n",
            "1/1 - 0s - loss: 2.3944 - accuracy: 0.4545 - 10ms/epoch - 10ms/step\n",
            "Epoch 9/200\n",
            "1/1 - 0s - loss: 2.3781 - accuracy: 0.4545 - 6ms/epoch - 6ms/step\n",
            "Epoch 10/200\n",
            "1/1 - 0s - loss: 2.3609 - accuracy: 0.4545 - 8ms/epoch - 8ms/step\n",
            "Epoch 11/200\n",
            "1/1 - 0s - loss: 2.3427 - accuracy: 0.4545 - 8ms/epoch - 8ms/step\n",
            "Epoch 12/200\n",
            "1/1 - 0s - loss: 2.3235 - accuracy: 0.4545 - 10ms/epoch - 10ms/step\n",
            "Epoch 13/200\n",
            "1/1 - 0s - loss: 2.3031 - accuracy: 0.4545 - 11ms/epoch - 11ms/step\n",
            "Epoch 14/200\n",
            "1/1 - 0s - loss: 2.2817 - accuracy: 0.4545 - 7ms/epoch - 7ms/step\n",
            "Epoch 15/200\n",
            "1/1 - 0s - loss: 2.2591 - accuracy: 0.3636 - 9ms/epoch - 9ms/step\n",
            "Epoch 16/200\n",
            "1/1 - 0s - loss: 2.2354 - accuracy: 0.3636 - 8ms/epoch - 8ms/step\n",
            "Epoch 17/200\n",
            "1/1 - 0s - loss: 2.2106 - accuracy: 0.3636 - 9ms/epoch - 9ms/step\n",
            "Epoch 18/200\n",
            "1/1 - 0s - loss: 2.1849 - accuracy: 0.3636 - 10ms/epoch - 10ms/step\n",
            "Epoch 19/200\n",
            "1/1 - 0s - loss: 2.1584 - accuracy: 0.3636 - 9ms/epoch - 9ms/step\n",
            "Epoch 20/200\n",
            "1/1 - 0s - loss: 2.1312 - accuracy: 0.3636 - 8ms/epoch - 8ms/step\n",
            "Epoch 21/200\n",
            "1/1 - 0s - loss: 2.1038 - accuracy: 0.3636 - 9ms/epoch - 9ms/step\n",
            "Epoch 22/200\n",
            "1/1 - 0s - loss: 2.0763 - accuracy: 0.3636 - 7ms/epoch - 7ms/step\n",
            "Epoch 23/200\n",
            "1/1 - 0s - loss: 2.0493 - accuracy: 0.3636 - 8ms/epoch - 8ms/step\n",
            "Epoch 24/200\n",
            "1/1 - 0s - loss: 2.0232 - accuracy: 0.3636 - 9ms/epoch - 9ms/step\n",
            "Epoch 25/200\n",
            "1/1 - 0s - loss: 1.9984 - accuracy: 0.3636 - 9ms/epoch - 9ms/step\n",
            "Epoch 26/200\n",
            "1/1 - 0s - loss: 1.9755 - accuracy: 0.3636 - 8ms/epoch - 8ms/step\n",
            "Epoch 27/200\n",
            "1/1 - 0s - loss: 1.9550 - accuracy: 0.3636 - 10ms/epoch - 10ms/step\n",
            "Epoch 28/200\n",
            "1/1 - 0s - loss: 1.9370 - accuracy: 0.3636 - 11ms/epoch - 11ms/step\n",
            "Epoch 29/200\n",
            "1/1 - 0s - loss: 1.9219 - accuracy: 0.3636 - 9ms/epoch - 9ms/step\n",
            "Epoch 30/200\n",
            "1/1 - 0s - loss: 1.9093 - accuracy: 0.3636 - 10ms/epoch - 10ms/step\n",
            "Epoch 31/200\n",
            "1/1 - 0s - loss: 1.8989 - accuracy: 0.3636 - 13ms/epoch - 13ms/step\n",
            "Epoch 32/200\n",
            "1/1 - 0s - loss: 1.8899 - accuracy: 0.3636 - 8ms/epoch - 8ms/step\n",
            "Epoch 33/200\n",
            "1/1 - 0s - loss: 1.8815 - accuracy: 0.3636 - 8ms/epoch - 8ms/step\n",
            "Epoch 34/200\n",
            "1/1 - 0s - loss: 1.8729 - accuracy: 0.3636 - 8ms/epoch - 8ms/step\n",
            "Epoch 35/200\n",
            "1/1 - 0s - loss: 1.8636 - accuracy: 0.3636 - 8ms/epoch - 8ms/step\n",
            "Epoch 36/200\n",
            "1/1 - 0s - loss: 1.8532 - accuracy: 0.3636 - 8ms/epoch - 8ms/step\n",
            "Epoch 37/200\n",
            "1/1 - 0s - loss: 1.8418 - accuracy: 0.3636 - 9ms/epoch - 9ms/step\n",
            "Epoch 38/200\n",
            "1/1 - 0s - loss: 1.8293 - accuracy: 0.3636 - 10ms/epoch - 10ms/step\n",
            "Epoch 39/200\n",
            "1/1 - 0s - loss: 1.8160 - accuracy: 0.3636 - 10ms/epoch - 10ms/step\n",
            "Epoch 40/200\n",
            "1/1 - 0s - loss: 1.8023 - accuracy: 0.3636 - 7ms/epoch - 7ms/step\n",
            "Epoch 41/200\n",
            "1/1 - 0s - loss: 1.7882 - accuracy: 0.3636 - 7ms/epoch - 7ms/step\n",
            "Epoch 42/200\n",
            "1/1 - 0s - loss: 1.7740 - accuracy: 0.3636 - 9ms/epoch - 9ms/step\n",
            "Epoch 43/200\n",
            "1/1 - 0s - loss: 1.7598 - accuracy: 0.3636 - 8ms/epoch - 8ms/step\n",
            "Epoch 44/200\n",
            "1/1 - 0s - loss: 1.7457 - accuracy: 0.3636 - 12ms/epoch - 12ms/step\n",
            "Epoch 45/200\n",
            "1/1 - 0s - loss: 1.7316 - accuracy: 0.3636 - 9ms/epoch - 9ms/step\n",
            "Epoch 46/200\n",
            "1/1 - 0s - loss: 1.7175 - accuracy: 0.3636 - 8ms/epoch - 8ms/step\n",
            "Epoch 47/200\n",
            "1/1 - 0s - loss: 1.7032 - accuracy: 0.3636 - 8ms/epoch - 8ms/step\n",
            "Epoch 48/200\n",
            "1/1 - 0s - loss: 1.6888 - accuracy: 0.3636 - 12ms/epoch - 12ms/step\n",
            "Epoch 49/200\n",
            "1/1 - 0s - loss: 1.6740 - accuracy: 0.4545 - 11ms/epoch - 11ms/step\n",
            "Epoch 50/200\n",
            "1/1 - 0s - loss: 1.6589 - accuracy: 0.4545 - 9ms/epoch - 9ms/step\n",
            "Epoch 51/200\n",
            "1/1 - 0s - loss: 1.6433 - accuracy: 0.4545 - 12ms/epoch - 12ms/step\n",
            "Epoch 52/200\n",
            "1/1 - 0s - loss: 1.6272 - accuracy: 0.4545 - 7ms/epoch - 7ms/step\n",
            "Epoch 53/200\n",
            "1/1 - 0s - loss: 1.6105 - accuracy: 0.4545 - 12ms/epoch - 12ms/step\n",
            "Epoch 54/200\n",
            "1/1 - 0s - loss: 1.5933 - accuracy: 0.4545 - 8ms/epoch - 8ms/step\n",
            "Epoch 55/200\n",
            "1/1 - 0s - loss: 1.5756 - accuracy: 0.4545 - 8ms/epoch - 8ms/step\n",
            "Epoch 56/200\n",
            "1/1 - 0s - loss: 1.5572 - accuracy: 0.4545 - 9ms/epoch - 9ms/step\n",
            "Epoch 57/200\n",
            "1/1 - 0s - loss: 1.5384 - accuracy: 0.4545 - 10ms/epoch - 10ms/step\n",
            "Epoch 58/200\n",
            "1/1 - 0s - loss: 1.5190 - accuracy: 0.4545 - 6ms/epoch - 6ms/step\n",
            "Epoch 59/200\n",
            "1/1 - 0s - loss: 1.4991 - accuracy: 0.4545 - 9ms/epoch - 9ms/step\n",
            "Epoch 60/200\n",
            "1/1 - 0s - loss: 1.4787 - accuracy: 0.4545 - 11ms/epoch - 11ms/step\n",
            "Epoch 61/200\n",
            "1/1 - 0s - loss: 1.4579 - accuracy: 0.4545 - 9ms/epoch - 9ms/step\n",
            "Epoch 62/200\n",
            "1/1 - 0s - loss: 1.4367 - accuracy: 0.4545 - 14ms/epoch - 14ms/step\n",
            "Epoch 63/200\n",
            "1/1 - 0s - loss: 1.4153 - accuracy: 0.5455 - 10ms/epoch - 10ms/step\n",
            "Epoch 64/200\n",
            "1/1 - 0s - loss: 1.3935 - accuracy: 0.5455 - 12ms/epoch - 12ms/step\n",
            "Epoch 65/200\n",
            "1/1 - 0s - loss: 1.3715 - accuracy: 0.5455 - 10ms/epoch - 10ms/step\n",
            "Epoch 66/200\n",
            "1/1 - 0s - loss: 1.3493 - accuracy: 0.6364 - 11ms/epoch - 11ms/step\n",
            "Epoch 67/200\n",
            "1/1 - 0s - loss: 1.3270 - accuracy: 0.6364 - 10ms/epoch - 10ms/step\n",
            "Epoch 68/200\n",
            "1/1 - 0s - loss: 1.3046 - accuracy: 0.6364 - 8ms/epoch - 8ms/step\n",
            "Epoch 69/200\n",
            "1/1 - 0s - loss: 1.2821 - accuracy: 0.6364 - 9ms/epoch - 9ms/step\n",
            "Epoch 70/200\n",
            "1/1 - 0s - loss: 1.2597 - accuracy: 0.7273 - 10ms/epoch - 10ms/step\n",
            "Epoch 71/200\n",
            "1/1 - 0s - loss: 1.2373 - accuracy: 0.7273 - 11ms/epoch - 11ms/step\n",
            "Epoch 72/200\n",
            "1/1 - 0s - loss: 1.2150 - accuracy: 0.7273 - 13ms/epoch - 13ms/step\n",
            "Epoch 73/200\n",
            "1/1 - 0s - loss: 1.1929 - accuracy: 0.7273 - 11ms/epoch - 11ms/step\n",
            "Epoch 74/200\n",
            "1/1 - 0s - loss: 1.1710 - accuracy: 0.7273 - 11ms/epoch - 11ms/step\n",
            "Epoch 75/200\n",
            "1/1 - 0s - loss: 1.1494 - accuracy: 0.7273 - 13ms/epoch - 13ms/step\n",
            "Epoch 76/200\n",
            "1/1 - 0s - loss: 1.1280 - accuracy: 0.7273 - 9ms/epoch - 9ms/step\n",
            "Epoch 77/200\n",
            "1/1 - 0s - loss: 1.1070 - accuracy: 0.7273 - 10ms/epoch - 10ms/step\n",
            "Epoch 78/200\n",
            "1/1 - 0s - loss: 1.0862 - accuracy: 0.7273 - 11ms/epoch - 11ms/step\n",
            "Epoch 79/200\n",
            "1/1 - 0s - loss: 1.0659 - accuracy: 0.7273 - 11ms/epoch - 11ms/step\n",
            "Epoch 80/200\n",
            "1/1 - 0s - loss: 1.0459 - accuracy: 0.7273 - 10ms/epoch - 10ms/step\n",
            "Epoch 81/200\n",
            "1/1 - 0s - loss: 1.0263 - accuracy: 0.7273 - 12ms/epoch - 12ms/step\n",
            "Epoch 82/200\n",
            "1/1 - 0s - loss: 1.0070 - accuracy: 0.7273 - 9ms/epoch - 9ms/step\n",
            "Epoch 83/200\n",
            "1/1 - 0s - loss: 0.9882 - accuracy: 0.7273 - 10ms/epoch - 10ms/step\n",
            "Epoch 84/200\n",
            "1/1 - 0s - loss: 0.9697 - accuracy: 0.7273 - 16ms/epoch - 16ms/step\n",
            "Epoch 85/200\n",
            "1/1 - 0s - loss: 0.9516 - accuracy: 0.7273 - 13ms/epoch - 13ms/step\n",
            "Epoch 86/200\n",
            "1/1 - 0s - loss: 0.9339 - accuracy: 0.7273 - 12ms/epoch - 12ms/step\n",
            "Epoch 87/200\n",
            "1/1 - 0s - loss: 0.9165 - accuracy: 0.7273 - 11ms/epoch - 11ms/step\n",
            "Epoch 88/200\n",
            "1/1 - 0s - loss: 0.8995 - accuracy: 0.7273 - 11ms/epoch - 11ms/step\n",
            "Epoch 89/200\n",
            "1/1 - 0s - loss: 0.8829 - accuracy: 0.7273 - 8ms/epoch - 8ms/step\n",
            "Epoch 90/200\n",
            "1/1 - 0s - loss: 0.8666 - accuracy: 0.7273 - 9ms/epoch - 9ms/step\n",
            "Epoch 91/200\n",
            "1/1 - 0s - loss: 0.8506 - accuracy: 0.7273 - 15ms/epoch - 15ms/step\n",
            "Epoch 92/200\n",
            "1/1 - 0s - loss: 0.8350 - accuracy: 0.7273 - 9ms/epoch - 9ms/step\n",
            "Epoch 93/200\n",
            "1/1 - 0s - loss: 0.8198 - accuracy: 0.7273 - 11ms/epoch - 11ms/step\n",
            "Epoch 94/200\n",
            "1/1 - 0s - loss: 0.8048 - accuracy: 0.7273 - 9ms/epoch - 9ms/step\n",
            "Epoch 95/200\n",
            "1/1 - 0s - loss: 0.7902 - accuracy: 0.7273 - 10ms/epoch - 10ms/step\n",
            "Epoch 96/200\n",
            "1/1 - 0s - loss: 0.7759 - accuracy: 0.7273 - 9ms/epoch - 9ms/step\n",
            "Epoch 97/200\n",
            "1/1 - 0s - loss: 0.7619 - accuracy: 0.7273 - 10ms/epoch - 10ms/step\n",
            "Epoch 98/200\n",
            "1/1 - 0s - loss: 0.7481 - accuracy: 0.7273 - 11ms/epoch - 11ms/step\n",
            "Epoch 99/200\n",
            "1/1 - 0s - loss: 0.7347 - accuracy: 0.7273 - 10ms/epoch - 10ms/step\n",
            "Epoch 100/200\n",
            "1/1 - 0s - loss: 0.7215 - accuracy: 0.7273 - 9ms/epoch - 9ms/step\n",
            "Epoch 101/200\n",
            "1/1 - 0s - loss: 0.7086 - accuracy: 0.7273 - 9ms/epoch - 9ms/step\n",
            "Epoch 102/200\n",
            "1/1 - 0s - loss: 0.6959 - accuracy: 0.7273 - 11ms/epoch - 11ms/step\n",
            "Epoch 103/200\n",
            "1/1 - 0s - loss: 0.6835 - accuracy: 0.7273 - 10ms/epoch - 10ms/step\n",
            "Epoch 104/200\n",
            "1/1 - 0s - loss: 0.6713 - accuracy: 0.7273 - 9ms/epoch - 9ms/step\n",
            "Epoch 105/200\n",
            "1/1 - 0s - loss: 0.6593 - accuracy: 0.7273 - 9ms/epoch - 9ms/step\n",
            "Epoch 106/200\n",
            "1/1 - 0s - loss: 0.6476 - accuracy: 0.7273 - 11ms/epoch - 11ms/step\n",
            "Epoch 107/200\n",
            "1/1 - 0s - loss: 0.6360 - accuracy: 0.7273 - 10ms/epoch - 10ms/step\n",
            "Epoch 108/200\n",
            "1/1 - 0s - loss: 0.6247 - accuracy: 0.7273 - 8ms/epoch - 8ms/step\n",
            "Epoch 109/200\n",
            "1/1 - 0s - loss: 0.6136 - accuracy: 0.7273 - 9ms/epoch - 9ms/step\n",
            "Epoch 110/200\n",
            "1/1 - 0s - loss: 0.6026 - accuracy: 0.7273 - 11ms/epoch - 11ms/step\n",
            "Epoch 111/200\n",
            "1/1 - 0s - loss: 0.5919 - accuracy: 0.7273 - 8ms/epoch - 8ms/step\n",
            "Epoch 112/200\n",
            "1/1 - 0s - loss: 0.5813 - accuracy: 0.8182 - 17ms/epoch - 17ms/step\n",
            "Epoch 113/200\n",
            "1/1 - 0s - loss: 0.5708 - accuracy: 0.8182 - 15ms/epoch - 15ms/step\n",
            "Epoch 114/200\n",
            "1/1 - 0s - loss: 0.5606 - accuracy: 0.9091 - 8ms/epoch - 8ms/step\n",
            "Epoch 115/200\n",
            "1/1 - 0s - loss: 0.5505 - accuracy: 0.9091 - 14ms/epoch - 14ms/step\n",
            "Epoch 116/200\n",
            "1/1 - 0s - loss: 0.5405 - accuracy: 0.9091 - 10ms/epoch - 10ms/step\n",
            "Epoch 117/200\n",
            "1/1 - 0s - loss: 0.5307 - accuracy: 0.9091 - 10ms/epoch - 10ms/step\n",
            "Epoch 118/200\n",
            "1/1 - 0s - loss: 0.5211 - accuracy: 0.9091 - 10ms/epoch - 10ms/step\n",
            "Epoch 119/200\n",
            "1/1 - 0s - loss: 0.5116 - accuracy: 0.9091 - 10ms/epoch - 10ms/step\n",
            "Epoch 120/200\n",
            "1/1 - 0s - loss: 0.5022 - accuracy: 0.9091 - 14ms/epoch - 14ms/step\n",
            "Epoch 121/200\n",
            "1/1 - 0s - loss: 0.4930 - accuracy: 0.9091 - 10ms/epoch - 10ms/step\n",
            "Epoch 122/200\n",
            "1/1 - 0s - loss: 0.4839 - accuracy: 0.9091 - 9ms/epoch - 9ms/step\n",
            "Epoch 123/200\n",
            "1/1 - 0s - loss: 0.4750 - accuracy: 0.9091 - 9ms/epoch - 9ms/step\n",
            "Epoch 124/200\n",
            "1/1 - 0s - loss: 0.4662 - accuracy: 0.9091 - 7ms/epoch - 7ms/step\n",
            "Epoch 125/200\n",
            "1/1 - 0s - loss: 0.4575 - accuracy: 0.9091 - 8ms/epoch - 8ms/step\n",
            "Epoch 126/200\n",
            "1/1 - 0s - loss: 0.4490 - accuracy: 0.9091 - 7ms/epoch - 7ms/step\n",
            "Epoch 127/200\n",
            "1/1 - 0s - loss: 0.4406 - accuracy: 0.9091 - 12ms/epoch - 12ms/step\n",
            "Epoch 128/200\n",
            "1/1 - 0s - loss: 0.4324 - accuracy: 0.9091 - 14ms/epoch - 14ms/step\n",
            "Epoch 129/200\n",
            "1/1 - 0s - loss: 0.4242 - accuracy: 0.9091 - 10ms/epoch - 10ms/step\n",
            "Epoch 130/200\n",
            "1/1 - 0s - loss: 0.4162 - accuracy: 0.9091 - 8ms/epoch - 8ms/step\n",
            "Epoch 131/200\n",
            "1/1 - 0s - loss: 0.4084 - accuracy: 0.9091 - 11ms/epoch - 11ms/step\n",
            "Epoch 132/200\n",
            "1/1 - 0s - loss: 0.4006 - accuracy: 0.9091 - 11ms/epoch - 11ms/step\n",
            "Epoch 133/200\n",
            "1/1 - 0s - loss: 0.3930 - accuracy: 0.9091 - 11ms/epoch - 11ms/step\n",
            "Epoch 134/200\n",
            "1/1 - 0s - loss: 0.3855 - accuracy: 0.9091 - 10ms/epoch - 10ms/step\n",
            "Epoch 135/200\n",
            "1/1 - 0s - loss: 0.3782 - accuracy: 0.9091 - 15ms/epoch - 15ms/step\n",
            "Epoch 136/200\n",
            "1/1 - 0s - loss: 0.3710 - accuracy: 0.9091 - 10ms/epoch - 10ms/step\n",
            "Epoch 137/200\n",
            "1/1 - 0s - loss: 0.3639 - accuracy: 1.0000 - 12ms/epoch - 12ms/step\n",
            "Epoch 138/200\n",
            "1/1 - 0s - loss: 0.3569 - accuracy: 1.0000 - 9ms/epoch - 9ms/step\n",
            "Epoch 139/200\n",
            "1/1 - 0s - loss: 0.3501 - accuracy: 1.0000 - 10ms/epoch - 10ms/step\n",
            "Epoch 140/200\n",
            "1/1 - 0s - loss: 0.3433 - accuracy: 1.0000 - 8ms/epoch - 8ms/step\n",
            "Epoch 141/200\n",
            "1/1 - 0s - loss: 0.3367 - accuracy: 1.0000 - 5ms/epoch - 5ms/step\n",
            "Epoch 142/200\n",
            "1/1 - 0s - loss: 0.3303 - accuracy: 1.0000 - 6ms/epoch - 6ms/step\n",
            "Epoch 143/200\n",
            "1/1 - 0s - loss: 0.3239 - accuracy: 1.0000 - 9ms/epoch - 9ms/step\n",
            "Epoch 144/200\n",
            "1/1 - 0s - loss: 0.3177 - accuracy: 1.0000 - 10ms/epoch - 10ms/step\n",
            "Epoch 145/200\n",
            "1/1 - 0s - loss: 0.3116 - accuracy: 1.0000 - 11ms/epoch - 11ms/step\n",
            "Epoch 146/200\n",
            "1/1 - 0s - loss: 0.3056 - accuracy: 1.0000 - 6ms/epoch - 6ms/step\n",
            "Epoch 147/200\n",
            "1/1 - 0s - loss: 0.2997 - accuracy: 1.0000 - 6ms/epoch - 6ms/step\n",
            "Epoch 148/200\n",
            "1/1 - 0s - loss: 0.2940 - accuracy: 1.0000 - 6ms/epoch - 6ms/step\n",
            "Epoch 149/200\n",
            "1/1 - 0s - loss: 0.2883 - accuracy: 1.0000 - 6ms/epoch - 6ms/step\n",
            "Epoch 150/200\n",
            "1/1 - 0s - loss: 0.2828 - accuracy: 1.0000 - 6ms/epoch - 6ms/step\n",
            "Epoch 151/200\n",
            "1/1 - 0s - loss: 0.2774 - accuracy: 1.0000 - 6ms/epoch - 6ms/step\n",
            "Epoch 152/200\n",
            "1/1 - 0s - loss: 0.2721 - accuracy: 1.0000 - 6ms/epoch - 6ms/step\n",
            "Epoch 153/200\n",
            "1/1 - 0s - loss: 0.2669 - accuracy: 1.0000 - 6ms/epoch - 6ms/step\n",
            "Epoch 154/200\n",
            "1/1 - 0s - loss: 0.2618 - accuracy: 1.0000 - 6ms/epoch - 6ms/step\n",
            "Epoch 155/200\n",
            "1/1 - 0s - loss: 0.2568 - accuracy: 1.0000 - 6ms/epoch - 6ms/step\n",
            "Epoch 156/200\n",
            "1/1 - 0s - loss: 0.2519 - accuracy: 1.0000 - 17ms/epoch - 17ms/step\n",
            "Epoch 157/200\n",
            "1/1 - 0s - loss: 0.2472 - accuracy: 1.0000 - 12ms/epoch - 12ms/step\n",
            "Epoch 158/200\n",
            "1/1 - 0s - loss: 0.2425 - accuracy: 1.0000 - 10ms/epoch - 10ms/step\n",
            "Epoch 159/200\n",
            "1/1 - 0s - loss: 0.2379 - accuracy: 1.0000 - 9ms/epoch - 9ms/step\n",
            "Epoch 160/200\n",
            "1/1 - 0s - loss: 0.2335 - accuracy: 1.0000 - 7ms/epoch - 7ms/step\n",
            "Epoch 161/200\n",
            "1/1 - 0s - loss: 0.2291 - accuracy: 1.0000 - 7ms/epoch - 7ms/step\n",
            "Epoch 162/200\n",
            "1/1 - 0s - loss: 0.2248 - accuracy: 1.0000 - 7ms/epoch - 7ms/step\n",
            "Epoch 163/200\n",
            "1/1 - 0s - loss: 0.2206 - accuracy: 1.0000 - 7ms/epoch - 7ms/step\n",
            "Epoch 164/200\n",
            "1/1 - 0s - loss: 0.2165 - accuracy: 1.0000 - 8ms/epoch - 8ms/step\n",
            "Epoch 165/200\n",
            "1/1 - 0s - loss: 0.2125 - accuracy: 1.0000 - 11ms/epoch - 11ms/step\n",
            "Epoch 166/200\n",
            "1/1 - 0s - loss: 0.2086 - accuracy: 1.0000 - 8ms/epoch - 8ms/step\n",
            "Epoch 167/200\n",
            "1/1 - 0s - loss: 0.2048 - accuracy: 1.0000 - 6ms/epoch - 6ms/step\n",
            "Epoch 168/200\n",
            "1/1 - 0s - loss: 0.2010 - accuracy: 1.0000 - 6ms/epoch - 6ms/step\n",
            "Epoch 169/200\n",
            "1/1 - 0s - loss: 0.1974 - accuracy: 1.0000 - 10ms/epoch - 10ms/step\n",
            "Epoch 170/200\n",
            "1/1 - 0s - loss: 0.1938 - accuracy: 1.0000 - 8ms/epoch - 8ms/step\n",
            "Epoch 171/200\n",
            "1/1 - 0s - loss: 0.1903 - accuracy: 1.0000 - 10ms/epoch - 10ms/step\n",
            "Epoch 172/200\n",
            "1/1 - 0s - loss: 0.1868 - accuracy: 1.0000 - 6ms/epoch - 6ms/step\n",
            "Epoch 173/200\n",
            "1/1 - 0s - loss: 0.1835 - accuracy: 1.0000 - 6ms/epoch - 6ms/step\n",
            "Epoch 174/200\n",
            "1/1 - 0s - loss: 0.1802 - accuracy: 1.0000 - 6ms/epoch - 6ms/step\n",
            "Epoch 175/200\n",
            "1/1 - 0s - loss: 0.1770 - accuracy: 1.0000 - 6ms/epoch - 6ms/step\n",
            "Epoch 176/200\n",
            "1/1 - 0s - loss: 0.1739 - accuracy: 1.0000 - 8ms/epoch - 8ms/step\n",
            "Epoch 177/200\n",
            "1/1 - 0s - loss: 0.1708 - accuracy: 1.0000 - 7ms/epoch - 7ms/step\n",
            "Epoch 178/200\n",
            "1/1 - 0s - loss: 0.1678 - accuracy: 1.0000 - 12ms/epoch - 12ms/step\n",
            "Epoch 179/200\n",
            "1/1 - 0s - loss: 0.1648 - accuracy: 1.0000 - 7ms/epoch - 7ms/step\n",
            "Epoch 180/200\n",
            "1/1 - 0s - loss: 0.1620 - accuracy: 1.0000 - 7ms/epoch - 7ms/step\n",
            "Epoch 181/200\n",
            "1/1 - 0s - loss: 0.1591 - accuracy: 1.0000 - 6ms/epoch - 6ms/step\n",
            "Epoch 182/200\n",
            "1/1 - 0s - loss: 0.1564 - accuracy: 1.0000 - 7ms/epoch - 7ms/step\n",
            "Epoch 183/200\n",
            "1/1 - 0s - loss: 0.1537 - accuracy: 1.0000 - 7ms/epoch - 7ms/step\n",
            "Epoch 184/200\n",
            "1/1 - 0s - loss: 0.1510 - accuracy: 1.0000 - 9ms/epoch - 9ms/step\n",
            "Epoch 185/200\n",
            "1/1 - 0s - loss: 0.1485 - accuracy: 1.0000 - 8ms/epoch - 8ms/step\n",
            "Epoch 186/200\n",
            "1/1 - 0s - loss: 0.1459 - accuracy: 1.0000 - 7ms/epoch - 7ms/step\n",
            "Epoch 187/200\n",
            "1/1 - 0s - loss: 0.1435 - accuracy: 1.0000 - 7ms/epoch - 7ms/step\n",
            "Epoch 188/200\n",
            "1/1 - 0s - loss: 0.1410 - accuracy: 1.0000 - 7ms/epoch - 7ms/step\n",
            "Epoch 189/200\n",
            "1/1 - 0s - loss: 0.1387 - accuracy: 1.0000 - 8ms/epoch - 8ms/step\n",
            "Epoch 190/200\n",
            "1/1 - 0s - loss: 0.1363 - accuracy: 1.0000 - 8ms/epoch - 8ms/step\n",
            "Epoch 191/200\n",
            "1/1 - 0s - loss: 0.1341 - accuracy: 1.0000 - 8ms/epoch - 8ms/step\n",
            "Epoch 192/200\n",
            "1/1 - 0s - loss: 0.1318 - accuracy: 1.0000 - 7ms/epoch - 7ms/step\n",
            "Epoch 193/200\n",
            "1/1 - 0s - loss: 0.1297 - accuracy: 1.0000 - 12ms/epoch - 12ms/step\n",
            "Epoch 194/200\n",
            "1/1 - 0s - loss: 0.1275 - accuracy: 1.0000 - 13ms/epoch - 13ms/step\n",
            "Epoch 195/200\n",
            "1/1 - 0s - loss: 0.1254 - accuracy: 1.0000 - 10ms/epoch - 10ms/step\n",
            "Epoch 196/200\n",
            "1/1 - 0s - loss: 0.1234 - accuracy: 1.0000 - 11ms/epoch - 11ms/step\n",
            "Epoch 197/200\n",
            "1/1 - 0s - loss: 0.1214 - accuracy: 1.0000 - 9ms/epoch - 9ms/step\n",
            "Epoch 198/200\n",
            "1/1 - 0s - loss: 0.1194 - accuracy: 1.0000 - 11ms/epoch - 11ms/step\n",
            "Epoch 199/200\n",
            "1/1 - 0s - loss: 0.1175 - accuracy: 1.0000 - 7ms/epoch - 7ms/step\n",
            "Epoch 200/200\n",
            "1/1 - 0s - loss: 0.1156 - accuracy: 1.0000 - 11ms/epoch - 11ms/step\n"
          ]
        },
        {
          "output_type": "execute_result",
          "data": {
            "text/plain": [
              "<keras.callbacks.History at 0x7f1af4d026d0>"
            ]
          },
          "metadata": {},
          "execution_count": 27
        }
      ]
    },
    {
      "cell_type": "code",
      "source": [
        "def sentence_generation(model, tokenizer, current_word, n): # 모델, 토크나이저, 현재 단어, 반복할 횟수\n",
        "    init_word = current_word\n",
        "    sentence = ''\n",
        "\n",
        "    # n번 반복\n",
        "    for _ in range(n):\n",
        "        # 현재 단어에 대한 정수 인코딩과 패딩\n",
        "        encoded = tokenizer.texts_to_sequences([current_word])[0]\n",
        "        encoded = pad_sequences([encoded], maxlen=5, padding='pre')\n",
        "        # 입력한 X(현재 단어)에 대해서 Y를 예측하고 Y(예측한 단어)를 result에 저장.\n",
        "        result = model.predict(encoded, verbose=0)\n",
        "        result = np.argmax(result, axis=1)\n",
        "\n",
        "        for word, index in tokenizer.word_index.items(): \n",
        "            # 만약 예측한 단어와 인덱스와 동일한 단어가 있다면 break\n",
        "            if index == result:\n",
        "                break\n",
        "\n",
        "        # 현재 단어 + ' ' + 예측 단어를 현재 단어로 변경\n",
        "        current_word = current_word + ' '  + word\n",
        "\n",
        "        # 예측 단어를 문장에 저장\n",
        "        sentence = sentence + ' ' + word\n",
        "\n",
        "    sentence = init_word + sentence\n",
        "    return sentence"
      ],
      "metadata": {
        "id": "3C0lIIj_XCx7"
      },
      "execution_count": 28,
      "outputs": []
    },
    {
      "cell_type": "code",
      "source": [
        "print(sentence_generation(model, tokenizer, '경마장에', 4))"
      ],
      "metadata": {
        "colab": {
          "base_uri": "https://localhost:8080/"
        },
        "id": "miYKfzBaXC0I",
        "outputId": "7656938f-fb09-4411-add7-9fe655e0e6f0"
      },
      "execution_count": 36,
      "outputs": [
        {
          "output_type": "stream",
          "name": "stdout",
          "text": [
            "경마장에 있는 말이 뛰고 있다\n"
          ]
        }
      ]
    },
    {
      "cell_type": "code",
      "source": [
        "print(sentence_generation(model, tokenizer, '그의', 2))"
      ],
      "metadata": {
        "colab": {
          "base_uri": "https://localhost:8080/"
        },
        "id": "5JYgpQFwXC2X",
        "outputId": "0bb7e8bf-9624-432f-caa6-ccc20164050e"
      },
      "execution_count": 30,
      "outputs": [
        {
          "output_type": "stream",
          "name": "stdout",
          "text": [
            "그의 말이 법이다\n"
          ]
        }
      ]
    },
    {
      "cell_type": "code",
      "source": [
        "print(sentence_generation(model, tokenizer, '가는', 5))"
      ],
      "metadata": {
        "colab": {
          "base_uri": "https://localhost:8080/"
        },
        "id": "h1uT-lzHXP1h",
        "outputId": "483b4cd4-e07e-432d-c797-993b73413829"
      },
      "execution_count": 31,
      "outputs": [
        {
          "output_type": "stream",
          "name": "stdout",
          "text": [
            "가는 말이 고와야 오는 말이 곱다\n"
          ]
        }
      ]
    }
  ]
}