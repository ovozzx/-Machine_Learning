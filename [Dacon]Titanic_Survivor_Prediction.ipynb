{
  "nbformat": 4,
  "nbformat_minor": 0,
  "metadata": {
    "colab": {
      "name": "[Dacon]Titanic: Survivor Prediction.ipynb",
      "provenance": [],
      "collapsed_sections": [],
      "authorship_tag": "ABX9TyNzJ6L+C17rnfItb2T/xuzl",
      "include_colab_link": true
    },
    "kernelspec": {
      "name": "python3",
      "display_name": "Python 3"
    },
    "language_info": {
      "name": "python"
    }
  },
  "cells": [
    {
      "cell_type": "markdown",
      "metadata": {
        "id": "view-in-github",
        "colab_type": "text"
      },
      "source": [
        "<a href=\"https://colab.research.google.com/github/ovozzx/Machine-Learning/blob/master/%5BDacon%5DTitanic_Survivor_Prediction.ipynb\" target=\"_parent\"><img src=\"https://colab.research.google.com/assets/colab-badge.svg\" alt=\"Open In Colab\"/></a>"
      ]
    },
    {
      "cell_type": "markdown",
      "source": [
        "💡EDA - 전처리(이상치, 결측치 등) - 표준화 & 정규화 - 모델링(파라미터)"
      ],
      "metadata": {
        "id": "AE2Gvcm8lkU0"
      }
    },
    {
      "cell_type": "markdown",
      "source": [
        "# 0. 라이브러리(필요한 도구) 불러오기"
      ],
      "metadata": {
        "id": "KNpGjEsmB3Gg"
      }
    },
    {
      "cell_type": "code",
      "execution_count": 107,
      "metadata": {
        "id": "I15SGftKBXAf"
      },
      "outputs": [],
      "source": [
        "import pandas as pd\n",
        "import numpy as np\n",
        "from sklearn.tree import DecisionTreeClassifier\n",
        "from sklearn.tree import DecisionTreeRegressor\n",
        "from sklearn.linear_model import LogisticRegression\n",
        "from sklearn.ensemble import RandomForestClassifier\n",
        "from lightgbm import LGBMClassifier\n",
        "from sklearn.metrics import roc_auc_score\n",
        "from sklearn.model_selection import cross_val_score\n",
        "from sklearn.model_selection import GridSearchCV\n",
        "from tensorflow.keras.wrappers.scikit_learn import KerasClassifier\n",
        "from keras.callbacks import EarlyStopping\n",
        "\n",
        "\n",
        "\n",
        "\n",
        "import matplotlib.pyplot as plt\n",
        "import seaborn as sns\n",
        "\n",
        "import warnings\n",
        "warnings.filterwarnings(\"ignore\")"
      ]
    },
    {
      "cell_type": "code",
      "source": [
        "!apt-get update\n",
        "!apt-get install -y fonts-nanum\n",
        "!fc-cache -fv\n",
        "!rm ~/.cache/matplotlib -rf"
      ],
      "metadata": {
        "colab": {
          "base_uri": "https://localhost:8080/"
        },
        "id": "CLL-VoNlMLsU",
        "outputId": "4c4fd55d-e3d2-4e7c-b24d-2d7d87fc4f12"
      },
      "execution_count": 32,
      "outputs": [
        {
          "output_type": "stream",
          "name": "stdout",
          "text": [
            "\r0% [Working]\r            \rHit:1 http://ppa.launchpad.net/c2d4u.team/c2d4u4.0+/ubuntu bionic InRelease\n",
            "\r0% [Waiting for headers] [Waiting for headers] [Connecting to cloud.r-project.o\r                                                                               \rHit:2 http://archive.ubuntu.com/ubuntu bionic InRelease\n",
            "\r                                                                               \rHit:3 http://archive.ubuntu.com/ubuntu bionic-updates InRelease\n",
            "\r                                                                               \rHit:4 http://security.ubuntu.com/ubuntu bionic-security InRelease\n",
            "\r0% [Waiting for headers] [Connecting to cloud.r-project.org] [Waiting for heade\r                                                                               \rHit:5 http://ppa.launchpad.net/cran/libgit2/ubuntu bionic InRelease\n",
            "\r0% [Waiting for headers] [Connecting to cloud.r-project.org] [Connecting to ppa\r0% [1 InRelease gpgv 15.9 kB] [Waiting for headers] [Connecting to cloud.r-proj\r                                                                               \rHit:6 http://archive.ubuntu.com/ubuntu bionic-backports InRelease\n",
            "\r0% [1 InRelease gpgv 15.9 kB] [Connecting to cloud.r-project.org] [Connecting t\r                                                                               \rHit:7 http://ppa.launchpad.net/deadsnakes/ppa/ubuntu bionic InRelease\n",
            "Hit:8 http://ppa.launchpad.net/graphics-drivers/ppa/ubuntu bionic InRelease\n",
            "Hit:9 https://cloud.r-project.org/bin/linux/ubuntu bionic-cran40/ InRelease\n",
            "Ign:10 https://developer.download.nvidia.com/compute/cuda/repos/ubuntu1804/x86_64  InRelease\n",
            "Ign:11 https://developer.download.nvidia.com/compute/machine-learning/repos/ubuntu1804/x86_64  InRelease\n",
            "Hit:12 https://developer.download.nvidia.com/compute/cuda/repos/ubuntu1804/x86_64  Release\n",
            "Hit:13 https://developer.download.nvidia.com/compute/machine-learning/repos/ubuntu1804/x86_64  Release\n",
            "Reading package lists... Done\n",
            "Reading package lists... Done\n",
            "Building dependency tree       \n",
            "Reading state information... Done\n",
            "fonts-nanum is already the newest version (20170925-1).\n",
            "The following packages were automatically installed and are no longer required:\n",
            "  cuda-command-line-tools-10-0 cuda-command-line-tools-10-1\n",
            "  cuda-command-line-tools-11-0 cuda-compiler-10-0 cuda-compiler-10-1\n",
            "  cuda-compiler-11-0 cuda-cuobjdump-10-0 cuda-cuobjdump-10-1\n",
            "  cuda-cuobjdump-11-0 cuda-cupti-10-0 cuda-cupti-10-1 cuda-cupti-11-0\n",
            "  cuda-cupti-dev-11-0 cuda-documentation-10-0 cuda-documentation-10-1\n",
            "  cuda-documentation-11-0 cuda-documentation-11-1 cuda-gdb-10-0 cuda-gdb-10-1\n",
            "  cuda-gdb-11-0 cuda-gpu-library-advisor-10-0 cuda-gpu-library-advisor-10-1\n",
            "  cuda-libraries-10-0 cuda-libraries-10-1 cuda-libraries-11-0\n",
            "  cuda-memcheck-10-0 cuda-memcheck-10-1 cuda-memcheck-11-0 cuda-nsight-10-0\n",
            "  cuda-nsight-10-1 cuda-nsight-11-0 cuda-nsight-11-1 cuda-nsight-compute-10-0\n",
            "  cuda-nsight-compute-10-1 cuda-nsight-compute-11-0 cuda-nsight-compute-11-1\n",
            "  cuda-nsight-systems-10-1 cuda-nsight-systems-11-0 cuda-nsight-systems-11-1\n",
            "  cuda-nvcc-10-0 cuda-nvcc-10-1 cuda-nvcc-11-0 cuda-nvdisasm-10-0\n",
            "  cuda-nvdisasm-10-1 cuda-nvdisasm-11-0 cuda-nvml-dev-10-0 cuda-nvml-dev-10-1\n",
            "  cuda-nvml-dev-11-0 cuda-nvprof-10-0 cuda-nvprof-10-1 cuda-nvprof-11-0\n",
            "  cuda-nvprune-10-0 cuda-nvprune-10-1 cuda-nvprune-11-0 cuda-nvtx-10-0\n",
            "  cuda-nvtx-10-1 cuda-nvtx-11-0 cuda-nvvp-10-0 cuda-nvvp-10-1 cuda-nvvp-11-0\n",
            "  cuda-nvvp-11-1 cuda-samples-10-0 cuda-samples-10-1 cuda-samples-11-0\n",
            "  cuda-samples-11-1 cuda-sanitizer-11-0 cuda-sanitizer-api-10-1\n",
            "  cuda-toolkit-10-0 cuda-toolkit-10-1 cuda-toolkit-11-0 cuda-toolkit-11-1\n",
            "  cuda-tools-10-0 cuda-tools-10-1 cuda-tools-11-0 cuda-tools-11-1\n",
            "  cuda-visual-tools-10-0 cuda-visual-tools-10-1 cuda-visual-tools-11-0\n",
            "  cuda-visual-tools-11-1 default-jre dkms freeglut3 freeglut3-dev\n",
            "  keyboard-configuration libargon2-0 libcap2 libcryptsetup12\n",
            "  libdevmapper1.02.1 libfontenc1 libidn11 libip4tc0 libjansson4\n",
            "  libnvidia-cfg1-510 libnvidia-common-460 libnvidia-common-510\n",
            "  libnvidia-extra-510 libnvidia-fbc1-510 libnvidia-gl-510 libpam-systemd\n",
            "  libpolkit-agent-1-0 libpolkit-backend-1-0 libpolkit-gobject-1-0 libxfont2\n",
            "  libxi-dev libxkbfile1 libxmu-dev libxmu-headers libxnvctrl0 libxtst6\n",
            "  nsight-compute-2020.2.1 nsight-compute-2022.1.0 nsight-systems-2020.3.2\n",
            "  nsight-systems-2020.3.4 nsight-systems-2021.5.2 nvidia-dkms-510\n",
            "  nvidia-kernel-common-510 nvidia-kernel-source-510 nvidia-modprobe\n",
            "  nvidia-settings openjdk-11-jre policykit-1 policykit-1-gnome python3-xkit\n",
            "  screen-resolution-extra systemd systemd-sysv udev x11-xkb-utils\n",
            "  xserver-common xserver-xorg-core-hwe-18.04 xserver-xorg-video-nvidia-510\n",
            "Use 'apt autoremove' to remove them.\n",
            "0 upgraded, 0 newly installed, 0 to remove and 66 not upgraded.\n",
            "/usr/share/fonts: caching, new cache contents: 0 fonts, 1 dirs\n",
            "/usr/share/fonts/truetype: caching, new cache contents: 0 fonts, 3 dirs\n",
            "/usr/share/fonts/truetype/humor-sans: caching, new cache contents: 1 fonts, 0 dirs\n",
            "/usr/share/fonts/truetype/liberation: caching, new cache contents: 16 fonts, 0 dirs\n",
            "/usr/share/fonts/truetype/nanum: caching, new cache contents: 10 fonts, 0 dirs\n",
            "/usr/local/share/fonts: caching, new cache contents: 0 fonts, 0 dirs\n",
            "/root/.local/share/fonts: skipping, no such directory\n",
            "/root/.fonts: skipping, no such directory\n",
            "/var/cache/fontconfig: cleaning cache directory\n",
            "/root/.cache/fontconfig: not cleaning non-existent cache directory\n",
            "/root/.fontconfig: not cleaning non-existent cache directory\n",
            "fc-cache: succeeded\n"
          ]
        }
      ]
    },
    {
      "cell_type": "code",
      "source": [
        "import matplotlib as mpl\n",
        "import matplotlib.image as img\n",
        "\n",
        "mpl.rcParams['axes.unicode_minus'] = False\n",
        "plt.rc('font', family = 'NanumBarunGothic')\n",
        "\n"
      ],
      "metadata": {
        "id": "T61SzDqCMQXU"
      },
      "execution_count": 33,
      "outputs": []
    },
    {
      "cell_type": "markdown",
      "source": [
        "# 1. 데이터 로딩"
      ],
      "metadata": {
        "id": "etoA3SqwB7sC"
      }
    },
    {
      "cell_type": "markdown",
      "source": [
        "PassengerID : 탑승객 고유 아이디\n",
        "\n",
        "Survival : 탑승객 생존 유무 (0: 사망, 1: 생존)\n",
        "\n",
        "**Pclass** : 등실의 등급\n",
        "\n",
        "Name : 이름\n",
        "\n",
        "**Sex** : 성별\n",
        "\n",
        "**Age** : 나이\n",
        "\n",
        "**Sibsp** : 함께 탐승한 형제자매, 아내, 남편의 수\n",
        "\n",
        "**Parch** : 함께 탐승한 부모, 자식의 수\n",
        "\n",
        "Ticket :티켓 번호\n",
        "\n",
        "**Fare** : 티켓의 요금\n",
        "\n",
        "**Cabin** : 객실번호\n",
        "\n",
        "Embarked : 배에 탑승한 항구 이름 ( C = Cherbourn, Q = Queenstown, S = Southampton)\n",
        "\n",
        "\n",
        "\n",
        "---\n",
        "\n",
        "\n",
        "\n",
        "\n",
        "✓ 생존확률(0: 사망, 1: 생존)\n"
      ],
      "metadata": {
        "id": "Gonmb_C6Bez5"
      }
    },
    {
      "cell_type": "code",
      "source": [
        "train = pd.read_csv('train.csv')\n",
        "test = pd.read_csv('test.csv')"
      ],
      "metadata": {
        "id": "WL2PYBtnBs27"
      },
      "execution_count": 34,
      "outputs": []
    },
    {
      "cell_type": "code",
      "source": [
        "train.head(10)"
      ],
      "metadata": {
        "colab": {
          "base_uri": "https://localhost:8080/",
          "height": 494
        },
        "id": "d8Vlrv-AFd1o",
        "outputId": "fefc9824-146f-495d-baff-bb56d670062d"
      },
      "execution_count": 35,
      "outputs": [
        {
          "output_type": "execute_result",
          "data": {
            "text/html": [
              "\n",
              "  <div id=\"df-a0275122-5632-40e2-b8ff-9e6d4b3ca808\">\n",
              "    <div class=\"colab-df-container\">\n",
              "      <div>\n",
              "<style scoped>\n",
              "    .dataframe tbody tr th:only-of-type {\n",
              "        vertical-align: middle;\n",
              "    }\n",
              "\n",
              "    .dataframe tbody tr th {\n",
              "        vertical-align: top;\n",
              "    }\n",
              "\n",
              "    .dataframe thead th {\n",
              "        text-align: right;\n",
              "    }\n",
              "</style>\n",
              "<table border=\"1\" class=\"dataframe\">\n",
              "  <thead>\n",
              "    <tr style=\"text-align: right;\">\n",
              "      <th></th>\n",
              "      <th>PassengerId</th>\n",
              "      <th>Survived</th>\n",
              "      <th>Pclass</th>\n",
              "      <th>Name</th>\n",
              "      <th>Sex</th>\n",
              "      <th>Age</th>\n",
              "      <th>SibSp</th>\n",
              "      <th>Parch</th>\n",
              "      <th>Ticket</th>\n",
              "      <th>Fare</th>\n",
              "      <th>Cabin</th>\n",
              "      <th>Embarked</th>\n",
              "    </tr>\n",
              "  </thead>\n",
              "  <tbody>\n",
              "    <tr>\n",
              "      <th>0</th>\n",
              "      <td>1</td>\n",
              "      <td>0</td>\n",
              "      <td>3</td>\n",
              "      <td>Braund, Mr. Owen Harris</td>\n",
              "      <td>male</td>\n",
              "      <td>22.0</td>\n",
              "      <td>1</td>\n",
              "      <td>0</td>\n",
              "      <td>A/5 21171</td>\n",
              "      <td>7.2500</td>\n",
              "      <td>NaN</td>\n",
              "      <td>S</td>\n",
              "    </tr>\n",
              "    <tr>\n",
              "      <th>1</th>\n",
              "      <td>2</td>\n",
              "      <td>1</td>\n",
              "      <td>1</td>\n",
              "      <td>Cumings, Mrs. John Bradley (Florence Briggs Th...</td>\n",
              "      <td>female</td>\n",
              "      <td>38.0</td>\n",
              "      <td>1</td>\n",
              "      <td>0</td>\n",
              "      <td>PC 17599</td>\n",
              "      <td>71.2833</td>\n",
              "      <td>C85</td>\n",
              "      <td>C</td>\n",
              "    </tr>\n",
              "    <tr>\n",
              "      <th>2</th>\n",
              "      <td>3</td>\n",
              "      <td>1</td>\n",
              "      <td>3</td>\n",
              "      <td>Heikkinen, Miss. Laina</td>\n",
              "      <td>female</td>\n",
              "      <td>26.0</td>\n",
              "      <td>0</td>\n",
              "      <td>0</td>\n",
              "      <td>STON/O2. 3101282</td>\n",
              "      <td>7.9250</td>\n",
              "      <td>NaN</td>\n",
              "      <td>S</td>\n",
              "    </tr>\n",
              "    <tr>\n",
              "      <th>3</th>\n",
              "      <td>4</td>\n",
              "      <td>1</td>\n",
              "      <td>1</td>\n",
              "      <td>Futrelle, Mrs. Jacques Heath (Lily May Peel)</td>\n",
              "      <td>female</td>\n",
              "      <td>35.0</td>\n",
              "      <td>1</td>\n",
              "      <td>0</td>\n",
              "      <td>113803</td>\n",
              "      <td>53.1000</td>\n",
              "      <td>C123</td>\n",
              "      <td>S</td>\n",
              "    </tr>\n",
              "    <tr>\n",
              "      <th>4</th>\n",
              "      <td>5</td>\n",
              "      <td>0</td>\n",
              "      <td>3</td>\n",
              "      <td>Allen, Mr. William Henry</td>\n",
              "      <td>male</td>\n",
              "      <td>35.0</td>\n",
              "      <td>0</td>\n",
              "      <td>0</td>\n",
              "      <td>373450</td>\n",
              "      <td>8.0500</td>\n",
              "      <td>NaN</td>\n",
              "      <td>S</td>\n",
              "    </tr>\n",
              "    <tr>\n",
              "      <th>5</th>\n",
              "      <td>6</td>\n",
              "      <td>0</td>\n",
              "      <td>3</td>\n",
              "      <td>Moran, Mr. James</td>\n",
              "      <td>male</td>\n",
              "      <td>NaN</td>\n",
              "      <td>0</td>\n",
              "      <td>0</td>\n",
              "      <td>330877</td>\n",
              "      <td>8.4583</td>\n",
              "      <td>NaN</td>\n",
              "      <td>Q</td>\n",
              "    </tr>\n",
              "    <tr>\n",
              "      <th>6</th>\n",
              "      <td>7</td>\n",
              "      <td>0</td>\n",
              "      <td>1</td>\n",
              "      <td>McCarthy, Mr. Timothy J</td>\n",
              "      <td>male</td>\n",
              "      <td>54.0</td>\n",
              "      <td>0</td>\n",
              "      <td>0</td>\n",
              "      <td>17463</td>\n",
              "      <td>51.8625</td>\n",
              "      <td>E46</td>\n",
              "      <td>S</td>\n",
              "    </tr>\n",
              "    <tr>\n",
              "      <th>7</th>\n",
              "      <td>8</td>\n",
              "      <td>0</td>\n",
              "      <td>3</td>\n",
              "      <td>Palsson, Master. Gosta Leonard</td>\n",
              "      <td>male</td>\n",
              "      <td>2.0</td>\n",
              "      <td>3</td>\n",
              "      <td>1</td>\n",
              "      <td>349909</td>\n",
              "      <td>21.0750</td>\n",
              "      <td>NaN</td>\n",
              "      <td>S</td>\n",
              "    </tr>\n",
              "    <tr>\n",
              "      <th>8</th>\n",
              "      <td>9</td>\n",
              "      <td>1</td>\n",
              "      <td>3</td>\n",
              "      <td>Johnson, Mrs. Oscar W (Elisabeth Vilhelmina Berg)</td>\n",
              "      <td>female</td>\n",
              "      <td>27.0</td>\n",
              "      <td>0</td>\n",
              "      <td>2</td>\n",
              "      <td>347742</td>\n",
              "      <td>11.1333</td>\n",
              "      <td>NaN</td>\n",
              "      <td>S</td>\n",
              "    </tr>\n",
              "    <tr>\n",
              "      <th>9</th>\n",
              "      <td>10</td>\n",
              "      <td>1</td>\n",
              "      <td>2</td>\n",
              "      <td>Nasser, Mrs. Nicholas (Adele Achem)</td>\n",
              "      <td>female</td>\n",
              "      <td>14.0</td>\n",
              "      <td>1</td>\n",
              "      <td>0</td>\n",
              "      <td>237736</td>\n",
              "      <td>30.0708</td>\n",
              "      <td>NaN</td>\n",
              "      <td>C</td>\n",
              "    </tr>\n",
              "  </tbody>\n",
              "</table>\n",
              "</div>\n",
              "      <button class=\"colab-df-convert\" onclick=\"convertToInteractive('df-a0275122-5632-40e2-b8ff-9e6d4b3ca808')\"\n",
              "              title=\"Convert this dataframe to an interactive table.\"\n",
              "              style=\"display:none;\">\n",
              "        \n",
              "  <svg xmlns=\"http://www.w3.org/2000/svg\" height=\"24px\"viewBox=\"0 0 24 24\"\n",
              "       width=\"24px\">\n",
              "    <path d=\"M0 0h24v24H0V0z\" fill=\"none\"/>\n",
              "    <path d=\"M18.56 5.44l.94 2.06.94-2.06 2.06-.94-2.06-.94-.94-2.06-.94 2.06-2.06.94zm-11 1L8.5 8.5l.94-2.06 2.06-.94-2.06-.94L8.5 2.5l-.94 2.06-2.06.94zm10 10l.94 2.06.94-2.06 2.06-.94-2.06-.94-.94-2.06-.94 2.06-2.06.94z\"/><path d=\"M17.41 7.96l-1.37-1.37c-.4-.4-.92-.59-1.43-.59-.52 0-1.04.2-1.43.59L10.3 9.45l-7.72 7.72c-.78.78-.78 2.05 0 2.83L4 21.41c.39.39.9.59 1.41.59.51 0 1.02-.2 1.41-.59l7.78-7.78 2.81-2.81c.8-.78.8-2.07 0-2.86zM5.41 20L4 18.59l7.72-7.72 1.47 1.35L5.41 20z\"/>\n",
              "  </svg>\n",
              "      </button>\n",
              "      \n",
              "  <style>\n",
              "    .colab-df-container {\n",
              "      display:flex;\n",
              "      flex-wrap:wrap;\n",
              "      gap: 12px;\n",
              "    }\n",
              "\n",
              "    .colab-df-convert {\n",
              "      background-color: #E8F0FE;\n",
              "      border: none;\n",
              "      border-radius: 50%;\n",
              "      cursor: pointer;\n",
              "      display: none;\n",
              "      fill: #1967D2;\n",
              "      height: 32px;\n",
              "      padding: 0 0 0 0;\n",
              "      width: 32px;\n",
              "    }\n",
              "\n",
              "    .colab-df-convert:hover {\n",
              "      background-color: #E2EBFA;\n",
              "      box-shadow: 0px 1px 2px rgba(60, 64, 67, 0.3), 0px 1px 3px 1px rgba(60, 64, 67, 0.15);\n",
              "      fill: #174EA6;\n",
              "    }\n",
              "\n",
              "    [theme=dark] .colab-df-convert {\n",
              "      background-color: #3B4455;\n",
              "      fill: #D2E3FC;\n",
              "    }\n",
              "\n",
              "    [theme=dark] .colab-df-convert:hover {\n",
              "      background-color: #434B5C;\n",
              "      box-shadow: 0px 1px 3px 1px rgba(0, 0, 0, 0.15);\n",
              "      filter: drop-shadow(0px 1px 2px rgba(0, 0, 0, 0.3));\n",
              "      fill: #FFFFFF;\n",
              "    }\n",
              "  </style>\n",
              "\n",
              "      <script>\n",
              "        const buttonEl =\n",
              "          document.querySelector('#df-a0275122-5632-40e2-b8ff-9e6d4b3ca808 button.colab-df-convert');\n",
              "        buttonEl.style.display =\n",
              "          google.colab.kernel.accessAllowed ? 'block' : 'none';\n",
              "\n",
              "        async function convertToInteractive(key) {\n",
              "          const element = document.querySelector('#df-a0275122-5632-40e2-b8ff-9e6d4b3ca808');\n",
              "          const dataTable =\n",
              "            await google.colab.kernel.invokeFunction('convertToInteractive',\n",
              "                                                     [key], {});\n",
              "          if (!dataTable) return;\n",
              "\n",
              "          const docLinkHtml = 'Like what you see? Visit the ' +\n",
              "            '<a target=\"_blank\" href=https://colab.research.google.com/notebooks/data_table.ipynb>data table notebook</a>'\n",
              "            + ' to learn more about interactive tables.';\n",
              "          element.innerHTML = '';\n",
              "          dataTable['output_type'] = 'display_data';\n",
              "          await google.colab.output.renderOutput(dataTable, element);\n",
              "          const docLink = document.createElement('div');\n",
              "          docLink.innerHTML = docLinkHtml;\n",
              "          element.appendChild(docLink);\n",
              "        }\n",
              "      </script>\n",
              "    </div>\n",
              "  </div>\n",
              "  "
            ],
            "text/plain": [
              "   PassengerId  Survived  Pclass  ...     Fare Cabin  Embarked\n",
              "0            1         0       3  ...   7.2500   NaN         S\n",
              "1            2         1       1  ...  71.2833   C85         C\n",
              "2            3         1       3  ...   7.9250   NaN         S\n",
              "3            4         1       1  ...  53.1000  C123         S\n",
              "4            5         0       3  ...   8.0500   NaN         S\n",
              "5            6         0       3  ...   8.4583   NaN         Q\n",
              "6            7         0       1  ...  51.8625   E46         S\n",
              "7            8         0       3  ...  21.0750   NaN         S\n",
              "8            9         1       3  ...  11.1333   NaN         S\n",
              "9           10         1       2  ...  30.0708   NaN         C\n",
              "\n",
              "[10 rows x 12 columns]"
            ]
          },
          "metadata": {},
          "execution_count": 35
        }
      ]
    },
    {
      "cell_type": "code",
      "source": [
        "train.tail()"
      ],
      "metadata": {
        "colab": {
          "base_uri": "https://localhost:8080/",
          "height": 268
        },
        "id": "prjyobNxFgPP",
        "outputId": "faf748b0-b1bd-4882-e8a2-a5969869af54"
      },
      "execution_count": 36,
      "outputs": [
        {
          "output_type": "execute_result",
          "data": {
            "text/html": [
              "\n",
              "  <div id=\"df-c555a763-265c-4502-976b-9b71df2a583e\">\n",
              "    <div class=\"colab-df-container\">\n",
              "      <div>\n",
              "<style scoped>\n",
              "    .dataframe tbody tr th:only-of-type {\n",
              "        vertical-align: middle;\n",
              "    }\n",
              "\n",
              "    .dataframe tbody tr th {\n",
              "        vertical-align: top;\n",
              "    }\n",
              "\n",
              "    .dataframe thead th {\n",
              "        text-align: right;\n",
              "    }\n",
              "</style>\n",
              "<table border=\"1\" class=\"dataframe\">\n",
              "  <thead>\n",
              "    <tr style=\"text-align: right;\">\n",
              "      <th></th>\n",
              "      <th>PassengerId</th>\n",
              "      <th>Survived</th>\n",
              "      <th>Pclass</th>\n",
              "      <th>Name</th>\n",
              "      <th>Sex</th>\n",
              "      <th>Age</th>\n",
              "      <th>SibSp</th>\n",
              "      <th>Parch</th>\n",
              "      <th>Ticket</th>\n",
              "      <th>Fare</th>\n",
              "      <th>Cabin</th>\n",
              "      <th>Embarked</th>\n",
              "    </tr>\n",
              "  </thead>\n",
              "  <tbody>\n",
              "    <tr>\n",
              "      <th>886</th>\n",
              "      <td>887</td>\n",
              "      <td>0</td>\n",
              "      <td>2</td>\n",
              "      <td>Montvila, Rev. Juozas</td>\n",
              "      <td>male</td>\n",
              "      <td>27.0</td>\n",
              "      <td>0</td>\n",
              "      <td>0</td>\n",
              "      <td>211536</td>\n",
              "      <td>13.00</td>\n",
              "      <td>NaN</td>\n",
              "      <td>S</td>\n",
              "    </tr>\n",
              "    <tr>\n",
              "      <th>887</th>\n",
              "      <td>888</td>\n",
              "      <td>1</td>\n",
              "      <td>1</td>\n",
              "      <td>Graham, Miss. Margaret Edith</td>\n",
              "      <td>female</td>\n",
              "      <td>19.0</td>\n",
              "      <td>0</td>\n",
              "      <td>0</td>\n",
              "      <td>112053</td>\n",
              "      <td>30.00</td>\n",
              "      <td>B42</td>\n",
              "      <td>S</td>\n",
              "    </tr>\n",
              "    <tr>\n",
              "      <th>888</th>\n",
              "      <td>889</td>\n",
              "      <td>0</td>\n",
              "      <td>3</td>\n",
              "      <td>Johnston, Miss. Catherine Helen \"Carrie\"</td>\n",
              "      <td>female</td>\n",
              "      <td>NaN</td>\n",
              "      <td>1</td>\n",
              "      <td>2</td>\n",
              "      <td>W./C. 6607</td>\n",
              "      <td>23.45</td>\n",
              "      <td>NaN</td>\n",
              "      <td>S</td>\n",
              "    </tr>\n",
              "    <tr>\n",
              "      <th>889</th>\n",
              "      <td>890</td>\n",
              "      <td>1</td>\n",
              "      <td>1</td>\n",
              "      <td>Behr, Mr. Karl Howell</td>\n",
              "      <td>male</td>\n",
              "      <td>26.0</td>\n",
              "      <td>0</td>\n",
              "      <td>0</td>\n",
              "      <td>111369</td>\n",
              "      <td>30.00</td>\n",
              "      <td>C148</td>\n",
              "      <td>C</td>\n",
              "    </tr>\n",
              "    <tr>\n",
              "      <th>890</th>\n",
              "      <td>891</td>\n",
              "      <td>0</td>\n",
              "      <td>3</td>\n",
              "      <td>Dooley, Mr. Patrick</td>\n",
              "      <td>male</td>\n",
              "      <td>32.0</td>\n",
              "      <td>0</td>\n",
              "      <td>0</td>\n",
              "      <td>370376</td>\n",
              "      <td>7.75</td>\n",
              "      <td>NaN</td>\n",
              "      <td>Q</td>\n",
              "    </tr>\n",
              "  </tbody>\n",
              "</table>\n",
              "</div>\n",
              "      <button class=\"colab-df-convert\" onclick=\"convertToInteractive('df-c555a763-265c-4502-976b-9b71df2a583e')\"\n",
              "              title=\"Convert this dataframe to an interactive table.\"\n",
              "              style=\"display:none;\">\n",
              "        \n",
              "  <svg xmlns=\"http://www.w3.org/2000/svg\" height=\"24px\"viewBox=\"0 0 24 24\"\n",
              "       width=\"24px\">\n",
              "    <path d=\"M0 0h24v24H0V0z\" fill=\"none\"/>\n",
              "    <path d=\"M18.56 5.44l.94 2.06.94-2.06 2.06-.94-2.06-.94-.94-2.06-.94 2.06-2.06.94zm-11 1L8.5 8.5l.94-2.06 2.06-.94-2.06-.94L8.5 2.5l-.94 2.06-2.06.94zm10 10l.94 2.06.94-2.06 2.06-.94-2.06-.94-.94-2.06-.94 2.06-2.06.94z\"/><path d=\"M17.41 7.96l-1.37-1.37c-.4-.4-.92-.59-1.43-.59-.52 0-1.04.2-1.43.59L10.3 9.45l-7.72 7.72c-.78.78-.78 2.05 0 2.83L4 21.41c.39.39.9.59 1.41.59.51 0 1.02-.2 1.41-.59l7.78-7.78 2.81-2.81c.8-.78.8-2.07 0-2.86zM5.41 20L4 18.59l7.72-7.72 1.47 1.35L5.41 20z\"/>\n",
              "  </svg>\n",
              "      </button>\n",
              "      \n",
              "  <style>\n",
              "    .colab-df-container {\n",
              "      display:flex;\n",
              "      flex-wrap:wrap;\n",
              "      gap: 12px;\n",
              "    }\n",
              "\n",
              "    .colab-df-convert {\n",
              "      background-color: #E8F0FE;\n",
              "      border: none;\n",
              "      border-radius: 50%;\n",
              "      cursor: pointer;\n",
              "      display: none;\n",
              "      fill: #1967D2;\n",
              "      height: 32px;\n",
              "      padding: 0 0 0 0;\n",
              "      width: 32px;\n",
              "    }\n",
              "\n",
              "    .colab-df-convert:hover {\n",
              "      background-color: #E2EBFA;\n",
              "      box-shadow: 0px 1px 2px rgba(60, 64, 67, 0.3), 0px 1px 3px 1px rgba(60, 64, 67, 0.15);\n",
              "      fill: #174EA6;\n",
              "    }\n",
              "\n",
              "    [theme=dark] .colab-df-convert {\n",
              "      background-color: #3B4455;\n",
              "      fill: #D2E3FC;\n",
              "    }\n",
              "\n",
              "    [theme=dark] .colab-df-convert:hover {\n",
              "      background-color: #434B5C;\n",
              "      box-shadow: 0px 1px 3px 1px rgba(0, 0, 0, 0.15);\n",
              "      filter: drop-shadow(0px 1px 2px rgba(0, 0, 0, 0.3));\n",
              "      fill: #FFFFFF;\n",
              "    }\n",
              "  </style>\n",
              "\n",
              "      <script>\n",
              "        const buttonEl =\n",
              "          document.querySelector('#df-c555a763-265c-4502-976b-9b71df2a583e button.colab-df-convert');\n",
              "        buttonEl.style.display =\n",
              "          google.colab.kernel.accessAllowed ? 'block' : 'none';\n",
              "\n",
              "        async function convertToInteractive(key) {\n",
              "          const element = document.querySelector('#df-c555a763-265c-4502-976b-9b71df2a583e');\n",
              "          const dataTable =\n",
              "            await google.colab.kernel.invokeFunction('convertToInteractive',\n",
              "                                                     [key], {});\n",
              "          if (!dataTable) return;\n",
              "\n",
              "          const docLinkHtml = 'Like what you see? Visit the ' +\n",
              "            '<a target=\"_blank\" href=https://colab.research.google.com/notebooks/data_table.ipynb>data table notebook</a>'\n",
              "            + ' to learn more about interactive tables.';\n",
              "          element.innerHTML = '';\n",
              "          dataTable['output_type'] = 'display_data';\n",
              "          await google.colab.output.renderOutput(dataTable, element);\n",
              "          const docLink = document.createElement('div');\n",
              "          docLink.innerHTML = docLinkHtml;\n",
              "          element.appendChild(docLink);\n",
              "        }\n",
              "      </script>\n",
              "    </div>\n",
              "  </div>\n",
              "  "
            ],
            "text/plain": [
              "     PassengerId  Survived  Pclass  ...   Fare Cabin  Embarked\n",
              "886          887         0       2  ...  13.00   NaN         S\n",
              "887          888         1       1  ...  30.00   B42         S\n",
              "888          889         0       3  ...  23.45   NaN         S\n",
              "889          890         1       1  ...  30.00  C148         C\n",
              "890          891         0       3  ...   7.75   NaN         Q\n",
              "\n",
              "[5 rows x 12 columns]"
            ]
          },
          "metadata": {},
          "execution_count": 36
        }
      ]
    },
    {
      "cell_type": "code",
      "source": [
        "train.shape"
      ],
      "metadata": {
        "colab": {
          "base_uri": "https://localhost:8080/"
        },
        "id": "xnyWIawFm7JH",
        "outputId": "eeed4cdd-ffcb-4460-c67c-a08f179f8860"
      },
      "execution_count": 37,
      "outputs": [
        {
          "output_type": "execute_result",
          "data": {
            "text/plain": [
              "(891, 12)"
            ]
          },
          "metadata": {},
          "execution_count": 37
        }
      ]
    },
    {
      "cell_type": "markdown",
      "source": [
        "# 2. EDA"
      ],
      "metadata": {
        "id": "yo7qe6T9ocYU"
      }
    },
    {
      "cell_type": "code",
      "source": [
        "# feature별 bar 그래프 함수 작성\n",
        "\n",
        "def bar_chart(feature):\n",
        "  survived = train[train['Survived']==1][feature].value_counts()\n",
        "  dead = train[train['Survived']==0][feature].value_counts()\n",
        "  df = pd.DataFrame([survived, dead])\n",
        "  df.index = ['Surevived', 'Dead']\n",
        "  df.plot(kind = 'bar', stacked = True, figsize = (10,5))"
      ],
      "metadata": {
        "id": "fHol011buk0q"
      },
      "execution_count": 38,
      "outputs": []
    },
    {
      "cell_type": "code",
      "source": [
        "train[train['Survived']==1]['Sex']"
      ],
      "metadata": {
        "colab": {
          "base_uri": "https://localhost:8080/"
        },
        "id": "-6F7vTrbwEn7",
        "outputId": "0961a184-0cb9-4379-f255-d4fbc6656543"
      },
      "execution_count": 39,
      "outputs": [
        {
          "output_type": "execute_result",
          "data": {
            "text/plain": [
              "1      female\n",
              "2      female\n",
              "3      female\n",
              "8      female\n",
              "9      female\n",
              "        ...  \n",
              "875    female\n",
              "879    female\n",
              "880    female\n",
              "887    female\n",
              "889      male\n",
              "Name: Sex, Length: 342, dtype: object"
            ]
          },
          "metadata": {},
          "execution_count": 39
        }
      ]
    },
    {
      "cell_type": "code",
      "source": [
        "train[train['Survived']==1]['Sex'].value_counts()"
      ],
      "metadata": {
        "colab": {
          "base_uri": "https://localhost:8080/"
        },
        "id": "jtiSUtbPwUuv",
        "outputId": "8e7cf687-36eb-4c93-9dd2-eb35d38c6e7f"
      },
      "execution_count": 40,
      "outputs": [
        {
          "output_type": "execute_result",
          "data": {
            "text/plain": [
              "female    233\n",
              "male      109\n",
              "Name: Sex, dtype: int64"
            ]
          },
          "metadata": {},
          "execution_count": 40
        }
      ]
    },
    {
      "cell_type": "markdown",
      "source": [
        "(1) Sex(성별) : male(남성)이 많이 죽음"
      ],
      "metadata": {
        "id": "RXRqLXudovpv"
      }
    },
    {
      "cell_type": "code",
      "source": [
        "bar_chart('Sex')"
      ],
      "metadata": {
        "colab": {
          "base_uri": "https://localhost:8080/",
          "height": 355
        },
        "id": "1xPrP2nXofrb",
        "outputId": "fe01910d-1527-4733-8092-aad01ba69435"
      },
      "execution_count": 41,
      "outputs": [
        {
          "output_type": "display_data",
          "data": {
            "image/png": "[encoded data removed]",
            "text/plain": [
              "<Figure size 720x360 with 1 Axes>"
            ]
          },
          "metadata": {
            "needs_background": "light"
          }
        }
      ]
    },
    {
      "cell_type": "markdown",
      "source": [
        "(2) Pclass(좌석등급) : 3등급 좌석 사망자 수가 많음"
      ],
      "metadata": {
        "id": "-ebvMlDloxV3"
      }
    },
    {
      "cell_type": "code",
      "source": [
        "bar_chart('Pclass')"
      ],
      "metadata": {
        "colab": {
          "base_uri": "https://localhost:8080/",
          "height": 355
        },
        "id": "4qQsGq_Qozs2",
        "outputId": "f209f61b-08d7-4ffd-a860-d7e9af5bd0a8"
      },
      "execution_count": 42,
      "outputs": [
        {
          "output_type": "display_data",
          "data": {
            "image/png": "[encoded data removed]",
            "text/plain": [
              "<Figure size 720x360 with 1 Axes>"
            ]
          },
          "metadata": {
            "needs_background": "light"
          }
        }
      ]
    },
    {
      "cell_type": "markdown",
      "source": [
        "(3) SibSp(함께 탐승한 형제자매, 아내, 남편의 수) : 연관성 애매\n",
        "\n",
        "0명인 사람이 많이 죽기도 하였지만, 8명인 사람도 죽음"
      ],
      "metadata": {
        "id": "N3iBOdFnwurU"
      }
    },
    {
      "cell_type": "code",
      "source": [
        "bar_chart('SibSp')"
      ],
      "metadata": {
        "colab": {
          "base_uri": "https://localhost:8080/",
          "height": 355
        },
        "id": "BdRwUfKWwu2C",
        "outputId": "732b5304-47e8-4f88-f114-808a7d6486ee"
      },
      "execution_count": 43,
      "outputs": [
        {
          "output_type": "display_data",
          "data": {
            "image/png": "[encoded data removed]",
            "text/plain": [
              "<Figure size 720x360 with 1 Axes>"
            ]
          },
          "metadata": {
            "needs_background": "light"
          }
        }
      ]
    },
    {
      "cell_type": "markdown",
      "source": [
        "(4) \bAge(나이) : \n",
        "\n",
        "가설 - 어릴수록 생존율이 높을 것이다? ❌"
      ],
      "metadata": {
        "id": "APylRO7JIdch"
      }
    },
    {
      "cell_type": "code",
      "source": [
        "plt.figure(figsize = (10,5))\n",
        "plt.title('나이',fontsize = 20)\n",
        "sns.stripplot(x = 'Survived', y = 'Age', data = train, jitter = True)\n",
        "plt.xlabel('생존여부', fontsize = 20)\n",
        "plt.ylabel('나이', fontsize = 20)\n",
        "\n",
        "\n",
        "plt.show()\n",
        "\n",
        "#0: 사망, 1: 생존"
      ],
      "metadata": {
        "colab": {
          "base_uri": "https://localhost:8080/",
          "height": 368
        },
        "id": "5u1436NvIdxE",
        "outputId": "a22697aa-1c3d-48f8-ca85-c8bfef3a37d3"
      },
      "execution_count": 44,
      "outputs": [
        {
          "output_type": "display_data",
          "data": {
            "image/png": "[encoded data removed]",
            "text/plain": [
              "<Figure size 720x360 with 1 Axes>"
            ]
          },
          "metadata": {
            "needs_background": "light"
          }
        }
      ]
    },
    {
      "cell_type": "markdown",
      "source": [
        "(5) Parch(함께 탐승한 부모, 자식의 수)"
      ],
      "metadata": {
        "id": "A_PJaeW2NYo7"
      }
    },
    {
      "cell_type": "code",
      "source": [
        "bar_chart('Parch')"
      ],
      "metadata": {
        "colab": {
          "base_uri": "https://localhost:8080/",
          "height": 355
        },
        "id": "Z4rUFakbJOcq",
        "outputId": "efe3f6f7-ce27-4771-cdb9-919392107305"
      },
      "execution_count": 45,
      "outputs": [
        {
          "output_type": "display_data",
          "data": {
            "image/png": "[encoded data removed]",
            "text/plain": [
              "<Figure size 720x360 with 1 Axes>"
            ]
          },
          "metadata": {
            "needs_background": "light"
          }
        }
      ]
    },
    {
      "cell_type": "markdown",
      "source": [
        "(6) Fare(티켓 요금) : 가장 비싼 요금의 티켓 구매자들은 생존"
      ],
      "metadata": {
        "id": "q9i6rzDWOX3Z"
      }
    },
    {
      "cell_type": "code",
      "source": [
        "plt.figure(figsize = (10,5))\n",
        "plt.title('티켓 요금',fontsize = 20)\n",
        "sns.stripplot(x = 'Survived', y = 'Fare', data = train, jitter = True)\n",
        "plt.xlabel('생존여부', fontsize = 20)\n",
        "plt.ylabel('요금', fontsize = 20)\n",
        "\n",
        "\n",
        "plt.show()\n",
        "\n",
        "#0: 사망, 1: 생존"
      ],
      "metadata": {
        "colab": {
          "base_uri": "https://localhost:8080/",
          "height": 368
        },
        "id": "P1EP8j-DOl5_",
        "outputId": "c1a1aaf9-a923-4291-fa3e-b22d16b74f01"
      },
      "execution_count": 46,
      "outputs": [
        {
          "output_type": "display_data",
          "data": {
            "image/png": "[encoded data removed]",
            "text/plain": [
              "<Figure size 720x360 with 1 Axes>"
            ]
          },
          "metadata": {
            "needs_background": "light"
          }
        }
      ]
    },
    {
      "cell_type": "markdown",
      "source": [
        "(7) Cabin(객실번호) "
      ],
      "metadata": {
        "id": "J-kxkNPqPBEB"
      }
    },
    {
      "cell_type": "code",
      "source": [
        "train[train['Survived']==1]['Cabin'].value_counts()"
      ],
      "metadata": {
        "colab": {
          "base_uri": "https://localhost:8080/"
        },
        "id": "p-BQkStFPBiw",
        "outputId": "f0cc88b2-53be-4ad4-f03b-d713945e35d1"
      },
      "execution_count": 47,
      "outputs": [
        {
          "output_type": "execute_result",
          "data": {
            "text/plain": [
              "B96 B98    4\n",
              "E101       3\n",
              "F33        3\n",
              "B18        2\n",
              "B20        2\n",
              "          ..\n",
              "C32        1\n",
              "E34        1\n",
              "C7         1\n",
              "C54        1\n",
              "C148       1\n",
              "Name: Cabin, Length: 101, dtype: int64"
            ]
          },
          "metadata": {},
          "execution_count": 47
        }
      ]
    },
    {
      "cell_type": "markdown",
      "source": [
        "# 3. 데이터 확인\n",
        "\n"
      ],
      "metadata": {
        "id": "UsMu-s6hCa_P"
      }
    },
    {
      "cell_type": "code",
      "source": [
        "train.info()"
      ],
      "metadata": {
        "colab": {
          "base_uri": "https://localhost:8080/"
        },
        "id": "rHT4sZkbFmLR",
        "outputId": "2ee3909a-6d44-445b-c1d3-2d9ac9ad9b65"
      },
      "execution_count": 48,
      "outputs": [
        {
          "output_type": "stream",
          "name": "stdout",
          "text": [
            "<class 'pandas.core.frame.DataFrame'>\n",
            "RangeIndex: 891 entries, 0 to 890\n",
            "Data columns (total 12 columns):\n",
            " #   Column       Non-Null Count  Dtype  \n",
            "---  ------       --------------  -----  \n",
            " 0   PassengerId  891 non-null    int64  \n",
            " 1   Survived     891 non-null    int64  \n",
            " 2   Pclass       891 non-null    int64  \n",
            " 3   Name         891 non-null    object \n",
            " 4   Sex          891 non-null    object \n",
            " 5   Age          714 non-null    float64\n",
            " 6   SibSp        891 non-null    int64  \n",
            " 7   Parch        891 non-null    int64  \n",
            " 8   Ticket       891 non-null    object \n",
            " 9   Fare         891 non-null    float64\n",
            " 10  Cabin        204 non-null    object \n",
            " 11  Embarked     889 non-null    object \n",
            "dtypes: float64(2), int64(5), object(5)\n",
            "memory usage: 83.7+ KB\n"
          ]
        }
      ]
    },
    {
      "cell_type": "code",
      "source": [
        "train.isnull().sum()"
      ],
      "metadata": {
        "colab": {
          "base_uri": "https://localhost:8080/"
        },
        "id": "U5DCTWNOnGYX",
        "outputId": "02c7eedd-539e-4d1b-f83b-1836229d16f6"
      },
      "execution_count": 49,
      "outputs": [
        {
          "output_type": "execute_result",
          "data": {
            "text/plain": [
              "PassengerId      0\n",
              "Survived         0\n",
              "Pclass           0\n",
              "Name             0\n",
              "Sex              0\n",
              "Age            177\n",
              "SibSp            0\n",
              "Parch            0\n",
              "Ticket           0\n",
              "Fare             0\n",
              "Cabin          687\n",
              "Embarked         2\n",
              "dtype: int64"
            ]
          },
          "metadata": {},
          "execution_count": 49
        }
      ]
    },
    {
      "cell_type": "code",
      "source": [
        "test.isnull().sum()"
      ],
      "metadata": {
        "colab": {
          "base_uri": "https://localhost:8080/"
        },
        "id": "3G7fRjkXnMqr",
        "outputId": "c1876291-f79b-4e58-bc36-e8ee559a92ff"
      },
      "execution_count": 50,
      "outputs": [
        {
          "output_type": "execute_result",
          "data": {
            "text/plain": [
              "PassengerId      0\n",
              "Pclass           0\n",
              "Name             0\n",
              "Sex              0\n",
              "Age             86\n",
              "SibSp            0\n",
              "Parch            0\n",
              "Ticket           0\n",
              "Fare             1\n",
              "Cabin          327\n",
              "Embarked         0\n",
              "dtype: int64"
            ]
          },
          "metadata": {},
          "execution_count": 50
        }
      ]
    },
    {
      "cell_type": "markdown",
      "source": [
        "###✓ describe()\n",
        "\n",
        "숫자형 (int, float) column들의 기술 통계량을 보여주는 함수\n",
        "\n",
        "-기술통계량이란?\n",
        "\n",
        "해당 column을 대표할 수 있는 통계값들을 의미\n",
        "\n",
        "-기술통계량 종류\n",
        "\n",
        "count: 해당 column에서 비어 있지 않은 값의 개수\n",
        "\n",
        "mean: 평균\n",
        "\n",
        "std: 표준편차\n",
        "\n",
        "min: 최솟값 (이상치 포함)\n",
        "\n",
        "25% (Q1): 전체 데이터를 순서대로 정렬했을 때, 아래에서 부터 1/4번째 지점에 있는 값\n",
        "\n",
        "50% (Q2): 중앙값 (전체 데이터를 순서대로 정렬했을 때, 아래에서 부터 2/4번째 지점에 있는 값)\n",
        "\n",
        "75% (Q3): 전체 데이터를 순서대로 정렬했을 때, 아래에서 부터 3/4번째 지점에 있는 값\n",
        "\n",
        "max: 최댓값 (이상치 포함)\n",
        "\n"
      ],
      "metadata": {
        "id": "q1PYpmlkGS-p"
      }
    },
    {
      "cell_type": "markdown",
      "source": [
        "-이상치: 울타리 밖에 있는 부분을 이상치라고 정의함\n",
        "\n",
        "아래쪽 울타리: Q_1Q1​ - 1.5 * IQR1.5∗IQR\n",
        "\n",
        "위쪽 울타리: Q_3Q3​ + 1.5 * IQR1.5∗IQR\n",
        "\n",
        "IQRIQR = Q_3 - Q_1Q3​−Q1​\n"
      ],
      "metadata": {
        "id": "UOU5MKvtFx_1"
      }
    },
    {
      "cell_type": "code",
      "source": [
        "train.describe()"
      ],
      "metadata": {
        "colab": {
          "base_uri": "https://localhost:8080/",
          "height": 300
        },
        "id": "zPc3xzRiFwus",
        "outputId": "bf18bc33-6568-47ff-f931-366f126adf13"
      },
      "execution_count": 51,
      "outputs": [
        {
          "output_type": "execute_result",
          "data": {
            "text/html": [
              "\n",
              "  <div id=\"df-88053784-0cd4-459a-b98f-d9c254014805\">\n",
              "    <div class=\"colab-df-container\">\n",
              "      <div>\n",
              "<style scoped>\n",
              "    .dataframe tbody tr th:only-of-type {\n",
              "        vertical-align: middle;\n",
              "    }\n",
              "\n",
              "    .dataframe tbody tr th {\n",
              "        vertical-align: top;\n",
              "    }\n",
              "\n",
              "    .dataframe thead th {\n",
              "        text-align: right;\n",
              "    }\n",
              "</style>\n",
              "<table border=\"1\" class=\"dataframe\">\n",
              "  <thead>\n",
              "    <tr style=\"text-align: right;\">\n",
              "      <th></th>\n",
              "      <th>PassengerId</th>\n",
              "      <th>Survived</th>\n",
              "      <th>Pclass</th>\n",
              "      <th>Age</th>\n",
              "      <th>SibSp</th>\n",
              "      <th>Parch</th>\n",
              "      <th>Fare</th>\n",
              "    </tr>\n",
              "  </thead>\n",
              "  <tbody>\n",
              "    <tr>\n",
              "      <th>count</th>\n",
              "      <td>891.000000</td>\n",
              "      <td>891.000000</td>\n",
              "      <td>891.000000</td>\n",
              "      <td>714.000000</td>\n",
              "      <td>891.000000</td>\n",
              "      <td>891.000000</td>\n",
              "      <td>891.000000</td>\n",
              "    </tr>\n",
              "    <tr>\n",
              "      <th>mean</th>\n",
              "      <td>446.000000</td>\n",
              "      <td>0.383838</td>\n",
              "      <td>2.308642</td>\n",
              "      <td>29.699118</td>\n",
              "      <td>0.523008</td>\n",
              "      <td>0.381594</td>\n",
              "      <td>32.204208</td>\n",
              "    </tr>\n",
              "    <tr>\n",
              "      <th>std</th>\n",
              "      <td>257.353842</td>\n",
              "      <td>0.486592</td>\n",
              "      <td>0.836071</td>\n",
              "      <td>14.526497</td>\n",
              "      <td>1.102743</td>\n",
              "      <td>0.806057</td>\n",
              "      <td>49.693429</td>\n",
              "    </tr>\n",
              "    <tr>\n",
              "      <th>min</th>\n",
              "      <td>1.000000</td>\n",
              "      <td>0.000000</td>\n",
              "      <td>1.000000</td>\n",
              "      <td>0.420000</td>\n",
              "      <td>0.000000</td>\n",
              "      <td>0.000000</td>\n",
              "      <td>0.000000</td>\n",
              "    </tr>\n",
              "    <tr>\n",
              "      <th>25%</th>\n",
              "      <td>223.500000</td>\n",
              "      <td>0.000000</td>\n",
              "      <td>2.000000</td>\n",
              "      <td>20.125000</td>\n",
              "      <td>0.000000</td>\n",
              "      <td>0.000000</td>\n",
              "      <td>7.910400</td>\n",
              "    </tr>\n",
              "    <tr>\n",
              "      <th>50%</th>\n",
              "      <td>446.000000</td>\n",
              "      <td>0.000000</td>\n",
              "      <td>3.000000</td>\n",
              "      <td>28.000000</td>\n",
              "      <td>0.000000</td>\n",
              "      <td>0.000000</td>\n",
              "      <td>14.454200</td>\n",
              "    </tr>\n",
              "    <tr>\n",
              "      <th>75%</th>\n",
              "      <td>668.500000</td>\n",
              "      <td>1.000000</td>\n",
              "      <td>3.000000</td>\n",
              "      <td>38.000000</td>\n",
              "      <td>1.000000</td>\n",
              "      <td>0.000000</td>\n",
              "      <td>31.000000</td>\n",
              "    </tr>\n",
              "    <tr>\n",
              "      <th>max</th>\n",
              "      <td>891.000000</td>\n",
              "      <td>1.000000</td>\n",
              "      <td>3.000000</td>\n",
              "      <td>80.000000</td>\n",
              "      <td>8.000000</td>\n",
              "      <td>6.000000</td>\n",
              "      <td>512.329200</td>\n",
              "    </tr>\n",
              "  </tbody>\n",
              "</table>\n",
              "</div>\n",
              "      <button class=\"colab-df-convert\" onclick=\"convertToInteractive('df-88053784-0cd4-459a-b98f-d9c254014805')\"\n",
              "              title=\"Convert this dataframe to an interactive table.\"\n",
              "              style=\"display:none;\">\n",
              "        \n",
              "  <svg xmlns=\"http://www.w3.org/2000/svg\" height=\"24px\"viewBox=\"0 0 24 24\"\n",
              "       width=\"24px\">\n",
              "    <path d=\"M0 0h24v24H0V0z\" fill=\"none\"/>\n",
              "    <path d=\"M18.56 5.44l.94 2.06.94-2.06 2.06-.94-2.06-.94-.94-2.06-.94 2.06-2.06.94zm-11 1L8.5 8.5l.94-2.06 2.06-.94-2.06-.94L8.5 2.5l-.94 2.06-2.06.94zm10 10l.94 2.06.94-2.06 2.06-.94-2.06-.94-.94-2.06-.94 2.06-2.06.94z\"/><path d=\"M17.41 7.96l-1.37-1.37c-.4-.4-.92-.59-1.43-.59-.52 0-1.04.2-1.43.59L10.3 9.45l-7.72 7.72c-.78.78-.78 2.05 0 2.83L4 21.41c.39.39.9.59 1.41.59.51 0 1.02-.2 1.41-.59l7.78-7.78 2.81-2.81c.8-.78.8-2.07 0-2.86zM5.41 20L4 18.59l7.72-7.72 1.47 1.35L5.41 20z\"/>\n",
              "  </svg>\n",
              "      </button>\n",
              "      \n",
              "  <style>\n",
              "    .colab-df-container {\n",
              "      display:flex;\n",
              "      flex-wrap:wrap;\n",
              "      gap: 12px;\n",
              "    }\n",
              "\n",
              "    .colab-df-convert {\n",
              "      background-color: #E8F0FE;\n",
              "      border: none;\n",
              "      border-radius: 50%;\n",
              "      cursor: pointer;\n",
              "      display: none;\n",
              "      fill: #1967D2;\n",
              "      height: 32px;\n",
              "      padding: 0 0 0 0;\n",
              "      width: 32px;\n",
              "    }\n",
              "\n",
              "    .colab-df-convert:hover {\n",
              "      background-color: #E2EBFA;\n",
              "      box-shadow: 0px 1px 2px rgba(60, 64, 67, 0.3), 0px 1px 3px 1px rgba(60, 64, 67, 0.15);\n",
              "      fill: #174EA6;\n",
              "    }\n",
              "\n",
              "    [theme=dark] .colab-df-convert {\n",
              "      background-color: #3B4455;\n",
              "      fill: #D2E3FC;\n",
              "    }\n",
              "\n",
              "    [theme=dark] .colab-df-convert:hover {\n",
              "      background-color: #434B5C;\n",
              "      box-shadow: 0px 1px 3px 1px rgba(0, 0, 0, 0.15);\n",
              "      filter: drop-shadow(0px 1px 2px rgba(0, 0, 0, 0.3));\n",
              "      fill: #FFFFFF;\n",
              "    }\n",
              "  </style>\n",
              "\n",
              "      <script>\n",
              "        const buttonEl =\n",
              "          document.querySelector('#df-88053784-0cd4-459a-b98f-d9c254014805 button.colab-df-convert');\n",
              "        buttonEl.style.display =\n",
              "          google.colab.kernel.accessAllowed ? 'block' : 'none';\n",
              "\n",
              "        async function convertToInteractive(key) {\n",
              "          const element = document.querySelector('#df-88053784-0cd4-459a-b98f-d9c254014805');\n",
              "          const dataTable =\n",
              "            await google.colab.kernel.invokeFunction('convertToInteractive',\n",
              "                                                     [key], {});\n",
              "          if (!dataTable) return;\n",
              "\n",
              "          const docLinkHtml = 'Like what you see? Visit the ' +\n",
              "            '<a target=\"_blank\" href=https://colab.research.google.com/notebooks/data_table.ipynb>data table notebook</a>'\n",
              "            + ' to learn more about interactive tables.';\n",
              "          element.innerHTML = '';\n",
              "          dataTable['output_type'] = 'display_data';\n",
              "          await google.colab.output.renderOutput(dataTable, element);\n",
              "          const docLink = document.createElement('div');\n",
              "          docLink.innerHTML = docLinkHtml;\n",
              "          element.appendChild(docLink);\n",
              "        }\n",
              "      </script>\n",
              "    </div>\n",
              "  </div>\n",
              "  "
            ],
            "text/plain": [
              "       PassengerId    Survived      Pclass  ...       SibSp       Parch        Fare\n",
              "count   891.000000  891.000000  891.000000  ...  891.000000  891.000000  891.000000\n",
              "mean    446.000000    0.383838    2.308642  ...    0.523008    0.381594   32.204208\n",
              "std     257.353842    0.486592    0.836071  ...    1.102743    0.806057   49.693429\n",
              "min       1.000000    0.000000    1.000000  ...    0.000000    0.000000    0.000000\n",
              "25%     223.500000    0.000000    2.000000  ...    0.000000    0.000000    7.910400\n",
              "50%     446.000000    0.000000    3.000000  ...    0.000000    0.000000   14.454200\n",
              "75%     668.500000    1.000000    3.000000  ...    1.000000    0.000000   31.000000\n",
              "max     891.000000    1.000000    3.000000  ...    8.000000    6.000000  512.329200\n",
              "\n",
              "[8 rows x 7 columns]"
            ]
          },
          "metadata": {},
          "execution_count": 51
        }
      ]
    },
    {
      "cell_type": "markdown",
      "source": [
        "# 4. 데이터 전처리\n",
        "\n",
        "1) 이상치 발견 및 제거 (z-score 활용)\n",
        "\n",
        "2) 표준화 및 정규화  "
      ],
      "metadata": {
        "id": "wNklbO0ax_vR"
      }
    },
    {
      "cell_type": "markdown",
      "source": [
        "##⭐️ 정규화\n",
        "\n",
        "특성 값의 범위를 [0, 1]로 옮김\n",
        "\n",
        "(X - MIN) / (MAX-MIN) \n",
        "\n",
        "\n",
        "\n",
        "\n"
      ],
      "metadata": {
        "id": "7b-LORp2aoIl"
      }
    },
    {
      "cell_type": "markdown",
      "source": [
        "\n",
        "## ⭐️ 표준화(Z 점수 정규화)\n",
        "\n",
        "어떤 특성의 값들이 정규분포, 즉 종모양의 분포를 따른다고 가정하고 값들을 0의 평균, 1의 표준편차를 갖도록 변환, 이상치 잘 처리\n",
        "\n",
        "(X - 평균) / 표준편차"
      ],
      "metadata": {
        "id": "Nz9kR8L9x0G5"
      }
    },
    {
      "cell_type": "markdown",
      "source": [
        "###✓ pd.DataFrame.fillna()\n",
        "\n",
        "결측치를 채우고자 하는 column과 결측치를 대신하여 넣고자 하는 (값)을 명시해주어야 합니다.\n",
        "\n",
        "범주형 변수일 경우, 최빈값으로 대체할 수 있습니다.\n",
        "\n"
      ],
      "metadata": {
        "id": "Io7-YunhIBe4"
      }
    },
    {
      "cell_type": "markdown",
      "source": [
        "\n",
        "### ✓ pd.DataFrame.map({딕셔너리})\n",
        "딕셔너리에 따라 key값을 value로 바꿈"
      ],
      "metadata": {
        "id": "Q1QvOg04xvoN"
      }
    },
    {
      "cell_type": "code",
      "source": [
        "train['Age'] = train['Age'].fillna(29) #최빈값\n",
        "train['Sex'] = train['Sex'].map({'male' : 0, 'female' : 1})\n",
        "\n",
        "test['Age'] = test['Age'].fillna(29)\n",
        "test['Fare'] = test['Fare'].fillna(32)\n",
        "test['Sex'] = test['Sex'].map({'male' : 0, 'female' : 1})"
      ],
      "metadata": {
        "id": "8CUuLF2EBwYq"
      },
      "execution_count": 52,
      "outputs": []
    },
    {
      "cell_type": "code",
      "source": [
        "#Embarked 데이터를 숫자형으로 변환합니다.\n",
        "\"\"\"\n",
        "train['Embarked'] = train['Embarked'].fillna(0)\n",
        "train['Embarked'] = train['Embarked'].map( {'C': 0, 'Q': 1, 'S':2} ).astype(int)\n",
        "test['Embarked'] = test['Embarked'].map( {'C': 0, 'Q': 1, 'S':2} ).astype(int)\n",
        "\"\"\""
      ],
      "metadata": {
        "colab": {
          "base_uri": "https://localhost:8080/",
          "height": 53
        },
        "id": "0nmidh-ML1-4",
        "outputId": "0ae29fed-509c-4993-f641-e14830b9b637"
      },
      "execution_count": 53,
      "outputs": [
        {
          "output_type": "execute_result",
          "data": {
            "application/vnd.google.colaboratory.intrinsic+json": {
              "type": "string"
            },
            "text/plain": [
              "\"\\ntrain['Embarked'] = train['Embarked'].fillna(0)\\ntrain['Embarked'] = train['Embarked'].map( {'C': 0, 'Q': 1, 'S':2} ).astype(int)\\ntest['Embarked'] = test['Embarked'].map( {'C': 0, 'Q': 1, 'S':2} ).astype(int)\\n\""
            ]
          },
          "metadata": {},
          "execution_count": 53
        }
      ]
    },
    {
      "cell_type": "code",
      "source": [
        "train = train.drop(['Name', 'Ticket'], axis = 1)\n",
        "test = test.drop(['Name', 'Ticket'], axis = 1)"
      ],
      "metadata": {
        "id": "RAAt3l1oMWTI"
      },
      "execution_count": 54,
      "outputs": []
    },
    {
      "cell_type": "code",
      "source": [
        "train.head()"
      ],
      "metadata": {
        "colab": {
          "base_uri": "https://localhost:8080/",
          "height": 206
        },
        "id": "fhZMxs7kMZo4",
        "outputId": "bfa91739-5999-4997-b42d-d81a8f5d2291"
      },
      "execution_count": 55,
      "outputs": [
        {
          "output_type": "execute_result",
          "data": {
            "text/html": [
              "\n",
              "  <div id=\"df-d90f0db9-21c5-46ad-aae4-fc00a12ab86e\">\n",
              "    <div class=\"colab-df-container\">\n",
              "      <div>\n",
              "<style scoped>\n",
              "    .dataframe tbody tr th:only-of-type {\n",
              "        vertical-align: middle;\n",
              "    }\n",
              "\n",
              "    .dataframe tbody tr th {\n",
              "        vertical-align: top;\n",
              "    }\n",
              "\n",
              "    .dataframe thead th {\n",
              "        text-align: right;\n",
              "    }\n",
              "</style>\n",
              "<table border=\"1\" class=\"dataframe\">\n",
              "  <thead>\n",
              "    <tr style=\"text-align: right;\">\n",
              "      <th></th>\n",
              "      <th>PassengerId</th>\n",
              "      <th>Survived</th>\n",
              "      <th>Pclass</th>\n",
              "      <th>Sex</th>\n",
              "      <th>Age</th>\n",
              "      <th>SibSp</th>\n",
              "      <th>Parch</th>\n",
              "      <th>Fare</th>\n",
              "      <th>Cabin</th>\n",
              "      <th>Embarked</th>\n",
              "    </tr>\n",
              "  </thead>\n",
              "  <tbody>\n",
              "    <tr>\n",
              "      <th>0</th>\n",
              "      <td>1</td>\n",
              "      <td>0</td>\n",
              "      <td>3</td>\n",
              "      <td>0</td>\n",
              "      <td>22.0</td>\n",
              "      <td>1</td>\n",
              "      <td>0</td>\n",
              "      <td>7.2500</td>\n",
              "      <td>NaN</td>\n",
              "      <td>S</td>\n",
              "    </tr>\n",
              "    <tr>\n",
              "      <th>1</th>\n",
              "      <td>2</td>\n",
              "      <td>1</td>\n",
              "      <td>1</td>\n",
              "      <td>1</td>\n",
              "      <td>38.0</td>\n",
              "      <td>1</td>\n",
              "      <td>0</td>\n",
              "      <td>71.2833</td>\n",
              "      <td>C85</td>\n",
              "      <td>C</td>\n",
              "    </tr>\n",
              "    <tr>\n",
              "      <th>2</th>\n",
              "      <td>3</td>\n",
              "      <td>1</td>\n",
              "      <td>3</td>\n",
              "      <td>1</td>\n",
              "      <td>26.0</td>\n",
              "      <td>0</td>\n",
              "      <td>0</td>\n",
              "      <td>7.9250</td>\n",
              "      <td>NaN</td>\n",
              "      <td>S</td>\n",
              "    </tr>\n",
              "    <tr>\n",
              "      <th>3</th>\n",
              "      <td>4</td>\n",
              "      <td>1</td>\n",
              "      <td>1</td>\n",
              "      <td>1</td>\n",
              "      <td>35.0</td>\n",
              "      <td>1</td>\n",
              "      <td>0</td>\n",
              "      <td>53.1000</td>\n",
              "      <td>C123</td>\n",
              "      <td>S</td>\n",
              "    </tr>\n",
              "    <tr>\n",
              "      <th>4</th>\n",
              "      <td>5</td>\n",
              "      <td>0</td>\n",
              "      <td>3</td>\n",
              "      <td>0</td>\n",
              "      <td>35.0</td>\n",
              "      <td>0</td>\n",
              "      <td>0</td>\n",
              "      <td>8.0500</td>\n",
              "      <td>NaN</td>\n",
              "      <td>S</td>\n",
              "    </tr>\n",
              "  </tbody>\n",
              "</table>\n",
              "</div>\n",
              "      <button class=\"colab-df-convert\" onclick=\"convertToInteractive('df-d90f0db9-21c5-46ad-aae4-fc00a12ab86e')\"\n",
              "              title=\"Convert this dataframe to an interactive table.\"\n",
              "              style=\"display:none;\">\n",
              "        \n",
              "  <svg xmlns=\"http://www.w3.org/2000/svg\" height=\"24px\"viewBox=\"0 0 24 24\"\n",
              "       width=\"24px\">\n",
              "    <path d=\"M0 0h24v24H0V0z\" fill=\"none\"/>\n",
              "    <path d=\"M18.56 5.44l.94 2.06.94-2.06 2.06-.94-2.06-.94-.94-2.06-.94 2.06-2.06.94zm-11 1L8.5 8.5l.94-2.06 2.06-.94-2.06-.94L8.5 2.5l-.94 2.06-2.06.94zm10 10l.94 2.06.94-2.06 2.06-.94-2.06-.94-.94-2.06-.94 2.06-2.06.94z\"/><path d=\"M17.41 7.96l-1.37-1.37c-.4-.4-.92-.59-1.43-.59-.52 0-1.04.2-1.43.59L10.3 9.45l-7.72 7.72c-.78.78-.78 2.05 0 2.83L4 21.41c.39.39.9.59 1.41.59.51 0 1.02-.2 1.41-.59l7.78-7.78 2.81-2.81c.8-.78.8-2.07 0-2.86zM5.41 20L4 18.59l7.72-7.72 1.47 1.35L5.41 20z\"/>\n",
              "  </svg>\n",
              "      </button>\n",
              "      \n",
              "  <style>\n",
              "    .colab-df-container {\n",
              "      display:flex;\n",
              "      flex-wrap:wrap;\n",
              "      gap: 12px;\n",
              "    }\n",
              "\n",
              "    .colab-df-convert {\n",
              "      background-color: #E8F0FE;\n",
              "      border: none;\n",
              "      border-radius: 50%;\n",
              "      cursor: pointer;\n",
              "      display: none;\n",
              "      fill: #1967D2;\n",
              "      height: 32px;\n",
              "      padding: 0 0 0 0;\n",
              "      width: 32px;\n",
              "    }\n",
              "\n",
              "    .colab-df-convert:hover {\n",
              "      background-color: #E2EBFA;\n",
              "      box-shadow: 0px 1px 2px rgba(60, 64, 67, 0.3), 0px 1px 3px 1px rgba(60, 64, 67, 0.15);\n",
              "      fill: #174EA6;\n",
              "    }\n",
              "\n",
              "    [theme=dark] .colab-df-convert {\n",
              "      background-color: #3B4455;\n",
              "      fill: #D2E3FC;\n",
              "    }\n",
              "\n",
              "    [theme=dark] .colab-df-convert:hover {\n",
              "      background-color: #434B5C;\n",
              "      box-shadow: 0px 1px 3px 1px rgba(0, 0, 0, 0.15);\n",
              "      filter: drop-shadow(0px 1px 2px rgba(0, 0, 0, 0.3));\n",
              "      fill: #FFFFFF;\n",
              "    }\n",
              "  </style>\n",
              "\n",
              "      <script>\n",
              "        const buttonEl =\n",
              "          document.querySelector('#df-d90f0db9-21c5-46ad-aae4-fc00a12ab86e button.colab-df-convert');\n",
              "        buttonEl.style.display =\n",
              "          google.colab.kernel.accessAllowed ? 'block' : 'none';\n",
              "\n",
              "        async function convertToInteractive(key) {\n",
              "          const element = document.querySelector('#df-d90f0db9-21c5-46ad-aae4-fc00a12ab86e');\n",
              "          const dataTable =\n",
              "            await google.colab.kernel.invokeFunction('convertToInteractive',\n",
              "                                                     [key], {});\n",
              "          if (!dataTable) return;\n",
              "\n",
              "          const docLinkHtml = 'Like what you see? Visit the ' +\n",
              "            '<a target=\"_blank\" href=https://colab.research.google.com/notebooks/data_table.ipynb>data table notebook</a>'\n",
              "            + ' to learn more about interactive tables.';\n",
              "          element.innerHTML = '';\n",
              "          dataTable['output_type'] = 'display_data';\n",
              "          await google.colab.output.renderOutput(dataTable, element);\n",
              "          const docLink = document.createElement('div');\n",
              "          docLink.innerHTML = docLinkHtml;\n",
              "          element.appendChild(docLink);\n",
              "        }\n",
              "      </script>\n",
              "    </div>\n",
              "  </div>\n",
              "  "
            ],
            "text/plain": [
              "   PassengerId  Survived  Pclass  Sex  ...  Parch     Fare  Cabin  Embarked\n",
              "0            1         0       3    0  ...      0   7.2500    NaN         S\n",
              "1            2         1       1    1  ...      0  71.2833    C85         C\n",
              "2            3         1       3    1  ...      0   7.9250    NaN         S\n",
              "3            4         1       1    1  ...      0  53.1000   C123         S\n",
              "4            5         0       3    0  ...      0   8.0500    NaN         S\n",
              "\n",
              "[5 rows x 10 columns]"
            ]
          },
          "metadata": {},
          "execution_count": 55
        }
      ]
    },
    {
      "cell_type": "code",
      "source": [
        "train_x = train[['Pclass', 'SibSp','Age', 'Sex', 'Fare']]\n",
        "train_y = train['Survived']\n",
        "\n",
        "\n",
        "test_x = test[['Pclass', 'SibSp', 'Age', 'Sex', 'Fare']]"
      ],
      "metadata": {
        "id": "AP9Jlwa6BwzX"
      },
      "execution_count": 56,
      "outputs": []
    },
    {
      "cell_type": "code",
      "source": [
        "##표준화 : 평균 = 0, 표준편차 = 1\n",
        "from sklearn.preprocessing import StandardScaler\n",
        "\n",
        "\n",
        "# StandardScaler객체 생성\n",
        "scaler = StandardScaler()\n",
        "# StandardScaler 로 데이터 셋 변환. fit( ) 과 transform( ) 호출.  \n",
        "scaler.fit(train_x)\n",
        "train_scaled = scaler.transform(train_x)\n",
        "train_x = train_scaled\n",
        "\n",
        "scaler.fit(test_x)\n",
        "test_scaled = scaler.transform(test_x)\n",
        "test_x = test_scaled\n",
        "\n",
        "print(test_x)\n",
        "\n",
        "\n",
        "\n"
      ],
      "metadata": {
        "colab": {
          "base_uri": "https://localhost:8080/"
        },
        "id": "YxN1xDCrcQJn",
        "outputId": "991f8b58-8f6c-4142-e225-1ba81329a8de"
      },
      "execution_count": 57,
      "outputs": [
        {
          "output_type": "stream",
          "name": "stdout",
          "text": [
            "[[ 0.87348191 -0.49947002  0.35544516 -0.75592895 -0.49824896]\n",
            " [ 0.87348191  0.61699237  1.34516057  1.32287566 -0.51311611]\n",
            " [-0.31581919 -0.49947002  2.53281907 -0.75592895 -0.46493053]\n",
            " ...\n",
            " [ 0.87348191 -0.49947002  0.67215409 -0.75592895 -0.50863373]\n",
            " [ 0.87348191 -0.49947002 -0.08002962 -0.75592895 -0.49429012]\n",
            " [ 0.87348191  0.61699237 -0.08002962 -0.75592895 -0.23774919]]\n"
          ]
        }
      ]
    },
    {
      "cell_type": "code",
      "source": [
        "##정규화 : [0,1]\n",
        "\n",
        "from sklearn.preprocessing import MinMaxScaler\n",
        "\n",
        "# MinMaxScaler객체 생성\n",
        "scaler = MinMaxScaler()\n",
        "# MinMaxScaler 로 데이터 셋 변환. fit() 과 transform() 호출.  \n",
        "scaler.fit(train_x)\n",
        "train_scaled = scaler.transform(train_x)\n",
        "\n",
        "train_x = train_scaled \n",
        "\n",
        "\n",
        "\n",
        "scaler.fit(test_x)\n",
        "test_scaled = scaler.transform(test_x)\n",
        "\n",
        "test_x = test_scaled \n",
        "\n",
        "\n",
        "print(test_x)\n",
        "\n",
        "\n"
      ],
      "metadata": {
        "id": "tNQIpG-fdHeC",
        "colab": {
          "base_uri": "https://localhost:8080/"
        },
        "outputId": "8803037c-c6e6-4410-8123-87dad3913f53"
      },
      "execution_count": 58,
      "outputs": [
        {
          "output_type": "stream",
          "name": "stdout",
          "text": [
            "[[1.         0.         0.4527232  0.         0.01528158]\n",
            " [1.         0.125      0.61756561 1.         0.01366309]\n",
            " [0.5        0.         0.8153765  0.         0.01890874]\n",
            " ...\n",
            " [1.         0.         0.50547277 0.         0.01415106]\n",
            " [1.         0.         0.38019254 0.         0.01571255]\n",
            " [1.         0.125      0.38019254 0.         0.0436405 ]]\n"
          ]
        }
      ]
    },
    {
      "cell_type": "code",
      "source": [
        "train_x.shape"
      ],
      "metadata": {
        "colab": {
          "base_uri": "https://localhost:8080/"
        },
        "id": "O1d0Es0wzj3W",
        "outputId": "98935f32-eacc-444f-983a-befd0179ee5f"
      },
      "execution_count": 59,
      "outputs": [
        {
          "output_type": "execute_result",
          "data": {
            "text/plain": [
              "(891, 5)"
            ]
          },
          "metadata": {},
          "execution_count": 59
        }
      ]
    },
    {
      "cell_type": "code",
      "source": [
        "train_y.shape"
      ],
      "metadata": {
        "colab": {
          "base_uri": "https://localhost:8080/"
        },
        "id": "csG7UQjXzqbz",
        "outputId": "83b8462c-327b-4060-fd53-b04266011161"
      },
      "execution_count": 60,
      "outputs": [
        {
          "output_type": "execute_result",
          "data": {
            "text/plain": [
              "(891,)"
            ]
          },
          "metadata": {},
          "execution_count": 60
        }
      ]
    },
    {
      "cell_type": "markdown",
      "source": [
        "# 4. 모델 정의 및 학습\n",
        "\n",
        "- 의사결정나무 : 정확도 0.70435\n",
        "\n",
        "- ☑️ **로지스틱회귀** : 정확도 0.7527507303\n",
        "\n",
        "- 랜덤포레스트 : 정화도 0.7024342746\n",
        "\n",
        "- ☑️ **LightGBM** : 정확도 0.7377312561\n",
        "\n",
        "- ☑️ **딥러닝** : 정확도 0.756037001"
      ],
      "metadata": {
        "id": "dJN5QBLlCgmv"
      }
    },
    {
      "cell_type": "code",
      "source": [
        "from sklearn.model_selection import KFold\n",
        "from sklearn.model_selection import cross_val_score\n",
        "k_fold = KFold(n_splits=10, shuffle=True, random_state=0)"
      ],
      "metadata": {
        "id": "nYULoCvml5u8"
      },
      "execution_count": 61,
      "outputs": []
    },
    {
      "cell_type": "code",
      "source": [
        "# kfold 함수\n",
        "\n",
        "def kfold_func(clf):\n",
        "\n",
        "  scoring = 'accuracy'\n",
        "  score = cross_val_score(clf, train_x, train_y, cv=k_fold, n_jobs=1, scoring=scoring)\n",
        "  print(score)\n",
        "  print('평균 정확도:', round(np.mean(score)*100,2))"
      ],
      "metadata": {
        "id": "gtP6nvJRl_xo"
      },
      "execution_count": 62,
      "outputs": []
    },
    {
      "cell_type": "markdown",
      "source": [
        "(1) 의사결정나무"
      ],
      "metadata": {
        "id": "G-lHbhD80Ony"
      }
    },
    {
      "cell_type": "code",
      "source": [
        "#0.70435\n",
        "\n",
        "# 모델 만들기\n",
        "DT_model = DecisionTreeClassifier()\n"
      ],
      "metadata": {
        "id": "JdDykDKuBw8f"
      },
      "execution_count": 63,
      "outputs": []
    },
    {
      "cell_type": "code",
      "source": [
        "kfold_func(DT_model)"
      ],
      "metadata": {
        "colab": {
          "base_uri": "https://localhost:8080/"
        },
        "id": "xx11WueDMtXG",
        "outputId": "aaacfabf-ec7f-4ef8-8958-23823db1a457"
      },
      "execution_count": 64,
      "outputs": [
        {
          "output_type": "stream",
          "name": "stdout",
          "text": [
            "[0.77777778 0.75280899 0.82022472 0.75280899 0.82022472 0.79775281\n",
            " 0.74157303 0.78651685 0.78651685 0.71910112]\n",
            "평균 정확도: 77.55\n"
          ]
        }
      ]
    },
    {
      "cell_type": "code",
      "source": [
        "# 학습하기\n",
        "DT_model.fit(train_x, train_y)\n"
      ],
      "metadata": {
        "colab": {
          "base_uri": "https://localhost:8080/"
        },
        "id": "kUCIC3ZYMxuH",
        "outputId": "909ae9bf-a3ce-4344-f8ea-c24da4c9d1c0"
      },
      "execution_count": 65,
      "outputs": [
        {
          "output_type": "execute_result",
          "data": {
            "text/plain": [
              "DecisionTreeClassifier()"
            ]
          },
          "metadata": {},
          "execution_count": 65
        }
      ]
    },
    {
      "cell_type": "code",
      "source": [
        "DT_test_y_pred = DT_model.predict(test_x)\n",
        "DT_test_y_pred"
      ],
      "metadata": {
        "colab": {
          "base_uri": "https://localhost:8080/"
        },
        "id": "ruPQeqa1BxFc",
        "outputId": "a78cda00-7782-45cf-97ac-63e4dda13ea6"
      },
      "execution_count": 66,
      "outputs": [
        {
          "output_type": "execute_result",
          "data": {
            "text/plain": [
              "array([0, 0, 0, 0, 1, 0, 0, 0, 1, 0, 0, 0, 1, 0, 1, 0, 0, 1, 1, 0, 1, 0,\n",
              "       1, 1, 1, 0, 1, 0, 1, 0, 0, 0, 1, 0, 1, 1, 1, 0, 0, 1, 0, 0, 0, 1,\n",
              "       1, 0, 0, 0, 1, 0, 1, 0, 1, 1, 0, 0, 0, 1, 0, 1, 0, 0, 0, 1, 1, 1,\n",
              "       1, 0, 0, 1, 1, 0, 1, 0, 1, 0, 0, 1, 0, 1, 1, 0, 0, 0, 0, 0, 1, 0,\n",
              "       0, 1, 1, 0, 1, 0, 0, 1, 1, 0, 1, 0, 1, 0, 0, 0, 1, 0, 0, 0, 1, 0,\n",
              "       0, 0, 1, 1, 1, 0, 0, 1, 0, 1, 1, 0, 1, 0, 0, 0, 0, 1, 0, 0, 0, 0,\n",
              "       0, 0, 0, 0, 0, 0, 0, 0, 0, 0, 0, 0, 0, 0, 0, 0, 0, 1, 1, 0, 1, 0,\n",
              "       0, 0, 1, 1, 0, 1, 0, 1, 1, 0, 0, 1, 0, 0, 1, 0, 0, 0, 0, 0, 0, 1,\n",
              "       1, 1, 1, 1, 0, 0, 1, 0, 1, 0, 1, 1, 0, 0, 0, 0, 1, 0, 1, 0, 1, 0,\n",
              "       0, 1, 0, 1, 0, 1, 0, 0, 0, 0, 1, 0, 0, 0, 0, 0, 0, 0, 0, 1, 1, 0,\n",
              "       1, 0, 1, 0, 1, 0, 0, 0, 0, 0, 0, 1, 0, 0, 0, 0, 0, 1, 1, 1, 1, 1,\n",
              "       1, 0, 0, 0, 1, 0, 1, 0, 1, 0, 0, 0, 0, 0, 0, 0, 1, 0, 0, 0, 1, 1,\n",
              "       0, 0, 0, 0, 1, 0, 0, 0, 1, 0, 0, 1, 0, 0, 1, 0, 0, 1, 0, 0, 1, 0,\n",
              "       0, 1, 0, 0, 0, 0, 0, 1, 0, 0, 1, 0, 0, 0, 0, 0, 0, 0, 0, 1, 0, 1,\n",
              "       1, 0, 0, 0, 0, 0, 1, 1, 1, 0, 0, 0, 0, 1, 0, 1, 1, 0, 1, 0, 0, 0,\n",
              "       1, 0, 0, 0, 0, 0, 0, 0, 0, 0, 0, 0, 0, 1, 0, 1, 0, 0, 0, 1, 1, 0,\n",
              "       0, 0, 1, 0, 1, 0, 0, 0, 0, 1, 1, 0, 1, 1, 0, 1, 1, 1, 0, 1, 0, 0,\n",
              "       1, 1, 0, 0, 0, 1, 0, 0, 0, 0, 0, 1, 0, 0, 0, 0, 0, 1, 0, 0, 0, 1,\n",
              "       0, 1, 0, 0, 1, 0, 1, 0, 0, 0, 0, 0, 0, 1, 0, 1, 0, 0, 1, 0, 0, 0])"
            ]
          },
          "metadata": {},
          "execution_count": 66
        }
      ]
    },
    {
      "cell_type": "markdown",
      "source": [
        "(2) **로지스틱회귀** : 0.7527507303\n",
        "\n",
        "https://scikit-learn.org/stable/modules/generated/sklearn.linear_model.LogisticRegression.html\n",
        "\n",
        "solver{‘newton-cg’, ‘lbfgs’, ‘liblinear’, ‘sag’, ‘saga’}, default=’lbfgs’\n"
      ],
      "metadata": {
        "id": "x_P6XwjS0TNV"
      }
    },
    {
      "cell_type": "code",
      "source": [
        "\n",
        "#0.73984\n",
        "    \n",
        "\n",
        "LR_model = LogisticRegression(random_state = 10, solver='liblinear')\n",
        "\n"
      ],
      "metadata": {
        "id": "PBeYMmfmKz5b"
      },
      "execution_count": 67,
      "outputs": []
    },
    {
      "cell_type": "code",
      "source": [
        "kfold_func(LR_model)\n"
      ],
      "metadata": {
        "colab": {
          "base_uri": "https://localhost:8080/"
        },
        "id": "-iQKLiiJNBQ3",
        "outputId": "2f86ac95-80dd-43e0-fdda-f89892d5f56f"
      },
      "execution_count": 68,
      "outputs": [
        {
          "output_type": "stream",
          "name": "stdout",
          "text": [
            "[0.78888889 0.76404494 0.79775281 0.75280899 0.79775281 0.79775281\n",
            " 0.78651685 0.83146067 0.80898876 0.82022472]\n",
            "평균 정확도: 79.46\n"
          ]
        }
      ]
    },
    {
      "cell_type": "code",
      "source": [
        "\n",
        "LR_model.fit(train_x, train_y)"
      ],
      "metadata": {
        "colab": {
          "base_uri": "https://localhost:8080/"
        },
        "id": "B8W8y2-4nHPC",
        "outputId": "035fb850-7983-4a8c-9641-05b939517860"
      },
      "execution_count": 69,
      "outputs": [
        {
          "output_type": "execute_result",
          "data": {
            "text/plain": [
              "LogisticRegression(random_state=10, solver='liblinear')"
            ]
          },
          "metadata": {},
          "execution_count": 69
        }
      ]
    },
    {
      "cell_type": "code",
      "source": [
        "LR_model.get_params().keys()"
      ],
      "metadata": {
        "colab": {
          "base_uri": "https://localhost:8080/"
        },
        "id": "BQWuOaypFNK5",
        "outputId": "2a11ee6d-c271-4727-8418-c388788352fe"
      },
      "execution_count": 70,
      "outputs": [
        {
          "output_type": "execute_result",
          "data": {
            "text/plain": [
              "dict_keys(['C', 'class_weight', 'dual', 'fit_intercept', 'intercept_scaling', 'l1_ratio', 'max_iter', 'multi_class', 'n_jobs', 'penalty', 'random_state', 'solver', 'tol', 'verbose', 'warm_start'])"
            ]
          },
          "metadata": {},
          "execution_count": 70
        }
      ]
    },
    {
      "cell_type": "markdown",
      "source": [
        "- penalty : 정규화의 방법 지정 → l1, l2\n",
        "\n",
        "- C : 정규화의 강도 지정(작을수록 강도 증가)"
      ],
      "metadata": {
        "id": "_v1kGhvvWYXC"
      }
    },
    {
      "cell_type": "code",
      "source": [
        "%%time\n",
        "\n",
        "\n",
        "params = { 'penalty' : ['l2', 'l1'],\n",
        "           'C' : [0.001, 0.01,0.1, 1, 3, 7, 8,10],\n",
        "           'max_iter' : [3,4,5,10,20,30,50,100,200]\n",
        "         }\n",
        "\n",
        "\n",
        "grid_LR = GridSearchCV(LR_model, param_grid = params, scoring = 'accuracy', cv =3 )\n",
        "grid_LR.fit(train_x, train_y)\n",
        "print('최적 하이퍼 파라미터:{0}, 최적 평균 정확도:{1:.3f}'.format(grid_LR.best_params_, grid_LR.best_score_))"
      ],
      "metadata": {
        "colab": {
          "base_uri": "https://localhost:8080/"
        },
        "id": "fjyLWyBNEfCp",
        "outputId": "cd834ee7-7b3b-47db-f2ee-94378d46cb14"
      },
      "execution_count": 85,
      "outputs": [
        {
          "output_type": "stream",
          "name": "stdout",
          "text": [
            "최적 하이퍼 파라미터:{'C': 10, 'max_iter': 3, 'penalty': 'l1'}, 최적 평균 정확도:0.796\n",
            "CPU times: user 1.22 s, sys: 5.08 ms, total: 1.22 s\n",
            "Wall time: 1.23 s\n"
          ]
        }
      ]
    },
    {
      "cell_type": "code",
      "source": [
        "#0.7527507303\n",
        "LR_test_y_pred = grid_LR.predict(test_x)\n",
        "LR_test_y_pred"
      ],
      "metadata": {
        "colab": {
          "base_uri": "https://localhost:8080/"
        },
        "id": "uaTuW1CnLOhP",
        "outputId": "f7516ee1-62bb-48f1-b76a-f9362bf90ae7"
      },
      "execution_count": 86,
      "outputs": [
        {
          "output_type": "execute_result",
          "data": {
            "text/plain": [
              "array([0, 0, 0, 0, 1, 0, 1, 0, 1, 0, 0, 0, 1, 0, 1, 1, 0, 0, 1, 1, 0, 0,\n",
              "       1, 1, 1, 0, 1, 0, 0, 0, 0, 0, 1, 1, 0, 0, 1, 1, 0, 0, 0, 0, 0, 1,\n",
              "       1, 0, 0, 0, 1, 1, 0, 0, 1, 1, 0, 0, 0, 0, 0, 1, 0, 0, 0, 1, 1, 1,\n",
              "       1, 0, 0, 1, 1, 0, 1, 0, 1, 1, 0, 1, 0, 1, 0, 0, 0, 0, 0, 0, 1, 1,\n",
              "       1, 0, 1, 0, 1, 0, 0, 0, 1, 0, 1, 0, 1, 0, 0, 0, 1, 0, 0, 0, 0, 0,\n",
              "       0, 1, 1, 1, 1, 0, 0, 1, 0, 1, 1, 0, 1, 0, 0, 1, 0, 0, 0, 0, 0, 0,\n",
              "       1, 0, 0, 0, 0, 0, 1, 0, 0, 1, 0, 0, 0, 0, 0, 0, 0, 0, 1, 0, 0, 1,\n",
              "       0, 0, 1, 1, 0, 1, 1, 0, 1, 0, 0, 1, 0, 0, 1, 1, 0, 0, 0, 0, 0, 1,\n",
              "       1, 0, 1, 1, 0, 0, 1, 0, 1, 0, 1, 0, 0, 0, 0, 0, 0, 0, 0, 0, 1, 1,\n",
              "       0, 1, 1, 0, 1, 1, 0, 0, 1, 0, 1, 0, 0, 0, 0, 1, 0, 0, 1, 0, 1, 0,\n",
              "       1, 0, 1, 0, 1, 1, 0, 1, 0, 0, 0, 1, 0, 0, 0, 0, 0, 0, 1, 1, 1, 1,\n",
              "       0, 0, 0, 0, 1, 0, 1, 1, 1, 0, 1, 0, 0, 0, 0, 0, 1, 0, 0, 0, 1, 1,\n",
              "       0, 0, 0, 0, 1, 0, 0, 0, 1, 1, 0, 1, 0, 0, 0, 0, 1, 0, 1, 1, 1, 0,\n",
              "       0, 0, 0, 0, 0, 1, 0, 0, 0, 0, 1, 0, 0, 0, 0, 0, 0, 0, 1, 1, 1, 0,\n",
              "       0, 0, 0, 0, 0, 1, 1, 1, 0, 0, 0, 0, 0, 0, 0, 0, 1, 0, 1, 0, 0, 0,\n",
              "       1, 0, 0, 1, 0, 0, 0, 0, 0, 0, 0, 0, 0, 1, 0, 1, 0, 1, 0, 1, 1, 0,\n",
              "       0, 0, 1, 0, 1, 0, 0, 1, 0, 1, 1, 0, 1, 1, 0, 1, 1, 0, 0, 1, 0, 0,\n",
              "       1, 1, 0, 0, 0, 0, 0, 0, 1, 1, 0, 1, 0, 0, 0, 0, 1, 1, 0, 0, 0, 1,\n",
              "       0, 1, 0, 0, 1, 0, 1, 1, 0, 0, 0, 0, 1, 1, 1, 1, 1, 0, 1, 0, 0, 0])"
            ]
          },
          "metadata": {},
          "execution_count": 86
        }
      ]
    },
    {
      "cell_type": "markdown",
      "source": [
        "(3) 랜덤포레스트"
      ],
      "metadata": {
        "id": "bJRHKEzO0WGB"
      }
    },
    {
      "cell_type": "code",
      "source": [
        "#0.7024342746\n",
        "\n",
        "# 모델 만들기\n",
        "RF_model = RandomForestClassifier()\n"
      ],
      "metadata": {
        "id": "LrxVnvi5ytgg"
      },
      "execution_count": 73,
      "outputs": []
    },
    {
      "cell_type": "code",
      "source": [
        "kfold_func(RF_model)\n"
      ],
      "metadata": {
        "colab": {
          "base_uri": "https://localhost:8080/"
        },
        "id": "SFC4yLQGNJTN",
        "outputId": "9889a21e-680a-4379-9874-301c6a7816df"
      },
      "execution_count": 74,
      "outputs": [
        {
          "output_type": "stream",
          "name": "stdout",
          "text": [
            "[0.82222222 0.85393258 0.80898876 0.76404494 0.86516854 0.84269663\n",
            " 0.78651685 0.7752809  0.82022472 0.83146067]\n",
            "평균 정확도: 81.71\n"
          ]
        }
      ]
    },
    {
      "cell_type": "code",
      "source": [
        "# 학습하기\n",
        "RF_model.fit(train_x, train_y)"
      ],
      "metadata": {
        "colab": {
          "base_uri": "https://localhost:8080/"
        },
        "id": "55MRPCNwNKjK",
        "outputId": "e3a3ecf7-cb52-4054-ff9b-ea5a2a474ad3"
      },
      "execution_count": 75,
      "outputs": [
        {
          "output_type": "execute_result",
          "data": {
            "text/plain": [
              "RandomForestClassifier()"
            ]
          },
          "metadata": {},
          "execution_count": 75
        }
      ]
    },
    {
      "cell_type": "code",
      "source": [
        "RF_test_y_pred = DT_model.predict(test_x)\n",
        "RF_test_y_pred"
      ],
      "metadata": {
        "colab": {
          "base_uri": "https://localhost:8080/"
        },
        "outputId": "9f35eeb3-827e-4505-a5cc-39a1d6496cf5",
        "id": "BLNuDYp-ytgh"
      },
      "execution_count": 76,
      "outputs": [
        {
          "output_type": "execute_result",
          "data": {
            "text/plain": [
              "array([0, 0, 0, 0, 1, 0, 0, 0, 1, 0, 0, 0, 1, 0, 1, 0, 0, 1, 1, 0, 1, 0,\n",
              "       1, 1, 1, 0, 1, 0, 1, 0, 0, 0, 1, 0, 1, 1, 1, 0, 0, 1, 0, 0, 0, 1,\n",
              "       1, 0, 0, 0, 1, 0, 1, 0, 1, 1, 0, 0, 0, 1, 0, 1, 0, 0, 0, 1, 1, 1,\n",
              "       1, 0, 0, 1, 1, 0, 1, 0, 1, 0, 0, 1, 0, 1, 1, 0, 0, 0, 0, 0, 1, 0,\n",
              "       0, 1, 1, 0, 1, 0, 0, 1, 1, 0, 1, 0, 1, 0, 0, 0, 1, 0, 0, 0, 1, 0,\n",
              "       0, 0, 1, 1, 1, 0, 0, 1, 0, 1, 1, 0, 1, 0, 0, 0, 0, 1, 0, 0, 0, 0,\n",
              "       0, 0, 0, 0, 0, 0, 0, 0, 0, 0, 0, 0, 0, 0, 0, 0, 0, 1, 1, 0, 1, 0,\n",
              "       0, 0, 1, 1, 0, 1, 0, 1, 1, 0, 0, 1, 0, 0, 1, 0, 0, 0, 0, 0, 0, 1,\n",
              "       1, 1, 1, 1, 0, 0, 1, 0, 1, 0, 1, 1, 0, 0, 0, 0, 1, 0, 1, 0, 1, 0,\n",
              "       0, 1, 0, 1, 0, 1, 0, 0, 0, 0, 1, 0, 0, 0, 0, 0, 0, 0, 0, 1, 1, 0,\n",
              "       1, 0, 1, 0, 1, 0, 0, 0, 0, 0, 0, 1, 0, 0, 0, 0, 0, 1, 1, 1, 1, 1,\n",
              "       1, 0, 0, 0, 1, 0, 1, 0, 1, 0, 0, 0, 0, 0, 0, 0, 1, 0, 0, 0, 1, 1,\n",
              "       0, 0, 0, 0, 1, 0, 0, 0, 1, 0, 0, 1, 0, 0, 1, 0, 0, 1, 0, 0, 1, 0,\n",
              "       0, 1, 0, 0, 0, 0, 0, 1, 0, 0, 1, 0, 0, 0, 0, 0, 0, 0, 0, 1, 0, 1,\n",
              "       1, 0, 0, 0, 0, 0, 1, 1, 1, 0, 0, 0, 0, 1, 0, 1, 1, 0, 1, 0, 0, 0,\n",
              "       1, 0, 0, 0, 0, 0, 0, 0, 0, 0, 0, 0, 0, 1, 0, 1, 0, 0, 0, 1, 1, 0,\n",
              "       0, 0, 1, 0, 1, 0, 0, 0, 0, 1, 1, 0, 1, 1, 0, 1, 1, 1, 0, 1, 0, 0,\n",
              "       1, 1, 0, 0, 0, 1, 0, 0, 0, 0, 0, 1, 0, 0, 0, 0, 0, 1, 0, 0, 0, 1,\n",
              "       0, 1, 0, 0, 1, 0, 1, 0, 0, 0, 0, 0, 0, 1, 0, 1, 0, 0, 1, 0, 0, 0])"
            ]
          },
          "metadata": {},
          "execution_count": 76
        }
      ]
    },
    {
      "cell_type": "markdown",
      "source": [
        "(4) **LightGBM**  : 0.7377312561"
      ],
      "metadata": {
        "id": "kx1NSO7j0f3U"
      }
    },
    {
      "cell_type": "code",
      "source": [
        "#0.7240262902\n",
        "\n",
        "# 모델 만들기\n",
        "LG_model = LGBMClassifier()\n"
      ],
      "metadata": {
        "id": "iv54_uhH0mzf"
      },
      "execution_count": 77,
      "outputs": []
    },
    {
      "cell_type": "code",
      "source": [
        "kfold_func(LG_model)"
      ],
      "metadata": {
        "colab": {
          "base_uri": "https://localhost:8080/"
        },
        "id": "itJCTQw6NU2P",
        "outputId": "a12bb73b-ff3a-4489-e1ef-dd58a170cb37"
      },
      "execution_count": 78,
      "outputs": [
        {
          "output_type": "stream",
          "name": "stdout",
          "text": [
            "[0.81111111 0.85393258 0.83146067 0.7752809  0.85393258 0.84269663\n",
            " 0.79775281 0.80898876 0.82022472 0.79775281]\n",
            "평균 정확도: 81.93\n"
          ]
        }
      ]
    },
    {
      "cell_type": "code",
      "source": [
        "# 학습하기\n",
        "LG_model.fit(train_x, train_y)"
      ],
      "metadata": {
        "colab": {
          "base_uri": "https://localhost:8080/"
        },
        "id": "o6yfl7_wNYEI",
        "outputId": "da62a276-760e-409d-b63e-73a1a464568d"
      },
      "execution_count": 79,
      "outputs": [
        {
          "output_type": "execute_result",
          "data": {
            "text/plain": [
              "LGBMClassifier()"
            ]
          },
          "metadata": {},
          "execution_count": 79
        }
      ]
    },
    {
      "cell_type": "code",
      "source": [
        "LG_model.get_params().keys()"
      ],
      "metadata": {
        "id": "aT_wKLEyIYDW"
      },
      "execution_count": null,
      "outputs": []
    },
    {
      "cell_type": "code",
      "source": [
        "%%time\n",
        "from sklearn.model_selection import GridSearchCV\n",
        "\n",
        "# 하이퍼 파라미터 테스트의 수행 속도를 향상시키기 위해 n_estimators를 200으로 감소 → 실제 학습시킬 때 증가시킴\n",
        "LG_model = LGBMClassifier(random_state = 10)\n",
        "\n",
        "params = {'max_depth':[64, 128, 160, 200] , \n",
        "          'min_child_samples':[20,30, 60,100] ,\n",
        "          'num_leaves':[8,16, 32, 64], \n",
        "          'subsample':[0,5, 0.8, 1],\n",
        "          'n_estimators' : [60,100,200,300]\n",
        "          }\n",
        "\n",
        "# cv는 3으로 지정 \n",
        "grid_LG = GridSearchCV(LG_model, param_grid=params, cv=3)\n",
        "grid_LG.fit(train_x, train_y)\n",
        "\n",
        "\n",
        "print('최적 하이퍼 파라미터:{0}, \\n 최적 평균 정확도:{1:.3f}'.format(grid_LG.best_params_, grid_LG.best_score_))"
      ],
      "metadata": {
        "colab": {
          "base_uri": "https://localhost:8080/"
        },
        "id": "y06EyzpJLTK1",
        "outputId": "5a777ba1-f5b7-4254-d1e8-c7895f42b6fc"
      },
      "execution_count": 81,
      "outputs": [
        {
          "output_type": "stream",
          "name": "stdout",
          "text": [
            "최적 하이퍼 파라미터:{'max_depth': 64, 'min_child_samples': 60, 'n_estimators': 300, 'num_leaves': 16, 'subsample': 0.8}, \n",
            " 최적 평균 정확도:0.826\n",
            "CPU times: user 2min 5s, sys: 8.02 s, total: 2min 13s\n",
            "Wall time: 1min 20s\n"
          ]
        }
      ]
    },
    {
      "cell_type": "code",
      "source": [
        "LG_test_y_pred = grid_LG.predict(test_x)\n",
        "LG_test_y_pred"
      ],
      "metadata": {
        "colab": {
          "base_uri": "https://localhost:8080/"
        },
        "outputId": "6fa29eb5-5484-48a6-cd8f-a04b7a65c607",
        "id": "yiAd4XRN0mzg"
      },
      "execution_count": 83,
      "outputs": [
        {
          "output_type": "execute_result",
          "data": {
            "text/plain": [
              "array([0, 0, 0, 0, 0, 0, 0, 0, 1, 0, 0, 0, 1, 0, 1, 1, 0, 0, 1, 0, 0, 0,\n",
              "       1, 1, 1, 0, 1, 0, 0, 0, 0, 0, 1, 1, 1, 0, 0, 0, 0, 1, 0, 1, 0, 1,\n",
              "       1, 0, 0, 0, 1, 0, 1, 0, 1, 1, 0, 0, 0, 0, 0, 1, 0, 0, 0, 1, 0, 1,\n",
              "       1, 0, 1, 1, 1, 0, 1, 0, 1, 1, 0, 1, 0, 1, 1, 0, 0, 0, 0, 0, 1, 1,\n",
              "       0, 1, 0, 0, 1, 0, 0, 0, 1, 0, 1, 0, 1, 0, 0, 0, 0, 0, 0, 0, 0, 0,\n",
              "       0, 0, 1, 1, 1, 0, 0, 1, 1, 1, 1, 0, 1, 0, 0, 1, 0, 1, 0, 0, 0, 0,\n",
              "       0, 0, 0, 0, 0, 0, 0, 0, 0, 1, 0, 0, 0, 0, 0, 0, 1, 0, 1, 0, 0, 0,\n",
              "       0, 0, 1, 0, 0, 1, 0, 1, 1, 0, 0, 0, 0, 0, 1, 0, 0, 0, 0, 0, 0, 1,\n",
              "       1, 0, 1, 1, 0, 0, 1, 0, 1, 0, 1, 1, 0, 0, 0, 0, 0, 0, 1, 0, 1, 1,\n",
              "       0, 0, 1, 1, 0, 1, 0, 0, 0, 0, 1, 0, 0, 0, 0, 1, 0, 0, 1, 0, 1, 0,\n",
              "       1, 0, 1, 0, 1, 0, 0, 0, 0, 0, 1, 1, 0, 0, 0, 0, 0, 0, 1, 1, 1, 1,\n",
              "       0, 0, 0, 0, 1, 0, 1, 0, 1, 0, 0, 0, 0, 0, 0, 0, 1, 0, 0, 0, 1, 1,\n",
              "       0, 0, 0, 0, 0, 0, 1, 0, 1, 1, 0, 1, 0, 0, 0, 0, 0, 1, 0, 0, 1, 0,\n",
              "       0, 0, 0, 0, 0, 0, 0, 0, 0, 0, 1, 0, 0, 0, 0, 0, 0, 0, 0, 1, 1, 1,\n",
              "       0, 0, 0, 0, 0, 0, 1, 1, 0, 0, 0, 0, 0, 0, 0, 1, 1, 0, 1, 1, 0, 0,\n",
              "       1, 0, 0, 1, 0, 1, 0, 0, 1, 0, 0, 0, 0, 1, 0, 1, 0, 0, 0, 1, 1, 0,\n",
              "       0, 0, 0, 0, 1, 0, 0, 1, 0, 1, 1, 0, 1, 0, 0, 0, 1, 0, 0, 1, 0, 0,\n",
              "       1, 1, 0, 0, 0, 0, 0, 0, 0, 1, 0, 1, 0, 0, 0, 0, 0, 1, 0, 0, 0, 1,\n",
              "       0, 1, 0, 0, 1, 0, 1, 0, 0, 0, 0, 0, 0, 1, 0, 1, 0, 0, 1, 0, 0, 0])"
            ]
          },
          "metadata": {},
          "execution_count": 83
        }
      ]
    },
    {
      "cell_type": "markdown",
      "source": [
        "(5) **딥러닝** : \n",
        "\n",
        "- 캐글 Score: 0.77511\n",
        "\n",
        "- 데이콘 Score: 0.7534323272\n",
        "\n",
        "\n",
        "GridSeach?"
      ],
      "metadata": {
        "id": "EzgMFniyOqkf"
      }
    },
    {
      "cell_type": "code",
      "source": [
        "#target, label, \n",
        "train_y.index"
      ],
      "metadata": {
        "colab": {
          "base_uri": "https://localhost:8080/"
        },
        "id": "IFE5MCvg6GH3",
        "outputId": "8b95a067-e0a8-422b-b62c-aa0923276ad6"
      },
      "execution_count": 88,
      "outputs": [
        {
          "output_type": "execute_result",
          "data": {
            "text/plain": [
              "RangeIndex(start=0, stop=891, step=1)"
            ]
          },
          "metadata": {},
          "execution_count": 88
        }
      ]
    },
    {
      "cell_type": "code",
      "source": [
        "type(train_y)"
      ],
      "metadata": {
        "colab": {
          "base_uri": "https://localhost:8080/"
        },
        "id": "I2T1bBJjivU2",
        "outputId": "1a8a66f6-7082-4763-d661-fcaca63e752b"
      },
      "execution_count": 89,
      "outputs": [
        {
          "output_type": "execute_result",
          "data": {
            "text/plain": [
              "pandas.core.series.Series"
            ]
          },
          "metadata": {},
          "execution_count": 89
        }
      ]
    },
    {
      "cell_type": "code",
      "source": [
        "train_y.value_counts()"
      ],
      "metadata": {
        "colab": {
          "base_uri": "https://localhost:8080/"
        },
        "id": "ZZV5zOkCh71a",
        "outputId": "87f9038c-52df-4a98-fc10-1469a0ab6fc7"
      },
      "execution_count": 90,
      "outputs": [
        {
          "output_type": "execute_result",
          "data": {
            "text/plain": [
              "0    549\n",
              "1    342\n",
              "Name: Survived, dtype: int64"
            ]
          },
          "metadata": {},
          "execution_count": 90
        }
      ]
    },
    {
      "cell_type": "code",
      "source": [
        "# 데이터셋에 존재하는 컬럼별 레이블의 개수를 확인하기 위해 사용\n",
        "train_y.nunique()\n"
      ],
      "metadata": {
        "colab": {
          "base_uri": "https://localhost:8080/"
        },
        "id": "FA9v1iEmi230",
        "outputId": "0a514c10-ff2f-4995-a5da-212359858b13"
      },
      "execution_count": 91,
      "outputs": [
        {
          "output_type": "execute_result",
          "data": {
            "text/plain": [
              "2"
            ]
          },
          "metadata": {},
          "execution_count": 91
        }
      ]
    },
    {
      "cell_type": "code",
      "source": [
        "\n",
        "from tensorflow.keras.utils import to_categorical\n",
        "\n",
        "train_y = to_categorical(train_y)\n",
        "train_y \n",
        "\n",
        "\n",
        "#원핫인코딩 0 1 1..."
      ],
      "metadata": {
        "colab": {
          "base_uri": "https://localhost:8080/"
        },
        "id": "bUmDBMER0yyW",
        "outputId": "0c75c6d1-6633-455c-cc03-3facc2cb0fdb"
      },
      "execution_count": 92,
      "outputs": [
        {
          "output_type": "execute_result",
          "data": {
            "text/plain": [
              "array([[1., 0.],\n",
              "       [0., 1.],\n",
              "       [0., 1.],\n",
              "       ...,\n",
              "       [1., 0.],\n",
              "       [0., 1.],\n",
              "       [1., 0.]], dtype=float32)"
            ]
          },
          "metadata": {},
          "execution_count": 92
        }
      ]
    },
    {
      "cell_type": "code",
      "source": [
        "from tensorflow.keras import models\n",
        "from tensorflow.keras import layers\n",
        "import tensorflow as tf\n",
        "\n",
        "DL = models.Sequential(name = 'Classification')\n",
        "DL.add(layers.Dense(64, activation = 'relu', input_shape = (5,))) #특성 13개 input\n",
        "DL.add(layers.Dense(32, activation = 'relu'))\n",
        "DL.add(layers.Dense(2, activation = 'sigmoid')) #0~1 사이의 값 확률?"
      ],
      "metadata": {
        "id": "Au-2VyIPu4Ww"
      },
      "execution_count": 104,
      "outputs": []
    },
    {
      "cell_type": "code",
      "source": [
        "DL.compile(loss = 'binary_crossentropy',\n",
        "               optimizer = tf.keras.optimizers.Adam(lr=0.0005),\n",
        "               metrics = ['accuracy'])"
      ],
      "metadata": {
        "id": "xGdkqxA7u6-H"
      },
      "execution_count": 117,
      "outputs": []
    },
    {
      "cell_type": "code",
      "source": [
        "es = EarlyStopping(monitor='loss', mode='min', verbose=1, patience=50)\n"
      ],
      "metadata": {
        "id": "IOKxRIxZlUMP"
      },
      "execution_count": 118,
      "outputs": []
    },
    {
      "cell_type": "code",
      "source": [
        "%%time\n",
        "\n",
        "Hist_DL = DL.fit(train_x, train_y, epochs = 300, batch_size = 2, callbacks = [es])\n",
        "                         "
      ],
      "metadata": {
        "colab": {
          "base_uri": "https://localhost:8080/"
        },
        "id": "qmdkEheyu7ZM",
        "outputId": "a23bdaf0-8712-48e5-d5d0-3190e3e313ba"
      },
      "execution_count": 119,
      "outputs": [
        {
          "output_type": "stream",
          "name": "stdout",
          "text": [
            "Epoch 1/300\n",
            "446/446 [==============================] - 3s 3ms/step - loss: 0.3496 - accuracy: 0.8406\n",
            "Epoch 2/300\n",
            "446/446 [==============================] - 2s 5ms/step - loss: 0.3485 - accuracy: 0.8406\n",
            "Epoch 3/300\n",
            "446/446 [==============================] - 1s 3ms/step - loss: 0.3485 - accuracy: 0.8395\n",
            "Epoch 4/300\n",
            "446/446 [==============================] - 1s 3ms/step - loss: 0.3484 - accuracy: 0.8406\n",
            "Epoch 5/300\n",
            "446/446 [==============================] - 1s 3ms/step - loss: 0.3486 - accuracy: 0.8406\n",
            "Epoch 6/300\n",
            "446/446 [==============================] - 1s 3ms/step - loss: 0.3488 - accuracy: 0.8395\n",
            "Epoch 7/300\n",
            "446/446 [==============================] - 1s 2ms/step - loss: 0.3482 - accuracy: 0.8395\n",
            "Epoch 8/300\n",
            "446/446 [==============================] - 1s 2ms/step - loss: 0.3483 - accuracy: 0.8406\n",
            "Epoch 9/300\n",
            "446/446 [==============================] - 1s 2ms/step - loss: 0.3485 - accuracy: 0.8395\n",
            "Epoch 10/300\n",
            "446/446 [==============================] - 1s 2ms/step - loss: 0.3481 - accuracy: 0.8406\n",
            "Epoch 11/300\n",
            "446/446 [==============================] - 1s 2ms/step - loss: 0.3482 - accuracy: 0.8395\n",
            "Epoch 12/300\n",
            "446/446 [==============================] - 1s 2ms/step - loss: 0.3483 - accuracy: 0.8406\n",
            "Epoch 13/300\n",
            "446/446 [==============================] - 1s 2ms/step - loss: 0.3482 - accuracy: 0.8406\n",
            "Epoch 14/300\n",
            "446/446 [==============================] - 1s 2ms/step - loss: 0.3479 - accuracy: 0.8406\n",
            "Epoch 15/300\n",
            "446/446 [==============================] - 1s 2ms/step - loss: 0.3483 - accuracy: 0.8395\n",
            "Epoch 16/300\n",
            "446/446 [==============================] - 1s 2ms/step - loss: 0.3477 - accuracy: 0.8406\n",
            "Epoch 17/300\n",
            "446/446 [==============================] - 1s 2ms/step - loss: 0.3482 - accuracy: 0.8395\n",
            "Epoch 18/300\n",
            "446/446 [==============================] - 1s 2ms/step - loss: 0.3482 - accuracy: 0.8395\n",
            "Epoch 19/300\n",
            "446/446 [==============================] - 1s 2ms/step - loss: 0.3479 - accuracy: 0.8395\n",
            "Epoch 20/300\n",
            "446/446 [==============================] - 1s 2ms/step - loss: 0.3478 - accuracy: 0.8406\n",
            "Epoch 21/300\n",
            "446/446 [==============================] - 1s 2ms/step - loss: 0.3477 - accuracy: 0.8406\n",
            "Epoch 22/300\n",
            "446/446 [==============================] - 1s 2ms/step - loss: 0.3481 - accuracy: 0.8406\n",
            "Epoch 23/300\n",
            "446/446 [==============================] - 1s 2ms/step - loss: 0.3482 - accuracy: 0.8406\n",
            "Epoch 24/300\n",
            "446/446 [==============================] - 1s 2ms/step - loss: 0.3476 - accuracy: 0.8384\n",
            "Epoch 25/300\n",
            "446/446 [==============================] - 1s 2ms/step - loss: 0.3477 - accuracy: 0.8406\n",
            "Epoch 26/300\n",
            "446/446 [==============================] - 1s 2ms/step - loss: 0.3479 - accuracy: 0.8406\n",
            "Epoch 27/300\n",
            "446/446 [==============================] - 1s 2ms/step - loss: 0.3475 - accuracy: 0.8406\n",
            "Epoch 28/300\n",
            "446/446 [==============================] - 1s 2ms/step - loss: 0.3479 - accuracy: 0.8384\n",
            "Epoch 29/300\n",
            "446/446 [==============================] - 1s 2ms/step - loss: 0.3475 - accuracy: 0.8440\n",
            "Epoch 30/300\n",
            "446/446 [==============================] - 1s 2ms/step - loss: 0.3475 - accuracy: 0.8395\n",
            "Epoch 31/300\n",
            "446/446 [==============================] - 1s 2ms/step - loss: 0.3476 - accuracy: 0.8440\n",
            "Epoch 32/300\n",
            "446/446 [==============================] - 1s 2ms/step - loss: 0.3474 - accuracy: 0.8462\n",
            "Epoch 33/300\n",
            "446/446 [==============================] - 1s 2ms/step - loss: 0.3476 - accuracy: 0.8406\n",
            "Epoch 34/300\n",
            "446/446 [==============================] - 1s 2ms/step - loss: 0.3477 - accuracy: 0.8440\n",
            "Epoch 35/300\n",
            "446/446 [==============================] - 1s 2ms/step - loss: 0.3476 - accuracy: 0.8474\n",
            "Epoch 36/300\n",
            "446/446 [==============================] - 1s 2ms/step - loss: 0.3472 - accuracy: 0.8406\n",
            "Epoch 37/300\n",
            "446/446 [==============================] - 1s 2ms/step - loss: 0.3475 - accuracy: 0.8418\n",
            "Epoch 38/300\n",
            "446/446 [==============================] - 1s 2ms/step - loss: 0.3470 - accuracy: 0.8474\n",
            "Epoch 39/300\n",
            "446/446 [==============================] - 1s 2ms/step - loss: 0.3474 - accuracy: 0.8429\n",
            "Epoch 40/300\n",
            "446/446 [==============================] - 1s 2ms/step - loss: 0.3470 - accuracy: 0.8429\n",
            "Epoch 41/300\n",
            "446/446 [==============================] - 1s 2ms/step - loss: 0.3473 - accuracy: 0.8429\n",
            "Epoch 42/300\n",
            "446/446 [==============================] - 1s 2ms/step - loss: 0.3472 - accuracy: 0.8451\n",
            "Epoch 43/300\n",
            "446/446 [==============================] - 1s 2ms/step - loss: 0.3470 - accuracy: 0.8429\n",
            "Epoch 44/300\n",
            "446/446 [==============================] - 1s 2ms/step - loss: 0.3474 - accuracy: 0.8451\n",
            "Epoch 45/300\n",
            "446/446 [==============================] - 1s 2ms/step - loss: 0.3470 - accuracy: 0.8440\n",
            "Epoch 46/300\n",
            "446/446 [==============================] - 1s 2ms/step - loss: 0.3473 - accuracy: 0.8462\n",
            "Epoch 47/300\n",
            "446/446 [==============================] - 1s 2ms/step - loss: 0.3469 - accuracy: 0.8474\n",
            "Epoch 48/300\n",
            "446/446 [==============================] - 1s 2ms/step - loss: 0.3473 - accuracy: 0.8485\n",
            "Epoch 49/300\n",
            "446/446 [==============================] - 1s 2ms/step - loss: 0.3472 - accuracy: 0.8462\n",
            "Epoch 50/300\n",
            "446/446 [==============================] - 1s 2ms/step - loss: 0.3470 - accuracy: 0.8485\n",
            "Epoch 51/300\n",
            "446/446 [==============================] - 1s 2ms/step - loss: 0.3471 - accuracy: 0.8462\n",
            "Epoch 52/300\n",
            "446/446 [==============================] - 1s 2ms/step - loss: 0.3468 - accuracy: 0.8496\n",
            "Epoch 53/300\n",
            "446/446 [==============================] - 1s 2ms/step - loss: 0.3472 - accuracy: 0.8440\n",
            "Epoch 54/300\n",
            "446/446 [==============================] - 1s 2ms/step - loss: 0.3473 - accuracy: 0.8395\n",
            "Epoch 55/300\n",
            "446/446 [==============================] - 1s 2ms/step - loss: 0.3471 - accuracy: 0.8507\n",
            "Epoch 56/300\n",
            "446/446 [==============================] - 1s 2ms/step - loss: 0.3470 - accuracy: 0.8462\n",
            "Epoch 57/300\n",
            "446/446 [==============================] - 1s 2ms/step - loss: 0.3468 - accuracy: 0.8429\n",
            "Epoch 58/300\n",
            "446/446 [==============================] - 1s 2ms/step - loss: 0.3471 - accuracy: 0.8496\n",
            "Epoch 59/300\n",
            "446/446 [==============================] - 1s 2ms/step - loss: 0.3467 - accuracy: 0.8474\n",
            "Epoch 60/300\n",
            "446/446 [==============================] - 1s 2ms/step - loss: 0.3469 - accuracy: 0.8462\n",
            "Epoch 61/300\n",
            "446/446 [==============================] - 1s 2ms/step - loss: 0.3467 - accuracy: 0.8519\n",
            "Epoch 62/300\n",
            "446/446 [==============================] - 1s 2ms/step - loss: 0.3468 - accuracy: 0.8451\n",
            "Epoch 63/300\n",
            "446/446 [==============================] - 1s 2ms/step - loss: 0.3468 - accuracy: 0.8485\n",
            "Epoch 64/300\n",
            "446/446 [==============================] - 1s 2ms/step - loss: 0.3465 - accuracy: 0.8485\n",
            "Epoch 65/300\n",
            "446/446 [==============================] - 1s 2ms/step - loss: 0.3466 - accuracy: 0.8440\n",
            "Epoch 66/300\n",
            "446/446 [==============================] - 1s 2ms/step - loss: 0.3470 - accuracy: 0.8507\n",
            "Epoch 67/300\n",
            "446/446 [==============================] - 1s 2ms/step - loss: 0.3465 - accuracy: 0.8451\n",
            "Epoch 68/300\n",
            "446/446 [==============================] - 1s 2ms/step - loss: 0.3469 - accuracy: 0.8485\n",
            "Epoch 69/300\n",
            "446/446 [==============================] - 1s 2ms/step - loss: 0.3467 - accuracy: 0.8474\n",
            "Epoch 70/300\n",
            "446/446 [==============================] - 1s 2ms/step - loss: 0.3463 - accuracy: 0.8451\n",
            "Epoch 71/300\n",
            "446/446 [==============================] - 1s 2ms/step - loss: 0.3466 - accuracy: 0.8519\n",
            "Epoch 72/300\n",
            "446/446 [==============================] - 1s 2ms/step - loss: 0.3469 - accuracy: 0.8496\n",
            "Epoch 73/300\n",
            "446/446 [==============================] - 1s 2ms/step - loss: 0.3465 - accuracy: 0.8474\n",
            "Epoch 74/300\n",
            "446/446 [==============================] - 1s 2ms/step - loss: 0.3466 - accuracy: 0.8519\n",
            "Epoch 75/300\n",
            "446/446 [==============================] - 1s 2ms/step - loss: 0.3470 - accuracy: 0.8507\n",
            "Epoch 76/300\n",
            "446/446 [==============================] - 1s 2ms/step - loss: 0.3467 - accuracy: 0.8485\n",
            "Epoch 77/300\n",
            "446/446 [==============================] - 1s 2ms/step - loss: 0.3465 - accuracy: 0.8485\n",
            "Epoch 78/300\n",
            "446/446 [==============================] - 1s 2ms/step - loss: 0.3465 - accuracy: 0.8485\n",
            "Epoch 79/300\n",
            "446/446 [==============================] - 1s 2ms/step - loss: 0.3463 - accuracy: 0.8496\n",
            "Epoch 80/300\n",
            "446/446 [==============================] - 1s 2ms/step - loss: 0.3463 - accuracy: 0.8519\n",
            "Epoch 81/300\n",
            "446/446 [==============================] - 1s 2ms/step - loss: 0.3461 - accuracy: 0.8462\n",
            "Epoch 82/300\n",
            "446/446 [==============================] - 1s 2ms/step - loss: 0.3470 - accuracy: 0.8519\n",
            "Epoch 83/300\n",
            "446/446 [==============================] - 1s 2ms/step - loss: 0.3464 - accuracy: 0.8519\n",
            "Epoch 84/300\n",
            "446/446 [==============================] - 1s 2ms/step - loss: 0.3463 - accuracy: 0.8462\n",
            "Epoch 85/300\n",
            "446/446 [==============================] - 1s 2ms/step - loss: 0.3465 - accuracy: 0.8519\n",
            "Epoch 86/300\n",
            "446/446 [==============================] - 1s 2ms/step - loss: 0.3461 - accuracy: 0.8485\n",
            "Epoch 87/300\n",
            "446/446 [==============================] - 1s 2ms/step - loss: 0.3466 - accuracy: 0.8507\n",
            "Epoch 88/300\n",
            "446/446 [==============================] - 1s 2ms/step - loss: 0.3461 - accuracy: 0.8519\n",
            "Epoch 89/300\n",
            "446/446 [==============================] - 1s 2ms/step - loss: 0.3463 - accuracy: 0.8507\n",
            "Epoch 90/300\n",
            "446/446 [==============================] - 1s 2ms/step - loss: 0.3460 - accuracy: 0.8474\n",
            "Epoch 91/300\n",
            "446/446 [==============================] - 1s 2ms/step - loss: 0.3467 - accuracy: 0.8485\n",
            "Epoch 92/300\n",
            "446/446 [==============================] - 1s 2ms/step - loss: 0.3462 - accuracy: 0.8496\n",
            "Epoch 93/300\n",
            "446/446 [==============================] - 1s 2ms/step - loss: 0.3461 - accuracy: 0.8496\n",
            "Epoch 94/300\n",
            "446/446 [==============================] - 1s 2ms/step - loss: 0.3465 - accuracy: 0.8462\n",
            "Epoch 95/300\n",
            "446/446 [==============================] - 1s 2ms/step - loss: 0.3461 - accuracy: 0.8507\n",
            "Epoch 96/300\n",
            "446/446 [==============================] - 1s 2ms/step - loss: 0.3459 - accuracy: 0.8507\n",
            "Epoch 97/300\n",
            "446/446 [==============================] - 1s 2ms/step - loss: 0.3460 - accuracy: 0.8451\n",
            "Epoch 98/300\n",
            "446/446 [==============================] - 1s 2ms/step - loss: 0.3468 - accuracy: 0.8507\n",
            "Epoch 99/300\n",
            "446/446 [==============================] - 1s 2ms/step - loss: 0.3461 - accuracy: 0.8519\n",
            "Epoch 100/300\n",
            "446/446 [==============================] - 1s 2ms/step - loss: 0.3460 - accuracy: 0.8474\n",
            "Epoch 101/300\n",
            "446/446 [==============================] - 1s 2ms/step - loss: 0.3460 - accuracy: 0.8530\n",
            "Epoch 102/300\n",
            "446/446 [==============================] - 1s 2ms/step - loss: 0.3459 - accuracy: 0.8507\n",
            "Epoch 103/300\n",
            "446/446 [==============================] - 1s 2ms/step - loss: 0.3458 - accuracy: 0.8496\n",
            "Epoch 104/300\n",
            "446/446 [==============================] - 1s 2ms/step - loss: 0.3463 - accuracy: 0.8507\n",
            "Epoch 105/300\n",
            "446/446 [==============================] - 1s 2ms/step - loss: 0.3461 - accuracy: 0.8507\n",
            "Epoch 106/300\n",
            "446/446 [==============================] - 1s 2ms/step - loss: 0.3459 - accuracy: 0.8519\n",
            "Epoch 107/300\n",
            "446/446 [==============================] - 1s 2ms/step - loss: 0.3458 - accuracy: 0.8496\n",
            "Epoch 108/300\n",
            "446/446 [==============================] - 1s 2ms/step - loss: 0.3464 - accuracy: 0.8507\n",
            "Epoch 109/300\n",
            "446/446 [==============================] - 1s 2ms/step - loss: 0.3456 - accuracy: 0.8485\n",
            "Epoch 110/300\n",
            "446/446 [==============================] - 1s 2ms/step - loss: 0.3456 - accuracy: 0.8507\n",
            "Epoch 111/300\n",
            "446/446 [==============================] - 1s 2ms/step - loss: 0.3461 - accuracy: 0.8496\n",
            "Epoch 112/300\n",
            "446/446 [==============================] - 1s 2ms/step - loss: 0.3455 - accuracy: 0.8485\n",
            "Epoch 113/300\n",
            "446/446 [==============================] - 1s 2ms/step - loss: 0.3462 - accuracy: 0.8507\n",
            "Epoch 114/300\n",
            "446/446 [==============================] - 1s 2ms/step - loss: 0.3460 - accuracy: 0.8530\n",
            "Epoch 115/300\n",
            "446/446 [==============================] - 1s 2ms/step - loss: 0.3455 - accuracy: 0.8530\n",
            "Epoch 116/300\n",
            "446/446 [==============================] - 1s 2ms/step - loss: 0.3456 - accuracy: 0.8507\n",
            "Epoch 117/300\n",
            "446/446 [==============================] - 1s 2ms/step - loss: 0.3458 - accuracy: 0.8519\n",
            "Epoch 118/300\n",
            "446/446 [==============================] - 1s 2ms/step - loss: 0.3458 - accuracy: 0.8530\n",
            "Epoch 119/300\n",
            "446/446 [==============================] - 1s 2ms/step - loss: 0.3456 - accuracy: 0.8496\n",
            "Epoch 120/300\n",
            "446/446 [==============================] - 1s 2ms/step - loss: 0.3457 - accuracy: 0.8496\n",
            "Epoch 121/300\n",
            "446/446 [==============================] - 1s 2ms/step - loss: 0.3458 - accuracy: 0.8530\n",
            "Epoch 122/300\n",
            "446/446 [==============================] - 1s 2ms/step - loss: 0.3457 - accuracy: 0.8496\n",
            "Epoch 123/300\n",
            "446/446 [==============================] - 1s 2ms/step - loss: 0.3461 - accuracy: 0.8519\n",
            "Epoch 124/300\n",
            "446/446 [==============================] - 1s 2ms/step - loss: 0.3457 - accuracy: 0.8507\n",
            "Epoch 125/300\n",
            "446/446 [==============================] - 1s 2ms/step - loss: 0.3456 - accuracy: 0.8519\n",
            "Epoch 126/300\n",
            "446/446 [==============================] - 1s 2ms/step - loss: 0.3455 - accuracy: 0.8530\n",
            "Epoch 127/300\n",
            "446/446 [==============================] - 1s 2ms/step - loss: 0.3463 - accuracy: 0.8519\n",
            "Epoch 128/300\n",
            "446/446 [==============================] - 1s 2ms/step - loss: 0.3455 - accuracy: 0.8507\n",
            "Epoch 129/300\n",
            "446/446 [==============================] - 1s 2ms/step - loss: 0.3455 - accuracy: 0.8519\n",
            "Epoch 130/300\n",
            "446/446 [==============================] - 1s 2ms/step - loss: 0.3456 - accuracy: 0.8507\n",
            "Epoch 131/300\n",
            "446/446 [==============================] - 1s 2ms/step - loss: 0.3453 - accuracy: 0.8530\n",
            "Epoch 132/300\n",
            "446/446 [==============================] - 1s 2ms/step - loss: 0.3458 - accuracy: 0.8496\n",
            "Epoch 133/300\n",
            "446/446 [==============================] - 1s 2ms/step - loss: 0.3453 - accuracy: 0.8507\n",
            "Epoch 134/300\n",
            "446/446 [==============================] - 1s 2ms/step - loss: 0.3453 - accuracy: 0.8507\n",
            "Epoch 135/300\n",
            "446/446 [==============================] - 1s 2ms/step - loss: 0.3452 - accuracy: 0.8507\n",
            "Epoch 136/300\n",
            "446/446 [==============================] - 1s 2ms/step - loss: 0.3456 - accuracy: 0.8519\n",
            "Epoch 137/300\n",
            "446/446 [==============================] - 1s 2ms/step - loss: 0.3455 - accuracy: 0.8519\n",
            "Epoch 138/300\n",
            "446/446 [==============================] - 1s 2ms/step - loss: 0.3453 - accuracy: 0.8530\n",
            "Epoch 139/300\n",
            "446/446 [==============================] - 1s 2ms/step - loss: 0.3456 - accuracy: 0.8496\n",
            "Epoch 140/300\n",
            "446/446 [==============================] - 1s 2ms/step - loss: 0.3458 - accuracy: 0.8496\n",
            "Epoch 141/300\n",
            "446/446 [==============================] - 1s 2ms/step - loss: 0.3450 - accuracy: 0.8485\n",
            "Epoch 142/300\n",
            "446/446 [==============================] - 1s 2ms/step - loss: 0.3452 - accuracy: 0.8485\n",
            "Epoch 143/300\n",
            "446/446 [==============================] - 1s 2ms/step - loss: 0.3458 - accuracy: 0.8496\n",
            "Epoch 144/300\n",
            "446/446 [==============================] - 1s 2ms/step - loss: 0.3452 - accuracy: 0.8507\n",
            "Epoch 145/300\n",
            "446/446 [==============================] - 1s 2ms/step - loss: 0.3453 - accuracy: 0.8507\n",
            "Epoch 146/300\n",
            "446/446 [==============================] - 1s 2ms/step - loss: 0.3453 - accuracy: 0.8519\n",
            "Epoch 147/300\n",
            "446/446 [==============================] - 1s 2ms/step - loss: 0.3455 - accuracy: 0.8519\n",
            "Epoch 148/300\n",
            "446/446 [==============================] - 1s 2ms/step - loss: 0.3449 - accuracy: 0.8507\n",
            "Epoch 149/300\n",
            "446/446 [==============================] - 1s 2ms/step - loss: 0.3457 - accuracy: 0.8507\n",
            "Epoch 150/300\n",
            "446/446 [==============================] - 1s 2ms/step - loss: 0.3447 - accuracy: 0.8530\n",
            "Epoch 151/300\n",
            "446/446 [==============================] - 1s 2ms/step - loss: 0.3457 - accuracy: 0.8541\n",
            "Epoch 152/300\n",
            "446/446 [==============================] - 1s 2ms/step - loss: 0.3454 - accuracy: 0.8541\n",
            "Epoch 153/300\n",
            "446/446 [==============================] - 1s 2ms/step - loss: 0.3447 - accuracy: 0.8519\n",
            "Epoch 154/300\n",
            "446/446 [==============================] - 1s 2ms/step - loss: 0.3456 - accuracy: 0.8519\n",
            "Epoch 155/300\n",
            "446/446 [==============================] - 1s 2ms/step - loss: 0.3451 - accuracy: 0.8485\n",
            "Epoch 156/300\n",
            "446/446 [==============================] - 1s 2ms/step - loss: 0.3450 - accuracy: 0.8530\n",
            "Epoch 157/300\n",
            "446/446 [==============================] - 1s 2ms/step - loss: 0.3452 - accuracy: 0.8519\n",
            "Epoch 158/300\n",
            "446/446 [==============================] - 1s 2ms/step - loss: 0.3452 - accuracy: 0.8530\n",
            "Epoch 159/300\n",
            "446/446 [==============================] - 1s 2ms/step - loss: 0.3453 - accuracy: 0.8485\n",
            "Epoch 160/300\n",
            "446/446 [==============================] - 1s 2ms/step - loss: 0.3453 - accuracy: 0.8507\n",
            "Epoch 161/300\n",
            "446/446 [==============================] - 1s 2ms/step - loss: 0.3447 - accuracy: 0.8519\n",
            "Epoch 162/300\n",
            "446/446 [==============================] - 1s 2ms/step - loss: 0.3454 - accuracy: 0.8519\n",
            "Epoch 163/300\n",
            "446/446 [==============================] - 1s 2ms/step - loss: 0.3454 - accuracy: 0.8507\n",
            "Epoch 164/300\n",
            "446/446 [==============================] - 1s 2ms/step - loss: 0.3452 - accuracy: 0.8507\n",
            "Epoch 165/300\n",
            "446/446 [==============================] - 1s 2ms/step - loss: 0.3449 - accuracy: 0.8507\n",
            "Epoch 166/300\n",
            "446/446 [==============================] - 1s 2ms/step - loss: 0.3452 - accuracy: 0.8541\n",
            "Epoch 167/300\n",
            "446/446 [==============================] - 1s 2ms/step - loss: 0.3452 - accuracy: 0.8496\n",
            "Epoch 168/300\n",
            "446/446 [==============================] - 1s 2ms/step - loss: 0.3449 - accuracy: 0.8519\n",
            "Epoch 169/300\n",
            "446/446 [==============================] - 1s 2ms/step - loss: 0.3450 - accuracy: 0.8496\n",
            "Epoch 170/300\n",
            "446/446 [==============================] - 1s 2ms/step - loss: 0.3449 - accuracy: 0.8519\n",
            "Epoch 171/300\n",
            "446/446 [==============================] - 1s 2ms/step - loss: 0.3454 - accuracy: 0.8519\n",
            "Epoch 172/300\n",
            "446/446 [==============================] - 1s 2ms/step - loss: 0.3449 - accuracy: 0.8519\n",
            "Epoch 173/300\n",
            "446/446 [==============================] - 1s 2ms/step - loss: 0.3448 - accuracy: 0.8530\n",
            "Epoch 174/300\n",
            "446/446 [==============================] - 1s 2ms/step - loss: 0.3446 - accuracy: 0.8530\n",
            "Epoch 175/300\n",
            "446/446 [==============================] - 1s 2ms/step - loss: 0.3451 - accuracy: 0.8485\n",
            "Epoch 176/300\n",
            "446/446 [==============================] - 1s 2ms/step - loss: 0.3449 - accuracy: 0.8507\n",
            "Epoch 177/300\n",
            "446/446 [==============================] - 1s 2ms/step - loss: 0.3449 - accuracy: 0.8507\n",
            "Epoch 178/300\n",
            "446/446 [==============================] - 1s 2ms/step - loss: 0.3449 - accuracy: 0.8530\n",
            "Epoch 179/300\n",
            "446/446 [==============================] - 1s 2ms/step - loss: 0.3446 - accuracy: 0.8474\n",
            "Epoch 180/300\n",
            "446/446 [==============================] - 1s 2ms/step - loss: 0.3455 - accuracy: 0.8485\n",
            "Epoch 181/300\n",
            "446/446 [==============================] - 1s 2ms/step - loss: 0.3453 - accuracy: 0.8485\n",
            "Epoch 182/300\n",
            "446/446 [==============================] - 1s 2ms/step - loss: 0.3444 - accuracy: 0.8519\n",
            "Epoch 183/300\n",
            "446/446 [==============================] - 1s 2ms/step - loss: 0.3450 - accuracy: 0.8507\n",
            "Epoch 184/300\n",
            "446/446 [==============================] - 1s 2ms/step - loss: 0.3447 - accuracy: 0.8507\n",
            "Epoch 185/300\n",
            "446/446 [==============================] - 1s 2ms/step - loss: 0.3449 - accuracy: 0.8507\n",
            "Epoch 186/300\n",
            "446/446 [==============================] - 1s 2ms/step - loss: 0.3446 - accuracy: 0.8507\n",
            "Epoch 187/300\n",
            "446/446 [==============================] - 1s 2ms/step - loss: 0.3451 - accuracy: 0.8519\n",
            "Epoch 188/300\n",
            "446/446 [==============================] - 1s 2ms/step - loss: 0.3447 - accuracy: 0.8507\n",
            "Epoch 189/300\n",
            "446/446 [==============================] - 1s 2ms/step - loss: 0.3448 - accuracy: 0.8496\n",
            "Epoch 190/300\n",
            "446/446 [==============================] - 1s 2ms/step - loss: 0.3444 - accuracy: 0.8519\n",
            "Epoch 191/300\n",
            "446/446 [==============================] - 1s 2ms/step - loss: 0.3448 - accuracy: 0.8519\n",
            "Epoch 192/300\n",
            "446/446 [==============================] - 1s 2ms/step - loss: 0.3445 - accuracy: 0.8507\n",
            "Epoch 193/300\n",
            "446/446 [==============================] - 1s 2ms/step - loss: 0.3446 - accuracy: 0.8496\n",
            "Epoch 194/300\n",
            "446/446 [==============================] - 1s 2ms/step - loss: 0.3449 - accuracy: 0.8519\n",
            "Epoch 195/300\n",
            "446/446 [==============================] - 1s 2ms/step - loss: 0.3447 - accuracy: 0.8519\n",
            "Epoch 196/300\n",
            "446/446 [==============================] - 1s 2ms/step - loss: 0.3445 - accuracy: 0.8507\n",
            "Epoch 197/300\n",
            "446/446 [==============================] - 1s 2ms/step - loss: 0.3447 - accuracy: 0.8496\n",
            "Epoch 198/300\n",
            "446/446 [==============================] - 1s 2ms/step - loss: 0.3445 - accuracy: 0.8530\n",
            "Epoch 199/300\n",
            "446/446 [==============================] - 1s 2ms/step - loss: 0.3446 - accuracy: 0.8507\n",
            "Epoch 200/300\n",
            "446/446 [==============================] - 1s 2ms/step - loss: 0.3452 - accuracy: 0.8519\n",
            "Epoch 201/300\n",
            "446/446 [==============================] - 1s 2ms/step - loss: 0.3444 - accuracy: 0.8507\n",
            "Epoch 202/300\n",
            "446/446 [==============================] - 1s 2ms/step - loss: 0.3446 - accuracy: 0.8496\n",
            "Epoch 203/300\n",
            "446/446 [==============================] - 1s 2ms/step - loss: 0.3442 - accuracy: 0.8507\n",
            "Epoch 204/300\n",
            "446/446 [==============================] - 1s 2ms/step - loss: 0.3453 - accuracy: 0.8507\n",
            "Epoch 205/300\n",
            "446/446 [==============================] - 1s 2ms/step - loss: 0.3439 - accuracy: 0.8507\n",
            "Epoch 206/300\n",
            "446/446 [==============================] - 1s 2ms/step - loss: 0.3448 - accuracy: 0.8485\n",
            "Epoch 207/300\n",
            "446/446 [==============================] - 1s 2ms/step - loss: 0.3445 - accuracy: 0.8485\n",
            "Epoch 208/300\n",
            "446/446 [==============================] - 1s 2ms/step - loss: 0.3451 - accuracy: 0.8507\n",
            "Epoch 209/300\n",
            "446/446 [==============================] - 1s 2ms/step - loss: 0.3444 - accuracy: 0.8507\n",
            "Epoch 210/300\n",
            "446/446 [==============================] - 1s 2ms/step - loss: 0.3442 - accuracy: 0.8474\n",
            "Epoch 211/300\n",
            "446/446 [==============================] - 1s 2ms/step - loss: 0.3449 - accuracy: 0.8507\n",
            "Epoch 212/300\n",
            "446/446 [==============================] - 1s 2ms/step - loss: 0.3446 - accuracy: 0.8530\n",
            "Epoch 213/300\n",
            "446/446 [==============================] - 1s 2ms/step - loss: 0.3443 - accuracy: 0.8530\n",
            "Epoch 214/300\n",
            "446/446 [==============================] - 1s 2ms/step - loss: 0.3445 - accuracy: 0.8541\n",
            "Epoch 215/300\n",
            "446/446 [==============================] - 1s 2ms/step - loss: 0.3443 - accuracy: 0.8507\n",
            "Epoch 216/300\n",
            "446/446 [==============================] - 1s 2ms/step - loss: 0.3447 - accuracy: 0.8507\n",
            "Epoch 217/300\n",
            "446/446 [==============================] - 1s 2ms/step - loss: 0.3438 - accuracy: 0.8519\n",
            "Epoch 218/300\n",
            "446/446 [==============================] - 1s 2ms/step - loss: 0.3446 - accuracy: 0.8507\n",
            "Epoch 219/300\n",
            "446/446 [==============================] - 1s 2ms/step - loss: 0.3441 - accuracy: 0.8519\n",
            "Epoch 220/300\n",
            "446/446 [==============================] - 1s 2ms/step - loss: 0.3444 - accuracy: 0.8507\n",
            "Epoch 221/300\n",
            "446/446 [==============================] - 1s 2ms/step - loss: 0.3439 - accuracy: 0.8530\n",
            "Epoch 222/300\n",
            "446/446 [==============================] - 1s 2ms/step - loss: 0.3440 - accuracy: 0.8496\n",
            "Epoch 223/300\n",
            "446/446 [==============================] - 1s 2ms/step - loss: 0.3448 - accuracy: 0.8507\n",
            "Epoch 224/300\n",
            "446/446 [==============================] - 1s 2ms/step - loss: 0.3443 - accuracy: 0.8496\n",
            "Epoch 225/300\n",
            "446/446 [==============================] - 1s 2ms/step - loss: 0.3439 - accuracy: 0.8507\n",
            "Epoch 226/300\n",
            "446/446 [==============================] - 1s 2ms/step - loss: 0.3443 - accuracy: 0.8507\n",
            "Epoch 227/300\n",
            "446/446 [==============================] - 1s 2ms/step - loss: 0.3445 - accuracy: 0.8496\n",
            "Epoch 228/300\n",
            "446/446 [==============================] - 1s 2ms/step - loss: 0.3445 - accuracy: 0.8496\n",
            "Epoch 229/300\n",
            "446/446 [==============================] - 1s 2ms/step - loss: 0.3441 - accuracy: 0.8474\n",
            "Epoch 230/300\n",
            "446/446 [==============================] - 1s 2ms/step - loss: 0.3439 - accuracy: 0.8496\n",
            "Epoch 231/300\n",
            "446/446 [==============================] - 1s 2ms/step - loss: 0.3450 - accuracy: 0.8507\n",
            "Epoch 232/300\n",
            "446/446 [==============================] - 1s 2ms/step - loss: 0.3442 - accuracy: 0.8507\n",
            "Epoch 233/300\n",
            "446/446 [==============================] - 1s 2ms/step - loss: 0.3445 - accuracy: 0.8530\n",
            "Epoch 234/300\n",
            "446/446 [==============================] - 1s 2ms/step - loss: 0.3442 - accuracy: 0.8507\n",
            "Epoch 235/300\n",
            "446/446 [==============================] - 1s 2ms/step - loss: 0.3437 - accuracy: 0.8519\n",
            "Epoch 236/300\n",
            "446/446 [==============================] - 1s 2ms/step - loss: 0.3443 - accuracy: 0.8485\n",
            "Epoch 237/300\n",
            "446/446 [==============================] - 1s 2ms/step - loss: 0.3442 - accuracy: 0.8474\n",
            "Epoch 238/300\n",
            "446/446 [==============================] - 1s 2ms/step - loss: 0.3436 - accuracy: 0.8496\n",
            "Epoch 239/300\n",
            "446/446 [==============================] - 1s 2ms/step - loss: 0.3445 - accuracy: 0.8485\n",
            "Epoch 240/300\n",
            "446/446 [==============================] - 1s 2ms/step - loss: 0.3438 - accuracy: 0.8519\n",
            "Epoch 241/300\n",
            "446/446 [==============================] - 1s 2ms/step - loss: 0.3444 - accuracy: 0.8530\n",
            "Epoch 242/300\n",
            "446/446 [==============================] - 1s 2ms/step - loss: 0.3441 - accuracy: 0.8485\n",
            "Epoch 243/300\n",
            "446/446 [==============================] - 1s 2ms/step - loss: 0.3440 - accuracy: 0.8507\n",
            "Epoch 244/300\n",
            "446/446 [==============================] - 1s 2ms/step - loss: 0.3442 - accuracy: 0.8496\n",
            "Epoch 245/300\n",
            "446/446 [==============================] - 1s 2ms/step - loss: 0.3444 - accuracy: 0.8496\n",
            "Epoch 246/300\n",
            "446/446 [==============================] - 1s 2ms/step - loss: 0.3436 - accuracy: 0.8485\n",
            "Epoch 247/300\n",
            "446/446 [==============================] - 1s 2ms/step - loss: 0.3440 - accuracy: 0.8496\n",
            "Epoch 248/300\n",
            "446/446 [==============================] - 1s 2ms/step - loss: 0.3443 - accuracy: 0.8496\n",
            "Epoch 249/300\n",
            "446/446 [==============================] - 1s 2ms/step - loss: 0.3444 - accuracy: 0.8519\n",
            "Epoch 250/300\n",
            "446/446 [==============================] - 1s 2ms/step - loss: 0.3447 - accuracy: 0.8519\n",
            "Epoch 251/300\n",
            "446/446 [==============================] - 1s 2ms/step - loss: 0.3440 - accuracy: 0.8507\n",
            "Epoch 252/300\n",
            "446/446 [==============================] - 1s 2ms/step - loss: 0.3440 - accuracy: 0.8496\n",
            "Epoch 253/300\n",
            "446/446 [==============================] - 1s 2ms/step - loss: 0.3439 - accuracy: 0.8496\n",
            "Epoch 254/300\n",
            "446/446 [==============================] - 1s 2ms/step - loss: 0.3440 - accuracy: 0.8519\n",
            "Epoch 255/300\n",
            "446/446 [==============================] - 1s 2ms/step - loss: 0.3436 - accuracy: 0.8507\n",
            "Epoch 256/300\n",
            "446/446 [==============================] - 1s 2ms/step - loss: 0.3443 - accuracy: 0.8519\n",
            "Epoch 257/300\n",
            "446/446 [==============================] - 1s 2ms/step - loss: 0.3435 - accuracy: 0.8496\n",
            "Epoch 258/300\n",
            "446/446 [==============================] - 1s 2ms/step - loss: 0.3441 - accuracy: 0.8507\n",
            "Epoch 259/300\n",
            "446/446 [==============================] - 1s 2ms/step - loss: 0.3441 - accuracy: 0.8507\n",
            "Epoch 260/300\n",
            "446/446 [==============================] - 1s 2ms/step - loss: 0.3438 - accuracy: 0.8507\n",
            "Epoch 261/300\n",
            "446/446 [==============================] - 1s 2ms/step - loss: 0.3439 - accuracy: 0.8507\n",
            "Epoch 262/300\n",
            "446/446 [==============================] - 1s 2ms/step - loss: 0.3440 - accuracy: 0.8485\n",
            "Epoch 263/300\n",
            "446/446 [==============================] - 1s 2ms/step - loss: 0.3439 - accuracy: 0.8485\n",
            "Epoch 264/300\n",
            "446/446 [==============================] - 1s 2ms/step - loss: 0.3438 - accuracy: 0.8496\n",
            "Epoch 265/300\n",
            "446/446 [==============================] - 1s 2ms/step - loss: 0.3439 - accuracy: 0.8474\n",
            "Epoch 266/300\n",
            "446/446 [==============================] - 1s 2ms/step - loss: 0.3433 - accuracy: 0.8507\n",
            "Epoch 267/300\n",
            "446/446 [==============================] - 1s 2ms/step - loss: 0.3449 - accuracy: 0.8519\n",
            "Epoch 268/300\n",
            "446/446 [==============================] - 1s 2ms/step - loss: 0.3433 - accuracy: 0.8519\n",
            "Epoch 269/300\n",
            "446/446 [==============================] - 1s 2ms/step - loss: 0.3435 - accuracy: 0.8485\n",
            "Epoch 270/300\n",
            "446/446 [==============================] - 1s 2ms/step - loss: 0.3440 - accuracy: 0.8496\n",
            "Epoch 271/300\n",
            "446/446 [==============================] - 1s 2ms/step - loss: 0.3434 - accuracy: 0.8507\n",
            "Epoch 272/300\n",
            "446/446 [==============================] - 1s 2ms/step - loss: 0.3438 - accuracy: 0.8496\n",
            "Epoch 273/300\n",
            "446/446 [==============================] - 1s 2ms/step - loss: 0.3438 - accuracy: 0.8496\n",
            "Epoch 274/300\n",
            "446/446 [==============================] - 1s 2ms/step - loss: 0.3436 - accuracy: 0.8496\n",
            "Epoch 275/300\n",
            "446/446 [==============================] - 1s 2ms/step - loss: 0.3434 - accuracy: 0.8485\n",
            "Epoch 276/300\n",
            "446/446 [==============================] - 1s 2ms/step - loss: 0.3434 - accuracy: 0.8485\n",
            "Epoch 277/300\n",
            "446/446 [==============================] - 1s 2ms/step - loss: 0.3440 - accuracy: 0.8507\n",
            "Epoch 278/300\n",
            "446/446 [==============================] - 1s 2ms/step - loss: 0.3438 - accuracy: 0.8507\n",
            "Epoch 279/300\n",
            "446/446 [==============================] - 1s 2ms/step - loss: 0.3437 - accuracy: 0.8496\n",
            "Epoch 280/300\n",
            "446/446 [==============================] - 1s 2ms/step - loss: 0.3439 - accuracy: 0.8496\n",
            "Epoch 281/300\n",
            "446/446 [==============================] - 1s 2ms/step - loss: 0.3439 - accuracy: 0.8519\n",
            "Epoch 282/300\n",
            "446/446 [==============================] - 1s 2ms/step - loss: 0.3437 - accuracy: 0.8530\n",
            "Epoch 283/300\n",
            "446/446 [==============================] - 1s 2ms/step - loss: 0.3436 - accuracy: 0.8496\n",
            "Epoch 284/300\n",
            "446/446 [==============================] - 1s 2ms/step - loss: 0.3442 - accuracy: 0.8507\n",
            "Epoch 285/300\n",
            "446/446 [==============================] - 1s 2ms/step - loss: 0.3432 - accuracy: 0.8485\n",
            "Epoch 286/300\n",
            "446/446 [==============================] - 1s 2ms/step - loss: 0.3440 - accuracy: 0.8496\n",
            "Epoch 287/300\n",
            "446/446 [==============================] - 1s 2ms/step - loss: 0.3434 - accuracy: 0.8507\n",
            "Epoch 288/300\n",
            "446/446 [==============================] - 1s 2ms/step - loss: 0.3430 - accuracy: 0.8519\n",
            "Epoch 289/300\n",
            "446/446 [==============================] - 1s 2ms/step - loss: 0.3442 - accuracy: 0.8496\n",
            "Epoch 290/300\n",
            "446/446 [==============================] - 1s 2ms/step - loss: 0.3431 - accuracy: 0.8496\n",
            "Epoch 291/300\n",
            "446/446 [==============================] - 1s 2ms/step - loss: 0.3434 - accuracy: 0.8507\n",
            "Epoch 292/300\n",
            "446/446 [==============================] - 1s 2ms/step - loss: 0.3432 - accuracy: 0.8485\n",
            "Epoch 293/300\n",
            "446/446 [==============================] - 1s 2ms/step - loss: 0.3435 - accuracy: 0.8507\n",
            "Epoch 294/300\n",
            "446/446 [==============================] - 1s 2ms/step - loss: 0.3435 - accuracy: 0.8507\n",
            "Epoch 295/300\n",
            "446/446 [==============================] - 1s 2ms/step - loss: 0.3436 - accuracy: 0.8496\n",
            "Epoch 296/300\n",
            "446/446 [==============================] - 1s 2ms/step - loss: 0.3433 - accuracy: 0.8530\n",
            "Epoch 297/300\n",
            "446/446 [==============================] - 1s 2ms/step - loss: 0.3440 - accuracy: 0.8496\n",
            "Epoch 298/300\n",
            "446/446 [==============================] - 1s 2ms/step - loss: 0.3431 - accuracy: 0.8507\n",
            "Epoch 299/300\n",
            "446/446 [==============================] - 1s 2ms/step - loss: 0.3433 - accuracy: 0.8530\n",
            "Epoch 300/300\n",
            "446/446 [==============================] - 1s 2ms/step - loss: 0.3429 - accuracy: 0.8507\n",
            "CPU times: user 4min 30s, sys: 18.9 s, total: 4min 49s\n",
            "Wall time: 4min 23s\n"
          ]
        }
      ]
    },
    {
      "cell_type": "code",
      "source": [
        "DL_test_y_pred = DL.predict(test_x)\n",
        "print(DL_test_y_pred.shape)\n",
        "DL_test_y_pred\n",
        "\n",
        "# 0,1 각각의 확률"
      ],
      "metadata": {
        "colab": {
          "base_uri": "https://localhost:8080/"
        },
        "id": "Ssh3zp5u1DGN",
        "outputId": "93afa48b-eec9-44b2-8b46-54a3b81f2881"
      },
      "execution_count": 120,
      "outputs": [
        {
          "output_type": "stream",
          "name": "stdout",
          "text": [
            "(418, 2)\n"
          ]
        },
        {
          "output_type": "execute_result",
          "data": {
            "text/plain": [
              "array([[8.75257254e-01, 1.24742687e-01],\n",
              "       [5.86396337e-01, 4.13603604e-01],\n",
              "       [9.51453507e-01, 4.85464931e-02],\n",
              "       [8.87446761e-01, 1.12553209e-01],\n",
              "       [5.25024414e-01, 4.74975556e-01],\n",
              "       [9.09722865e-01, 9.02771652e-02],\n",
              "       [4.18350488e-01, 5.81649542e-01],\n",
              "       [9.29058552e-01, 7.09414184e-02],\n",
              "       [3.99024665e-01, 6.00975335e-01],\n",
              "       [9.21503186e-01, 7.84968734e-02],\n",
              "       [8.86998296e-01, 1.13001674e-01],\n",
              "       [6.14479721e-01, 3.85520250e-01],\n",
              "       [2.01561978e-17, 1.00000000e+00],\n",
              "       [9.84268010e-01, 1.57319903e-02],\n",
              "       [2.41075444e-08, 1.00000000e+00],\n",
              "       [6.34647608e-02, 9.36535239e-01],\n",
              "       [9.18329954e-01, 8.16700161e-02],\n",
              "       [9.05607581e-01, 9.43923295e-02],\n",
              "       [5.10024250e-01, 4.89975691e-01],\n",
              "       [5.84968686e-01, 4.15031254e-01],\n",
              "       [4.62709218e-01, 5.37290752e-01],\n",
              "       [7.80282699e-06, 9.99992251e-01],\n",
              "       [1.21064535e-13, 1.00000000e+00],\n",
              "       [4.62709218e-01, 5.37290752e-01],\n",
              "       [1.16991786e-36, 1.00000000e+00],\n",
              "       [9.72577929e-01, 2.74221301e-02],\n",
              "       [4.09049395e-13, 1.00000000e+00],\n",
              "       [9.02881980e-01, 9.71180201e-02],\n",
              "       [5.47390580e-01, 4.52609420e-01],\n",
              "       [9.54134703e-01, 4.58652079e-02],\n",
              "       [9.62011993e-01, 3.79879475e-02],\n",
              "       [9.66452241e-01, 3.35477293e-02],\n",
              "       [6.37034476e-01, 3.62965465e-01],\n",
              "       [6.43396378e-01, 3.56603622e-01],\n",
              "       [4.62709218e-01, 5.37290752e-01],\n",
              "       [9.09981608e-01, 9.00183916e-02],\n",
              "       [4.03877079e-01, 5.96122921e-01],\n",
              "       [3.80154967e-01, 6.19845092e-01],\n",
              "       [8.87548566e-01, 1.12451375e-01],\n",
              "       [4.62709218e-01, 5.37290752e-01],\n",
              "       [8.32937360e-01, 1.67062670e-01],\n",
              "       [4.94304091e-01, 5.05695879e-01],\n",
              "       [8.66816640e-01, 1.33183300e-01],\n",
              "       [8.44407082e-02, 9.15559292e-01],\n",
              "       [3.23872513e-07, 9.99999642e-01],\n",
              "       [8.95009398e-01, 1.04990572e-01],\n",
              "       [5.93751013e-01, 4.06248927e-01],\n",
              "       [8.87710989e-01, 1.12289011e-01],\n",
              "       [6.03445523e-22, 1.00000000e+00],\n",
              "       [5.96283555e-01, 4.03716415e-01],\n",
              "       [4.62709218e-01, 5.37290752e-01],\n",
              "       [9.26155925e-01, 7.38440454e-02],\n",
              "       [1.34043097e-02, 9.86595690e-01],\n",
              "       [2.82528005e-17, 1.00000000e+00],\n",
              "       [9.19778049e-01, 8.02219510e-02],\n",
              "       [9.86254215e-01, 1.37458146e-02],\n",
              "       [8.73748183e-01, 1.26251817e-01],\n",
              "       [8.96266401e-01, 1.03733599e-01],\n",
              "       [8.67264152e-01, 1.32735819e-01],\n",
              "       [0.00000000e+00, 1.00000000e+00],\n",
              "       [9.09890056e-01, 9.01099145e-02],\n",
              "       [9.20813203e-01, 7.91867673e-02],\n",
              "       [9.08747435e-01, 9.12525654e-02],\n",
              "       [3.71396333e-01, 6.28603697e-01],\n",
              "       [1.00000000e+00, 1.89364865e-12],\n",
              "       [8.07144940e-02, 9.19285536e-01],\n",
              "       [4.00224358e-01, 5.99775672e-01],\n",
              "       [7.89010286e-01, 2.10989684e-01],\n",
              "       [4.93946910e-01, 5.06053090e-01],\n",
              "       [0.00000000e+00, 1.00000000e+00],\n",
              "       [3.57485116e-01, 6.42514884e-01],\n",
              "       [9.02765930e-01, 9.72340703e-02],\n",
              "       [4.02871519e-01, 5.97128451e-01],\n",
              "       [5.09529173e-01, 4.90470827e-01],\n",
              "       [0.00000000e+00, 1.00000000e+00],\n",
              "       [1.00000000e+00, 3.29705624e-10],\n",
              "       [8.86240363e-01, 1.13759667e-01],\n",
              "       [2.81295676e-09, 1.00000000e+00],\n",
              "       [9.26955998e-01, 7.30439723e-02],\n",
              "       [3.57485116e-01, 6.42514884e-01],\n",
              "       [3.63080773e-23, 1.00000000e+00],\n",
              "       [1.00000000e+00, 5.43790790e-10],\n",
              "       [6.53945565e-01, 3.46054405e-01],\n",
              "       [8.86998296e-01, 1.13001674e-01],\n",
              "       [9.36394215e-01, 6.36057854e-02],\n",
              "       [8.69978309e-01, 1.30021632e-01],\n",
              "       [3.67547870e-01, 6.32452130e-01],\n",
              "       [4.00539815e-01, 5.99460185e-01],\n",
              "       [4.01465118e-01, 5.98534882e-01],\n",
              "       [0.00000000e+00, 1.00000000e+00],\n",
              "       [5.38369894e-01, 4.61630046e-01],\n",
              "       [8.87589037e-01, 1.12410933e-01],\n",
              "       [2.01701763e-19, 1.00000000e+00],\n",
              "       [8.86240363e-01, 1.13759667e-01],\n",
              "       [5.46718895e-01, 4.53281075e-01],\n",
              "       [8.95601511e-01, 1.04398429e-01],\n",
              "       [2.17981232e-13, 1.00000000e+00],\n",
              "       [8.86855125e-01, 1.13144875e-01],\n",
              "       [3.85805130e-01, 6.14194870e-01],\n",
              "       [8.77498150e-01, 1.22501820e-01],\n",
              "       [7.58738228e-09, 1.00000000e+00],\n",
              "       [9.35686052e-01, 6.43138885e-02],\n",
              "       [8.87710989e-01, 1.12289011e-01],\n",
              "       [8.93719554e-01, 1.06280446e-01],\n",
              "       [4.13110286e-01, 5.86889684e-01],\n",
              "       [7.96737254e-01, 2.03262746e-01],\n",
              "       [9.03087378e-01, 9.69126225e-02],\n",
              "       [8.87710989e-01, 1.12289011e-01],\n",
              "       [8.82932901e-01, 1.17067069e-01],\n",
              "       [9.47639227e-01, 5.23608029e-02],\n",
              "       [8.90543699e-01, 1.09456331e-01],\n",
              "       [4.01699871e-01, 5.98300099e-01],\n",
              "       [9.35338207e-09, 1.00000000e+00],\n",
              "       [3.95517200e-01, 6.04482770e-01],\n",
              "       [0.00000000e+00, 1.00000000e+00],\n",
              "       [8.30622613e-01, 1.69377387e-01],\n",
              "       [8.93951535e-01, 1.06048495e-01],\n",
              "       [5.53879142e-03, 9.94461119e-01],\n",
              "       [9.79471326e-01, 2.05286443e-02],\n",
              "       [7.80196190e-02, 9.21980381e-01],\n",
              "       [8.96838692e-09, 1.00000000e+00],\n",
              "       [8.82545114e-01, 1.17454886e-01],\n",
              "       [8.96234381e-14, 1.00000000e+00],\n",
              "       [8.92161191e-01, 1.07838780e-01],\n",
              "       [8.87710989e-01, 1.12289011e-01],\n",
              "       [4.22831446e-01, 5.77168584e-01],\n",
              "       [9.01343703e-01, 9.86562967e-02],\n",
              "       [6.37117922e-01, 3.62882048e-01],\n",
              "       [8.97563398e-01, 1.02436632e-01],\n",
              "       [8.96399021e-01, 1.03601009e-01],\n",
              "       [8.79736423e-01, 1.20263606e-01],\n",
              "       [8.11761856e-01, 1.88238114e-01],\n",
              "       [5.48048198e-01, 4.51951802e-01],\n",
              "       [8.86416018e-01, 1.13583952e-01],\n",
              "       [8.75015855e-01, 1.24984086e-01],\n",
              "       [8.97284746e-01, 1.02715164e-01],\n",
              "       [8.95267487e-01, 1.04732484e-01],\n",
              "       [9.34887648e-01, 6.51123226e-02],\n",
              "       [3.64969373e-01, 6.35030627e-01],\n",
              "       [9.01409030e-01, 9.85909402e-02],\n",
              "       [9.99992073e-01, 7.89799014e-06],\n",
              "       [8.53816805e-30, 1.00000000e+00],\n",
              "       [1.00000000e+00, 5.81741695e-08],\n",
              "       [8.73841405e-01, 1.26158476e-01],\n",
              "       [5.53940415e-01, 4.46059585e-01],\n",
              "       [9.92371798e-01, 7.62820244e-03],\n",
              "       [7.54575372e-01, 2.45424658e-01],\n",
              "       [9.00232792e-01, 9.97671783e-02],\n",
              "       [4.94304091e-01, 5.05695879e-01],\n",
              "       [9.37699437e-01, 6.23004735e-02],\n",
              "       [5.96722324e-11, 1.00000000e+00],\n",
              "       [8.86998296e-01, 1.13001674e-01],\n",
              "       [9.90832806e-01, 9.16719437e-03],\n",
              "       [5.66056311e-01, 4.33943629e-01],\n",
              "       [9.95366812e-01, 4.63321805e-03],\n",
              "       [8.98647726e-01, 1.01352215e-01],\n",
              "       [2.04085164e-38, 1.00000000e+00],\n",
              "       [3.64620328e-01, 6.35379672e-01],\n",
              "       [5.53940415e-01, 4.46059555e-01],\n",
              "       [3.96625340e-01, 6.03374660e-01],\n",
              "       [4.01331127e-01, 5.98668873e-01],\n",
              "       [3.09929273e-19, 1.00000000e+00],\n",
              "       [7.86898434e-02, 9.21310186e-01],\n",
              "       [8.91315222e-01, 1.08684689e-01],\n",
              "       [9.00366783e-01, 9.96331871e-02],\n",
              "       [6.20532334e-01, 3.79467607e-01],\n",
              "       [9.37349200e-01, 6.26508594e-02],\n",
              "       [9.09422398e-01, 9.05775726e-02],\n",
              "       [2.27918677e-14, 1.00000000e+00],\n",
              "       [3.73621553e-01, 6.26378477e-01],\n",
              "       [8.88682246e-01, 1.11317754e-01],\n",
              "       [8.94279480e-01, 1.05720460e-01],\n",
              "       [8.47100019e-01, 1.52899951e-01],\n",
              "       [8.90224695e-01, 1.09775245e-01],\n",
              "       [9.24264431e-01, 7.57355690e-02],\n",
              "       [2.81762077e-05, 9.99971867e-01],\n",
              "       [1.12166405e-02, 9.88783360e-01],\n",
              "       [4.62709218e-01, 5.37290752e-01],\n",
              "       [8.54755938e-02, 9.14524376e-01],\n",
              "       [3.63645579e-27, 1.00000000e+00],\n",
              "       [9.26955998e-01, 7.30439723e-02],\n",
              "       [4.62709218e-01, 5.37290752e-01],\n",
              "       [2.24642872e-22, 1.00000000e+00],\n",
              "       [8.87710989e-01, 1.12289011e-01],\n",
              "       [1.23937977e-15, 1.00000000e+00],\n",
              "       [8.88766170e-01, 1.11233801e-01],\n",
              "       [2.35345960e-03, 9.97646511e-01],\n",
              "       [9.23440039e-01, 7.65599608e-02],\n",
              "       [1.00000000e+00, 2.58288213e-15],\n",
              "       [9.03101742e-01, 9.68982279e-02],\n",
              "       [9.40292597e-01, 5.97074032e-02],\n",
              "       [4.90463614e-01, 5.09536386e-01],\n",
              "       [1.11193568e-01, 8.88806224e-01],\n",
              "       [9.48398590e-01, 5.16014099e-02],\n",
              "       [4.03195739e-01, 5.96803904e-01],\n",
              "       [8.78523648e-01, 1.21476352e-01],\n",
              "       [5.27256140e-25, 1.00000000e+00],\n",
              "       [4.00031954e-01, 5.99968076e-01],\n",
              "       [9.47111189e-01, 5.28887808e-02],\n",
              "       [4.04379964e-01, 5.95620036e-01],\n",
              "       [4.64974225e-01, 5.35025775e-01],\n",
              "       [0.00000000e+00, 1.00000000e+00],\n",
              "       [1.00000000e+00, 3.38810468e-14],\n",
              "       [5.55100128e-14, 1.00000000e+00],\n",
              "       [9.43932056e-01, 5.60678840e-02],\n",
              "       [4.88660336e-01, 5.11339664e-01],\n",
              "       [5.10936022e-01, 4.89063948e-01],\n",
              "       [9.45543528e-01, 5.44564426e-02],\n",
              "       [3.92801486e-10, 1.00000000e+00],\n",
              "       [8.95143509e-01, 1.04856491e-01],\n",
              "       [7.82802701e-01, 2.17197299e-01],\n",
              "       [8.91078174e-01, 1.08921766e-01],\n",
              "       [8.34882677e-01, 1.65117294e-01],\n",
              "       [3.65463197e-01, 6.34536743e-01],\n",
              "       [7.55344272e-01, 2.44655699e-01],\n",
              "       [6.19947255e-01, 3.80052716e-01],\n",
              "       [4.02503371e-01, 5.97496629e-01],\n",
              "       [1.00000000e+00, 5.03224573e-10],\n",
              "       [0.00000000e+00, 1.00000000e+00],\n",
              "       [8.86240363e-01, 1.13759667e-01],\n",
              "       [8.28229189e-02, 9.17177081e-01],\n",
              "       [9.02101994e-01, 9.78979468e-02],\n",
              "       [7.09335506e-02, 9.29066420e-01],\n",
              "       [9.03194308e-01, 9.68056321e-02],\n",
              "       [2.55585372e-01, 7.44414628e-01],\n",
              "       [4.62861210e-01, 5.37138820e-01],\n",
              "       [8.99461627e-01, 1.00538373e-01],\n",
              "       [4.01465118e-01, 5.98534882e-01],\n",
              "       [8.32637489e-01, 1.67362452e-01],\n",
              "       [9.13381696e-01, 8.66183341e-02],\n",
              "       [8.11923981e-01, 1.88076019e-01],\n",
              "       [6.00672381e-18, 1.00000000e+00],\n",
              "       [8.67998481e-01, 1.32001519e-01],\n",
              "       [8.87079656e-01, 1.12920254e-01],\n",
              "       [4.62709218e-01, 5.37290752e-01],\n",
              "       [9.04768109e-01, 9.52318609e-02],\n",
              "       [6.45181477e-01, 3.54818523e-01],\n",
              "       [9.07386541e-01, 9.26134884e-02],\n",
              "       [7.11259854e-05, 9.99928832e-01],\n",
              "       [4.23314250e-28, 1.00000000e+00],\n",
              "       [1.90906465e-01, 8.09093595e-01],\n",
              "       [1.23835891e-01, 8.76164079e-01],\n",
              "       [9.99248207e-01, 7.51793385e-04],\n",
              "       [8.87038946e-01, 1.12960994e-01],\n",
              "       [8.54552269e-01, 1.45447701e-01],\n",
              "       [4.62709218e-01, 5.37290752e-01],\n",
              "       [3.78936529e-03, 9.96210635e-01],\n",
              "       [9.33634162e-01, 6.63657784e-02],\n",
              "       [7.80196190e-02, 9.21980381e-01],\n",
              "       [5.72267950e-01, 4.27732050e-01],\n",
              "       [8.76908643e-18, 1.00000000e+00],\n",
              "       [9.04469430e-01, 9.55305099e-02],\n",
              "       [4.62709218e-01, 5.37290752e-01],\n",
              "       [8.90463829e-01, 1.09536141e-01],\n",
              "       [8.70854378e-01, 1.29145563e-01],\n",
              "       [8.88682246e-01, 1.11317784e-01],\n",
              "       [8.87710989e-01, 1.12289011e-01],\n",
              "       [8.88339162e-01, 1.11660808e-01],\n",
              "       [4.27559025e-05, 9.99957323e-01],\n",
              "       [9.03283238e-01, 9.67167318e-02],\n",
              "       [9.20859814e-01, 7.91401565e-02],\n",
              "       [9.02944326e-01, 9.70556438e-02],\n",
              "       [8.01510811e-02, 9.19848919e-01],\n",
              "       [3.62628698e-03, 9.96373653e-01],\n",
              "       [9.27863002e-01, 7.21369684e-02],\n",
              "       [8.86998296e-01, 1.13001674e-01],\n",
              "       [8.46038461e-01, 1.53961569e-01],\n",
              "       [8.88682246e-01, 1.11317754e-01],\n",
              "       [4.03877079e-01, 5.96122921e-01],\n",
              "       [9.06768322e-01, 9.32316184e-02],\n",
              "       [9.97935772e-01, 2.06425786e-03],\n",
              "       [8.87710989e-01, 1.12289011e-01],\n",
              "       [2.15947628e-04, 9.99784052e-01],\n",
              "       [5.80754936e-01, 4.19245005e-01],\n",
              "       [8.90244782e-01, 1.09755188e-01],\n",
              "       [1.53154135e-04, 9.99846816e-01],\n",
              "       [9.38824892e-01, 6.11750484e-02],\n",
              "       [9.43993211e-01, 5.60067296e-02],\n",
              "       [9.46236849e-01, 5.37630320e-02],\n",
              "       [9.48636234e-01, 5.13637960e-02],\n",
              "       [3.66062105e-01, 6.33937895e-01],\n",
              "       [0.00000000e+00, 1.00000000e+00],\n",
              "       [4.01465118e-01, 5.98534882e-01],\n",
              "       [2.92917162e-01, 7.07082868e-01],\n",
              "       [2.76063979e-02, 9.72393572e-01],\n",
              "       [8.74912143e-01, 1.25087738e-01],\n",
              "       [8.90125275e-01, 1.09874725e-01],\n",
              "       [4.62709218e-01, 5.37290752e-01],\n",
              "       [8.90224695e-01, 1.09775245e-01],\n",
              "       [8.86240363e-01, 1.13759667e-01],\n",
              "       [6.30625069e-01, 3.69374901e-01],\n",
              "       [4.12836969e-01, 5.87163031e-01],\n",
              "       [8.90224695e-01, 1.09775245e-01],\n",
              "       [4.62709218e-01, 5.37290752e-01],\n",
              "       [8.62365365e-01, 1.37634605e-01],\n",
              "       [8.93157244e-01, 1.06842786e-01],\n",
              "       [1.18801360e-16, 1.00000000e+00],\n",
              "       [9.54134703e-01, 4.58652079e-02],\n",
              "       [6.90771997e-01, 3.09227943e-01],\n",
              "       [8.87202084e-01, 1.12797916e-01],\n",
              "       [8.81151974e-01, 1.18848026e-01],\n",
              "       [9.21774983e-01, 7.82250166e-02],\n",
              "       [8.69969964e-01, 1.30030066e-01],\n",
              "       [8.93584132e-01, 1.06415868e-01],\n",
              "       [4.01465118e-01, 5.98534882e-01],\n",
              "       [2.60670840e-05, 9.99973953e-01],\n",
              "       [9.67930138e-01, 3.20698023e-02],\n",
              "       [0.00000000e+00, 1.00000000e+00],\n",
              "       [9.00300741e-01, 9.96991992e-02],\n",
              "       [6.34460032e-01, 3.65539968e-01],\n",
              "       [9.04978871e-01, 9.50211585e-02],\n",
              "       [9.03798223e-01, 9.62017477e-02],\n",
              "       [8.88561189e-01, 1.11438781e-01],\n",
              "       [5.47718287e-01, 4.52281713e-01],\n",
              "       [0.00000000e+00, 1.00000000e+00],\n",
              "       [4.07206833e-01, 5.92793167e-01],\n",
              "       [1.00000000e+00, 6.36181028e-08],\n",
              "       [9.52965260e-01, 4.70346808e-02],\n",
              "       [8.91334891e-01, 1.08665019e-01],\n",
              "       [9.65161085e-01, 3.48388553e-02],\n",
              "       [8.93719554e-01, 1.06280446e-01],\n",
              "       [8.98164034e-01, 1.01835966e-01],\n",
              "       [9.34887648e-01, 6.51123226e-02],\n",
              "       [4.63073790e-01, 5.36926150e-01],\n",
              "       [0.00000000e+00, 1.00000000e+00],\n",
              "       [9.02711987e-01, 9.72879529e-02],\n",
              "       [2.12819112e-14, 1.00000000e+00],\n",
              "       [9.98899519e-01, 1.10048056e-03],\n",
              "       [9.37034965e-01, 6.29650056e-02],\n",
              "       [9.43675220e-01, 5.63247800e-02],\n",
              "       [9.50953960e-02, 9.04904604e-01],\n",
              "       [5.22179127e-01, 4.77820873e-01],\n",
              "       [8.90244782e-01, 1.09755188e-01],\n",
              "       [5.27950346e-01, 4.72049624e-01],\n",
              "       [8.91137719e-01, 1.08862251e-01],\n",
              "       [4.76381779e-01, 5.23618221e-01],\n",
              "       [9.22664344e-01, 7.73356557e-02],\n",
              "       [8.67973804e-01, 1.32026166e-01],\n",
              "       [8.51406574e-01, 1.48593396e-01],\n",
              "       [8.90224695e-01, 1.09775245e-01],\n",
              "       [9.54329669e-01, 4.56703007e-02],\n",
              "       [8.82151008e-01, 1.17848963e-01],\n",
              "       [9.17751670e-01, 8.22482407e-02],\n",
              "       [0.00000000e+00, 1.00000000e+00],\n",
              "       [8.69903505e-01, 1.30096495e-01],\n",
              "       [4.14343894e-01, 5.85656106e-01],\n",
              "       [9.34887648e-01, 6.51123226e-02],\n",
              "       [5.55875063e-01, 4.44124907e-01],\n",
              "       [9.37049329e-01, 6.29506707e-02],\n",
              "       [8.35370123e-02, 9.16463017e-01],\n",
              "       [5.96988957e-14, 1.00000000e+00],\n",
              "       [9.43932056e-01, 5.60678840e-02],\n",
              "       [8.42215419e-01, 1.57784551e-01],\n",
              "       [9.76247549e-01, 2.37523913e-02],\n",
              "       [2.72491574e-03, 9.97275114e-01],\n",
              "       [6.66673183e-01, 3.33326817e-01],\n",
              "       [9.47517398e-10, 1.00000000e+00],\n",
              "       [8.87079656e-01, 1.12920254e-01],\n",
              "       [8.87710989e-01, 1.12289011e-01],\n",
              "       [5.85288525e-01, 4.14711416e-01],\n",
              "       [1.00000000e+00, 5.33738872e-14],\n",
              "       [6.88114166e-02, 9.31188583e-01],\n",
              "       [8.35370123e-02, 9.16463017e-01],\n",
              "       [8.87446761e-01, 1.12553209e-01],\n",
              "       [1.00943015e-19, 1.00000000e+00],\n",
              "       [9.36319351e-01, 6.36806488e-02],\n",
              "       [8.69971633e-01, 1.30028367e-01],\n",
              "       [5.21923661e-01, 4.78076339e-01],\n",
              "       [1.25900711e-12, 1.00000000e+00],\n",
              "       [9.26058292e-01, 7.39417672e-02],\n",
              "       [9.55352783e-01, 4.46473062e-02],\n",
              "       [1.21716554e-24, 1.00000000e+00],\n",
              "       [9.03657377e-01, 9.63425934e-02],\n",
              "       [8.96815002e-01, 1.03184968e-01],\n",
              "       [1.90389967e-14, 1.00000000e+00],\n",
              "       [0.00000000e+00, 1.00000000e+00],\n",
              "       [4.89769787e-01, 5.10230184e-01],\n",
              "       [9.47630227e-01, 5.23697734e-02],\n",
              "       [9.89647627e-01, 1.03524029e-02],\n",
              "       [9.53396022e-01, 4.66040075e-02],\n",
              "       [8.87710989e-01, 1.12289011e-01],\n",
              "       [8.93234611e-01, 1.06765330e-01],\n",
              "       [4.56670046e-01, 5.43329954e-01],\n",
              "       [5.30934095e-01, 4.69065905e-01],\n",
              "       [9.29440498e-01, 7.05594420e-02],\n",
              "       [1.01619959e-03, 9.98983741e-01],\n",
              "       [8.97641182e-01, 1.02358788e-01],\n",
              "       [9.09658194e-01, 9.03417766e-02],\n",
              "       [9.03389990e-01, 9.66100097e-02],\n",
              "       [8.55429053e-01, 1.44570947e-01],\n",
              "       [4.62709218e-01, 5.37290752e-01],\n",
              "       [1.29908323e-04, 9.99870062e-01],\n",
              "       [8.57183933e-01, 1.42816097e-01],\n",
              "       [9.06743407e-01, 9.32565033e-02],\n",
              "       [9.91377473e-01, 8.62252712e-03],\n",
              "       [1.31520344e-21, 1.00000000e+00],\n",
              "       [8.99976134e-01, 1.00023836e-01],\n",
              "       [1.41125881e-12, 1.00000000e+00],\n",
              "       [9.01434124e-01, 9.85658467e-02],\n",
              "       [8.83542299e-01, 1.16457641e-01],\n",
              "       [1.56634107e-29, 1.00000000e+00],\n",
              "       [9.50661540e-01, 4.93383706e-02],\n",
              "       [2.62389475e-13, 1.00000000e+00],\n",
              "       [4.62709218e-01, 5.37290752e-01],\n",
              "       [4.62709218e-01, 5.37290752e-01],\n",
              "       [9.42958713e-01, 5.70412874e-02],\n",
              "       [9.57597256e-01, 4.24028337e-02],\n",
              "       [1.00000000e+00, 2.53177281e-13],\n",
              "       [4.01230693e-01, 5.98769307e-01],\n",
              "       [5.36404550e-02, 9.46359515e-01],\n",
              "       [4.01465118e-01, 5.98534882e-01],\n",
              "       [2.04043185e-15, 1.00000000e+00],\n",
              "       [3.84052753e-01, 6.15947247e-01],\n",
              "       [8.86240363e-01, 1.13759667e-01],\n",
              "       [1.33601041e-23, 1.00000000e+00],\n",
              "       [8.69056106e-01, 1.30943924e-01],\n",
              "       [8.86240244e-01, 1.13759667e-01],\n",
              "       [8.56502295e-01, 1.43497676e-01]], dtype=float32)"
            ]
          },
          "metadata": {},
          "execution_count": 120
        }
      ]
    },
    {
      "cell_type": "code",
      "source": [
        "arr = []\n",
        "\n",
        "for i in DL_test_y_pred :\n",
        "  if i[0] > i[1] :\n",
        "    arr.append(0)\n",
        "  else :\n",
        "    arr.append(1)    \n",
        "\n",
        "DL_test_y_pred = arr"
      ],
      "metadata": {
        "id": "ayKkbRBl1Wp5"
      },
      "execution_count": 121,
      "outputs": []
    },
    {
      "cell_type": "code",
      "source": [
        "DL_test_y_pred[:10]"
      ],
      "metadata": {
        "colab": {
          "base_uri": "https://localhost:8080/"
        },
        "id": "M7CTsECKaUPF",
        "outputId": "aa9ca432-ee1f-46c7-e27c-dfe590994638"
      },
      "execution_count": 122,
      "outputs": [
        {
          "output_type": "execute_result",
          "data": {
            "text/plain": [
              "[0, 0, 0, 0, 0, 0, 1, 0, 1, 0]"
            ]
          },
          "metadata": {},
          "execution_count": 122
        }
      ]
    },
    {
      "cell_type": "markdown",
      "source": [
        "### GridSearchCV"
      ],
      "metadata": {
        "id": "Q_p36RVfxEHQ"
      }
    },
    {
      "cell_type": "code",
      "source": [
        "!pip install -U keras-tuner\n",
        "import kerastuner as kt\n",
        "\n",
        "import numpy as np\n",
        "from tensorflow.keras.models import Sequential\n",
        "from tensorflow.keras.layers import Dense, Dropout, Flatten\n",
        "import keras\n",
        "import tensorflow as tf\n",
        "import IPython\n",
        "from tensorflow.keras.wrappers.scikit_learn import KerasClassifier\n",
        "from sklearn.model_selection import GridSearchCV\n",
        "\n",
        "# 모델 만들기\n",
        "tf.random.set_seed(7)\n",
        "\n",
        "def model_builder(nodes=16, activation='relu'):\n",
        "\n",
        "  model = Sequential()\n",
        "  model.add(Dense(nodes, activation=activation))\n",
        "  model.add(Dense(nodes, activation=activation))\n",
        "  model.add(Dense(2, activation='sigmoid')) # 이진분류니까 노드수 1, 활성함수로는 시그모이드\n",
        "\n",
        "  model.compile(optimizer='adam', \n",
        "                loss='binary_crossentropy', \n",
        "                metrics=['accuracy'])\n",
        "\n",
        "  return model\n",
        "  \n",
        "  \n",
        "#keras.wrapper 분류기\n",
        "model = KerasClassifier(build_fn=model_builder, verbose=0)\n",
        "\n",
        "# GridSearch 파라미터 설정\n",
        "batch_size = [50, 100, 300]\n",
        "epochs = [10, 20, 30]\n",
        "nodes = [64, 128, 256]\n",
        "activation = ['relu', 'sigmoid']\n",
        "param_grid = dict(batch_size=batch_size, epochs=epochs, nodes=nodes, activation=activation)\n",
        "\n",
        "\n",
        "# GridSearch CV를 만들기\n",
        "grid = GridSearchCV(estimator=model, param_grid=param_grid, cv=3, verbose=1, n_jobs=-1)\n",
        "grid_result = grid.fit(train_x, train_y)\n",
        "\n",
        "# 최적의 결과값을 낸 파라미터를 출력합니다\n",
        "print(f\"Best: {grid_result.best_score_} using {grid_result.best_params_}\")\n",
        "means = grid_result.cv_results_['mean_test_score']\n",
        "stds = grid_result.cv_results_['std_test_score']\n",
        "params = grid_result.cv_results_['params']\n",
        "for mean, stdev, param in zip(means, stds, params):\n",
        "    print(f\"Means: {mean}, Stdev: {stdev} with: {param}\")"
      ],
      "metadata": {
        "id": "AV5mmGMHxyN6"
      },
      "execution_count": null,
      "outputs": []
    },
    {
      "cell_type": "code",
      "source": [
        "def build_classifier(optimizer):\n",
        "    classifier = Sequential()\n",
        "    classifier.add(Dense(units = 6, activation = 'relu', input_dim = 4))\n",
        "    classifier.add(Dense(units = 6, activation = 'relu'))\n",
        "    classifier.add(Dense(units = 2, activation = 'sigmoid'))\n",
        "    classifier.compile(optimizer = optimizer, loss = 'binary_crossentropy', metrics = ['accuracy'])\n",
        "    return classifier"
      ],
      "metadata": {
        "id": "lSaDh7hsxEeu"
      },
      "execution_count": null,
      "outputs": []
    },
    {
      "cell_type": "code",
      "source": [
        "classifier = KerasClassifier(build_fn = build_classifier)"
      ],
      "metadata": {
        "id": "xf4kaOEjxZ2e"
      },
      "execution_count": null,
      "outputs": []
    },
    {
      "cell_type": "code",
      "source": [
        "parameters = {'batch_size': [25, 32],\n",
        "              'epochs': [80, 100],\n",
        "              'optimizer': ['adam', 'rmsprop']}"
      ],
      "metadata": {
        "id": "tNxjVdOJv-hd"
      },
      "execution_count": null,
      "outputs": []
    },
    {
      "cell_type": "code",
      "source": [
        "grid_search = GridSearchCV(estimator = classifier,\n",
        "                           param_grid = parameters,\n",
        "                           scoring = 'accuracy',\n",
        "                           cv = 10)"
      ],
      "metadata": {
        "id": "ipJb567gv-31"
      },
      "execution_count": null,
      "outputs": []
    },
    {
      "cell_type": "code",
      "source": [
        "grid_search = grid_search.fit(train_x, train_y)"
      ],
      "metadata": {
        "id": "fXEGfmQXwsGJ"
      },
      "execution_count": null,
      "outputs": []
    },
    {
      "cell_type": "code",
      "source": [
        "best_parameters = grid_search.best_params_\n",
        "best_accuracy = grid_search.best_score_\n",
        "\n",
        "print('best_parameters : {0},  best_accuracy {1}' .format(best_parameters,best_accuracy))"
      ],
      "metadata": {
        "id": "1n7MIRrkynrd"
      },
      "execution_count": null,
      "outputs": []
    },
    {
      "cell_type": "markdown",
      "source": [
        "# 4. 제출 파일 생성"
      ],
      "metadata": {
        "id": "5_aFFNgdCkDe"
      }
    },
    {
      "cell_type": "code",
      "source": [
        "submission = pd.read_csv(\"submission.csv\")\n",
        "submission['Survived'] = DL_test_y_pred\n",
        "submission.to_csv('DL_submission.csv', index = False)"
      ],
      "metadata": {
        "id": "EjStn652B1v5"
      },
      "execution_count": 123,
      "outputs": []
    },
    {
      "cell_type": "markdown",
      "source": [
        "# 5. 성능 평가"
      ],
      "metadata": {
        "id": "YbgZv0iCooQH"
      }
    },
    {
      "cell_type": "code",
      "source": [
        ""
      ],
      "metadata": {
        "id": "EtmELNxVBfjk"
      },
      "execution_count": null,
      "outputs": []
    }
  ]
}